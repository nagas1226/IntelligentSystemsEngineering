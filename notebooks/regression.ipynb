{
 "cells": [
  {
   "cell_type": "code",
   "execution_count": 1,
   "id": "2b1902df",
   "metadata": {},
   "outputs": [],
   "source": [
    "import polars as pl\n",
    "from pathlib import Path\n",
    "\n",
    "\n",
    "dataset_path = Path(\"../dataset/\")\n",
    "unnecessary_columns = [\"posting_date\", \"id\"]\n",
    "\n",
    "train_df = pl.read_csv(dataset_path / \"projectA_vehicle_train.csv\").drop(\n",
    "    unnecessary_columns\n",
    ")\n",
    "val_df = pl.read_csv(dataset_path / \"projectA_vehicle_val.csv\").drop(\n",
    "    unnecessary_columns\n",
    ")\n",
    "test_df = pl.read_csv(dataset_path / \"projectA_vehicle_test.csv\").drop(\n",
    "    unnecessary_columns\n",
    ")"
   ]
  },
  {
   "cell_type": "code",
   "execution_count": 3,
   "id": "97092371",
   "metadata": {},
   "outputs": [
    {
     "name": "stderr",
     "output_type": "stream",
     "text": [
      "[I 2025-07-23 16:35:53,219] A new study created in memory with name: no-name-f289a72b-3f2f-4c3a-85a7-09697023b91c\n",
      "[I 2025-07-23 16:35:53,809] Trial 0 finished with value: 14374.43595598911 and parameters: {'num_leaves': 70, 'max_depth': 41, 'learning_rate': 0.01661987141459147, 'n_estimators': 238, 'min_child_samples': 55, 'feature_fraction': 0.5436665704259037, 'bagging_fraction': 0.41130499870939347, 'bagging_freq': 1, 'price_upper_bound': 14000, 'price_lower_bound': 2700, 'smoothing': 0.3244754926727199, 'min_samples_leaf': 5, 'noise_level': 0.27746037455688183}. Best is trial 0 with value: 14374.43595598911.\n"
     ]
    },
    {
     "name": "stdout",
     "output_type": "stream",
     "text": [
      "Validation RMSE: 14374.43595598911\n"
     ]
    },
    {
     "name": "stderr",
     "output_type": "stream",
     "text": [
      "[I 2025-07-23 16:35:54,501] Trial 1 finished with value: 13554.341811075888 and parameters: {'num_leaves': 64, 'max_depth': 6, 'learning_rate': 0.08131995083601078, 'n_estimators': 415, 'min_child_samples': 68, 'feature_fraction': 0.9411776599385393, 'bagging_fraction': 0.8271366180011662, 'bagging_freq': 4, 'price_upper_bound': 20500, 'price_lower_bound': 0, 'smoothing': 0.022635451528838866, 'min_samples_leaf': 10, 'noise_level': 0.05520489769391429}. Best is trial 1 with value: 13554.341811075888.\n"
     ]
    },
    {
     "name": "stdout",
     "output_type": "stream",
     "text": [
      "Validation RMSE: 13554.341811075888\n"
     ]
    },
    {
     "name": "stderr",
     "output_type": "stream",
     "text": [
      "[I 2025-07-23 16:35:56,048] Trial 2 finished with value: 9192.044425573466 and parameters: {'num_leaves': 69, 'max_depth': 25, 'learning_rate': 0.16660648553856336, 'n_estimators': 224, 'min_child_samples': 28, 'feature_fraction': 0.5666455087582927, 'bagging_fraction': 0.8853452214340901, 'bagging_freq': 2, 'price_upper_bound': 57000, 'price_lower_bound': 3000, 'smoothing': 0.5818629847235542, 'min_samples_leaf': 3, 'noise_level': 0.11607810273622834}. Best is trial 2 with value: 9192.044425573466.\n"
     ]
    },
    {
     "name": "stdout",
     "output_type": "stream",
     "text": [
      "Validation RMSE: 9192.044425573466\n"
     ]
    },
    {
     "name": "stderr",
     "output_type": "stream",
     "text": [
      "[I 2025-07-23 16:35:56,661] Trial 3 finished with value: 9784.920582978535 and parameters: {'num_leaves': 99, 'max_depth': 32, 'learning_rate': 0.11159025847690086, 'n_estimators': 155, 'min_child_samples': 64, 'feature_fraction': 0.43918537273915303, 'bagging_fraction': 0.5026727421942658, 'bagging_freq': 8, 'price_upper_bound': 32500, 'price_lower_bound': 2800, 'smoothing': 0.06429989160302334, 'min_samples_leaf': 7, 'noise_level': 0.0188256775800989}. Best is trial 2 with value: 9192.044425573466.\n"
     ]
    },
    {
     "name": "stdout",
     "output_type": "stream",
     "text": [
      "Validation RMSE: 9784.920582978535\n"
     ]
    },
    {
     "name": "stderr",
     "output_type": "stream",
     "text": [
      "[I 2025-07-23 16:36:00,311] Trial 4 finished with value: 9246.498074750474 and parameters: {'num_leaves': 97, 'max_depth': 27, 'learning_rate': 0.16211936258462628, 'n_estimators': 399, 'min_child_samples': 10, 'feature_fraction': 0.5671456341894442, 'bagging_fraction': 0.7225702496937232, 'bagging_freq': 3, 'price_upper_bound': 55500, 'price_lower_bound': 3800, 'smoothing': 0.02068194996628846, 'min_samples_leaf': 1, 'noise_level': 0.11420554215396095}. Best is trial 2 with value: 9192.044425573466.\n"
     ]
    },
    {
     "name": "stdout",
     "output_type": "stream",
     "text": [
      "Validation RMSE: 9246.498074750474\n"
     ]
    },
    {
     "name": "stderr",
     "output_type": "stream",
     "text": [
      "[I 2025-07-23 16:36:00,740] Trial 5 finished with value: 9349.336020276663 and parameters: {'num_leaves': 27, 'max_depth': 38, 'learning_rate': 0.09445323214131233, 'n_estimators': 124, 'min_child_samples': 14, 'feature_fraction': 0.9280721940890551, 'bagging_fraction': 0.5771786079915773, 'bagging_freq': 7, 'price_upper_bound': 39000, 'price_lower_bound': 4900, 'smoothing': 0.5391968173927241, 'min_samples_leaf': 8, 'noise_level': 0.012466772746947593}. Best is trial 2 with value: 9192.044425573466.\n"
     ]
    },
    {
     "name": "stdout",
     "output_type": "stream",
     "text": [
      "Validation RMSE: 9349.336020276663\n"
     ]
    },
    {
     "name": "stderr",
     "output_type": "stream",
     "text": [
      "[I 2025-07-23 16:36:03,536] Trial 6 finished with value: 9941.69291698195 and parameters: {'num_leaves': 95, 'max_depth': -1, 'learning_rate': 0.025101610224006744, 'n_estimators': 325, 'min_child_samples': 20, 'feature_fraction': 0.786018678780271, 'bagging_fraction': 0.5275637974183469, 'bagging_freq': 9, 'price_upper_bound': 31000, 'price_lower_bound': 4100, 'smoothing': 0.28507063632887736, 'min_samples_leaf': 9, 'noise_level': 0.34517286918532614}. Best is trial 2 with value: 9192.044425573466.\n"
     ]
    },
    {
     "name": "stdout",
     "output_type": "stream",
     "text": [
      "Validation RMSE: 9941.69291698195\n"
     ]
    },
    {
     "name": "stderr",
     "output_type": "stream",
     "text": [
      "[I 2025-07-23 16:36:04,117] Trial 7 finished with value: 17415.762268789007 and parameters: {'num_leaves': 86, 'max_depth': 13, 'learning_rate': 0.2262192747726608, 'n_estimators': 150, 'min_child_samples': 65, 'feature_fraction': 0.9123547914075278, 'bagging_fraction': 0.9464880704049836, 'bagging_freq': 3, 'price_upper_bound': 13000, 'price_lower_bound': 0, 'smoothing': 0.14559016265478011, 'min_samples_leaf': 4, 'noise_level': 0.20966667667848532}. Best is trial 2 with value: 9192.044425573466.\n"
     ]
    },
    {
     "name": "stdout",
     "output_type": "stream",
     "text": [
      "Validation RMSE: 17415.762268789007\n"
     ]
    },
    {
     "name": "stderr",
     "output_type": "stream",
     "text": [
      "[I 2025-07-23 16:36:04,519] Trial 8 finished with value: 9246.232769014177 and parameters: {'num_leaves': 24, 'max_depth': 47, 'learning_rate': 0.043372205667848315, 'n_estimators': 145, 'min_child_samples': 66, 'feature_fraction': 0.7350793497679879, 'bagging_fraction': 0.9520414485385783, 'bagging_freq': 3, 'price_upper_bound': 52500, 'price_lower_bound': 4100, 'smoothing': 0.039063130746447426, 'min_samples_leaf': 10, 'noise_level': 0.22756600561230098}. Best is trial 2 with value: 9192.044425573466.\n"
     ]
    },
    {
     "name": "stdout",
     "output_type": "stream",
     "text": [
      "Validation RMSE: 9246.232769014177\n"
     ]
    },
    {
     "name": "stderr",
     "output_type": "stream",
     "text": [
      "[I 2025-07-23 16:36:04,925] Trial 9 finished with value: 9217.350252232049 and parameters: {'num_leaves': 60, 'max_depth': 3, 'learning_rate': 0.05883380985982275, 'n_estimators': 341, 'min_child_samples': 16, 'feature_fraction': 0.5301641690431886, 'bagging_fraction': 0.582035298535257, 'bagging_freq': 6, 'price_upper_bound': 49000, 'price_lower_bound': 1600, 'smoothing': 0.028593305041857343, 'min_samples_leaf': 10, 'noise_level': 0.13782164214675768}. Best is trial 2 with value: 9192.044425573466.\n"
     ]
    },
    {
     "name": "stdout",
     "output_type": "stream",
     "text": [
      "Validation RMSE: 9217.350252232049\n"
     ]
    },
    {
     "name": "stderr",
     "output_type": "stream",
     "text": [
      "[I 2025-07-23 16:36:06,737] Trial 10 finished with value: 9394.53301487259 and parameters: {'num_leaves': 42, 'max_depth': 17, 'learning_rate': 0.2565353060254223, 'n_estimators': 499, 'min_child_samples': 99, 'feature_fraction': 0.6549276094488288, 'bagging_fraction': 0.813332762897927, 'bagging_freq': 1, 'price_upper_bound': 44000, 'price_lower_bound': 1400, 'smoothing': 0.9523268757330922, 'min_samples_leaf': 2, 'noise_level': 0.8789190699482577}. Best is trial 2 with value: 9192.044425573466.\n"
     ]
    },
    {
     "name": "stdout",
     "output_type": "stream",
     "text": [
      "Validation RMSE: 9394.53301487259\n"
     ]
    },
    {
     "name": "stderr",
     "output_type": "stream",
     "text": [
      "[I 2025-07-23 16:36:08,085] Trial 11 finished with value: 9122.548719161989 and parameters: {'num_leaves': 50, 'max_depth': 19, 'learning_rate': 0.04451751993041198, 'n_estimators': 252, 'min_child_samples': 34, 'feature_fraction': 0.4081593925075347, 'bagging_fraction': 0.646053899790169, 'bagging_freq': 6, 'price_upper_bound': 60000, 'price_lower_bound': 1600, 'smoothing': 0.01030664473920023, 'min_samples_leaf': 3, 'noise_level': 0.05117785384267764}. Best is trial 11 with value: 9122.548719161989.\n"
     ]
    },
    {
     "name": "stdout",
     "output_type": "stream",
     "text": [
      "Validation RMSE: 9122.548719161989\n"
     ]
    },
    {
     "name": "stderr",
     "output_type": "stream",
     "text": [
      "[I 2025-07-23 16:36:09,352] Trial 12 finished with value: 9101.881038161418 and parameters: {'num_leaves': 44, 'max_depth': 20, 'learning_rate': 0.03552450616886873, 'n_estimators': 251, 'min_child_samples': 34, 'feature_fraction': 0.4185095169934582, 'bagging_fraction': 0.6947558659774562, 'bagging_freq': 5, 'price_upper_bound': 59000, 'price_lower_bound': 1500, 'smoothing': 0.012455108261535707, 'min_samples_leaf': 3, 'noise_level': 0.04595921279637857}. Best is trial 12 with value: 9101.881038161418.\n"
     ]
    },
    {
     "name": "stdout",
     "output_type": "stream",
     "text": [
      "Validation RMSE: 9101.881038161418\n"
     ]
    },
    {
     "name": "stderr",
     "output_type": "stream",
     "text": [
      "[I 2025-07-23 16:36:10,597] Trial 13 finished with value: 9105.716611885155 and parameters: {'num_leaves': 42, 'max_depth': 17, 'learning_rate': 0.03000955503041515, 'n_estimators': 273, 'min_child_samples': 36, 'feature_fraction': 0.4043159764867482, 'bagging_fraction': 0.6902619249777334, 'bagging_freq': 5, 'price_upper_bound': 59500, 'price_lower_bound': 1400, 'smoothing': 0.010910159439971508, 'min_samples_leaf': 3, 'noise_level': 0.036866271393725385}. Best is trial 12 with value: 9101.881038161418.\n",
      "[I 2025-07-23 16:36:10,755] Trial 14 finished with value: 12049.323145603781 and parameters: {'num_leaves': 10, 'max_depth': 12, 'learning_rate': 0.010279712901623599, 'n_estimators': 55, 'min_child_samples': 42, 'feature_fraction': 0.4708476143090978, 'bagging_fraction': 0.6843408122218175, 'bagging_freq': 5, 'price_upper_bound': 46000, 'price_lower_bound': 1000, 'smoothing': 0.011066590637255432, 'min_samples_leaf': 6, 'noise_level': 0.03320070095749436}. Best is trial 12 with value: 9101.881038161418.\n"
     ]
    },
    {
     "name": "stdout",
     "output_type": "stream",
     "text": [
      "Validation RMSE: 9105.716611885155\n",
      "Validation RMSE: 12049.323145603781\n"
     ]
    },
    {
     "name": "stderr",
     "output_type": "stream",
     "text": [
      "[I 2025-07-23 16:36:11,911] Trial 15 finished with value: 9291.726495911658 and parameters: {'num_leaves': 39, 'max_depth': 20, 'learning_rate': 0.025769484939374965, 'n_estimators': 300, 'min_child_samples': 43, 'feature_fraction': 0.6568783922210696, 'bagging_fraction': 0.7487071872749922, 'bagging_freq': 5, 'price_upper_bound': 40000, 'price_lower_bound': 700, 'smoothing': 0.06557198010679685, 'min_samples_leaf': 1, 'noise_level': 0.027190083405294878}. Best is trial 12 with value: 9101.881038161418.\n"
     ]
    },
    {
     "name": "stdout",
     "output_type": "stream",
     "text": [
      "Validation RMSE: 9291.726495911658\n"
     ]
    },
    {
     "name": "stderr",
     "output_type": "stream",
     "text": [
      "[I 2025-07-23 16:36:12,660] Trial 16 finished with value: 10873.76730064444 and parameters: {'num_leaves': 33, 'max_depth': 30, 'learning_rate': 0.027463756844087864, 'n_estimators': 202, 'min_child_samples': 89, 'feature_fraction': 0.4838120952608789, 'bagging_fraction': 0.7768030983467311, 'bagging_freq': 10, 'price_upper_bound': 25500, 'price_lower_bound': 2100, 'smoothing': 0.014882429851526557, 'min_samples_leaf': 4, 'noise_level': 0.05654568893979185}. Best is trial 12 with value: 9101.881038161418.\n"
     ]
    },
    {
     "name": "stdout",
     "output_type": "stream",
     "text": [
      "Validation RMSE: 10873.76730064444\n"
     ]
    },
    {
     "name": "stderr",
     "output_type": "stream",
     "text": [
      "[I 2025-07-23 16:36:14,526] Trial 17 finished with value: 9246.304497763718 and parameters: {'num_leaves': 48, 'max_depth': 8, 'learning_rate': 0.015926385535575485, 'n_estimators': 374, 'min_child_samples': 29, 'feature_fraction': 0.40154612986508403, 'bagging_fraction': 0.6657352920800648, 'bagging_freq': 7, 'price_upper_bound': 51500, 'price_lower_bound': 2100, 'smoothing': 0.04703941510666312, 'min_samples_leaf': 3, 'noise_level': 0.013206637491103769}. Best is trial 12 with value: 9101.881038161418.\n"
     ]
    },
    {
     "name": "stdout",
     "output_type": "stream",
     "text": [
      "Validation RMSE: 9246.304497763718\n"
     ]
    },
    {
     "name": "stderr",
     "output_type": "stream",
     "text": [
      "[I 2025-07-23 16:36:15,012] Trial 18 finished with value: 9141.795414295415 and parameters: {'num_leaves': 14, 'max_depth': 22, 'learning_rate': 0.036369683205215116, 'n_estimators': 274, 'min_child_samples': 49, 'feature_fraction': 0.8366164939676743, 'bagging_fraction': 0.6172703702810335, 'bagging_freq': 4, 'price_upper_bound': 59500, 'price_lower_bound': 600, 'smoothing': 0.11905628463892147, 'min_samples_leaf': 5, 'noise_level': 0.031759709780369086}. Best is trial 12 with value: 9101.881038161418.\n"
     ]
    },
    {
     "name": "stdout",
     "output_type": "stream",
     "text": [
      "Validation RMSE: 9141.795414295415\n"
     ]
    },
    {
     "name": "stderr",
     "output_type": "stream",
     "text": [
      "[I 2025-07-23 16:36:15,949] Trial 19 finished with value: 9269.569138593763 and parameters: {'num_leaves': 55, 'max_depth': 13, 'learning_rate': 0.06134350786715415, 'n_estimators': 198, 'min_child_samples': 79, 'feature_fraction': 0.6188609308713249, 'bagging_fraction': 0.8770584154304599, 'bagging_freq': 7, 'price_upper_bound': 46000, 'price_lower_bound': 3400, 'smoothing': 0.018416575817313735, 'min_samples_leaf': 2, 'noise_level': 0.07146045957067018}. Best is trial 12 with value: 9101.881038161418.\n"
     ]
    },
    {
     "name": "stdout",
     "output_type": "stream",
     "text": [
      "Validation RMSE: 9269.569138593763\n"
     ]
    },
    {
     "name": "stderr",
     "output_type": "stream",
     "text": [
      "[I 2025-07-23 16:36:19,240] Trial 20 finished with value: 9104.260669925867 and parameters: {'num_leaves': 76, 'max_depth': 36, 'learning_rate': 0.016674829182305485, 'n_estimators': 493, 'min_child_samples': 35, 'feature_fraction': 0.4802817633761306, 'bagging_fraction': 0.44355280427746374, 'bagging_freq': 4, 'price_upper_bound': 54000, 'price_lower_bound': 2200, 'smoothing': 0.034642298295180375, 'min_samples_leaf': 6, 'noise_level': 0.02159952840848959}. Best is trial 12 with value: 9101.881038161418.\n"
     ]
    },
    {
     "name": "stdout",
     "output_type": "stream",
     "text": [
      "Validation RMSE: 9104.260669925867\n"
     ]
    },
    {
     "name": "stderr",
     "output_type": "stream",
     "text": [
      "[I 2025-07-23 16:36:22,063] Trial 21 finished with value: 9173.801993949097 and parameters: {'num_leaves': 78, 'max_depth': 35, 'learning_rate': 0.016730793018017644, 'n_estimators': 455, 'min_child_samples': 37, 'feature_fraction': 0.4838537715908931, 'bagging_fraction': 0.43906863162241117, 'bagging_freq': 4, 'price_upper_bound': 54500, 'price_lower_bound': 2200, 'smoothing': 0.03260093925724036, 'min_samples_leaf': 6, 'noise_level': 0.02099124663310167}. Best is trial 12 with value: 9101.881038161418.\n"
     ]
    },
    {
     "name": "stdout",
     "output_type": "stream",
     "text": [
      "Validation RMSE: 9173.801993949097\n"
     ]
    },
    {
     "name": "stderr",
     "output_type": "stream",
     "text": [
      "[I 2025-07-23 16:36:23,455] Trial 22 finished with value: 9251.660578215617 and parameters: {'num_leaves': 43, 'max_depth': 49, 'learning_rate': 0.012375096986187164, 'n_estimators': 300, 'min_child_samples': 27, 'feature_fraction': 0.46090825967521554, 'bagging_fraction': 0.5190453124428273, 'bagging_freq': 5, 'price_upper_bound': 60000, 'price_lower_bound': 1100, 'smoothing': 0.013647309372744046, 'min_samples_leaf': 7, 'noise_level': 0.03756502295914294}. Best is trial 12 with value: 9101.881038161418.\n"
     ]
    },
    {
     "name": "stdout",
     "output_type": "stream",
     "text": [
      "Validation RMSE: 9251.660578215617\n"
     ]
    },
    {
     "name": "stderr",
     "output_type": "stream",
     "text": [
      "[I 2025-07-23 16:36:25,544] Trial 23 finished with value: 9158.578910739976 and parameters: {'num_leaves': 81, 'max_depth': 44, 'learning_rate': 0.0333019633230622, 'n_estimators': 366, 'min_child_samples': 48, 'feature_fraction': 0.5285223814349737, 'bagging_fraction': 0.48226564533227845, 'bagging_freq': 6, 'price_upper_bound': 50000, 'price_lower_bound': 1800, 'smoothing': 0.023780057049582207, 'min_samples_leaf': 4, 'noise_level': 0.01955414052712544}. Best is trial 12 with value: 9101.881038161418.\n"
     ]
    },
    {
     "name": "stdout",
     "output_type": "stream",
     "text": [
      "Validation RMSE: 9158.578910739976\n"
     ]
    },
    {
     "name": "stderr",
     "output_type": "stream",
     "text": [
      "[I 2025-07-23 16:36:27,284] Trial 24 finished with value: 9084.639647793198 and parameters: {'num_leaves': 33, 'max_depth': 28, 'learning_rate': 0.022628121046569583, 'n_estimators': 447, 'min_child_samples': 5, 'feature_fraction': 0.4000762926275374, 'bagging_fraction': 0.5918562413413185, 'bagging_freq': 4, 'price_upper_bound': 55000, 'price_lower_bound': 2400, 'smoothing': 0.052691713059428665, 'min_samples_leaf': 2, 'noise_level': 0.01040643425687961}. Best is trial 24 with value: 9084.639647793198.\n"
     ]
    },
    {
     "name": "stdout",
     "output_type": "stream",
     "text": [
      "Validation RMSE: 9084.639647793198\n"
     ]
    },
    {
     "name": "stderr",
     "output_type": "stream",
     "text": [
      "[I 2025-07-23 16:36:28,913] Trial 25 finished with value: 9217.967133758279 and parameters: {'num_leaves': 30, 'max_depth': 29, 'learning_rate': 0.019662685116499285, 'n_estimators': 500, 'min_child_samples': 6, 'feature_fraction': 0.6054062049210728, 'bagging_fraction': 0.5759331723259814, 'bagging_freq': 2, 'price_upper_bound': 41000, 'price_lower_bound': 2300, 'smoothing': 0.0816607207853125, 'min_samples_leaf': 2, 'noise_level': 0.012018004501980019}. Best is trial 24 with value: 9084.639647793198.\n"
     ]
    },
    {
     "name": "stdout",
     "output_type": "stream",
     "text": [
      "Validation RMSE: 9217.967133758279\n"
     ]
    },
    {
     "name": "stderr",
     "output_type": "stream",
     "text": [
      "[I 2025-07-23 16:36:31,467] Trial 26 finished with value: 9182.24894244075 and parameters: {'num_leaves': 55, 'max_depth': 34, 'learning_rate': 0.020440550414791078, 'n_estimators': 442, 'min_child_samples': 25, 'feature_fraction': 0.49604459416306734, 'bagging_fraction': 0.4508464658754101, 'bagging_freq': 4, 'price_upper_bound': 48500, 'price_lower_bound': 3200, 'smoothing': 0.048092990787681214, 'min_samples_leaf': 7, 'noise_level': 0.019111522582631754}. Best is trial 24 with value: 9084.639647793198.\n"
     ]
    },
    {
     "name": "stdout",
     "output_type": "stream",
     "text": [
      "Validation RMSE: 9182.24894244075\n"
     ]
    },
    {
     "name": "stderr",
     "output_type": "stream",
     "text": [
      "[I 2025-07-23 16:36:32,640] Trial 27 finished with value: 9209.579390874962 and parameters: {'num_leaves': 18, 'max_depth': 38, 'learning_rate': 0.01288859980596866, 'n_estimators': 464, 'min_child_samples': 19, 'feature_fraction': 0.440395632639597, 'bagging_fraction': 0.617080739234212, 'bagging_freq': 2, 'price_upper_bound': 54500, 'price_lower_bound': 2600, 'smoothing': 0.17557692750945186, 'min_samples_leaf': 5, 'noise_level': 0.010816441783272188}. Best is trial 24 with value: 9084.639647793198.\n"
     ]
    },
    {
     "name": "stdout",
     "output_type": "stream",
     "text": [
      "Validation RMSE: 9209.579390874962\n"
     ]
    },
    {
     "name": "stderr",
     "output_type": "stream",
     "text": [
      "[I 2025-07-23 16:36:34,283] Trial 28 finished with value: 9463.514204338911 and parameters: {'num_leaves': 35, 'max_depth': 24, 'learning_rate': 0.02165269391258811, 'n_estimators': 431, 'min_child_samples': 59, 'feature_fraction': 0.7200119751047965, 'bagging_fraction': 0.5480068742774793, 'bagging_freq': 3, 'price_upper_bound': 36000, 'price_lower_bound': 1900, 'smoothing': 0.08077361647533227, 'min_samples_leaf': 1, 'noise_level': 0.07618556257384315}. Best is trial 24 with value: 9084.639647793198.\n"
     ]
    },
    {
     "name": "stdout",
     "output_type": "stream",
     "text": [
      "Validation RMSE: 9463.514204338911\n"
     ]
    },
    {
     "name": "stderr",
     "output_type": "stream",
     "text": [
      "[I 2025-07-23 16:36:36,858] Trial 29 finished with value: 9125.428971359599 and parameters: {'num_leaves': 74, 'max_depth': 42, 'learning_rate': 0.04637752345695881, 'n_estimators': 375, 'min_child_samples': 55, 'feature_fraction': 0.5057090178969043, 'bagging_fraction': 0.4030202391742977, 'bagging_freq': 1, 'price_upper_bound': 52500, 'price_lower_bound': 2500, 'smoothing': 0.03471554523139203, 'min_samples_leaf': 6, 'noise_level': 0.015041099508081267}. Best is trial 24 with value: 9084.639647793198.\n"
     ]
    },
    {
     "name": "stdout",
     "output_type": "stream",
     "text": [
      "Validation RMSE: 9125.428971359599\n"
     ]
    },
    {
     "name": "stderr",
     "output_type": "stream",
     "text": [
      "[I 2025-07-23 16:36:39,562] Trial 30 finished with value: 9266.791622242505 and parameters: {'num_leaves': 22, 'max_depth': 37, 'learning_rate': 0.015032668798451682, 'n_estimators': 476, 'min_child_samples': 7, 'feature_fraction': 0.4416874570418612, 'bagging_fraction': 0.4740399804571127, 'bagging_freq': 4, 'price_upper_bound': 43500, 'price_lower_bound': 3500, 'smoothing': 0.21924674280242187, 'min_samples_leaf': 4, 'noise_level': 0.024462408499512252}. Best is trial 24 with value: 9084.639647793198.\n"
     ]
    },
    {
     "name": "stdout",
     "output_type": "stream",
     "text": [
      "Validation RMSE: 9266.791622242505\n"
     ]
    },
    {
     "name": "stderr",
     "output_type": "stream",
     "text": [
      "[I 2025-07-23 16:36:42,096] Trial 31 finished with value: 9176.602489055836 and parameters: {'num_leaves': 50, 'max_depth': 15, 'learning_rate': 0.03239944608049817, 'n_estimators': 259, 'min_child_samples': 36, 'feature_fraction': 0.40700347136200454, 'bagging_fraction': 0.7122777201678197, 'bagging_freq': 5, 'price_upper_bound': 56500, 'price_lower_bound': 1300, 'smoothing': 0.015669084123253185, 'min_samples_leaf': 3, 'noise_level': 0.03885217717514396}. Best is trial 24 with value: 9084.639647793198.\n"
     ]
    },
    {
     "name": "stdout",
     "output_type": "stream",
     "text": [
      "Validation RMSE: 9176.602489055836\n"
     ]
    },
    {
     "name": "stderr",
     "output_type": "stream",
     "text": [
      "[I 2025-07-23 16:36:44,208] Trial 32 finished with value: 9182.980929787389 and parameters: {'num_leaves': 63, 'max_depth': 22, 'learning_rate': 0.029348908905942897, 'n_estimators': 298, 'min_child_samples': 43, 'feature_fraction': 0.4007478753467546, 'bagging_fraction': 0.6344584307543922, 'bagging_freq': 5, 'price_upper_bound': 57500, 'price_lower_bound': 700, 'smoothing': 0.024166598439797123, 'min_samples_leaf': 2, 'noise_level': 0.04462708699340427}. Best is trial 24 with value: 9084.639647793198.\n"
     ]
    },
    {
     "name": "stdout",
     "output_type": "stream",
     "text": [
      "Validation RMSE: 9182.980929787389\n"
     ]
    },
    {
     "name": "stderr",
     "output_type": "stream",
     "text": [
      "[I 2025-07-23 16:36:45,119] Trial 33 finished with value: 13047.600411784437 and parameters: {'num_leaves': 38, 'max_depth': 27, 'learning_rate': 0.03803117988458874, 'n_estimators': 199, 'min_child_samples': 34, 'feature_fraction': 0.5590806401179276, 'bagging_fraction': 0.7717290204148353, 'bagging_freq': 6, 'price_upper_bound': 17500, 'price_lower_bound': 1800, 'smoothing': 0.010340275092522588, 'min_samples_leaf': 5, 'noise_level': 0.016070897108530668}. Best is trial 24 with value: 9084.639647793198.\n"
     ]
    },
    {
     "name": "stdout",
     "output_type": "stream",
     "text": [
      "Validation RMSE: 13047.600411784437\n"
     ]
    },
    {
     "name": "stderr",
     "output_type": "stream",
     "text": [
      "[I 2025-07-23 16:36:46,734] Trial 34 finished with value: 9203.892673892944 and parameters: {'num_leaves': 69, 'max_depth': 25, 'learning_rate': 0.07124431392947846, 'n_estimators': 227, 'min_child_samples': 23, 'feature_fraction': 0.44163768748551296, 'bagging_fraction': 0.6949811195958031, 'bagging_freq': 4, 'price_upper_bound': 56500, 'price_lower_bound': 1200, 'smoothing': 0.05636169845328252, 'min_samples_leaf': 3, 'noise_level': 0.0101726939885991}. Best is trial 24 with value: 9084.639647793198.\n"
     ]
    },
    {
     "name": "stdout",
     "output_type": "stream",
     "text": [
      "Validation RMSE: 9203.892673892944\n"
     ]
    },
    {
     "name": "stderr",
     "output_type": "stream",
     "text": [
      "[I 2025-07-23 16:36:48,534] Trial 35 finished with value: 9178.765538344296 and parameters: {'num_leaves': 45, 'max_depth': 31, 'learning_rate': 0.022794051554498714, 'n_estimators': 406, 'min_child_samples': 75, 'feature_fraction': 0.4471927261247982, 'bagging_fraction': 0.7359660092284528, 'bagging_freq': 3, 'price_upper_bound': 53000, 'price_lower_bound': 2900, 'smoothing': 0.014329567694882606, 'min_samples_leaf': 2, 'noise_level': 0.07548603778690723}. Best is trial 24 with value: 9084.639647793198.\n"
     ]
    },
    {
     "name": "stdout",
     "output_type": "stream",
     "text": [
      "Validation RMSE: 9178.765538344296\n"
     ]
    },
    {
     "name": "stderr",
     "output_type": "stream",
     "text": [
      "[I 2025-07-23 16:36:50,632] Trial 36 finished with value: 9076.820259678034 and parameters: {'num_leaves': 54, 'max_depth': 9, 'learning_rate': 0.016720128518272637, 'n_estimators': 335, 'min_child_samples': 12, 'feature_fraction': 0.5120686917604859, 'bagging_fraction': 0.8206417058625846, 'bagging_freq': 5, 'price_upper_bound': 58000, 'price_lower_bound': 2500, 'smoothing': 0.01829498199855386, 'min_samples_leaf': 1, 'noise_level': 0.02780199299705223}. Best is trial 36 with value: 9076.820259678034.\n"
     ]
    },
    {
     "name": "stdout",
     "output_type": "stream",
     "text": [
      "Validation RMSE: 9076.820259678034\n"
     ]
    },
    {
     "name": "stderr",
     "output_type": "stream",
     "text": [
      "[I 2025-07-23 16:36:52,854] Trial 37 finished with value: 9164.642816752585 and parameters: {'num_leaves': 56, 'max_depth': 8, 'learning_rate': 0.010086969364944208, 'n_estimators': 416, 'min_child_samples': 14, 'feature_fraction': 0.5880876636876777, 'bagging_fraction': 0.8510408415971368, 'bagging_freq': 8, 'price_upper_bound': 47500, 'price_lower_bound': 2600, 'smoothing': 0.01896597406803514, 'min_samples_leaf': 1, 'noise_level': 0.029694552787782342}. Best is trial 36 with value: 9076.820259678034.\n"
     ]
    },
    {
     "name": "stdout",
     "output_type": "stream",
     "text": [
      "Validation RMSE: 9164.642816752585\n"
     ]
    },
    {
     "name": "stderr",
     "output_type": "stream",
     "text": [
      "[I 2025-07-23 16:36:53,302] Trial 38 finished with value: 10926.303856439898 and parameters: {'num_leaves': 88, 'max_depth': 3, 'learning_rate': 0.018135102283754638, 'n_estimators': 338, 'min_child_samples': 11, 'feature_fraction': 0.5217296780035201, 'bagging_fraction': 0.8206310932019445, 'bagging_freq': 3, 'price_upper_bound': 25500, 'price_lower_bound': 2900, 'smoothing': 0.026985059718368662, 'min_samples_leaf': 1, 'noise_level': 0.02092702933351275}. Best is trial 36 with value: 9076.820259678034.\n"
     ]
    },
    {
     "name": "stdout",
     "output_type": "stream",
     "text": [
      "Validation RMSE: 10926.303856439898\n"
     ]
    },
    {
     "name": "stderr",
     "output_type": "stream",
     "text": [
      "[I 2025-07-23 16:36:56,608] Trial 39 finished with value: 9013.587223895855 and parameters: {'num_leaves': 65, 'max_depth': 40, 'learning_rate': 0.01261774274924418, 'n_estimators': 481, 'min_child_samples': 5, 'feature_fraction': 0.5648772255507308, 'bagging_fraction': 0.999971169333413, 'bagging_freq': 6, 'price_upper_bound': 57500, 'price_lower_bound': 2400, 'smoothing': 0.04239403969441454, 'min_samples_leaf': 7, 'noise_level': 0.025221940538433206}. Best is trial 39 with value: 9013.587223895855.\n"
     ]
    },
    {
     "name": "stdout",
     "output_type": "stream",
     "text": [
      "Validation RMSE: 9013.587223895855\n"
     ]
    },
    {
     "name": "stderr",
     "output_type": "stream",
     "text": [
      "[I 2025-07-23 16:36:59,092] Trial 40 finished with value: 9059.744517112558 and parameters: {'num_leaves': 58, 'max_depth': 41, 'learning_rate': 0.013312242206845832, 'n_estimators': 391, 'min_child_samples': 6, 'feature_fraction': 0.5545275245372909, 'bagging_fraction': 0.9099688666459408, 'bagging_freq': 7, 'price_upper_bound': 57500, 'price_lower_bound': 3100, 'smoothing': 0.04489033590564139, 'min_samples_leaf': 8, 'noise_level': 0.058631768764519115}. Best is trial 39 with value: 9013.587223895855.\n"
     ]
    },
    {
     "name": "stdout",
     "output_type": "stream",
     "text": [
      "Validation RMSE: 9059.744517112558\n"
     ]
    },
    {
     "name": "stderr",
     "output_type": "stream",
     "text": [
      "[I 2025-07-23 16:37:02,072] Trial 41 finished with value: 9029.148075364807 and parameters: {'num_leaves': 64, 'max_depth': 41, 'learning_rate': 0.013119642151680079, 'n_estimators': 397, 'min_child_samples': 5, 'feature_fraction': 0.5563957472265334, 'bagging_fraction': 0.9882095077140758, 'bagging_freq': 8, 'price_upper_bound': 57500, 'price_lower_bound': 3200, 'smoothing': 0.04388770527054611, 'min_samples_leaf': 8, 'noise_level': 0.05095557500763002}. Best is trial 39 with value: 9013.587223895855.\n"
     ]
    },
    {
     "name": "stdout",
     "output_type": "stream",
     "text": [
      "Validation RMSE: 9029.148075364807\n"
     ]
    },
    {
     "name": "stderr",
     "output_type": "stream",
     "text": [
      "[I 2025-07-23 16:37:04,601] Trial 42 finished with value: 9049.52639271434 and parameters: {'num_leaves': 67, 'max_depth': 41, 'learning_rate': 0.013391688464150954, 'n_estimators': 394, 'min_child_samples': 5, 'feature_fraction': 0.647705879261764, 'bagging_fraction': 0.9780283656616036, 'bagging_freq': 8, 'price_upper_bound': 56500, 'price_lower_bound': 3200, 'smoothing': 0.04772627879484392, 'min_samples_leaf': 8, 'noise_level': 0.06338367920066051}. Best is trial 39 with value: 9013.587223895855.\n"
     ]
    },
    {
     "name": "stdout",
     "output_type": "stream",
     "text": [
      "Validation RMSE: 9049.52639271434\n"
     ]
    },
    {
     "name": "stderr",
     "output_type": "stream",
     "text": [
      "[I 2025-07-23 16:37:07,031] Trial 43 finished with value: 9170.235069249358 and parameters: {'num_leaves': 65, 'max_depth': 40, 'learning_rate': 0.01290853352632525, 'n_estimators': 384, 'min_child_samples': 11, 'feature_fraction': 0.6507090320645018, 'bagging_fraction': 0.9873543546179958, 'bagging_freq': 8, 'price_upper_bound': 51000, 'price_lower_bound': 3800, 'smoothing': 0.09610444699121316, 'min_samples_leaf': 8, 'noise_level': 0.09571637697743553}. Best is trial 39 with value: 9013.587223895855.\n"
     ]
    },
    {
     "name": "stdout",
     "output_type": "stream",
     "text": [
      "Validation RMSE: 9170.235069249358\n"
     ]
    },
    {
     "name": "stderr",
     "output_type": "stream",
     "text": [
      "[I 2025-07-23 16:37:09,508] Trial 44 finished with value: 9060.648515825367 and parameters: {'num_leaves': 69, 'max_depth': 45, 'learning_rate': 0.013993199033732832, 'n_estimators': 349, 'min_child_samples': 17, 'feature_fraction': 0.5676925065533488, 'bagging_fraction': 0.9240328013230701, 'bagging_freq': 9, 'price_upper_bound': 57000, 'price_lower_bound': 3200, 'smoothing': 0.04196595800582144, 'min_samples_leaf': 9, 'noise_level': 0.06167296890219275}. Best is trial 39 with value: 9013.587223895855.\n"
     ]
    },
    {
     "name": "stdout",
     "output_type": "stream",
     "text": [
      "Validation RMSE: 9060.648515825367\n"
     ]
    },
    {
     "name": "stderr",
     "output_type": "stream",
     "text": [
      "[I 2025-07-23 16:37:12,006] Trial 45 finished with value: 9130.349518895902 and parameters: {'num_leaves': 70, 'max_depth': 45, 'learning_rate': 0.012084643796596819, 'n_estimators': 356, 'min_child_samples': 17, 'feature_fraction': 0.6828351115593434, 'bagging_fraction': 0.9241450536883467, 'bagging_freq': 9, 'price_upper_bound': 56500, 'price_lower_bound': 3200, 'smoothing': 0.04125810405772345, 'min_samples_leaf': 9, 'noise_level': 0.14200770788156913}. Best is trial 39 with value: 9013.587223895855.\n"
     ]
    },
    {
     "name": "stdout",
     "output_type": "stream",
     "text": [
      "Validation RMSE: 9130.349518895902\n"
     ]
    },
    {
     "name": "stderr",
     "output_type": "stream",
     "text": [
      "[I 2025-07-23 16:37:14,706] Trial 46 finished with value: 9162.680277983656 and parameters: {'num_leaves': 61, 'max_depth': 41, 'learning_rate': 0.014154138026017955, 'n_estimators': 395, 'min_child_samples': 5, 'feature_fraction': 0.5625066894291308, 'bagging_fraction': 0.9741464333676378, 'bagging_freq': 9, 'price_upper_bound': 50500, 'price_lower_bound': 4300, 'smoothing': 0.0658958073902812, 'min_samples_leaf': 8, 'noise_level': 0.09947406142095444}. Best is trial 39 with value: 9013.587223895855.\n"
     ]
    },
    {
     "name": "stdout",
     "output_type": "stream",
     "text": [
      "Validation RMSE: 9162.680277983656\n"
     ]
    },
    {
     "name": "stderr",
     "output_type": "stream",
     "text": [
      "[I 2025-07-23 16:37:17,305] Trial 47 finished with value: 9158.219368627662 and parameters: {'num_leaves': 65, 'max_depth': 50, 'learning_rate': 0.011074419668682773, 'n_estimators': 422, 'min_child_samples': 21, 'feature_fraction': 0.6265580159435239, 'bagging_fraction': 0.9250259751759182, 'bagging_freq': 8, 'price_upper_bound': 57000, 'price_lower_bound': 3900, 'smoothing': 0.08285959154853585, 'min_samples_leaf': 9, 'noise_level': 0.06269968822097298}. Best is trial 39 with value: 9013.587223895855.\n"
     ]
    },
    {
     "name": "stdout",
     "output_type": "stream",
     "text": [
      "Validation RMSE: 9158.219368627662\n"
     ]
    },
    {
     "name": "stderr",
     "output_type": "stream",
     "text": [
      "[I 2025-07-23 16:37:19,727] Trial 48 finished with value: 10074.027501421773 and parameters: {'num_leaves': 74, 'max_depth': 47, 'learning_rate': 0.014069347312823381, 'n_estimators': 313, 'min_child_samples': 9, 'feature_fraction': 0.5800069301891874, 'bagging_fraction': 0.902878680889723, 'bagging_freq': 7, 'price_upper_bound': 30500, 'price_lower_bound': 3500, 'smoothing': 0.04120499570579275, 'min_samples_leaf': 9, 'noise_level': 0.11667737228457842}. Best is trial 39 with value: 9013.587223895855.\n"
     ]
    },
    {
     "name": "stdout",
     "output_type": "stream",
     "text": [
      "Validation RMSE: 10074.027501421773\n"
     ]
    },
    {
     "name": "stderr",
     "output_type": "stream",
     "text": [
      "[I 2025-07-23 16:37:22,030] Trial 49 finished with value: 9159.420558099542 and parameters: {'num_leaves': 59, 'max_depth': 44, 'learning_rate': 0.10209288258153205, 'n_estimators': 350, 'min_child_samples': 16, 'feature_fraction': 0.7733812121300809, 'bagging_fraction': 0.9629055828577373, 'bagging_freq': 10, 'price_upper_bound': 54000, 'price_lower_bound': 3200, 'smoothing': 0.029992708085710446, 'min_samples_leaf': 7, 'noise_level': 0.048105012138879584}. Best is trial 39 with value: 9013.587223895855.\n"
     ]
    },
    {
     "name": "stdout",
     "output_type": "stream",
     "text": [
      "Validation RMSE: 9159.420558099542\n"
     ]
    },
    {
     "name": "stderr",
     "output_type": "stream",
     "text": [
      "[I 2025-07-23 16:37:25,619] Trial 50 finished with value: 9127.385716831534 and parameters: {'num_leaves': 67, 'max_depth': 33, 'learning_rate': 0.01155760891245564, 'n_estimators': 474, 'min_child_samples': 10, 'feature_fraction': 0.5437064531122199, 'bagging_fraction': 0.9997214956323133, 'bagging_freq': 8, 'price_upper_bound': 60000, 'price_lower_bound': 4500, 'smoothing': 0.11958409250119412, 'min_samples_leaf': 8, 'noise_level': 0.15401728556919225}. Best is trial 39 with value: 9013.587223895855.\n"
     ]
    },
    {
     "name": "stdout",
     "output_type": "stream",
     "text": [
      "Validation RMSE: 9127.385716831534\n"
     ]
    },
    {
     "name": "stderr",
     "output_type": "stream",
     "text": [
      "[I 2025-07-23 16:37:27,725] Trial 51 finished with value: 9147.508029086717 and parameters: {'num_leaves': 59, 'max_depth': 39, 'learning_rate': 0.153195485612482, 'n_estimators': 330, 'min_child_samples': 13, 'feature_fraction': 0.5966633080636705, 'bagging_fraction': 0.9306579846649251, 'bagging_freq': 7, 'price_upper_bound': 57500, 'price_lower_bound': 2800, 'smoothing': 0.042063300591350224, 'min_samples_leaf': 8, 'noise_level': 0.061347564479772854}. Best is trial 39 with value: 9013.587223895855.\n"
     ]
    },
    {
     "name": "stdout",
     "output_type": "stream",
     "text": [
      "Validation RMSE: 9147.508029086717\n"
     ]
    },
    {
     "name": "stderr",
     "output_type": "stream",
     "text": [
      "[I 2025-07-23 16:37:30,476] Trial 52 finished with value: 9015.211895709801 and parameters: {'num_leaves': 52, 'max_depth': 43, 'learning_rate': 0.018461965387890782, 'n_estimators': 390, 'min_child_samples': 15, 'feature_fraction': 0.635425539933533, 'bagging_fraction': 0.8792501149996922, 'bagging_freq': 9, 'price_upper_bound': 58000, 'price_lower_bound': 3100, 'smoothing': 0.06425868248056714, 'min_samples_leaf': 7, 'noise_level': 0.3892993705619966}. Best is trial 39 with value: 9013.587223895855.\n"
     ]
    },
    {
     "name": "stdout",
     "output_type": "stream",
     "text": [
      "Validation RMSE: 9015.211895709801\n"
     ]
    },
    {
     "name": "stderr",
     "output_type": "stream",
     "text": [
      "[I 2025-07-23 16:37:33,946] Trial 53 finished with value: 9098.468777446858 and parameters: {'num_leaves': 83, 'max_depth': 42, 'learning_rate': 0.014304922830506757, 'n_estimators': 397, 'min_child_samples': 16, 'feature_fraction': 0.666544457024327, 'bagging_fraction': 0.8842229799798287, 'bagging_freq': 9, 'price_upper_bound': 52000, 'price_lower_bound': 3100, 'smoothing': 0.05992381252580752, 'min_samples_leaf': 10, 'noise_level': 0.7417901239222809}. Best is trial 39 with value: 9013.587223895855.\n"
     ]
    },
    {
     "name": "stdout",
     "output_type": "stream",
     "text": [
      "Validation RMSE: 9098.468777446858\n"
     ]
    },
    {
     "name": "stderr",
     "output_type": "stream",
     "text": [
      "[I 2025-07-23 16:37:37,434] Trial 54 finished with value: 8983.7238142016 and parameters: {'num_leaves': 73, 'max_depth': 47, 'learning_rate': 0.019128682945604405, 'n_estimators': 389, 'min_child_samples': 8, 'feature_fraction': 0.62121122341836, 'bagging_fraction': 0.9493102122979684, 'bagging_freq': 10, 'price_upper_bound': 58500, 'price_lower_bound': 3700, 'smoothing': 0.06761033652128168, 'min_samples_leaf': 7, 'noise_level': 0.43167604450842356}. Best is trial 54 with value: 8983.7238142016.\n"
     ]
    },
    {
     "name": "stdout",
     "output_type": "stream",
     "text": [
      "Validation RMSE: 8983.7238142016\n"
     ]
    },
    {
     "name": "stderr",
     "output_type": "stream",
     "text": [
      "[I 2025-07-23 16:37:42,733] Trial 55 finished with value: 9070.809928679662 and parameters: {'num_leaves': 89, 'max_depth': 47, 'learning_rate': 0.018777447137507654, 'n_estimators': 431, 'min_child_samples': 8, 'feature_fraction': 0.630421304951496, 'bagging_fraction': 0.8546083435803429, 'bagging_freq': 10, 'price_upper_bound': 55500, 'price_lower_bound': 3700, 'smoothing': 0.07492652109990174, 'min_samples_leaf': 7, 'noise_level': 0.4644217265443143}. Best is trial 54 with value: 8983.7238142016.\n"
     ]
    },
    {
     "name": "stdout",
     "output_type": "stream",
     "text": [
      "Validation RMSE: 9070.809928679662\n"
     ]
    },
    {
     "name": "stderr",
     "output_type": "stream",
     "text": [
      "[I 2025-07-23 16:37:46,316] Trial 56 finished with value: 8941.848570374374 and parameters: {'num_leaves': 73, 'max_depth': 43, 'learning_rate': 0.024792518906123533, 'n_estimators': 385, 'min_child_samples': 5, 'feature_fraction': 0.994461976860274, 'bagging_fraction': 0.948688451193851, 'bagging_freq': 8, 'price_upper_bound': 59000, 'price_lower_bound': 3400, 'smoothing': 0.10466175685719517, 'min_samples_leaf': 7, 'noise_level': 0.36299672807800876}. Best is trial 56 with value: 8941.848570374374.\n"
     ]
    },
    {
     "name": "stdout",
     "output_type": "stream",
     "text": [
      "Validation RMSE: 8941.848570374374\n"
     ]
    },
    {
     "name": "stderr",
     "output_type": "stream",
     "text": [
      "[I 2025-07-23 16:37:49,737] Trial 57 finished with value: 9179.638690180835 and parameters: {'num_leaves': 72, 'max_depth': 43, 'learning_rate': 0.023695420542180455, 'n_estimators': 409, 'min_child_samples': 20, 'feature_fraction': 0.9913537163406062, 'bagging_fraction': 0.950907890874378, 'bagging_freq': 10, 'price_upper_bound': 59000, 'price_lower_bound': 4000, 'smoothing': 0.10824394884425352, 'min_samples_leaf': 7, 'noise_level': 0.33837299090499695}. Best is trial 56 with value: 8941.848570374374.\n"
     ]
    },
    {
     "name": "stdout",
     "output_type": "stream",
     "text": [
      "Validation RMSE: 9179.638690180835\n"
     ]
    },
    {
     "name": "stderr",
     "output_type": "stream",
     "text": [
      "[I 2025-07-23 16:37:53,538] Trial 58 finished with value: 9094.451487161235 and parameters: {'num_leaves': 79, 'max_depth': 49, 'learning_rate': 0.017299572515032, 'n_estimators': 371, 'min_child_samples': 10, 'feature_fraction': 0.8960147211244707, 'bagging_fraction': 0.9742593449794308, 'bagging_freq': 9, 'price_upper_bound': 53000, 'price_lower_bound': 3400, 'smoothing': 0.14945969245491358, 'min_samples_leaf': 7, 'noise_level': 0.514433785322724}. Best is trial 56 with value: 8941.848570374374.\n"
     ]
    },
    {
     "name": "stdout",
     "output_type": "stream",
     "text": [
      "Validation RMSE: 9094.451487161235\n"
     ]
    },
    {
     "name": "stderr",
     "output_type": "stream",
     "text": [
      "[I 2025-07-23 16:37:54,391] Trial 59 finished with value: 16061.11677348496 and parameters: {'num_leaves': 94, 'max_depth': 46, 'learning_rate': 0.025414573973337858, 'n_estimators': 69, 'min_child_samples': 5, 'feature_fraction': 0.6949788893227316, 'bagging_fraction': 0.9426020978054191, 'bagging_freq': 8, 'price_upper_bound': 10000, 'price_lower_bound': 3700, 'smoothing': 0.09756091546983495, 'min_samples_leaf': 6, 'noise_level': 0.20977535685211798}. Best is trial 56 with value: 8941.848570374374.\n"
     ]
    },
    {
     "name": "stdout",
     "output_type": "stream",
     "text": [
      "Validation RMSE: 16061.11677348496\n"
     ]
    },
    {
     "name": "stderr",
     "output_type": "stream",
     "text": [
      "[I 2025-07-23 16:37:57,205] Trial 60 finished with value: 9246.301340101798 and parameters: {'num_leaves': 52, 'max_depth': 38, 'learning_rate': 0.010712528853488976, 'n_estimators': 431, 'min_child_samples': 14, 'feature_fraction': 0.7594641047820425, 'bagging_fraction': 0.998791003750948, 'bagging_freq': 10, 'price_upper_bound': 47000, 'price_lower_bound': 4300, 'smoothing': 0.05261933816840184, 'min_samples_leaf': 8, 'noise_level': 0.4823627347962182}. Best is trial 56 with value: 8941.848570374374.\n"
     ]
    },
    {
     "name": "stdout",
     "output_type": "stream",
     "text": [
      "Validation RMSE: 9246.301340101798\n"
     ]
    },
    {
     "name": "stderr",
     "output_type": "stream",
     "text": [
      "[I 2025-07-23 16:38:00,903] Trial 61 finished with value: 8992.14763874038 and parameters: {'num_leaves': 63, 'max_depth': 40, 'learning_rate': 0.01905366891317495, 'n_estimators': 388, 'min_child_samples': 7, 'feature_fraction': 0.6459063805278995, 'bagging_fraction': 0.9041634420911259, 'bagging_freq': 7, 'price_upper_bound': 58500, 'price_lower_bound': 3600, 'smoothing': 0.39569893706266707, 'min_samples_leaf': 8, 'noise_level': 0.2754427051916378}. Best is trial 56 with value: 8941.848570374374.\n"
     ]
    },
    {
     "name": "stdout",
     "output_type": "stream",
     "text": [
      "Validation RMSE: 8992.14763874038\n"
     ]
    },
    {
     "name": "stderr",
     "output_type": "stream",
     "text": [
      "[I 2025-07-23 16:38:03,662] Trial 62 finished with value: 8951.767308175078 and parameters: {'num_leaves': 62, 'max_depth': 36, 'learning_rate': 0.02026469760621632, 'n_estimators': 364, 'min_child_samples': 8, 'feature_fraction': 0.8319103331304704, 'bagging_fraction': 0.969601017724374, 'bagging_freq': 7, 'price_upper_bound': 59000, 'price_lower_bound': 3600, 'smoothing': 0.5359663159621993, 'min_samples_leaf': 8, 'noise_level': 0.2776350694445554}. Best is trial 56 with value: 8941.848570374374.\n"
     ]
    },
    {
     "name": "stdout",
     "output_type": "stream",
     "text": [
      "Validation RMSE: 8951.767308175078\n"
     ]
    },
    {
     "name": "stderr",
     "output_type": "stream",
     "text": [
      "[I 2025-07-23 16:38:06,275] Trial 63 finished with value: 9085.796983159511 and parameters: {'num_leaves': 62, 'max_depth': 35, 'learning_rate': 0.01905595721635519, 'n_estimators': 362, 'min_child_samples': 30, 'feature_fraction': 0.8352070177285303, 'bagging_fraction': 0.8594395500044298, 'bagging_freq': 7, 'price_upper_bound': 60000, 'price_lower_bound': 3600, 'smoothing': 0.4263982795293787, 'min_samples_leaf': 7, 'noise_level': 0.2612922434054178}. Best is trial 56 with value: 8941.848570374374.\n"
     ]
    },
    {
     "name": "stdout",
     "output_type": "stream",
     "text": [
      "Validation RMSE: 9085.796983159511\n"
     ]
    },
    {
     "name": "stderr",
     "output_type": "stream",
     "text": [
      "[I 2025-07-23 16:38:10,063] Trial 64 finished with value: 9073.804756350677 and parameters: {'num_leaves': 72, 'max_depth': 39, 'learning_rate': 0.020583613054523782, 'n_estimators': 447, 'min_child_samples': 9, 'feature_fraction': 0.8253171418993149, 'bagging_fraction': 0.9039155685527995, 'bagging_freq': 6, 'price_upper_bound': 58500, 'price_lower_bound': 4900, 'smoothing': 0.8173561798322246, 'min_samples_leaf': 7, 'noise_level': 0.3719079709202056}. Best is trial 56 with value: 8941.848570374374.\n"
     ]
    },
    {
     "name": "stdout",
     "output_type": "stream",
     "text": [
      "Validation RMSE: 9073.804756350677\n"
     ]
    },
    {
     "name": "stderr",
     "output_type": "stream",
     "text": [
      "[I 2025-07-23 16:38:13,032] Trial 65 finished with value: 9163.13433994305 and parameters: {'num_leaves': 76, 'max_depth': 48, 'learning_rate': 0.027513560320195633, 'n_estimators': 315, 'min_child_samples': 23, 'feature_fraction': 0.8819503547261788, 'bagging_fraction': 0.9465034386375607, 'bagging_freq': 6, 'price_upper_bound': 55000, 'price_lower_bound': 3400, 'smoothing': 0.5737025404455441, 'min_samples_leaf': 6, 'noise_level': 0.17501936518550212}. Best is trial 56 with value: 8941.848570374374.\n"
     ]
    },
    {
     "name": "stdout",
     "output_type": "stream",
     "text": [
      "Validation RMSE: 9163.13433994305\n"
     ]
    },
    {
     "name": "stderr",
     "output_type": "stream",
     "text": [
      "[I 2025-07-23 16:38:15,539] Trial 66 finished with value: 9143.660098110324 and parameters: {'num_leaves': 47, 'max_depth': 44, 'learning_rate': 0.015717223972085297, 'n_estimators': 382, 'min_child_samples': 13, 'feature_fraction': 0.9919604032583126, 'bagging_fraction': 0.963077742727824, 'bagging_freq': 7, 'price_upper_bound': 53500, 'price_lower_bound': 4100, 'smoothing': 0.40341899674164766, 'min_samples_leaf': 9, 'noise_level': 0.6161170462764483}. Best is trial 56 with value: 8941.848570374374.\n"
     ]
    },
    {
     "name": "stdout",
     "output_type": "stream",
     "text": [
      "Validation RMSE: 9143.660098110324\n"
     ]
    },
    {
     "name": "stderr",
     "output_type": "stream",
     "text": [
      "[I 2025-07-23 16:38:19,245] Trial 67 finished with value: 9166.630186217217 and parameters: {'num_leaves': 65, 'max_depth': 36, 'learning_rate': 0.01593670540021085, 'n_estimators': 486, 'min_child_samples': 8, 'feature_fraction': 0.9405931120030729, 'bagging_fraction': 0.8984685184838256, 'bagging_freq': 9, 'price_upper_bound': 49500, 'price_lower_bound': 2800, 'smoothing': 0.6914199997414964, 'min_samples_leaf': 8, 'noise_level': 0.3149240224944493}. Best is trial 56 with value: 8941.848570374374.\n"
     ]
    },
    {
     "name": "stdout",
     "output_type": "stream",
     "text": [
      "Validation RMSE: 9166.630186217217\n"
     ]
    },
    {
     "name": "stderr",
     "output_type": "stream",
     "text": [
      "[I 2025-07-23 16:38:23,233] Trial 68 finished with value: 9057.609801204351 and parameters: {'num_leaves': 83, 'max_depth': 43, 'learning_rate': 0.02414871327028241, 'n_estimators': 422, 'min_child_samples': 19, 'feature_fraction': 0.6076195011600645, 'bagging_fraction': 0.8812104992818732, 'bagging_freq': 8, 'price_upper_bound': 58500, 'price_lower_bound': 3400, 'smoothing': 0.2442201608004964, 'min_samples_leaf': 6, 'noise_level': 0.4074079014408209}. Best is trial 56 with value: 8941.848570374374.\n"
     ]
    },
    {
     "name": "stdout",
     "output_type": "stream",
     "text": [
      "Validation RMSE: 9057.609801204351\n"
     ]
    },
    {
     "name": "stderr",
     "output_type": "stream",
     "text": [
      "[I 2025-07-23 16:38:25,374] Trial 69 finished with value: 9183.995615703156 and parameters: {'num_leaves': 57, 'max_depth': 32, 'learning_rate': 0.021261051243982258, 'n_estimators': 364, 'min_child_samples': 95, 'feature_fraction': 0.9713488282986612, 'bagging_fraction': 0.9594761441674128, 'bagging_freq': 7, 'price_upper_bound': 55500, 'price_lower_bound': 3000, 'smoothing': 0.4297116538353166, 'min_samples_leaf': 7, 'noise_level': 0.26184574584203224}. Best is trial 56 with value: 8941.848570374374.\n"
     ]
    },
    {
     "name": "stdout",
     "output_type": "stream",
     "text": [
      "Validation RMSE: 9183.995615703156\n"
     ]
    },
    {
     "name": "stderr",
     "output_type": "stream",
     "text": [
      "[I 2025-07-23 16:38:28,093] Trial 70 finished with value: 9040.532811618968 and parameters: {'num_leaves': 52, 'max_depth': 37, 'learning_rate': 0.018192087137606738, 'n_estimators': 465, 'min_child_samples': 8, 'feature_fraction': 0.7242824289718879, 'bagging_fraction': 0.9824213066695234, 'bagging_freq': 9, 'price_upper_bound': 60000, 'price_lower_bound': 3800, 'smoothing': 0.9847927996100179, 'min_samples_leaf': 7, 'noise_level': 0.2966402237832335}. Best is trial 56 with value: 8941.848570374374.\n"
     ]
    },
    {
     "name": "stdout",
     "output_type": "stream",
     "text": [
      "Validation RMSE: 9040.532811618968\n"
     ]
    },
    {
     "name": "stderr",
     "output_type": "stream",
     "text": [
      "[I 2025-07-23 16:38:31,426] Trial 71 finished with value: 9096.667836633736 and parameters: {'num_leaves': 53, 'max_depth': 37, 'learning_rate': 0.01809860436131048, 'n_estimators': 463, 'min_child_samples': 8, 'feature_fraction': 0.7146120979595907, 'bagging_fraction': 0.985924532353199, 'bagging_freq': 9, 'price_upper_bound': 60000, 'price_lower_bound': 3900, 'smoothing': 0.31810975454360635, 'min_samples_leaf': 7, 'noise_level': 0.6455260806902126}. Best is trial 56 with value: 8941.848570374374.\n"
     ]
    },
    {
     "name": "stdout",
     "output_type": "stream",
     "text": [
      "Validation RMSE: 9096.667836633736\n"
     ]
    },
    {
     "name": "stderr",
     "output_type": "stream",
     "text": [
      "[I 2025-07-23 16:38:33,880] Trial 72 finished with value: 9094.534592170272 and parameters: {'num_leaves': 51, 'max_depth': 39, 'learning_rate': 0.020047541253702915, 'n_estimators': 442, 'min_child_samples': 14, 'feature_fraction': 0.867461382805907, 'bagging_fraction': 0.9382073705407403, 'bagging_freq': 8, 'price_upper_bound': 58500, 'price_lower_bound': 3600, 'smoothing': 0.8030805982095995, 'min_samples_leaf': 8, 'noise_level': 0.301870863430363}. Best is trial 56 with value: 8941.848570374374.\n"
     ]
    },
    {
     "name": "stdout",
     "output_type": "stream",
     "text": [
      "Validation RMSE: 9094.534592170272\n"
     ]
    },
    {
     "name": "stderr",
     "output_type": "stream",
     "text": [
      "[I 2025-07-23 16:38:37,115] Trial 73 finished with value: 9156.764471912556 and parameters: {'num_leaves': 62, 'max_depth': 46, 'learning_rate': 0.02714071597075199, 'n_estimators': 406, 'min_child_samples': 12, 'feature_fraction': 0.8034201232125019, 'bagging_fraction': 0.9769847181899628, 'bagging_freq': 10, 'price_upper_bound': 55500, 'price_lower_bound': 4400, 'smoothing': 0.9754238345836692, 'min_samples_leaf': 6, 'noise_level': 0.2333564039433233}. Best is trial 56 with value: 8941.848570374374.\n"
     ]
    },
    {
     "name": "stdout",
     "output_type": "stream",
     "text": [
      "Validation RMSE: 9156.764471912556\n"
     ]
    },
    {
     "name": "stderr",
     "output_type": "stream",
     "text": [
      "[I 2025-07-23 16:38:40,797] Trial 74 finished with value: 9049.47313658772 and parameters: {'num_leaves': 72, 'max_depth': 43, 'learning_rate': 0.015043399240010046, 'n_estimators': 478, 'min_child_samples': 7, 'feature_fraction': 0.6721294235893354, 'bagging_fraction': 0.9981749082176152, 'bagging_freq': 9, 'price_upper_bound': 59000, 'price_lower_bound': 3800, 'smoothing': 0.6629914542938976, 'min_samples_leaf': 7, 'noise_level': 0.4040578457823026}. Best is trial 56 with value: 8941.848570374374.\n"
     ]
    },
    {
     "name": "stdout",
     "output_type": "stream",
     "text": [
      "Validation RMSE: 9049.47313658772\n"
     ]
    },
    {
     "name": "stderr",
     "output_type": "stream",
     "text": [
      "[I 2025-07-23 16:38:44,065] Trial 75 finished with value: 9053.920047242746 and parameters: {'num_leaves': 67, 'max_depth': 40, 'learning_rate': 0.017250269808294694, 'n_estimators': 458, 'min_child_samples': 16, 'feature_fraction': 0.637104812848669, 'bagging_fraction': 0.9163784806539774, 'bagging_freq': 7, 'price_upper_bound': 54500, 'price_lower_bound': 3600, 'smoothing': 0.5070372957349684, 'min_samples_leaf': 8, 'noise_level': 0.9679837929853783}. Best is trial 56 with value: 8941.848570374374.\n"
     ]
    },
    {
     "name": "stdout",
     "output_type": "stream",
     "text": [
      "Validation RMSE: 9053.920047242746\n"
     ]
    },
    {
     "name": "stderr",
     "output_type": "stream",
     "text": [
      "[I 2025-07-23 16:38:47,222] Trial 76 finished with value: 9109.652499815467 and parameters: {'num_leaves': 60, 'max_depth': 35, 'learning_rate': 0.03965168696948281, 'n_estimators': 379, 'min_child_samples': 10, 'feature_fraction': 0.6112367242915882, 'bagging_fraction': 0.966889688908767, 'bagging_freq': 8, 'price_upper_bound': 52000, 'price_lower_bound': 4100, 'smoothing': 0.17569354004295423, 'min_samples_leaf': 8, 'noise_level': 0.18998864218064979}. Best is trial 56 with value: 8941.848570374374.\n"
     ]
    },
    {
     "name": "stdout",
     "output_type": "stream",
     "text": [
      "Validation RMSE: 9109.652499815467\n"
     ]
    },
    {
     "name": "stderr",
     "output_type": "stream",
     "text": [
      "[I 2025-07-23 16:38:49,542] Trial 77 finished with value: 9039.793691266925 and parameters: {'num_leaves': 49, 'max_depth': 42, 'learning_rate': 0.02172153418898516, 'n_estimators': 413, 'min_child_samples': 5, 'feature_fraction': 0.7452340144345381, 'bagging_fraction': 0.9425404333630888, 'bagging_freq': 6, 'price_upper_bound': 56000, 'price_lower_bound': 2700, 'smoothing': 0.06829733360441306, 'min_samples_leaf': 7, 'noise_level': 0.2805377390144585}. Best is trial 56 with value: 8941.848570374374.\n"
     ]
    },
    {
     "name": "stdout",
     "output_type": "stream",
     "text": [
      "Validation RMSE: 9039.793691266925\n"
     ]
    },
    {
     "name": "stderr",
     "output_type": "stream",
     "text": [
      "[I 2025-07-23 16:38:51,645] Trial 78 finished with value: 9099.40770778192 and parameters: {'num_leaves': 46, 'max_depth': 42, 'learning_rate': 0.022131480127718938, 'n_estimators': 418, 'min_child_samples': 5, 'feature_fraction': 0.7607677777819988, 'bagging_fraction': 0.8664122903552636, 'bagging_freq': 6, 'price_upper_bound': 56000, 'price_lower_bound': 2700, 'smoothing': 0.07064429615082009, 'min_samples_leaf': 5, 'noise_level': 0.528378226377641}. Best is trial 56 with value: 8941.848570374374.\n"
     ]
    },
    {
     "name": "stdout",
     "output_type": "stream",
     "text": [
      "Validation RMSE: 9099.40770778192\n"
     ]
    },
    {
     "name": "stderr",
     "output_type": "stream",
     "text": [
      "[I 2025-07-23 16:38:54,707] Trial 79 finished with value: 9000.238511317286 and parameters: {'num_leaves': 76, 'max_depth': 50, 'learning_rate': 0.029552361720961155, 'n_estimators': 347, 'min_child_samples': 12, 'feature_fraction': 0.5796113415756154, 'bagging_fraction': 0.8353783578279781, 'bagging_freq': 6, 'price_upper_bound': 58000, 'price_lower_bound': 3000, 'smoothing': 0.03527189552620635, 'min_samples_leaf': 9, 'noise_level': 0.4373890828556735}. Best is trial 56 with value: 8941.848570374374.\n"
     ]
    },
    {
     "name": "stdout",
     "output_type": "stream",
     "text": [
      "Validation RMSE: 9000.238511317286\n"
     ]
    },
    {
     "name": "stderr",
     "output_type": "stream",
     "text": [
      "[I 2025-07-23 16:38:57,405] Trial 80 finished with value: 9475.336753725098 and parameters: {'num_leaves': 78, 'max_depth': 46, 'learning_rate': 0.03438092069786755, 'n_estimators': 321, 'min_child_samples': 18, 'feature_fraction': 0.5770382021177232, 'bagging_fraction': 0.8315457126523492, 'bagging_freq': 6, 'price_upper_bound': 36500, 'price_lower_bound': 4700, 'smoothing': 0.03362605517893558, 'min_samples_leaf': 9, 'noise_level': 0.4167332385584281}. Best is trial 56 with value: 8941.848570374374.\n"
     ]
    },
    {
     "name": "stdout",
     "output_type": "stream",
     "text": [
      "Validation RMSE: 9475.336753725098\n"
     ]
    },
    {
     "name": "stderr",
     "output_type": "stream",
     "text": [
      "[I 2025-07-23 16:39:00,377] Trial 81 finished with value: 9068.306749269657 and parameters: {'num_leaves': 76, 'max_depth': 49, 'learning_rate': 0.053996652688837604, 'n_estimators': 349, 'min_child_samples': 12, 'feature_fraction': 0.5411573694864489, 'bagging_fraction': 0.7904677275483637, 'bagging_freq': 6, 'price_upper_bound': 58000, 'price_lower_bound': 3000, 'smoothing': 0.051137301174330414, 'min_samples_leaf': 9, 'noise_level': 0.3510596778860644}. Best is trial 56 with value: 8941.848570374374.\n"
     ]
    },
    {
     "name": "stdout",
     "output_type": "stream",
     "text": [
      "Validation RMSE: 9068.306749269657\n"
     ]
    },
    {
     "name": "stderr",
     "output_type": "stream",
     "text": [
      "[I 2025-07-23 16:39:02,084] Trial 82 finished with value: 9050.47527161274 and parameters: {'num_leaves': 40, 'max_depth': 50, 'learning_rate': 0.030612715288642352, 'n_estimators': 383, 'min_child_samples': 5, 'feature_fraction': 0.6948664437943541, 'bagging_fraction': 0.8408358841898522, 'bagging_freq': 6, 'price_upper_bound': 53500, 'price_lower_bound': 2300, 'smoothing': 0.03650316033576669, 'min_samples_leaf': 10, 'noise_level': 0.23728495672407332}. Best is trial 56 with value: 8941.848570374374.\n"
     ]
    },
    {
     "name": "stdout",
     "output_type": "stream",
     "text": [
      "Validation RMSE: 9050.47527161274\n"
     ]
    },
    {
     "name": "stderr",
     "output_type": "stream",
     "text": [
      "[I 2025-07-23 16:39:05,552] Trial 83 finished with value: 9002.830547198888 and parameters: {'num_leaves': 69, 'max_depth': 48, 'learning_rate': 0.025787185624394294, 'n_estimators': 400, 'min_child_samples': 22, 'feature_fraction': 0.5888636195058913, 'bagging_fraction': 0.938050134518416, 'bagging_freq': 7, 'price_upper_bound': 57500, 'price_lower_bound': 2700, 'smoothing': 0.06409567499648851, 'min_samples_leaf': 8, 'noise_level': 0.5622000635570522}. Best is trial 56 with value: 8941.848570374374.\n"
     ]
    },
    {
     "name": "stdout",
     "output_type": "stream",
     "text": [
      "Validation RMSE: 9002.830547198888\n"
     ]
    },
    {
     "name": "stderr",
     "output_type": "stream",
     "text": [
      "[I 2025-07-23 16:39:08,365] Trial 84 finished with value: 9040.264121388276 and parameters: {'num_leaves': 70, 'max_depth': 48, 'learning_rate': 0.029997586791443667, 'n_estimators': 368, 'min_child_samples': 25, 'feature_fraction': 0.6195788671055527, 'bagging_fraction': 0.80261477095834, 'bagging_freq': 7, 'price_upper_bound': 58000, 'price_lower_bound': 2900, 'smoothing': 0.05967513417437038, 'min_samples_leaf': 8, 'noise_level': 0.5876284551416109}. Best is trial 56 with value: 8941.848570374374.\n"
     ]
    },
    {
     "name": "stdout",
     "output_type": "stream",
     "text": [
      "Validation RMSE: 9040.264121388276\n"
     ]
    },
    {
     "name": "stderr",
     "output_type": "stream",
     "text": [
      "[I 2025-07-23 16:39:11,317] Trial 85 finished with value: 9024.264820549402 and parameters: {'num_leaves': 64, 'max_depth': 45, 'learning_rate': 0.026143058301401487, 'n_estimators': 400, 'min_child_samples': 21, 'feature_fraction': 0.5962940307322137, 'bagging_fraction': 0.8927874239689855, 'bagging_freq': 7, 'price_upper_bound': 57500, 'price_lower_bound': 3300, 'smoothing': 0.09125745218915596, 'min_samples_leaf': 8, 'noise_level': 0.6873052810877365}. Best is trial 56 with value: 8941.848570374374.\n"
     ]
    },
    {
     "name": "stdout",
     "output_type": "stream",
     "text": [
      "Validation RMSE: 9024.264820549402\n"
     ]
    },
    {
     "name": "stderr",
     "output_type": "stream",
     "text": [
      "[I 2025-07-23 16:39:13,897] Trial 86 finished with value: 9036.958196417772 and parameters: {'num_leaves': 74, 'max_depth': 45, 'learning_rate': 0.026154629523749355, 'n_estimators': 291, 'min_child_samples': 23, 'feature_fraction': 0.593633596654931, 'bagging_fraction': 0.8919671806939035, 'bagging_freq': 7, 'price_upper_bound': 54500, 'price_lower_bound': 3300, 'smoothing': 0.08034921291756866, 'min_samples_leaf': 9, 'noise_level': 0.8433767144630073}. Best is trial 56 with value: 8941.848570374374.\n"
     ]
    },
    {
     "name": "stdout",
     "output_type": "stream",
     "text": [
      "Validation RMSE: 9036.958196417772\n"
     ]
    },
    {
     "name": "stderr",
     "output_type": "stream",
     "text": [
      "[I 2025-07-23 16:39:16,760] Trial 87 finished with value: 9102.941063692038 and parameters: {'num_leaves': 68, 'max_depth': 48, 'learning_rate': 0.028371191046815035, 'n_estimators': 403, 'min_child_samples': 30, 'feature_fraction': 0.6421679691253747, 'bagging_fraction': 0.9110660356293235, 'bagging_freq': 7, 'price_upper_bound': 51000, 'price_lower_bound': 2600, 'smoothing': 0.0886597516864044, 'min_samples_leaf': 8, 'noise_level': 0.8012823334052214}. Best is trial 56 with value: 8941.848570374374.\n"
     ]
    },
    {
     "name": "stdout",
     "output_type": "stream",
     "text": [
      "Validation RMSE: 9102.941063692038\n"
     ]
    },
    {
     "name": "stderr",
     "output_type": "stream",
     "text": [
      "[I 2025-07-23 16:39:19,545] Trial 88 finished with value: 9117.121039494623 and parameters: {'num_leaves': 81, 'max_depth': 50, 'learning_rate': 0.03262930465572726, 'n_estimators': 337, 'min_child_samples': 27, 'feature_fraction': 0.581790397933906, 'bagging_fraction': 0.8762299570944406, 'bagging_freq': 7, 'price_upper_bound': 57000, 'price_lower_bound': 2000, 'smoothing': 0.12248531711827847, 'min_samples_leaf': 9, 'noise_level': 0.7276850349228259}. Best is trial 56 with value: 8941.848570374374.\n"
     ]
    },
    {
     "name": "stdout",
     "output_type": "stream",
     "text": [
      "Validation RMSE: 9117.121039494623\n"
     ]
    },
    {
     "name": "stderr",
     "output_type": "stream",
     "text": [
      "[I 2025-07-23 16:39:22,077] Trial 89 finished with value: 11696.5101061708 and parameters: {'num_leaves': 64, 'max_depth': 47, 'learning_rate': 0.023900747095960535, 'n_estimators': 388, 'min_child_samples': 15, 'feature_fraction': 0.6675417456690365, 'bagging_fraction': 0.9318053367091533, 'bagging_freq': 6, 'price_upper_bound': 21500, 'price_lower_bound': 3300, 'smoothing': 0.13721100594853788, 'min_samples_leaf': 6, 'noise_level': 0.4373810286592503}. Best is trial 56 with value: 8941.848570374374.\n"
     ]
    },
    {
     "name": "stdout",
     "output_type": "stream",
     "text": [
      "Validation RMSE: 11696.5101061708\n"
     ]
    },
    {
     "name": "stderr",
     "output_type": "stream",
     "text": [
      "[I 2025-07-23 16:39:24,231] Trial 90 finished with value: 9533.146759958714 and parameters: {'num_leaves': 56, 'max_depth': 45, 'learning_rate': 0.286008539639205, 'n_estimators': 349, 'min_child_samples': 40, 'feature_fraction': 0.6031826014955239, 'bagging_fraction': 0.9569350352360101, 'bagging_freq': 7, 'price_upper_bound': 43500, 'price_lower_bound': 3500, 'smoothing': 0.059407086474387034, 'min_samples_leaf': 8, 'noise_level': 0.5732180151317564}. Best is trial 56 with value: 8941.848570374374.\n"
     ]
    },
    {
     "name": "stdout",
     "output_type": "stream",
     "text": [
      "Validation RMSE: 9533.146759958714\n"
     ]
    },
    {
     "name": "stderr",
     "output_type": "stream",
     "text": [
      "[I 2025-07-23 16:39:27,381] Trial 91 finished with value: 9093.738224738026 and parameters: {'num_leaves': 63, 'max_depth': 44, 'learning_rate': 0.012087504034973244, 'n_estimators': 399, 'min_child_samples': 21, 'feature_fraction': 0.5501167909731931, 'bagging_fraction': 0.9161898980647304, 'bagging_freq': 8, 'price_upper_bound': 59000, 'price_lower_bound': 3100, 'smoothing': 0.031088809070285457, 'min_samples_leaf': 8, 'noise_level': 0.5098573860334802}. Best is trial 56 with value: 8941.848570374374.\n"
     ]
    },
    {
     "name": "stdout",
     "output_type": "stream",
     "text": [
      "Validation RMSE: 9093.738224738026\n"
     ]
    },
    {
     "name": "stderr",
     "output_type": "stream",
     "text": [
      "[I 2025-07-23 16:39:30,723] Trial 92 finished with value: 9040.567615970807 and parameters: {'num_leaves': 66, 'max_depth': 40, 'learning_rate': 0.019210869096943202, 'n_estimators': 431, 'min_child_samples': 10, 'feature_fraction': 0.534984140479703, 'bagging_fraction': 0.9523614725795237, 'bagging_freq': 8, 'price_upper_bound': 57500, 'price_lower_bound': 3000, 'smoothing': 0.04716556454341156, 'min_samples_leaf': 7, 'noise_level': 0.3623750857102737}. Best is trial 56 with value: 8941.848570374374.\n"
     ]
    },
    {
     "name": "stdout",
     "output_type": "stream",
     "text": [
      "Validation RMSE: 9040.567615970807\n"
     ]
    },
    {
     "name": "stderr",
     "output_type": "stream",
     "text": [
      "[I 2025-07-23 16:39:33,805] Trial 93 finished with value: 9021.89129338659 and parameters: {'num_leaves': 71, 'max_depth': 43, 'learning_rate': 0.04133872163422972, 'n_estimators': 378, 'min_child_samples': 12, 'feature_fraction': 0.5723496371312926, 'bagging_fraction': 0.8685358872676858, 'bagging_freq': 7, 'price_upper_bound': 56500, 'price_lower_bound': 3300, 'smoothing': 0.02736348469013743, 'min_samples_leaf': 8, 'noise_level': 0.6867361244656177}. Best is trial 56 with value: 8941.848570374374.\n"
     ]
    },
    {
     "name": "stdout",
     "output_type": "stream",
     "text": [
      "Validation RMSE: 9021.89129338659\n"
     ]
    },
    {
     "name": "stderr",
     "output_type": "stream",
     "text": [
      "[I 2025-07-23 16:39:37,212] Trial 94 finished with value: 9103.64443979705 and parameters: {'num_leaves': 71, 'max_depth': 46, 'learning_rate': 0.04060064750761987, 'n_estimators': 375, 'min_child_samples': 12, 'feature_fraction': 0.6215796819224438, 'bagging_fraction': 0.8443019621081679, 'bagging_freq': 7, 'price_upper_bound': 56000, 'price_lower_bound': 3300, 'smoothing': 0.02749776132918199, 'min_samples_leaf': 8, 'noise_level': 0.6785508939226302}. Best is trial 56 with value: 8941.848570374374.\n"
     ]
    },
    {
     "name": "stdout",
     "output_type": "stream",
     "text": [
      "Validation RMSE: 9103.64443979705\n"
     ]
    },
    {
     "name": "stderr",
     "output_type": "stream",
     "text": [
      "[I 2025-07-23 16:39:40,552] Trial 95 finished with value: 9025.432337990907 and parameters: {'num_leaves': 74, 'max_depth': 43, 'learning_rate': 0.05364762447895355, 'n_estimators': 363, 'min_child_samples': 17, 'feature_fraction': 0.5742109843588051, 'bagging_fraction': 0.869302367075414, 'bagging_freq': 6, 'price_upper_bound': 59000, 'price_lower_bound': 2500, 'smoothing': 0.022431231437844756, 'min_samples_leaf': 10, 'noise_level': 0.9897177703466803}. Best is trial 56 with value: 8941.848570374374.\n"
     ]
    },
    {
     "name": "stdout",
     "output_type": "stream",
     "text": [
      "Validation RMSE: 9025.432337990907\n"
     ]
    },
    {
     "name": "stderr",
     "output_type": "stream",
     "text": [
      "[I 2025-07-23 16:39:43,846] Trial 96 finished with value: 9198.946301563014 and parameters: {'num_leaves': 76, 'max_depth': 48, 'learning_rate': 0.044546619511921376, 'n_estimators': 387, 'min_child_samples': 48, 'feature_fraction': 0.5211982254703627, 'bagging_fraction': 0.8951337428344623, 'bagging_freq': 7, 'price_upper_bound': 54000, 'price_lower_bound': 200, 'smoothing': 0.036668743484611355, 'min_samples_leaf': 9, 'noise_level': 0.4579544985229124}. Best is trial 56 with value: 8941.848570374374.\n"
     ]
    },
    {
     "name": "stdout",
     "output_type": "stream",
     "text": [
      "Validation RMSE: 9198.946301563014\n"
     ]
    },
    {
     "name": "stderr",
     "output_type": "stream",
     "text": [
      "[I 2025-07-23 16:39:46,757] Trial 97 finished with value: 9035.319269824555 and parameters: {'num_leaves': 69, 'max_depth': 44, 'learning_rate': 0.025215492918728617, 'n_estimators': 356, 'min_child_samples': 14, 'feature_fraction': 0.5918187641971063, 'bagging_fraction': 0.8872421983447437, 'bagging_freq': 5, 'price_upper_bound': 60000, 'price_lower_bound': 3500, 'smoothing': 0.09000851967676307, 'min_samples_leaf': 7, 'noise_level': 0.5713331310798835}. Best is trial 56 with value: 8941.848570374374.\n"
     ]
    },
    {
     "name": "stdout",
     "output_type": "stream",
     "text": [
      "Validation RMSE: 9035.319269824555\n"
     ]
    },
    {
     "name": "stderr",
     "output_type": "stream",
     "text": [
      "[I 2025-07-23 16:39:49,384] Trial 98 finished with value: 9797.550902919373 and parameters: {'num_leaves': 61, 'max_depth': 42, 'learning_rate': 0.03137957622960922, 'n_estimators': 342, 'min_child_samples': 19, 'feature_fraction': 0.567955895673489, 'bagging_fraction': 0.9326436107275827, 'bagging_freq': 7, 'price_upper_bound': 32500, 'price_lower_bound': 2400, 'smoothing': 0.02493339644290747, 'min_samples_leaf': 8, 'noise_level': 0.3846303509914634}. Best is trial 56 with value: 8941.848570374374.\n"
     ]
    },
    {
     "name": "stdout",
     "output_type": "stream",
     "text": [
      "Validation RMSE: 9797.550902919373\n"
     ]
    },
    {
     "name": "stderr",
     "output_type": "stream",
     "text": [
      "[I 2025-07-23 16:39:51,193] Trial 99 finished with value: 9043.903922442312 and parameters: {'num_leaves': 58, 'max_depth': 47, 'learning_rate': 0.04796207392305015, 'n_estimators': 284, 'min_child_samples': 7, 'feature_fraction': 0.6604824257910408, 'bagging_fraction': 0.9205769907542934, 'bagging_freq': 8, 'price_upper_bound': 52500, 'price_lower_bound': 2800, 'smoothing': 0.3693043838007259, 'min_samples_leaf': 8, 'noise_level': 0.3243642119505777}. Best is trial 56 with value: 8941.848570374374.\n"
     ]
    },
    {
     "name": "stdout",
     "output_type": "stream",
     "text": [
      "Validation RMSE: 9043.903922442312\n"
     ]
    },
    {
     "name": "stderr",
     "output_type": "stream",
     "text": [
      "[I 2025-07-23 16:39:54,232] Trial 100 finished with value: 9035.786138820877 and parameters: {'num_leaves': 81, 'max_depth': 49, 'learning_rate': 0.022429497348959507, 'n_estimators': 373, 'min_child_samples': 11, 'feature_fraction': 0.6808480614423889, 'bagging_fraction': 0.7502615756131723, 'bagging_freq': 6, 'price_upper_bound': 57000, 'price_lower_bound': 3900, 'smoothing': 0.053807586905351805, 'min_samples_leaf': 7, 'noise_level': 0.7209968538107154}. Best is trial 56 with value: 8941.848570374374.\n"
     ]
    },
    {
     "name": "stdout",
     "output_type": "stream",
     "text": [
      "Validation RMSE: 9035.786138820877\n"
     ]
    },
    {
     "name": "stderr",
     "output_type": "stream",
     "text": [
      "[I 2025-07-23 16:39:57,064] Trial 101 finished with value: 9028.01043099748 and parameters: {'num_leaves': 73, 'max_depth': 40, 'learning_rate': 0.07878785663489653, 'n_estimators': 360, 'min_child_samples': 17, 'feature_fraction': 0.5699519097464827, 'bagging_fraction': 0.878949976671024, 'bagging_freq': 6, 'price_upper_bound': 59000, 'price_lower_bound': 2400, 'smoothing': 0.022549562778684567, 'min_samples_leaf': 10, 'noise_level': 0.9535506488014774}. Best is trial 56 with value: 8941.848570374374.\n"
     ]
    },
    {
     "name": "stdout",
     "output_type": "stream",
     "text": [
      "Validation RMSE: 9028.01043099748\n"
     ]
    },
    {
     "name": "stderr",
     "output_type": "stream",
     "text": [
      "[I 2025-07-23 16:40:00,203] Trial 102 finished with value: 9088.440958907891 and parameters: {'num_leaves': 75, 'max_depth': 43, 'learning_rate': 0.0359453807361266, 'n_estimators': 390, 'min_child_samples': 22, 'feature_fraction': 0.6329965711567354, 'bagging_fraction': 0.863649451351898, 'bagging_freq': 6, 'price_upper_bound': 58500, 'price_lower_bound': 3700, 'smoothing': 0.019217281278638528, 'min_samples_leaf': 10, 'noise_level': 0.7744979328368553}. Best is trial 56 with value: 8941.848570374374.\n"
     ]
    },
    {
     "name": "stdout",
     "output_type": "stream",
     "text": [
      "Validation RMSE: 9088.440958907891\n"
     ]
    },
    {
     "name": "stderr",
     "output_type": "stream",
     "text": [
      "[I 2025-07-23 16:40:03,389] Trial 103 finished with value: 9087.57980441711 and parameters: {'num_leaves': 78, 'max_depth': 45, 'learning_rate': 0.020548933938611295, 'n_estimators': 409, 'min_child_samples': 63, 'feature_fraction': 0.615111597629509, 'bagging_fraction': 0.8657432432950577, 'bagging_freq': 5, 'price_upper_bound': 56500, 'price_lower_bound': 2500, 'smoothing': 0.01605067756768846, 'min_samples_leaf': 9, 'noise_level': 0.8930724485183085}. Best is trial 56 with value: 8941.848570374374.\n"
     ]
    },
    {
     "name": "stdout",
     "output_type": "stream",
     "text": [
      "Validation RMSE: 9087.57980441711\n"
     ]
    },
    {
     "name": "stderr",
     "output_type": "stream",
     "text": [
      "[I 2025-07-23 16:40:05,862] Trial 104 finished with value: 9142.026029850207 and parameters: {'num_leaves': 70, 'max_depth': 43, 'learning_rate': 0.05753845175680107, 'n_estimators': 330, 'min_child_samples': 25, 'feature_fraction': 0.5973102490079837, 'bagging_fraction': 0.9009790791478937, 'bagging_freq': 7, 'price_upper_bound': 55000, 'price_lower_bound': 3000, 'smoothing': 0.021832595314248502, 'min_samples_leaf': 10, 'noise_level': 0.539256410618072}. Best is trial 56 with value: 8941.848570374374.\n"
     ]
    },
    {
     "name": "stdout",
     "output_type": "stream",
     "text": [
      "Validation RMSE: 9142.026029850207\n"
     ]
    },
    {
     "name": "stderr",
     "output_type": "stream",
     "text": [
      "[I 2025-07-23 16:40:08,630] Trial 105 finished with value: 9206.217644571945 and parameters: {'num_leaves': 66, 'max_depth': 38, 'learning_rate': 0.07009614265889798, 'n_estimators': 424, 'min_child_samples': 74, 'feature_fraction': 0.5842486870533946, 'bagging_fraction': 0.8068907928662352, 'bagging_freq': 6, 'price_upper_bound': 58000, 'price_lower_bound': 3400, 'smoothing': 0.10649318371099625, 'min_samples_leaf': 9, 'noise_level': 0.6830692149078589}. Best is trial 56 with value: 8941.848570374374.\n"
     ]
    },
    {
     "name": "stdout",
     "output_type": "stream",
     "text": [
      "Validation RMSE: 9206.217644571945\n"
     ]
    },
    {
     "name": "stderr",
     "output_type": "stream",
     "text": [
      "[I 2025-07-23 16:40:11,119] Trial 106 finished with value: 9048.53887291374 and parameters: {'num_leaves': 68, 'max_depth': 41, 'learning_rate': 0.023576003872733137, 'n_estimators': 311, 'min_child_samples': 15, 'feature_fraction': 0.5009135095948547, 'bagging_fraction': 0.8443309089108195, 'bagging_freq': 7, 'price_upper_bound': 59000, 'price_lower_bound': 2200, 'smoothing': 0.07391032537417118, 'min_samples_leaf': 7, 'noise_level': 0.47558016187190943}. Best is trial 56 with value: 8941.848570374374.\n"
     ]
    },
    {
     "name": "stdout",
     "output_type": "stream",
     "text": [
      "Validation RMSE: 9048.53887291374\n"
     ]
    },
    {
     "name": "stderr",
     "output_type": "stream",
     "text": [
      "[I 2025-07-23 16:40:13,837] Trial 107 finished with value: 9169.935893512778 and parameters: {'num_leaves': 72, 'max_depth': 46, 'learning_rate': 0.05000868244655508, 'n_estimators': 366, 'min_child_samples': 9, 'feature_fraction': 0.6490838878320958, 'bagging_fraction': 0.8327309531124695, 'bagging_freq': 6, 'price_upper_bound': 55500, 'price_lower_bound': 3100, 'smoothing': 0.03760005916417257, 'min_samples_leaf': 8, 'noise_level': 0.634057765205412}. Best is trial 56 with value: 8941.848570374374.\n"
     ]
    },
    {
     "name": "stdout",
     "output_type": "stream",
     "text": [
      "Validation RMSE: 9169.935893512778\n"
     ]
    },
    {
     "name": "stderr",
     "output_type": "stream",
     "text": [
      "[I 2025-07-23 16:40:17,379] Trial 108 finished with value: 9114.65634211031 and parameters: {'num_leaves': 86, 'max_depth': 39, 'learning_rate': 0.02826165828718858, 'n_estimators': 376, 'min_child_samples': 18, 'feature_fraction': 0.5532958751556645, 'bagging_fraction': 0.9675254640163883, 'bagging_freq': 10, 'price_upper_bound': 57000, 'price_lower_bound': 3300, 'smoothing': 0.06385848545333266, 'min_samples_leaf': 9, 'noise_level': 0.8454350011762009}. Best is trial 56 with value: 8941.848570374374.\n"
     ]
    },
    {
     "name": "stdout",
     "output_type": "stream",
     "text": [
      "Validation RMSE: 9114.65634211031\n"
     ]
    },
    {
     "name": "stderr",
     "output_type": "stream",
     "text": [
      "[I 2025-07-23 16:40:20,913] Trial 109 finished with value: 8953.90109939885 and parameters: {'num_leaves': 79, 'max_depth': 45, 'learning_rate': 0.041316906940959144, 'n_estimators': 399, 'min_child_samples': 13, 'feature_fraction': 0.5720199078659062, 'bagging_fraction': 0.8742007693684162, 'bagging_freq': 7, 'price_upper_bound': 60000, 'price_lower_bound': 2900, 'smoothing': 0.03041961533305479, 'min_samples_leaf': 7, 'noise_level': 0.26545869627359353}. Best is trial 56 with value: 8941.848570374374.\n"
     ]
    },
    {
     "name": "stdout",
     "output_type": "stream",
     "text": [
      "Validation RMSE: 8953.90109939885\n"
     ]
    },
    {
     "name": "stderr",
     "output_type": "stream",
     "text": [
      "[I 2025-07-23 16:40:24,519] Trial 110 finished with value: 9011.159223353721 and parameters: {'num_leaves': 83, 'max_depth': 48, 'learning_rate': 0.041430060288528345, 'n_estimators': 440, 'min_child_samples': 8, 'feature_fraction': 0.9196273465373871, 'bagging_fraction': 0.9069406424048144, 'bagging_freq': 8, 'price_upper_bound': 59500, 'price_lower_bound': 2900, 'smoothing': 0.02895326819976477, 'min_samples_leaf': 6, 'noise_level': 0.2550231413555763}. Best is trial 56 with value: 8941.848570374374.\n"
     ]
    },
    {
     "name": "stdout",
     "output_type": "stream",
     "text": [
      "Validation RMSE: 9011.159223353721\n"
     ]
    },
    {
     "name": "stderr",
     "output_type": "stream",
     "text": [
      "[I 2025-07-23 16:40:27,983] Trial 111 finished with value: 8966.38375681958 and parameters: {'num_leaves': 79, 'max_depth': 50, 'learning_rate': 0.037637430498824107, 'n_estimators': 444, 'min_child_samples': 7, 'feature_fraction': 0.8996442379341467, 'bagging_fraction': 0.9061893874178829, 'bagging_freq': 8, 'price_upper_bound': 60000, 'price_lower_bound': 2900, 'smoothing': 0.03049773202640586, 'min_samples_leaf': 6, 'noise_level': 0.2550879749537675}. Best is trial 56 with value: 8941.848570374374.\n"
     ]
    },
    {
     "name": "stdout",
     "output_type": "stream",
     "text": [
      "Validation RMSE: 8966.38375681958\n"
     ]
    },
    {
     "name": "stderr",
     "output_type": "stream",
     "text": [
      "[I 2025-07-23 16:40:31,745] Trial 112 finished with value: 9045.271779027082 and parameters: {'num_leaves': 85, 'max_depth': 50, 'learning_rate': 0.04026398501849898, 'n_estimators': 441, 'min_child_samples': 7, 'feature_fraction': 0.9232072764903917, 'bagging_fraction': 0.9114692851720155, 'bagging_freq': 8, 'price_upper_bound': 60000, 'price_lower_bound': 2900, 'smoothing': 0.02597616992648387, 'min_samples_leaf': 6, 'noise_level': 0.25227316615598566}. Best is trial 56 with value: 8941.848570374374.\n"
     ]
    },
    {
     "name": "stdout",
     "output_type": "stream",
     "text": [
      "Validation RMSE: 9045.271779027082\n"
     ]
    },
    {
     "name": "stderr",
     "output_type": "stream",
     "text": [
      "[I 2025-07-23 16:40:35,478] Trial 113 finished with value: 8998.730805882271 and parameters: {'num_leaves': 79, 'max_depth': 48, 'learning_rate': 0.04230905542706402, 'n_estimators': 455, 'min_child_samples': 11, 'feature_fraction': 0.9736521137941918, 'bagging_fraction': 0.9349384881008338, 'bagging_freq': 8, 'price_upper_bound': 60000, 'price_lower_bound': 2700, 'smoothing': 0.03340772521313146, 'min_samples_leaf': 6, 'noise_level': 0.21001202847548162}. Best is trial 56 with value: 8941.848570374374.\n"
     ]
    },
    {
     "name": "stdout",
     "output_type": "stream",
     "text": [
      "Validation RMSE: 8998.730805882271\n"
     ]
    },
    {
     "name": "stderr",
     "output_type": "stream",
     "text": [
      "[I 2025-07-23 16:40:39,720] Trial 114 finished with value: 9080.22050785671 and parameters: {'num_leaves': 89, 'max_depth': 48, 'learning_rate': 0.037570112818946365, 'n_estimators': 448, 'min_child_samples': 9, 'feature_fraction': 0.9705119164237064, 'bagging_fraction': 0.9396550696345682, 'bagging_freq': 9, 'price_upper_bound': 60000, 'price_lower_bound': 2700, 'smoothing': 0.0319771431028768, 'min_samples_leaf': 6, 'noise_level': 0.20998279912829504}. Best is trial 56 with value: 8941.848570374374.\n"
     ]
    },
    {
     "name": "stdout",
     "output_type": "stream",
     "text": [
      "Validation RMSE: 9080.22050785671\n"
     ]
    },
    {
     "name": "stderr",
     "output_type": "stream",
     "text": [
      "[I 2025-07-23 16:40:43,454] Trial 115 finished with value: 8991.310726595479 and parameters: {'num_leaves': 80, 'max_depth': 49, 'learning_rate': 0.04818226000202423, 'n_estimators': 480, 'min_child_samples': 7, 'feature_fraction': 0.9135899467121014, 'bagging_fraction': 0.9501138263683558, 'bagging_freq': 8, 'price_upper_bound': 58000, 'price_lower_bound': 2800, 'smoothing': 0.028704934996392505, 'min_samples_leaf': 5, 'noise_level': 0.18017838543281253}. Best is trial 56 with value: 8941.848570374374.\n"
     ]
    },
    {
     "name": "stdout",
     "output_type": "stream",
     "text": [
      "Validation RMSE: 8991.310726595479\n"
     ]
    },
    {
     "name": "stderr",
     "output_type": "stream",
     "text": [
      "[I 2025-07-23 16:40:47,243] Trial 116 finished with value: 9008.400219042856 and parameters: {'num_leaves': 80, 'max_depth': 49, 'learning_rate': 0.05117778914577276, 'n_estimators': 490, 'min_child_samples': 7, 'feature_fraction': 0.9578050323898031, 'bagging_fraction': 0.9486041539104244, 'bagging_freq': 8, 'price_upper_bound': 59000, 'price_lower_bound': 2600, 'smoothing': 0.02861662813832527, 'min_samples_leaf': 5, 'noise_level': 0.1927725206312639}. Best is trial 56 with value: 8941.848570374374.\n"
     ]
    },
    {
     "name": "stdout",
     "output_type": "stream",
     "text": [
      "Validation RMSE: 9008.400219042856\n"
     ]
    },
    {
     "name": "stderr",
     "output_type": "stream",
     "text": [
      "[I 2025-07-23 16:40:51,092] Trial 117 finished with value: 8896.556639629225 and parameters: {'num_leaves': 79, 'max_depth': 50, 'learning_rate': 0.06458412895942933, 'n_estimators': 470, 'min_child_samples': 7, 'feature_fraction': 0.9666645885449588, 'bagging_fraction': 0.9282838342607926, 'bagging_freq': 8, 'price_upper_bound': 59000, 'price_lower_bound': 2600, 'smoothing': 0.03099577269498084, 'min_samples_leaf': 5, 'noise_level': 0.1899065171411459}. Best is trial 117 with value: 8896.556639629225.\n"
     ]
    },
    {
     "name": "stdout",
     "output_type": "stream",
     "text": [
      "Validation RMSE: 8896.556639629225\n"
     ]
    },
    {
     "name": "stderr",
     "output_type": "stream",
     "text": [
      "[I 2025-07-23 16:40:54,786] Trial 118 finished with value: 8959.964834566263 and parameters: {'num_leaves': 80, 'max_depth': 50, 'learning_rate': 0.046394726245718734, 'n_estimators': 468, 'min_child_samples': 7, 'feature_fraction': 0.9632902572245086, 'bagging_fraction': 0.9511546653087941, 'bagging_freq': 8, 'price_upper_bound': 58500, 'price_lower_bound': 2700, 'smoothing': 0.03392978239850619, 'min_samples_leaf': 5, 'noise_level': 0.18074681009239071}. Best is trial 117 with value: 8896.556639629225.\n"
     ]
    },
    {
     "name": "stdout",
     "output_type": "stream",
     "text": [
      "Validation RMSE: 8959.964834566263\n"
     ]
    },
    {
     "name": "stderr",
     "output_type": "stream",
     "text": [
      "[I 2025-07-23 16:40:58,372] Trial 119 finished with value: 9066.4377724382 and parameters: {'num_leaves': 78, 'max_depth': 50, 'learning_rate': 0.06508914333126307, 'n_estimators': 474, 'min_child_samples': 11, 'feature_fraction': 0.9419933299592839, 'bagging_fraction': 0.9277614061164526, 'bagging_freq': 8, 'price_upper_bound': 58000, 'price_lower_bound': 2800, 'smoothing': 0.032818433588483895, 'min_samples_leaf': 4, 'noise_level': 0.16327471397880194}. Best is trial 117 with value: 8896.556639629225.\n"
     ]
    },
    {
     "name": "stdout",
     "output_type": "stream",
     "text": [
      "Validation RMSE: 9066.4377724382\n"
     ]
    },
    {
     "name": "stderr",
     "output_type": "stream",
     "text": [
      "[I 2025-07-23 16:41:02,545] Trial 120 finished with value: 9218.45041701232 and parameters: {'num_leaves': 85, 'max_depth': 47, 'learning_rate': 0.045578789879103604, 'n_estimators': 499, 'min_child_samples': 13, 'feature_fraction': 0.9758038793395805, 'bagging_fraction': 0.9561001750146035, 'bagging_freq': 8, 'price_upper_bound': 41500, 'price_lower_bound': 2700, 'smoothing': 0.03813961664309729, 'min_samples_leaf': 5, 'noise_level': 0.12198296954092067}. Best is trial 117 with value: 8896.556639629225.\n"
     ]
    },
    {
     "name": "stdout",
     "output_type": "stream",
     "text": [
      "Validation RMSE: 9218.45041701232\n"
     ]
    },
    {
     "name": "stderr",
     "output_type": "stream",
     "text": [
      "[I 2025-07-23 16:41:06,455] Trial 121 finished with value: 9042.815805758737 and parameters: {'num_leaves': 79, 'max_depth': 49, 'learning_rate': 0.04853412930380847, 'n_estimators': 491, 'min_child_samples': 7, 'feature_fraction': 0.9545675413834444, 'bagging_fraction': 0.9482880391635267, 'bagging_freq': 8, 'price_upper_bound': 59000, 'price_lower_bound': 2600, 'smoothing': 0.029556006417629083, 'min_samples_leaf': 5, 'noise_level': 0.19478965813725999}. Best is trial 117 with value: 8896.556639629225.\n"
     ]
    },
    {
     "name": "stdout",
     "output_type": "stream",
     "text": [
      "Validation RMSE: 9042.815805758737\n"
     ]
    },
    {
     "name": "stderr",
     "output_type": "stream",
     "text": [
      "[I 2025-07-23 16:41:10,459] Trial 122 finished with value: 9079.045093694634 and parameters: {'num_leaves': 81, 'max_depth': 49, 'learning_rate': 0.050989185255128334, 'n_estimators': 470, 'min_child_samples': 10, 'feature_fraction': 0.9994065623884671, 'bagging_fraction': 0.9382563715076327, 'bagging_freq': 8, 'price_upper_bound': 60000, 'price_lower_bound': 2300, 'smoothing': 0.024668579713380972, 'min_samples_leaf': 4, 'noise_level': 0.1811286610532315}. Best is trial 117 with value: 8896.556639629225.\n"
     ]
    },
    {
     "name": "stdout",
     "output_type": "stream",
     "text": [
      "Validation RMSE: 9079.045093694634\n"
     ]
    },
    {
     "name": "stderr",
     "output_type": "stream",
     "text": [
      "[I 2025-07-23 16:41:14,329] Trial 123 finished with value: 8910.447799002166 and parameters: {'num_leaves': 80, 'max_depth': 47, 'learning_rate': 0.058235059255932344, 'n_estimators': 484, 'min_child_samples': 7, 'feature_fraction': 0.9062203166994813, 'bagging_fraction': 0.9710536394858903, 'bagging_freq': 8, 'price_upper_bound': 58000, 'price_lower_bound': 2600, 'smoothing': 0.034755625923602006, 'min_samples_leaf': 5, 'noise_level': 0.21625826592808706}. Best is trial 117 with value: 8896.556639629225.\n"
     ]
    },
    {
     "name": "stdout",
     "output_type": "stream",
     "text": [
      "Validation RMSE: 8910.447799002166\n"
     ]
    },
    {
     "name": "stderr",
     "output_type": "stream",
     "text": [
      "[I 2025-07-23 16:41:17,713] Trial 124 finished with value: 8992.828707450093 and parameters: {'num_leaves': 77, 'max_depth': 50, 'learning_rate': 0.08618795556432027, 'n_estimators': 452, 'min_child_samples': 10, 'feature_fraction': 0.9003586343437754, 'bagging_fraction': 0.9682418527772183, 'bagging_freq': 8, 'price_upper_bound': 56000, 'price_lower_bound': 2900, 'smoothing': 0.03954115235933098, 'min_samples_leaf': 5, 'noise_level': 0.2193856207797361}. Best is trial 117 with value: 8896.556639629225.\n"
     ]
    },
    {
     "name": "stdout",
     "output_type": "stream",
     "text": [
      "Validation RMSE: 8992.828707450093\n"
     ]
    },
    {
     "name": "stderr",
     "output_type": "stream",
     "text": [
      "[I 2025-07-23 16:41:21,077] Trial 125 finished with value: 8981.610484663375 and parameters: {'num_leaves': 77, 'max_depth': 50, 'learning_rate': 0.08759769818807299, 'n_estimators': 452, 'min_child_samples': 9, 'feature_fraction': 0.8943018513228821, 'bagging_fraction': 0.9715736819679801, 'bagging_freq': 8, 'price_upper_bound': 55500, 'price_lower_bound': 2900, 'smoothing': 0.48241067622730416, 'min_samples_leaf': 5, 'noise_level': 0.13739203989508147}. Best is trial 117 with value: 8896.556639629225.\n"
     ]
    },
    {
     "name": "stdout",
     "output_type": "stream",
     "text": [
      "Validation RMSE: 8981.610484663375\n"
     ]
    },
    {
     "name": "stderr",
     "output_type": "stream",
     "text": [
      "[I 2025-07-23 16:41:25,347] Trial 126 finished with value: 8987.292295072359 and parameters: {'num_leaves': 91, 'max_depth': 47, 'learning_rate': 0.09153709749283928, 'n_estimators': 460, 'min_child_samples': 9, 'feature_fraction': 0.902335330392489, 'bagging_fraction': 0.9763179137434416, 'bagging_freq': 9, 'price_upper_bound': 55000, 'price_lower_bound': 2800, 'smoothing': 0.4687706896027942, 'min_samples_leaf': 5, 'noise_level': 0.13786632176203}. Best is trial 117 with value: 8896.556639629225.\n"
     ]
    },
    {
     "name": "stdout",
     "output_type": "stream",
     "text": [
      "Validation RMSE: 8987.292295072359\n"
     ]
    },
    {
     "name": "stderr",
     "output_type": "stream",
     "text": [
      "[I 2025-07-23 16:41:29,919] Trial 127 finished with value: 9089.720492322627 and parameters: {'num_leaves': 98, 'max_depth': 47, 'learning_rate': 0.08889296760780856, 'n_estimators': 484, 'min_child_samples': 6, 'feature_fraction': 0.9009962085693357, 'bagging_fraction': 0.9716859595181655, 'bagging_freq': 9, 'price_upper_bound': 55000, 'price_lower_bound': 2900, 'smoothing': 0.5076648816527852, 'min_samples_leaf': 5, 'noise_level': 0.13615531938023057}. Best is trial 117 with value: 8896.556639629225.\n"
     ]
    },
    {
     "name": "stdout",
     "output_type": "stream",
     "text": [
      "Validation RMSE: 9089.720492322627\n"
     ]
    },
    {
     "name": "stderr",
     "output_type": "stream",
     "text": [
      "[I 2025-07-23 16:41:33,586] Trial 128 finished with value: 9139.169879722027 and parameters: {'num_leaves': 84, 'max_depth': 50, 'learning_rate': 0.07634332858569476, 'n_estimators': 455, 'min_child_samples': 9, 'feature_fraction': 0.8863228131270063, 'bagging_fraction': 0.9823441193332925, 'bagging_freq': 9, 'price_upper_bound': 56000, 'price_lower_bound': 2500, 'smoothing': 0.6259971880889905, 'min_samples_leaf': 5, 'noise_level': 0.15752408815715965}. Best is trial 117 with value: 8896.556639629225.\n"
     ]
    },
    {
     "name": "stdout",
     "output_type": "stream",
     "text": [
      "Validation RMSE: 9139.169879722027\n"
     ]
    },
    {
     "name": "stderr",
     "output_type": "stream",
     "text": [
      "[I 2025-07-23 16:41:37,799] Trial 129 finished with value: 8926.473508620926 and parameters: {'num_leaves': 93, 'max_depth': 46, 'learning_rate': 0.13166496237186964, 'n_estimators': 462, 'min_child_samples': 5, 'feature_fraction': 0.8606053251914121, 'bagging_fraction': 0.9897167605555888, 'bagging_freq': 9, 'price_upper_bound': 53500, 'price_lower_bound': 2800, 'smoothing': 0.45868913369635755, 'min_samples_leaf': 5, 'noise_level': 0.14332436310116217}. Best is trial 117 with value: 8896.556639629225.\n"
     ]
    },
    {
     "name": "stdout",
     "output_type": "stream",
     "text": [
      "Validation RMSE: 8926.473508620926\n"
     ]
    },
    {
     "name": "stderr",
     "output_type": "stream",
     "text": [
      "[I 2025-07-23 16:41:42,903] Trial 130 finished with value: 9212.518671181699 and parameters: {'num_leaves': 86, 'max_depth': 46, 'learning_rate': 0.12195609293611935, 'n_estimators': 464, 'min_child_samples': 5, 'feature_fraction': 0.8662751889782654, 'bagging_fraction': 0.9932155942493504, 'bagging_freq': 9, 'price_upper_bound': 53500, 'price_lower_bound': 2800, 'smoothing': 0.3499267797781794, 'min_samples_leaf': 4, 'noise_level': 0.1361291308842837}. Best is trial 117 with value: 8896.556639629225.\n"
     ]
    },
    {
     "name": "stdout",
     "output_type": "stream",
     "text": [
      "Validation RMSE: 9212.518671181699\n"
     ]
    },
    {
     "name": "stderr",
     "output_type": "stream",
     "text": [
      "[I 2025-07-23 16:41:47,474] Trial 131 finished with value: 9021.114824845927 and parameters: {'num_leaves': 94, 'max_depth': 49, 'learning_rate': 0.13415805928249522, 'n_estimators': 479, 'min_child_samples': 7, 'feature_fraction': 0.866249950869903, 'bagging_fraction': 0.9681251599906692, 'bagging_freq': 8, 'price_upper_bound': 54500, 'price_lower_bound': 2900, 'smoothing': 0.4866321987870177, 'min_samples_leaf': 5, 'noise_level': 0.08763162019213526}. Best is trial 117 with value: 8896.556639629225.\n"
     ]
    },
    {
     "name": "stdout",
     "output_type": "stream",
     "text": [
      "Validation RMSE: 9021.114824845927\n"
     ]
    },
    {
     "name": "stderr",
     "output_type": "stream",
     "text": [
      "[I 2025-07-23 16:41:51,792] Trial 132 finished with value: 9066.099813374089 and parameters: {'num_leaves': 100, 'max_depth': 47, 'learning_rate': 0.08932236289042843, 'n_estimators': 469, 'min_child_samples': 9, 'feature_fraction': 0.9048611842349001, 'bagging_fraction': 0.983777533923921, 'bagging_freq': 9, 'price_upper_bound': 56500, 'price_lower_bound': 2800, 'smoothing': 0.42373756264432993, 'min_samples_leaf': 5, 'noise_level': 0.22824890383979046}. Best is trial 117 with value: 8896.556639629225.\n"
     ]
    },
    {
     "name": "stdout",
     "output_type": "stream",
     "text": [
      "Validation RMSE: 9066.099813374089\n"
     ]
    },
    {
     "name": "stderr",
     "output_type": "stream",
     "text": [
      "[I 2025-07-23 16:41:55,943] Trial 133 finished with value: 9154.557197855962 and parameters: {'num_leaves': 91, 'max_depth': 46, 'learning_rate': 0.09940910060684839, 'n_estimators': 452, 'min_child_samples': 7, 'feature_fraction': 0.8781166888141053, 'bagging_fraction': 0.9600028792670263, 'bagging_freq': 8, 'price_upper_bound': 55500, 'price_lower_bound': 2500, 'smoothing': 0.27660950118934324, 'min_samples_leaf': 5, 'noise_level': 0.17113905612619573}. Best is trial 117 with value: 8896.556639629225.\n"
     ]
    },
    {
     "name": "stdout",
     "output_type": "stream",
     "text": [
      "Validation RMSE: 9154.557197855962\n"
     ]
    },
    {
     "name": "stderr",
     "output_type": "stream",
     "text": [
      "[I 2025-07-23 16:41:59,891] Trial 134 finished with value: 9105.221197750274 and parameters: {'num_leaves': 92, 'max_depth': 50, 'learning_rate': 0.196740626059003, 'n_estimators': 432, 'min_child_samples': 5, 'feature_fraction': 0.9144095445022966, 'bagging_fraction': 0.9752055369709982, 'bagging_freq': 10, 'price_upper_bound': 58500, 'price_lower_bound': 3100, 'smoothing': 0.4650244557571558, 'min_samples_leaf': 5, 'noise_level': 0.11001520674466847}. Best is trial 117 with value: 8896.556639629225.\n"
     ]
    },
    {
     "name": "stdout",
     "output_type": "stream",
     "text": [
      "Validation RMSE: 9105.221197750274\n"
     ]
    },
    {
     "name": "stderr",
     "output_type": "stream",
     "text": [
      "[I 2025-07-23 16:42:04,090] Trial 135 finished with value: 9094.952441097028 and parameters: {'num_leaves': 88, 'max_depth': 48, 'learning_rate': 0.11196800041704226, 'n_estimators': 462, 'min_child_samples': 10, 'feature_fraction': 0.8436298012372033, 'bagging_fraction': 0.6754268902982579, 'bagging_freq': 8, 'price_upper_bound': 57000, 'price_lower_bound': 2600, 'smoothing': 0.5605689916246178, 'min_samples_leaf': 4, 'noise_level': 0.2768590610109395}. Best is trial 117 with value: 8896.556639629225.\n"
     ]
    },
    {
     "name": "stdout",
     "output_type": "stream",
     "text": [
      "Validation RMSE: 9094.952441097028\n"
     ]
    },
    {
     "name": "stderr",
     "output_type": "stream",
     "text": [
      "[I 2025-07-23 16:42:07,812] Trial 136 finished with value: 9106.578679997398 and parameters: {'num_leaves': 82, 'max_depth': 45, 'learning_rate': 0.06292719679945294, 'n_estimators': 482, 'min_child_samples': 13, 'feature_fraction': 0.8558905863407447, 'bagging_fraction': 0.9869409353151587, 'bagging_freq': 8, 'price_upper_bound': 53500, 'price_lower_bound': 3600, 'smoothing': 0.386612950809241, 'min_samples_leaf': 5, 'noise_level': 0.14285603556247223}. Best is trial 117 with value: 8896.556639629225.\n"
     ]
    },
    {
     "name": "stdout",
     "output_type": "stream",
     "text": [
      "Validation RMSE: 9106.578679997398\n"
     ]
    },
    {
     "name": "stderr",
     "output_type": "stream",
     "text": [
      "[I 2025-07-23 16:42:12,369] Trial 137 finished with value: 8958.583255239404 and parameters: {'num_leaves': 96, 'max_depth': 46, 'learning_rate': 0.06710193110329996, 'n_estimators': 498, 'min_child_samples': 8, 'feature_fraction': 0.9337069904661193, 'bagging_fraction': 0.9558932929271753, 'bagging_freq': 8, 'price_upper_bound': 51500, 'price_lower_bound': 3000, 'smoothing': 0.6353593126384461, 'min_samples_leaf': 5, 'noise_level': 0.2175540382479873}. Best is trial 117 with value: 8896.556639629225.\n"
     ]
    },
    {
     "name": "stdout",
     "output_type": "stream",
     "text": [
      "Validation RMSE: 8958.583255239404\n"
     ]
    },
    {
     "name": "stderr",
     "output_type": "stream",
     "text": [
      "[I 2025-07-23 16:42:17,105] Trial 138 finished with value: 9129.40413702916 and parameters: {'num_leaves': 92, 'max_depth': 47, 'learning_rate': 0.05812313696272665, 'n_estimators': 498, 'min_child_samples': 8, 'feature_fraction': 0.9363329478200547, 'bagging_fraction': 0.952280314917342, 'bagging_freq': 9, 'price_upper_bound': 49000, 'price_lower_bound': 3000, 'smoothing': 0.747711869357349, 'min_samples_leaf': 5, 'noise_level': 0.30065552308001847}. Best is trial 117 with value: 8896.556639629225.\n"
     ]
    },
    {
     "name": "stdout",
     "output_type": "stream",
     "text": [
      "Validation RMSE: 9129.40413702916\n"
     ]
    },
    {
     "name": "stderr",
     "output_type": "stream",
     "text": [
      "[I 2025-07-23 16:42:18,879] Trial 139 finished with value: 9128.967993555834 and parameters: {'num_leaves': 96, 'max_depth': 45, 'learning_rate': 0.07044518874545694, 'n_estimators': 167, 'min_child_samples': 5, 'feature_fraction': 0.929173758539323, 'bagging_fraction': 0.9180153032948777, 'bagging_freq': 9, 'price_upper_bound': 52000, 'price_lower_bound': 3200, 'smoothing': 0.5339187745758541, 'min_samples_leaf': 4, 'noise_level': 0.19217142721020097}. Best is trial 117 with value: 8896.556639629225.\n"
     ]
    },
    {
     "name": "stdout",
     "output_type": "stream",
     "text": [
      "Validation RMSE: 9128.967993555834\n"
     ]
    },
    {
     "name": "stderr",
     "output_type": "stream",
     "text": [
      "[I 2025-07-23 16:42:23,229] Trial 140 finished with value: 9082.265271025233 and parameters: {'num_leaves': 97, 'max_depth': 44, 'learning_rate': 0.06496283344736793, 'n_estimators': 490, 'min_child_samples': 13, 'feature_fraction': 0.9534458322713857, 'bagging_fraction': 0.9626716450868429, 'bagging_freq': 8, 'price_upper_bound': 58000, 'price_lower_bound': 4000, 'smoothing': 0.5972537955103837, 'min_samples_leaf': 5, 'noise_level': 0.153530772344336}. Best is trial 117 with value: 8896.556639629225.\n"
     ]
    },
    {
     "name": "stdout",
     "output_type": "stream",
     "text": [
      "Validation RMSE: 9082.265271025233\n"
     ]
    },
    {
     "name": "stderr",
     "output_type": "stream",
     "text": [
      "[I 2025-07-23 16:42:26,634] Trial 141 finished with value: 10419.819997103094 and parameters: {'num_leaves': 77, 'max_depth': 50, 'learning_rate': 0.0845853037476443, 'n_estimators': 468, 'min_child_samples': 10, 'feature_fraction': 0.8929337114519338, 'bagging_fraction': 0.9730237907472673, 'bagging_freq': 8, 'price_upper_bound': 28500, 'price_lower_bound': 2800, 'smoothing': 0.479594467869551, 'min_samples_leaf': 5, 'noise_level': 0.2308880347635174}. Best is trial 117 with value: 8896.556639629225.\n"
     ]
    },
    {
     "name": "stdout",
     "output_type": "stream",
     "text": [
      "Validation RMSE: 10419.819997103094\n"
     ]
    },
    {
     "name": "stderr",
     "output_type": "stream",
     "text": [
      "[I 2025-07-23 16:42:29,942] Trial 142 finished with value: 9192.442013047706 and parameters: {'num_leaves': 80, 'max_depth': 49, 'learning_rate': 0.1065624515307549, 'n_estimators': 439, 'min_child_samples': 7, 'feature_fraction': 0.9338452888167776, 'bagging_fraction': 0.9890883515228945, 'bagging_freq': 8, 'price_upper_bound': 56000, 'price_lower_bound': 3100, 'smoothing': 0.3314280358980626, 'min_samples_leaf': 5, 'noise_level': 0.2071091759524752}. Best is trial 117 with value: 8896.556639629225.\n"
     ]
    },
    {
     "name": "stdout",
     "output_type": "stream",
     "text": [
      "Validation RMSE: 9192.442013047706\n"
     ]
    },
    {
     "name": "stderr",
     "output_type": "stream",
     "text": [
      "[I 2025-07-23 16:42:33,824] Trial 143 finished with value: 9015.38357731164 and parameters: {'num_leaves': 87, 'max_depth': 46, 'learning_rate': 0.07699032669560063, 'n_estimators': 473, 'min_child_samples': 9, 'feature_fraction': 0.9085687899256604, 'bagging_fraction': 0.9475843856599433, 'bagging_freq': 8, 'price_upper_bound': 54500, 'price_lower_bound': 2900, 'smoothing': 0.7215429566993533, 'min_samples_leaf': 5, 'noise_level': 0.2780341605558522}. Best is trial 117 with value: 8896.556639629225.\n"
     ]
    },
    {
     "name": "stdout",
     "output_type": "stream",
     "text": [
      "Validation RMSE: 9015.38357731164\n"
     ]
    },
    {
     "name": "stderr",
     "output_type": "stream",
     "text": [
      "[I 2025-07-23 16:42:37,956] Trial 144 finished with value: 8970.51946307778 and parameters: {'num_leaves': 95, 'max_depth': 47, 'learning_rate': 0.09574942026100233, 'n_estimators': 456, 'min_child_samples': 11, 'feature_fraction': 0.9837459973360461, 'bagging_fraction': 0.9658023493443291, 'bagging_freq': 9, 'price_upper_bound': 57000, 'price_lower_bound': 2600, 'smoothing': 0.445978023252624, 'min_samples_leaf': 5, 'noise_level': 0.12809001704651093}. Best is trial 117 with value: 8896.556639629225.\n"
     ]
    },
    {
     "name": "stdout",
     "output_type": "stream",
     "text": [
      "Validation RMSE: 8970.51946307778\n"
     ]
    },
    {
     "name": "stderr",
     "output_type": "stream",
     "text": [
      "[I 2025-07-23 16:42:42,045] Trial 145 finished with value: 9062.693921010765 and parameters: {'num_leaves': 95, 'max_depth': 47, 'learning_rate': 0.09332515042519753, 'n_estimators': 461, 'min_child_samples': 14, 'feature_fraction': 0.9840110400587337, 'bagging_fraction': 0.9569451241047071, 'bagging_freq': 10, 'price_upper_bound': 57500, 'price_lower_bound': 2400, 'smoothing': 0.4546043048414422, 'min_samples_leaf': 6, 'noise_level': 0.11730572970200426}. Best is trial 117 with value: 8896.556639629225.\n"
     ]
    },
    {
     "name": "stdout",
     "output_type": "stream",
     "text": [
      "Validation RMSE: 9062.693921010765\n"
     ]
    },
    {
     "name": "stderr",
     "output_type": "stream",
     "text": [
      "[I 2025-07-23 16:42:46,667] Trial 146 finished with value: 9016.57369786569 and parameters: {'num_leaves': 91, 'max_depth': 48, 'learning_rate': 0.06018471797869399, 'n_estimators': 500, 'min_child_samples': 5, 'feature_fraction': 0.9584013487325015, 'bagging_fraction': 0.9256375750394544, 'bagging_freq': 9, 'price_upper_bound': 59000, 'price_lower_bound': 2300, 'smoothing': 0.6710174722820882, 'min_samples_leaf': 5, 'noise_level': 0.13267939417902233}. Best is trial 117 with value: 8896.556639629225.\n"
     ]
    },
    {
     "name": "stdout",
     "output_type": "stream",
     "text": [
      "Validation RMSE: 9016.57369786569\n"
     ]
    },
    {
     "name": "stderr",
     "output_type": "stream",
     "text": [
      "[I 2025-07-23 16:42:51,533] Trial 147 finished with value: 9189.475313635188 and parameters: {'num_leaves': 100, 'max_depth': 27, 'learning_rate': 0.12341333755144679, 'n_estimators': 481, 'min_child_samples': 53, 'feature_fraction': 0.9437548789547339, 'bagging_fraction': 0.9987043599331492, 'bagging_freq': 9, 'price_upper_bound': 57000, 'price_lower_bound': 2600, 'smoothing': 0.5248995715382957, 'min_samples_leaf': 5, 'noise_level': 0.17357907431656044}. Best is trial 117 with value: 8896.556639629225.\n"
     ]
    },
    {
     "name": "stdout",
     "output_type": "stream",
     "text": [
      "Validation RMSE: 9189.475313635188\n"
     ]
    },
    {
     "name": "stderr",
     "output_type": "stream",
     "text": [
      "[I 2025-07-23 16:42:54,307] Trial 148 finished with value: 9108.622644243305 and parameters: {'num_leaves': 94, 'max_depth': 46, 'learning_rate': 0.15006879401451714, 'n_estimators': 432, 'min_child_samples': 83, 'feature_fraction': 0.8772988600311385, 'bagging_fraction': 0.979168923975132, 'bagging_freq': 9, 'price_upper_bound': 58500, 'price_lower_bound': 3700, 'smoothing': 0.6144857540674508, 'min_samples_leaf': 4, 'noise_level': 0.10614013577363232}. Best is trial 117 with value: 8896.556639629225.\n"
     ]
    },
    {
     "name": "stdout",
     "output_type": "stream",
     "text": [
      "Validation RMSE: 9108.622644243305\n"
     ]
    },
    {
     "name": "stderr",
     "output_type": "stream",
     "text": [
      "[I 2025-07-23 16:42:58,547] Trial 149 finished with value: 9115.65042341823 and parameters: {'num_leaves': 98, 'max_depth': 45, 'learning_rate': 0.08184311352637076, 'n_estimators': 447, 'min_child_samples': 12, 'feature_fraction': 0.920326004919529, 'bagging_fraction': 0.9422506810275423, 'bagging_freq': 10, 'price_upper_bound': 53000, 'price_lower_bound': 2700, 'smoothing': 0.17995086299026056, 'min_samples_leaf': 6, 'noise_level': 0.12411312355529722}. Best is trial 117 with value: 8896.556639629225.\n"
     ]
    },
    {
     "name": "stdout",
     "output_type": "stream",
     "text": [
      "Validation RMSE: 9115.65042341823\n"
     ]
    },
    {
     "name": "stderr",
     "output_type": "stream",
     "text": [
      "[I 2025-07-23 16:43:02,235] Trial 150 finished with value: 9131.78975790992 and parameters: {'num_leaves': 89, 'max_depth': 47, 'learning_rate': 0.07342714504153428, 'n_estimators': 424, 'min_child_samples': 8, 'feature_fraction': 0.9854916498939706, 'bagging_fraction': 0.9611309041532503, 'bagging_freq': 8, 'price_upper_bound': 55000, 'price_lower_bound': 3500, 'smoothing': 0.29615959080744114, 'min_samples_leaf': 5, 'noise_level': 0.15319705334727754}. Best is trial 117 with value: 8896.556639629225.\n"
     ]
    },
    {
     "name": "stdout",
     "output_type": "stream",
     "text": [
      "Validation RMSE: 9131.78975790992\n"
     ]
    },
    {
     "name": "stderr",
     "output_type": "stream",
     "text": [
      "[I 2025-07-23 16:43:05,488] Trial 151 finished with value: 9123.638973116036 and parameters: {'num_leaves': 76, 'max_depth': 49, 'learning_rate': 0.06631930900759328, 'n_estimators': 452, 'min_child_samples': 11, 'feature_fraction': 0.8151800965629346, 'bagging_fraction': 0.9707856752556683, 'bagging_freq': 8, 'price_upper_bound': 56000, 'price_lower_bound': 2800, 'smoothing': 0.8330628574371831, 'min_samples_leaf': 5, 'noise_level': 0.25354363261273605}. Best is trial 117 with value: 8896.556639629225.\n"
     ]
    },
    {
     "name": "stdout",
     "output_type": "stream",
     "text": [
      "Validation RMSE: 9123.638973116036\n"
     ]
    },
    {
     "name": "stderr",
     "output_type": "stream",
     "text": [
      "[I 2025-07-23 16:43:09,196] Trial 152 finished with value: 9091.104127171699 and parameters: {'num_leaves': 83, 'max_depth': 50, 'learning_rate': 0.08387471990812909, 'n_estimators': 458, 'min_child_samples': 7, 'feature_fraction': 0.8944940756030353, 'bagging_fraction': 0.9313695399164409, 'bagging_freq': 8, 'price_upper_bound': 58000, 'price_lower_bound': 3000, 'smoothing': 0.4166999512394694, 'min_samples_leaf': 5, 'noise_level': 0.219103895115844}. Best is trial 117 with value: 8896.556639629225.\n"
     ]
    },
    {
     "name": "stdout",
     "output_type": "stream",
     "text": [
      "Validation RMSE: 9091.104127171699\n"
     ]
    },
    {
     "name": "stderr",
     "output_type": "stream",
     "text": [
      "[I 2025-07-23 16:43:12,706] Trial 153 finished with value: 9154.723679863415 and parameters: {'num_leaves': 77, 'max_depth': 48, 'learning_rate': 0.055321980398072096, 'n_estimators': 475, 'min_child_samples': 9, 'feature_fraction': 0.8530505216847343, 'bagging_fraction': 0.9682409961992972, 'bagging_freq': 9, 'price_upper_bound': 51000, 'price_lower_bound': 2600, 'smoothing': 0.040202005331089176, 'min_samples_leaf': 5, 'noise_level': 0.333896240046179}. Best is trial 117 with value: 8896.556639629225.\n"
     ]
    },
    {
     "name": "stdout",
     "output_type": "stream",
     "text": [
      "Validation RMSE: 9154.723679863415\n"
     ]
    },
    {
     "name": "stderr",
     "output_type": "stream",
     "text": [
      "[I 2025-07-23 16:43:16,112] Trial 154 finished with value: 9137.712416876517 and parameters: {'num_leaves': 74, 'max_depth': 49, 'learning_rate': 0.09936968532688335, 'n_estimators': 487, 'min_child_samples': 11, 'feature_fraction': 0.9644458431689721, 'bagging_fraction': 0.9506105331042475, 'bagging_freq': 8, 'price_upper_bound': 56500, 'price_lower_bound': 3000, 'smoothing': 0.030706999533224064, 'min_samples_leaf': 6, 'noise_level': 0.18175224098900197}. Best is trial 117 with value: 8896.556639629225.\n"
     ]
    },
    {
     "name": "stdout",
     "output_type": "stream",
     "text": [
      "Validation RMSE: 9137.712416876517\n"
     ]
    },
    {
     "name": "stderr",
     "output_type": "stream",
     "text": [
      "[I 2025-07-23 16:43:19,859] Trial 155 finished with value: 9160.306248733685 and parameters: {'num_leaves': 80, 'max_depth': 44, 'learning_rate': 0.18658947179043528, 'n_estimators': 466, 'min_child_samples': 15, 'feature_fraction': 0.911095776551922, 'bagging_fraction': 0.9868199253791452, 'bagging_freq': 8, 'price_upper_bound': 60000, 'price_lower_bound': 2700, 'smoothing': 0.38542821619191625, 'min_samples_leaf': 5, 'noise_level': 0.14582917460956976}. Best is trial 117 with value: 8896.556639629225.\n"
     ]
    },
    {
     "name": "stdout",
     "output_type": "stream",
     "text": [
      "Validation RMSE: 9160.306248733685\n"
     ]
    },
    {
     "name": "stderr",
     "output_type": "stream",
     "text": [
      "[I 2025-07-23 16:43:23,693] Trial 156 finished with value: 9005.992530762029 and parameters: {'num_leaves': 82, 'max_depth': 47, 'learning_rate': 0.0918644525871192, 'n_estimators': 448, 'min_child_samples': 5, 'feature_fraction': 0.8896047056255889, 'bagging_fraction': 0.9197150076802306, 'bagging_freq': 9, 'price_upper_bound': 59000, 'price_lower_bound': 2900, 'smoothing': 0.02610994484853983, 'min_samples_leaf': 4, 'noise_level': 0.23430811756328582}. Best is trial 117 with value: 8896.556639629225.\n"
     ]
    },
    {
     "name": "stdout",
     "output_type": "stream",
     "text": [
      "Validation RMSE: 9005.992530762029\n"
     ]
    },
    {
     "name": "stderr",
     "output_type": "stream",
     "text": [
      "[I 2025-07-23 16:43:27,255] Trial 157 finished with value: 8970.754794160017 and parameters: {'num_leaves': 78, 'max_depth': 50, 'learning_rate': 0.04455713487347775, 'n_estimators': 474, 'min_child_samples': 8, 'feature_fraction': 0.9411035083347501, 'bagging_fraction': 0.9558821246455583, 'bagging_freq': 8, 'price_upper_bound': 57500, 'price_lower_bound': 3200, 'smoothing': 0.02008190740120552, 'min_samples_leaf': 5, 'noise_level': 0.16555641832024254}. Best is trial 117 with value: 8896.556639629225.\n"
     ]
    },
    {
     "name": "stdout",
     "output_type": "stream",
     "text": [
      "Validation RMSE: 8970.754794160017\n"
     ]
    },
    {
     "name": "stderr",
     "output_type": "stream",
     "text": [
      "[I 2025-07-23 16:43:30,911] Trial 158 finished with value: 9092.941378651783 and parameters: {'num_leaves': 74, 'max_depth': 46, 'learning_rate': 0.046537380477893936, 'n_estimators': 491, 'min_child_samples': 7, 'feature_fraction': 0.9480074516356723, 'bagging_fraction': 0.9403203634540622, 'bagging_freq': 7, 'price_upper_bound': 58000, 'price_lower_bound': 3200, 'smoothing': 0.019977138167848834, 'min_samples_leaf': 6, 'noise_level': 0.1655531721577366}. Best is trial 117 with value: 8896.556639629225.\n"
     ]
    },
    {
     "name": "stdout",
     "output_type": "stream",
     "text": [
      "Validation RMSE: 9092.941378651783\n"
     ]
    },
    {
     "name": "stderr",
     "output_type": "stream",
     "text": [
      "[I 2025-07-23 16:43:34,627] Trial 159 finished with value: 9026.82730149663 and parameters: {'num_leaves': 79, 'max_depth': 48, 'learning_rate': 0.043850620938422805, 'n_estimators': 479, 'min_child_samples': 8, 'feature_fraction': 0.9343812835927385, 'bagging_fraction': 0.9040119439378108, 'bagging_freq': 9, 'price_upper_bound': 57000, 'price_lower_bound': 3400, 'smoothing': 0.015440172899348492, 'min_samples_leaf': 5, 'noise_level': 0.12443418713879088}. Best is trial 117 with value: 8896.556639629225.\n"
     ]
    },
    {
     "name": "stdout",
     "output_type": "stream",
     "text": [
      "Validation RMSE: 9026.82730149663\n"
     ]
    },
    {
     "name": "stderr",
     "output_type": "stream",
     "text": [
      "[I 2025-07-23 16:43:38,207] Trial 160 finished with value: 9134.95517186595 and parameters: {'num_leaves': 84, 'max_depth': 18, 'learning_rate': 0.05476886484328745, 'n_estimators': 417, 'min_child_samples': 12, 'feature_fraction': 0.9290989353147588, 'bagging_fraction': 0.9559242615862699, 'bagging_freq': 8, 'price_upper_bound': 59000, 'price_lower_bound': 3600, 'smoothing': 0.011997207313202871, 'min_samples_leaf': 5, 'noise_level': 0.27855506873835045}. Best is trial 117 with value: 8896.556639629225.\n"
     ]
    },
    {
     "name": "stdout",
     "output_type": "stream",
     "text": [
      "Validation RMSE: 9134.95517186595\n"
     ]
    },
    {
     "name": "stderr",
     "output_type": "stream",
     "text": [
      "[I 2025-07-23 16:43:41,795] Trial 161 finished with value: 9310.264919781146 and parameters: {'num_leaves': 76, 'max_depth': 50, 'learning_rate': 0.1140047409910039, 'n_estimators': 460, 'min_child_samples': 10, 'feature_fraction': 0.9789147162478213, 'bagging_fraction': 0.9765585025518688, 'bagging_freq': 8, 'price_upper_bound': 55500, 'price_lower_bound': 3100, 'smoothing': 0.017335882356140874, 'min_samples_leaf': 5, 'noise_level': 0.20818389465060677}. Best is trial 117 with value: 8896.556639629225.\n"
     ]
    },
    {
     "name": "stdout",
     "output_type": "stream",
     "text": [
      "Validation RMSE: 9310.264919781146\n"
     ]
    },
    {
     "name": "stderr",
     "output_type": "stream",
     "text": [
      "[I 2025-07-23 16:43:45,471] Trial 162 finished with value: 9067.66386013846 and parameters: {'num_leaves': 78, 'max_depth': 49, 'learning_rate': 0.06745102418259366, 'n_estimators': 438, 'min_child_samples': 7, 'feature_fraction': 0.9016434713657407, 'bagging_fraction': 0.9660226086701742, 'bagging_freq': 8, 'price_upper_bound': 57500, 'price_lower_bound': 2900, 'smoothing': 0.020944560929194382, 'min_samples_leaf': 5, 'noise_level': 0.24203292685115646}. Best is trial 117 with value: 8896.556639629225.\n"
     ]
    },
    {
     "name": "stdout",
     "output_type": "stream",
     "text": [
      "Validation RMSE: 9067.66386013846\n"
     ]
    },
    {
     "name": "stderr",
     "output_type": "stream",
     "text": [
      "[I 2025-07-23 16:43:49,412] Trial 163 finished with value: 9122.990478761893 and parameters: {'num_leaves': 81, 'max_depth': 50, 'learning_rate': 0.037939163305372635, 'n_estimators': 471, 'min_child_samples': 9, 'feature_fraction': 0.9933847212887918, 'bagging_fraction': 0.9924520411499751, 'bagging_freq': 8, 'price_upper_bound': 54000, 'price_lower_bound': 2800, 'smoothing': 0.5591166791290608, 'min_samples_leaf': 5, 'noise_level': 0.19095038486987753}. Best is trial 117 with value: 8896.556639629225.\n"
     ]
    },
    {
     "name": "stdout",
     "output_type": "stream",
     "text": [
      "Validation RMSE: 9122.990478761893\n"
     ]
    },
    {
     "name": "stderr",
     "output_type": "stream",
     "text": [
      "[I 2025-07-23 16:43:54,589] Trial 164 finished with value: 8910.551353672436 and parameters: {'num_leaves': 96, 'max_depth': 48, 'learning_rate': 0.062303615506742224, 'n_estimators': 454, 'min_child_samples': 5, 'feature_fraction': 0.9627908935032164, 'bagging_fraction': 0.9365394174477331, 'bagging_freq': 8, 'price_upper_bound': 60000, 'price_lower_bound': 2700, 'smoothing': 0.03515982821741784, 'min_samples_leaf': 5, 'noise_level': 0.31311306955253654}. Best is trial 117 with value: 8896.556639629225.\n"
     ]
    },
    {
     "name": "stdout",
     "output_type": "stream",
     "text": [
      "Validation RMSE: 8910.551353672436\n"
     ]
    },
    {
     "name": "stderr",
     "output_type": "stream",
     "text": [
      "[I 2025-07-23 16:43:58,230] Trial 165 finished with value: 9155.469320407003 and parameters: {'num_leaves': 73, 'max_depth': -1, 'learning_rate': 0.05127211168961, 'n_estimators': 488, 'min_child_samples': 5, 'feature_fraction': 0.9640165313210101, 'bagging_fraction': 0.9265899936267555, 'bagging_freq': 8, 'price_upper_bound': 60000, 'price_lower_bound': 2600, 'smoothing': 0.04598695040257172, 'min_samples_leaf': 4, 'noise_level': 0.3168636359250928}. Best is trial 117 with value: 8896.556639629225.\n"
     ]
    },
    {
     "name": "stdout",
     "output_type": "stream",
     "text": [
      "Validation RMSE: 9155.469320407003\n"
     ]
    },
    {
     "name": "stderr",
     "output_type": "stream",
     "text": [
      "[I 2025-07-23 16:44:02,842] Trial 166 finished with value: 9014.358450911535 and parameters: {'num_leaves': 95, 'max_depth': 45, 'learning_rate': 0.046940900044118994, 'n_estimators': 477, 'min_child_samples': 6, 'feature_fraction': 0.944434361401576, 'bagging_fraction': 0.9419175414588058, 'bagging_freq': 7, 'price_upper_bound': 59000, 'price_lower_bound': 3800, 'smoothing': 0.03466941063150102, 'min_samples_leaf': 6, 'noise_level': 0.34191167607164413}. Best is trial 117 with value: 8896.556639629225.\n"
     ]
    },
    {
     "name": "stdout",
     "output_type": "stream",
     "text": [
      "Validation RMSE: 9014.358450911535\n"
     ]
    },
    {
     "name": "stderr",
     "output_type": "stream",
     "text": [
      "[I 2025-07-23 16:44:07,097] Trial 167 finished with value: 8973.159736188582 and parameters: {'num_leaves': 92, 'max_depth': 48, 'learning_rate': 0.06245104846945689, 'n_estimators': 464, 'min_child_samples': 7, 'feature_fraction': 0.9206207331427986, 'bagging_fraction': 0.9098245021873973, 'bagging_freq': 10, 'price_upper_bound': 60000, 'price_lower_bound': 2500, 'smoothing': 0.023996724158219306, 'min_samples_leaf': 5, 'noise_level': 0.09181087094319389}. Best is trial 117 with value: 8896.556639629225.\n"
     ]
    },
    {
     "name": "stdout",
     "output_type": "stream",
     "text": [
      "Validation RMSE: 8973.159736188582\n"
     ]
    },
    {
     "name": "stderr",
     "output_type": "stream",
     "text": [
      "[I 2025-07-23 16:44:11,556] Trial 168 finished with value: 8968.042851784217 and parameters: {'num_leaves': 93, 'max_depth': 48, 'learning_rate': 0.06195965140636209, 'n_estimators': 467, 'min_child_samples': 5, 'feature_fraction': 0.9197927110947592, 'bagging_fraction': 0.9314164252738808, 'bagging_freq': 10, 'price_upper_bound': 60000, 'price_lower_bound': 2500, 'smoothing': 0.023070359456680983, 'min_samples_leaf': 5, 'noise_level': 0.07957539568438805}. Best is trial 117 with value: 8896.556639629225.\n"
     ]
    },
    {
     "name": "stdout",
     "output_type": "stream",
     "text": [
      "Validation RMSE: 8968.042851784217\n"
     ]
    },
    {
     "name": "stderr",
     "output_type": "stream",
     "text": [
      "[I 2025-07-23 16:44:15,997] Trial 169 finished with value: 9109.811058903735 and parameters: {'num_leaves': 91, 'max_depth': 48, 'learning_rate': 0.060513947473819, 'n_estimators': 461, 'min_child_samples': 5, 'feature_fraction': 0.9255104933607253, 'bagging_fraction': 0.9151684706605903, 'bagging_freq': 10, 'price_upper_bound': 60000, 'price_lower_bound': 2500, 'smoothing': 0.023406673749492752, 'min_samples_leaf': 5, 'noise_level': 0.08061794199529547}. Best is trial 117 with value: 8896.556639629225.\n"
     ]
    },
    {
     "name": "stdout",
     "output_type": "stream",
     "text": [
      "Validation RMSE: 9109.811058903735\n"
     ]
    },
    {
     "name": "stderr",
     "output_type": "stream",
     "text": [
      "[I 2025-07-23 16:44:20,460] Trial 170 finished with value: 8961.338041107105 and parameters: {'num_leaves': 93, 'max_depth': 47, 'learning_rate': 0.07229900907418725, 'n_estimators': 446, 'min_child_samples': 9, 'feature_fraction': 0.961942371681313, 'bagging_fraction': 0.929791550677072, 'bagging_freq': 9, 'price_upper_bound': 60000, 'price_lower_bound': 2100, 'smoothing': 0.016889256703711556, 'min_samples_leaf': 5, 'noise_level': 0.09113364305080522}. Best is trial 117 with value: 8896.556639629225.\n"
     ]
    },
    {
     "name": "stdout",
     "output_type": "stream",
     "text": [
      "Validation RMSE: 8961.338041107105\n"
     ]
    },
    {
     "name": "stderr",
     "output_type": "stream",
     "text": [
      "[I 2025-07-23 16:44:24,855] Trial 171 finished with value: 9151.078456619194 and parameters: {'num_leaves': 93, 'max_depth': 47, 'learning_rate': 0.0732208085561018, 'n_estimators': 444, 'min_child_samples': 9, 'feature_fraction': 0.9641955890722886, 'bagging_fraction': 0.9345528516259944, 'bagging_freq': 10, 'price_upper_bound': 60000, 'price_lower_bound': 2200, 'smoothing': 0.017863861515371823, 'min_samples_leaf': 5, 'noise_level': 0.09563409784550063}. Best is trial 117 with value: 8896.556639629225.\n"
     ]
    },
    {
     "name": "stdout",
     "output_type": "stream",
     "text": [
      "Validation RMSE: 9151.078456619194\n"
     ]
    },
    {
     "name": "stderr",
     "output_type": "stream",
     "text": [
      "[I 2025-07-23 16:44:29,651] Trial 172 finished with value: 9165.311327682499 and parameters: {'num_leaves': 97, 'max_depth': 46, 'learning_rate': 0.05983589515850027, 'n_estimators': 468, 'min_child_samples': 12, 'feature_fraction': 0.9797910251506559, 'bagging_fraction': 0.926447463140428, 'bagging_freq': 10, 'price_upper_bound': 58500, 'price_lower_bound': 2400, 'smoothing': 0.021888453594185085, 'min_samples_leaf': 5, 'noise_level': 0.0688436680331556}. Best is trial 117 with value: 8896.556639629225.\n"
     ]
    },
    {
     "name": "stdout",
     "output_type": "stream",
     "text": [
      "Validation RMSE: 9165.311327682499\n"
     ]
    },
    {
     "name": "stderr",
     "output_type": "stream",
     "text": [
      "[I 2025-07-23 16:44:34,133] Trial 173 finished with value: 9057.19081420759 and parameters: {'num_leaves': 90, 'max_depth': 48, 'learning_rate': 0.06833110419676121, 'n_estimators': 452, 'min_child_samples': 8, 'feature_fraction': 0.9490970301649402, 'bagging_fraction': 0.952142077246721, 'bagging_freq': 10, 'price_upper_bound': 59000, 'price_lower_bound': 2000, 'smoothing': 0.019441631239690716, 'min_samples_leaf': 5, 'noise_level': 0.08852274285863354}. Best is trial 117 with value: 8896.556639629225.\n"
     ]
    },
    {
     "name": "stdout",
     "output_type": "stream",
     "text": [
      "Validation RMSE: 9057.19081420759\n"
     ]
    },
    {
     "name": "stderr",
     "output_type": "stream",
     "text": [
      "[I 2025-07-23 16:44:38,397] Trial 174 finished with value: 8916.258722024057 and parameters: {'num_leaves': 93, 'max_depth': 47, 'learning_rate': 0.06205449152706398, 'n_estimators': 437, 'min_child_samples': 5, 'feature_fraction': 0.9698803496124173, 'bagging_fraction': 0.9601962382703411, 'bagging_freq': 10, 'price_upper_bound': 60000, 'price_lower_bound': 2100, 'smoothing': 0.012890962718207022, 'min_samples_leaf': 5, 'noise_level': 0.09549630748244559}. Best is trial 117 with value: 8896.556639629225.\n"
     ]
    },
    {
     "name": "stdout",
     "output_type": "stream",
     "text": [
      "Validation RMSE: 8916.258722024057\n"
     ]
    },
    {
     "name": "stderr",
     "output_type": "stream",
     "text": [
      "[I 2025-07-23 16:44:42,571] Trial 175 finished with value: 8976.295192965723 and parameters: {'num_leaves': 96, 'max_depth': 44, 'learning_rate': 0.06270433884611472, 'n_estimators': 434, 'min_child_samples': 5, 'feature_fraction': 0.9917304736258644, 'bagging_fraction': 0.9158746667113802, 'bagging_freq': 10, 'price_upper_bound': 60000, 'price_lower_bound': 2100, 'smoothing': 0.01684057035199412, 'min_samples_leaf': 6, 'noise_level': 0.08169001139990983}. Best is trial 117 with value: 8896.556639629225.\n"
     ]
    },
    {
     "name": "stdout",
     "output_type": "stream",
     "text": [
      "Validation RMSE: 8976.295192965723\n"
     ]
    },
    {
     "name": "stderr",
     "output_type": "stream",
     "text": [
      "[I 2025-07-23 16:44:46,710] Trial 176 finished with value: 9030.34489410696 and parameters: {'num_leaves': 96, 'max_depth': 45, 'learning_rate': 0.062497061982045445, 'n_estimators': 429, 'min_child_samples': 5, 'feature_fraction': 0.9953120460079352, 'bagging_fraction': 0.8911321301353038, 'bagging_freq': 10, 'price_upper_bound': 60000, 'price_lower_bound': 1700, 'smoothing': 0.013563230552936194, 'min_samples_leaf': 6, 'noise_level': 0.08222114452400993}. Best is trial 117 with value: 8896.556639629225.\n"
     ]
    },
    {
     "name": "stdout",
     "output_type": "stream",
     "text": [
      "Validation RMSE: 9030.34489410696\n"
     ]
    },
    {
     "name": "stderr",
     "output_type": "stream",
     "text": [
      "[I 2025-07-23 16:44:50,858] Trial 177 finished with value: 8906.465188762635 and parameters: {'num_leaves': 93, 'max_depth': 44, 'learning_rate': 0.05532075221773379, 'n_estimators': 446, 'min_child_samples': 5, 'feature_fraction': 0.9725635611171957, 'bagging_fraction': 0.9148634914481385, 'bagging_freq': 10, 'price_upper_bound': 60000, 'price_lower_bound': 2100, 'smoothing': 0.01238015179578763, 'min_samples_leaf': 6, 'noise_level': 0.06986183364634052}. Best is trial 117 with value: 8896.556639629225.\n"
     ]
    },
    {
     "name": "stdout",
     "output_type": "stream",
     "text": [
      "Validation RMSE: 8906.465188762635\n"
     ]
    },
    {
     "name": "stderr",
     "output_type": "stream",
     "text": [
      "[I 2025-07-23 16:44:54,894] Trial 178 finished with value: 9091.801390115565 and parameters: {'num_leaves': 93, 'max_depth': 46, 'learning_rate': 0.056364774537122755, 'n_estimators': 439, 'min_child_samples': 6, 'feature_fraction': 0.9655852086045421, 'bagging_fraction': 0.9180629212201727, 'bagging_freq': 10, 'price_upper_bound': 60000, 'price_lower_bound': 2100, 'smoothing': 0.012826765853929719, 'min_samples_leaf': 6, 'noise_level': 0.0967335062983349}. Best is trial 117 with value: 8896.556639629225.\n"
     ]
    },
    {
     "name": "stdout",
     "output_type": "stream",
     "text": [
      "Validation RMSE: 9091.801390115565\n"
     ]
    },
    {
     "name": "stderr",
     "output_type": "stream",
     "text": [
      "[I 2025-07-23 16:44:59,405] Trial 179 finished with value: 9049.525695443856 and parameters: {'num_leaves': 99, 'max_depth': 44, 'learning_rate': 0.05261113916874875, 'n_estimators': 438, 'min_child_samples': 5, 'feature_fraction': 0.9999595782457523, 'bagging_fraction': 0.9058514282182654, 'bagging_freq': 10, 'price_upper_bound': 59000, 'price_lower_bound': 1900, 'smoothing': 0.010089264535524048, 'min_samples_leaf': 6, 'noise_level': 0.07390119716393177}. Best is trial 117 with value: 8896.556639629225.\n"
     ]
    },
    {
     "name": "stdout",
     "output_type": "stream",
     "text": [
      "Validation RMSE: 9049.525695443856\n"
     ]
    },
    {
     "name": "stderr",
     "output_type": "stream",
     "text": [
      "[I 2025-07-23 16:45:03,518] Trial 180 finished with value: 9010.51479518819 and parameters: {'num_leaves': 96, 'max_depth': 42, 'learning_rate': 0.06310939506991885, 'n_estimators': 415, 'min_child_samples': 7, 'feature_fraction': 0.9819677491265301, 'bagging_fraction': 0.894829230471012, 'bagging_freq': 10, 'price_upper_bound': 60000, 'price_lower_bound': 2100, 'smoothing': 0.011028566161032736, 'min_samples_leaf': 6, 'noise_level': 0.08788950556313156}. Best is trial 117 with value: 8896.556639629225.\n"
     ]
    },
    {
     "name": "stdout",
     "output_type": "stream",
     "text": [
      "Validation RMSE: 9010.51479518819\n"
     ]
    },
    {
     "name": "stderr",
     "output_type": "stream",
     "text": [
      "[I 2025-07-23 16:45:08,215] Trial 181 finished with value: 8947.825672931513 and parameters: {'num_leaves': 94, 'max_depth': 48, 'learning_rate': 0.058206703963284576, 'n_estimators': 446, 'min_child_samples': 10, 'feature_fraction': 0.9555709419933426, 'bagging_fraction': 0.9313296630492733, 'bagging_freq': 10, 'price_upper_bound': 59000, 'price_lower_bound': 2200, 'smoothing': 0.01709769400616283, 'min_samples_leaf': 5, 'noise_level': 0.10932323584164434}. Best is trial 117 with value: 8896.556639629225.\n"
     ]
    },
    {
     "name": "stdout",
     "output_type": "stream",
     "text": [
      "Validation RMSE: 8947.825672931513\n"
     ]
    },
    {
     "name": "stderr",
     "output_type": "stream",
     "text": [
      "[I 2025-07-23 16:45:12,337] Trial 182 finished with value: 8986.445268957228 and parameters: {'num_leaves': 93, 'max_depth': 44, 'learning_rate': 0.05724596685091507, 'n_estimators': 444, 'min_child_samples': 11, 'feature_fraction': 0.9555324929964731, 'bagging_fraction': 0.9354863031355899, 'bagging_freq': 10, 'price_upper_bound': 59000, 'price_lower_bound': 2200, 'smoothing': 0.013389682712732052, 'min_samples_leaf': 5, 'noise_level': 0.06878177069488664}. Best is trial 117 with value: 8896.556639629225.\n"
     ]
    },
    {
     "name": "stdout",
     "output_type": "stream",
     "text": [
      "Validation RMSE: 8986.445268957228\n"
     ]
    },
    {
     "name": "stderr",
     "output_type": "stream",
     "text": [
      "[I 2025-07-23 16:45:16,295] Trial 183 finished with value: 9160.062205954515 and parameters: {'num_leaves': 94, 'max_depth': 48, 'learning_rate': 0.06769767671056996, 'n_estimators': 429, 'min_child_samples': 7, 'feature_fraction': 0.9738305273506928, 'bagging_fraction': 0.9094197824023227, 'bagging_freq': 10, 'price_upper_bound': 58000, 'price_lower_bound': 2000, 'smoothing': 0.01682157373914623, 'min_samples_leaf': 6, 'noise_level': 0.10119671092785044}. Best is trial 117 with value: 8896.556639629225.\n"
     ]
    },
    {
     "name": "stdout",
     "output_type": "stream",
     "text": [
      "Validation RMSE: 9160.062205954515\n"
     ]
    },
    {
     "name": "stderr",
     "output_type": "stream",
     "text": [
      "[I 2025-07-23 16:45:20,928] Trial 184 finished with value: 9032.782856542182 and parameters: {'num_leaves': 98, 'max_depth': 46, 'learning_rate': 0.0580894752807862, 'n_estimators': 466, 'min_child_samples': 5, 'feature_fraction': 0.9839662637160623, 'bagging_fraction': 0.9231720240563419, 'bagging_freq': 10, 'price_upper_bound': 59000, 'price_lower_bound': 1900, 'smoothing': 0.01218064015879015, 'min_samples_leaf': 5, 'noise_level': 0.07912997263665969}. Best is trial 117 with value: 8896.556639629225.\n"
     ]
    },
    {
     "name": "stdout",
     "output_type": "stream",
     "text": [
      "Validation RMSE: 9032.782856542182\n"
     ]
    },
    {
     "name": "stderr",
     "output_type": "stream",
     "text": [
      "[I 2025-07-23 16:45:25,082] Trial 185 finished with value: 9083.865802027083 and parameters: {'num_leaves': 95, 'max_depth': 49, 'learning_rate': 0.06351554374133339, 'n_estimators': 455, 'min_child_samples': 10, 'feature_fraction': 0.9498133724003357, 'bagging_fraction': 0.9317253701265594, 'bagging_freq': 10, 'price_upper_bound': 57500, 'price_lower_bound': 2300, 'smoothing': 0.018108981897920977, 'min_samples_leaf': 5, 'noise_level': 0.11018751373680334}. Best is trial 117 with value: 8896.556639629225.\n"
     ]
    },
    {
     "name": "stdout",
     "output_type": "stream",
     "text": [
      "Validation RMSE: 9083.865802027083\n"
     ]
    },
    {
     "name": "stderr",
     "output_type": "stream",
     "text": [
      "[I 2025-07-23 16:45:29,140] Trial 186 finished with value: 9035.427663863109 and parameters: {'num_leaves': 89, 'max_depth': 47, 'learning_rate': 0.07301017167944153, 'n_estimators': 472, 'min_child_samples': 7, 'feature_fraction': 0.9685973549208297, 'bagging_fraction': 0.9141532856989678, 'bagging_freq': 10, 'price_upper_bound': 60000, 'price_lower_bound': 2100, 'smoothing': 0.014417986133051234, 'min_samples_leaf': 5, 'noise_level': 0.0942250087461799}. Best is trial 117 with value: 8896.556639629225.\n"
     ]
    },
    {
     "name": "stdout",
     "output_type": "stream",
     "text": [
      "Validation RMSE: 9035.427663863109\n"
     ]
    },
    {
     "name": "stderr",
     "output_type": "stream",
     "text": [
      "[I 2025-07-23 16:45:33,223] Trial 187 finished with value: 9067.046353728583 and parameters: {'num_leaves': 92, 'max_depth': 44, 'learning_rate': 0.05409449510083726, 'n_estimators': 447, 'min_child_samples': 5, 'feature_fraction': 0.9400247971863519, 'bagging_fraction': 0.944059932454105, 'bagging_freq': 10, 'price_upper_bound': 58000, 'price_lower_bound': 2400, 'smoothing': 0.014634126160646639, 'min_samples_leaf': 6, 'noise_level': 0.06859225614425837}. Best is trial 117 with value: 8896.556639629225.\n"
     ]
    },
    {
     "name": "stdout",
     "output_type": "stream",
     "text": [
      "Validation RMSE: 9067.046353728583\n"
     ]
    },
    {
     "name": "stderr",
     "output_type": "stream",
     "text": [
      "[I 2025-07-23 16:45:37,372] Trial 188 finished with value: 8927.082962655897 and parameters: {'num_leaves': 95, 'max_depth': 22, 'learning_rate': 0.06278723289505689, 'n_estimators': 434, 'min_child_samples': 14, 'feature_fraction': 0.9581734828503548, 'bagging_fraction': 0.9544266484063307, 'bagging_freq': 10, 'price_upper_bound': 59000, 'price_lower_bound': 1800, 'smoothing': 0.019218563873296315, 'min_samples_leaf': 4, 'noise_level': 0.08857312716526583}. Best is trial 117 with value: 8896.556639629225.\n"
     ]
    },
    {
     "name": "stdout",
     "output_type": "stream",
     "text": [
      "Validation RMSE: 8927.082962655897\n"
     ]
    },
    {
     "name": "stderr",
     "output_type": "stream",
     "text": [
      "[I 2025-07-23 16:45:41,246] Trial 189 finished with value: 9085.033449659792 and parameters: {'num_leaves': 94, 'max_depth': 22, 'learning_rate': 0.04964843620824883, 'n_estimators': 424, 'min_child_samples': 13, 'feature_fraction': 0.9626672287411723, 'bagging_fraction': 0.9564399786540551, 'bagging_freq': 9, 'price_upper_bound': 57000, 'price_lower_bound': 1800, 'smoothing': 0.01576404295227461, 'min_samples_leaf': 4, 'noise_level': 0.10575165533351934}. Best is trial 117 with value: 8896.556639629225.\n"
     ]
    },
    {
     "name": "stdout",
     "output_type": "stream",
     "text": [
      "Validation RMSE: 9085.033449659792\n"
     ]
    },
    {
     "name": "stderr",
     "output_type": "stream",
     "text": [
      "[I 2025-07-23 16:45:45,470] Trial 190 finished with value: 9011.787814731058 and parameters: {'num_leaves': 88, 'max_depth': 25, 'learning_rate': 0.05925947565360121, 'n_estimators': 458, 'min_child_samples': 14, 'feature_fraction': 0.9290851007772539, 'bagging_fraction': 0.9581193586066014, 'bagging_freq': 10, 'price_upper_bound': 59000, 'price_lower_bound': 1700, 'smoothing': 0.01994282131350327, 'min_samples_leaf': 4, 'noise_level': 0.08447947209567859}. Best is trial 117 with value: 8896.556639629225.\n"
     ]
    },
    {
     "name": "stdout",
     "output_type": "stream",
     "text": [
      "Validation RMSE: 9011.787814731058\n"
     ]
    },
    {
     "name": "stderr",
     "output_type": "stream",
     "text": [
      "[I 2025-07-23 16:45:49,595] Trial 191 finished with value: 9145.628652366471 and parameters: {'num_leaves': 96, 'max_depth': 48, 'learning_rate': 0.06408497018668376, 'n_estimators': 435, 'min_child_samples': 8, 'feature_fraction': 0.9888193625654258, 'bagging_fraction': 0.5443920970304468, 'bagging_freq': 10, 'price_upper_bound': 60000, 'price_lower_bound': 2100, 'smoothing': 0.024089049537511252, 'min_samples_leaf': 5, 'noise_level': 0.0917465783330428}. Best is trial 117 with value: 8896.556639629225.\n"
     ]
    },
    {
     "name": "stdout",
     "output_type": "stream",
     "text": [
      "Validation RMSE: 9145.628652366471\n"
     ]
    },
    {
     "name": "stderr",
     "output_type": "stream",
     "text": [
      "[I 2025-07-23 16:45:52,186] Trial 192 finished with value: 9010.253327418537 and parameters: {'num_leaves': 98, 'max_depth': 20, 'learning_rate': 0.07064949919091075, 'n_estimators': 260, 'min_child_samples': 11, 'feature_fraction': 0.9768803810431569, 'bagging_fraction': 0.941172799376085, 'bagging_freq': 10, 'price_upper_bound': 59000, 'price_lower_bound': 1500, 'smoothing': 0.026285150704454092, 'min_samples_leaf': 3, 'noise_level': 0.07547527575440739}. Best is trial 117 with value: 8896.556639629225.\n"
     ]
    },
    {
     "name": "stdout",
     "output_type": "stream",
     "text": [
      "Validation RMSE: 9010.253327418537\n"
     ]
    },
    {
     "name": "stderr",
     "output_type": "stream",
     "text": [
      "[I 2025-07-23 16:45:56,093] Trial 193 finished with value: 9023.025038588916 and parameters: {'num_leaves': 92, 'max_depth': 30, 'learning_rate': 0.06140608787751503, 'n_estimators': 444, 'min_child_samples': 9, 'feature_fraction': 0.9548433598461001, 'bagging_fraction': 0.9301956340495063, 'bagging_freq': 10, 'price_upper_bound': 58000, 'price_lower_bound': 2200, 'smoothing': 0.01615159046574453, 'min_samples_leaf': 5, 'noise_level': 0.05470269952791423}. Best is trial 117 with value: 8896.556639629225.\n"
     ]
    },
    {
     "name": "stdout",
     "output_type": "stream",
     "text": [
      "Validation RMSE: 9023.025038588916\n"
     ]
    },
    {
     "name": "stderr",
     "output_type": "stream",
     "text": [
      "[I 2025-07-23 16:45:57,091] Trial 194 finished with value: 9110.460999326975 and parameters: {'num_leaves': 100, 'max_depth': 22, 'learning_rate': 0.055661447804292795, 'n_estimators': 86, 'min_child_samples': 7, 'feature_fraction': 0.9413706766069677, 'bagging_fraction': 0.898147340938345, 'bagging_freq': 10, 'price_upper_bound': 60000, 'price_lower_bound': 2000, 'smoothing': 0.02106755286898035, 'min_samples_leaf': 5, 'noise_level': 0.09915114154684991}. Best is trial 117 with value: 8896.556639629225.\n"
     ]
    },
    {
     "name": "stdout",
     "output_type": "stream",
     "text": [
      "Validation RMSE: 9110.460999326975\n"
     ]
    },
    {
     "name": "stderr",
     "output_type": "stream",
     "text": [
      "[I 2025-07-23 16:45:57,546] Trial 195 finished with value: 12506.906209751127 and parameters: {'num_leaves': 96, 'max_depth': 3, 'learning_rate': 0.06690590001277405, 'n_estimators': 465, 'min_child_samples': 10, 'feature_fraction': 0.7906327297504974, 'bagging_fraction': 0.9221680062572994, 'bagging_freq': 9, 'price_upper_bound': 17500, 'price_lower_bound': 2300, 'smoothing': 0.018351915134547363, 'min_samples_leaf': 6, 'noise_level': 0.11509885018191572}. Best is trial 117 with value: 8896.556639629225.\n"
     ]
    },
    {
     "name": "stdout",
     "output_type": "stream",
     "text": [
      "Validation RMSE: 12506.906209751127\n"
     ]
    },
    {
     "name": "stderr",
     "output_type": "stream",
     "text": [
      "[I 2025-07-23 16:46:01,382] Trial 196 finished with value: 9155.484542930593 and parameters: {'num_leaves': 90, 'max_depth': 21, 'learning_rate': 0.07934934978816757, 'n_estimators': 423, 'min_child_samples': 5, 'feature_fraction': 0.9714664545533752, 'bagging_fraction': 0.9443971142630406, 'bagging_freq': 10, 'price_upper_bound': 57000, 'price_lower_bound': 2500, 'smoothing': 0.011233117568539983, 'min_samples_leaf': 4, 'noise_level': 0.08300833477537194}. Best is trial 117 with value: 8896.556639629225.\n"
     ]
    },
    {
     "name": "stdout",
     "output_type": "stream",
     "text": [
      "Validation RMSE: 9155.484542930593\n"
     ]
    },
    {
     "name": "stderr",
     "output_type": "stream",
     "text": [
      "[I 2025-07-23 16:46:05,877] Trial 197 finished with value: 9320.898420797768 and parameters: {'num_leaves': 94, 'max_depth': 45, 'learning_rate': 0.05211119570376688, 'n_estimators': 483, 'min_child_samples': 7, 'feature_fraction': 0.9220491531417102, 'bagging_fraction': 0.9626854851996447, 'bagging_freq': 10, 'price_upper_bound': 38000, 'price_lower_bound': 1900, 'smoothing': 0.03147638881780339, 'min_samples_leaf': 5, 'noise_level': 0.06546368384135573}. Best is trial 117 with value: 8896.556639629225.\n"
     ]
    },
    {
     "name": "stdout",
     "output_type": "stream",
     "text": [
      "Validation RMSE: 9320.898420797768\n"
     ]
    },
    {
     "name": "stderr",
     "output_type": "stream",
     "text": [
      "[I 2025-07-23 16:46:10,531] Trial 198 finished with value: 9037.177817139383 and parameters: {'num_leaves': 97, 'max_depth': 47, 'learning_rate': 0.05991394255878559, 'n_estimators': 452, 'min_child_samples': 11, 'feature_fraction': 0.9564552673855506, 'bagging_fraction': 0.8833957217397074, 'bagging_freq': 9, 'price_upper_bound': 58500, 'price_lower_bound': 1700, 'smoothing': 0.023894611178256097, 'min_samples_leaf': 5, 'noise_level': 0.0753144167044073}. Best is trial 117 with value: 8896.556639629225.\n"
     ]
    },
    {
     "name": "stdout",
     "output_type": "stream",
     "text": [
      "Validation RMSE: 9037.177817139383\n"
     ]
    },
    {
     "name": "stderr",
     "output_type": "stream",
     "text": [
      "[I 2025-07-23 16:46:15,645] Trial 199 finished with value: 9102.259718107909 and parameters: {'num_leaves': 93, 'max_depth': 49, 'learning_rate': 0.07083750058290253, 'n_estimators': 411, 'min_child_samples': 8, 'feature_fraction': 0.42044416237312277, 'bagging_fraction': 0.9106566919533118, 'bagging_freq': 10, 'price_upper_bound': 59000, 'price_lower_bound': 2400, 'smoothing': 0.016991200190414064, 'min_samples_leaf': 5, 'noise_level': 0.30361699328474645}. Best is trial 117 with value: 8896.556639629225.\n"
     ]
    },
    {
     "name": "stdout",
     "output_type": "stream",
     "text": [
      "Validation RMSE: 9102.259718107909\n"
     ]
    },
    {
     "name": "stderr",
     "output_type": "stream",
     "text": [
      "[I 2025-07-23 16:46:19,712] Trial 200 finished with value: 8954.048005967014 and parameters: {'num_leaves': 90, 'max_depth': 46, 'learning_rate': 0.04254835091808133, 'n_estimators': 435, 'min_child_samples': 5, 'feature_fraction': 0.9840170827874687, 'bagging_fraction': 0.9333025267481955, 'bagging_freq': 1, 'price_upper_bound': 57500, 'price_lower_bound': 2200, 'smoothing': 0.01451918768475259, 'min_samples_leaf': 6, 'noise_level': 0.25192967870098604}. Best is trial 117 with value: 8896.556639629225.\n"
     ]
    },
    {
     "name": "stdout",
     "output_type": "stream",
     "text": [
      "Validation RMSE: 8954.048005967014\n"
     ]
    },
    {
     "name": "stderr",
     "output_type": "stream",
     "text": [
      "[I 2025-07-23 16:46:24,586] Trial 201 finished with value: 8881.808604513526 and parameters: {'num_leaves': 91, 'max_depth': 23, 'learning_rate': 0.04497513253642487, 'n_estimators': 433, 'min_child_samples': 5, 'feature_fraction': 0.9993871701261757, 'bagging_fraction': 0.9336515092577566, 'bagging_freq': 10, 'price_upper_bound': 58000, 'price_lower_bound': 2200, 'smoothing': 0.014880594164394618, 'min_samples_leaf': 6, 'noise_level': 0.2679150017239537}. Best is trial 201 with value: 8881.808604513526.\n"
     ]
    },
    {
     "name": "stdout",
     "output_type": "stream",
     "text": [
      "Validation RMSE: 8881.808604513526\n"
     ]
    },
    {
     "name": "stderr",
     "output_type": "stream",
     "text": [
      "[I 2025-07-23 16:46:29,745] Trial 202 finished with value: 8976.252814955016 and parameters: {'num_leaves': 90, 'max_depth': 25, 'learning_rate': 0.045228811782968545, 'n_estimators': 444, 'min_child_samples': 7, 'feature_fraction': 0.9825791846891145, 'bagging_fraction': 0.9350663095037928, 'bagging_freq': 2, 'price_upper_bound': 57500, 'price_lower_bound': 2300, 'smoothing': 0.013181083483169941, 'min_samples_leaf': 6, 'noise_level': 0.2579385156876901}. Best is trial 201 with value: 8881.808604513526.\n"
     ]
    },
    {
     "name": "stdout",
     "output_type": "stream",
     "text": [
      "Validation RMSE: 8976.252814955016\n"
     ]
    },
    {
     "name": "stderr",
     "output_type": "stream",
     "text": [
      "[I 2025-07-23 16:46:34,048] Trial 203 finished with value: 9008.36005748014 and parameters: {'num_leaves': 92, 'max_depth': 22, 'learning_rate': 0.04208392400574107, 'n_estimators': 472, 'min_child_samples': 8, 'feature_fraction': 0.9988077891983124, 'bagging_fraction': 0.9486368219112997, 'bagging_freq': 2, 'price_upper_bound': 58000, 'price_lower_bound': 2200, 'smoothing': 0.014430905029497794, 'min_samples_leaf': 6, 'noise_level': 0.2968633571902208}. Best is trial 201 with value: 8881.808604513526.\n"
     ]
    },
    {
     "name": "stdout",
     "output_type": "stream",
     "text": [
      "Validation RMSE: 9008.36005748014\n"
     ]
    },
    {
     "name": "stderr",
     "output_type": "stream",
     "text": [
      "[I 2025-07-23 16:46:38,430] Trial 204 finished with value: 9009.201509558332 and parameters: {'num_leaves': 88, 'max_depth': 46, 'learning_rate': 0.04372021616456075, 'n_estimators': 458, 'min_child_samples': 5, 'feature_fraction': 0.9734425248262939, 'bagging_fraction': 0.9618869435711855, 'bagging_freq': 9, 'price_upper_bound': 56500, 'price_lower_bound': 2500, 'smoothing': 0.014982466913970977, 'min_samples_leaf': 3, 'noise_level': 0.24436524113442357}. Best is trial 201 with value: 8881.808604513526.\n"
     ]
    },
    {
     "name": "stdout",
     "output_type": "stream",
     "text": [
      "Validation RMSE: 9009.201509558332\n"
     ]
    },
    {
     "name": "stderr",
     "output_type": "stream",
     "text": [
      "[I 2025-07-23 16:46:40,390] Trial 205 finished with value: 8986.813434388601 and parameters: {'num_leaves': 86, 'max_depth': 23, 'learning_rate': 0.039312654015847964, 'n_estimators': 214, 'min_child_samples': 11, 'feature_fraction': 0.9452985063659567, 'bagging_fraction': 0.9806873169917474, 'bagging_freq': 1, 'price_upper_bound': 59000, 'price_lower_bound': 2600, 'smoothing': 0.027671041534555806, 'min_samples_leaf': 5, 'noise_level': 0.2687080587583228}. Best is trial 201 with value: 8881.808604513526.\n"
     ]
    },
    {
     "name": "stdout",
     "output_type": "stream",
     "text": [
      "Validation RMSE: 8986.813434388601\n"
     ]
    },
    {
     "name": "stderr",
     "output_type": "stream",
     "text": [
      "[I 2025-07-23 16:46:44,403] Trial 206 finished with value: 9053.04049865051 and parameters: {'num_leaves': 91, 'max_depth': 24, 'learning_rate': 0.04882016734827381, 'n_estimators': 434, 'min_child_samples': 9, 'feature_fraction': 0.9636726434117928, 'bagging_fraction': 0.9343048686346392, 'bagging_freq': 3, 'price_upper_bound': 47500, 'price_lower_bound': 2200, 'smoothing': 0.01165396429877047, 'min_samples_leaf': 6, 'noise_level': 0.20717538355661874}. Best is trial 201 with value: 8881.808604513526.\n"
     ]
    },
    {
     "name": "stdout",
     "output_type": "stream",
     "text": [
      "Validation RMSE: 9053.04049865051\n"
     ]
    },
    {
     "name": "stderr",
     "output_type": "stream",
     "text": [
      "[I 2025-07-23 16:46:48,986] Trial 207 finished with value: 9067.866979287905 and parameters: {'num_leaves': 94, 'max_depth': 15, 'learning_rate': 0.0365324467312445, 'n_estimators': 449, 'min_child_samples': 7, 'feature_fraction': 0.9544504384788246, 'bagging_fraction': 0.958912980710105, 'bagging_freq': 10, 'price_upper_bound': 58000, 'price_lower_bound': 2700, 'smoothing': 0.01961701458734022, 'min_samples_leaf': 5, 'noise_level': 0.22875505185363013}. Best is trial 201 with value: 8881.808604513526.\n"
     ]
    },
    {
     "name": "stdout",
     "output_type": "stream",
     "text": [
      "Validation RMSE: 9067.866979287905\n"
     ]
    },
    {
     "name": "stderr",
     "output_type": "stream",
     "text": [
      "[I 2025-07-23 16:46:53,782] Trial 208 finished with value: 9066.704983328886 and parameters: {'num_leaves': 95, 'max_depth': 23, 'learning_rate': 0.05252905151846416, 'n_estimators': 496, 'min_child_samples': 9, 'feature_fraction': 0.9335264606328753, 'bagging_fraction': 0.9474174572418085, 'bagging_freq': 8, 'price_upper_bound': 57000, 'price_lower_bound': 2400, 'smoothing': 0.195703952445967, 'min_samples_leaf': 5, 'noise_level': 0.3635270335228373}. Best is trial 201 with value: 8881.808604513526.\n"
     ]
    },
    {
     "name": "stdout",
     "output_type": "stream",
     "text": [
      "Validation RMSE: 9066.704983328886\n"
     ]
    },
    {
     "name": "stderr",
     "output_type": "stream",
     "text": [
      "[I 2025-07-23 16:46:58,023] Trial 209 finished with value: 9116.224246892662 and parameters: {'num_leaves': 87, 'max_depth': 48, 'learning_rate': 0.056141830462059235, 'n_estimators': 422, 'min_child_samples': 45, 'feature_fraction': 0.9141999558855977, 'bagging_fraction': 0.9285159380961899, 'bagging_freq': 9, 'price_upper_bound': 59000, 'price_lower_bound': 2700, 'smoothing': 0.03631910061196804, 'min_samples_leaf': 5, 'noise_level': 0.12467953348973038}. Best is trial 201 with value: 8881.808604513526.\n"
     ]
    },
    {
     "name": "stdout",
     "output_type": "stream",
     "text": [
      "Validation RMSE: 9116.224246892662\n"
     ]
    },
    {
     "name": "stderr",
     "output_type": "stream",
     "text": [
      "[I 2025-07-23 16:47:00,145] Trial 210 finished with value: 9154.920694253697 and parameters: {'num_leaves': 91, 'max_depth': 26, 'learning_rate': 0.04671268550440589, 'n_estimators': 463, 'min_child_samples': 100, 'feature_fraction': 0.984916606575533, 'bagging_fraction': 0.6041840842539766, 'bagging_freq': 8, 'price_upper_bound': 60000, 'price_lower_bound': 1900, 'smoothing': 0.022384924687038975, 'min_samples_leaf': 4, 'noise_level': 0.15983212906606617}. Best is trial 201 with value: 8881.808604513526.\n"
     ]
    },
    {
     "name": "stdout",
     "output_type": "stream",
     "text": [
      "Validation RMSE: 9154.920694253697\n"
     ]
    },
    {
     "name": "stderr",
     "output_type": "stream",
     "text": [
      "[I 2025-07-23 16:47:04,417] Trial 211 finished with value: 9064.83791459638 and parameters: {'num_leaves': 89, 'max_depth': 32, 'learning_rate': 0.04299310856852029, 'n_estimators': 442, 'min_child_samples': 7, 'feature_fraction': 0.9826317396808277, 'bagging_fraction': 0.4255193987745259, 'bagging_freq': 2, 'price_upper_bound': 57500, 'price_lower_bound': 2300, 'smoothing': 0.01321199150011859, 'min_samples_leaf': 6, 'noise_level': 0.26634874720413204}. Best is trial 201 with value: 8881.808604513526.\n"
     ]
    },
    {
     "name": "stdout",
     "output_type": "stream",
     "text": [
      "Validation RMSE: 9064.83791459638\n"
     ]
    },
    {
     "name": "stderr",
     "output_type": "stream",
     "text": [
      "[I 2025-07-23 16:47:08,567] Trial 212 finished with value: 9058.919537784093 and parameters: {'num_leaves': 90, 'max_depth': 21, 'learning_rate': 0.0383115631263942, 'n_estimators': 446, 'min_child_samples': 5, 'feature_fraction': 0.9737602127890427, 'bagging_fraction': 0.937058788660776, 'bagging_freq': 10, 'price_upper_bound': 58000, 'price_lower_bound': 2300, 'smoothing': 0.013177828823544473, 'min_samples_leaf': 6, 'noise_level': 0.2889238042244937}. Best is trial 201 with value: 8881.808604513526.\n"
     ]
    },
    {
     "name": "stdout",
     "output_type": "stream",
     "text": [
      "Validation RMSE: 9058.919537784093\n"
     ]
    },
    {
     "name": "stderr",
     "output_type": "stream",
     "text": [
      "[I 2025-07-23 16:47:12,911] Trial 213 finished with value: 8969.761875298855 and parameters: {'num_leaves': 93, 'max_depth': 49, 'learning_rate': 0.03496461777258724, 'n_estimators': 457, 'min_child_samples': 7, 'feature_fraction': 0.966917894399429, 'bagging_fraction': 0.9468991212531956, 'bagging_freq': 1, 'price_upper_bound': 59000, 'price_lower_bound': 2500, 'smoothing': 0.01262311128085335, 'min_samples_leaf': 6, 'noise_level': 0.2412799165767761}. Best is trial 201 with value: 8881.808604513526.\n"
     ]
    },
    {
     "name": "stdout",
     "output_type": "stream",
     "text": [
      "Validation RMSE: 8969.761875298855\n"
     ]
    },
    {
     "name": "stderr",
     "output_type": "stream",
     "text": [
      "[I 2025-07-23 16:47:17,268] Trial 214 finished with value: 9020.754854951816 and parameters: {'num_leaves': 93, 'max_depth': 49, 'learning_rate': 0.04014789192256583, 'n_estimators': 476, 'min_child_samples': 9, 'feature_fraction': 0.9656990373619396, 'bagging_fraction': 0.9496795725518327, 'bagging_freq': 1, 'price_upper_bound': 59000, 'price_lower_bound': 2600, 'smoothing': 0.015567345451682573, 'min_samples_leaf': 6, 'noise_level': 0.24013056516864242}. Best is trial 201 with value: 8881.808604513526.\n"
     ]
    },
    {
     "name": "stdout",
     "output_type": "stream",
     "text": [
      "Validation RMSE: 9020.754854951816\n"
     ]
    },
    {
     "name": "stderr",
     "output_type": "stream",
     "text": [
      "[I 2025-07-23 16:47:21,500] Trial 215 finished with value: 8974.994845902289 and parameters: {'num_leaves': 93, 'max_depth': 50, 'learning_rate': 0.034886661114244176, 'n_estimators': 456, 'min_child_samples': 6, 'feature_fraction': 0.9473050513921839, 'bagging_fraction': 0.968899475144148, 'bagging_freq': 1, 'price_upper_bound': 60000, 'price_lower_bound': 2000, 'smoothing': 0.012172188591793276, 'min_samples_leaf': 5, 'noise_level': 0.20234775579377087}. Best is trial 201 with value: 8881.808604513526.\n"
     ]
    },
    {
     "name": "stdout",
     "output_type": "stream",
     "text": [
      "Validation RMSE: 8974.994845902289\n"
     ]
    },
    {
     "name": "stderr",
     "output_type": "stream",
     "text": [
      "[I 2025-07-23 16:47:26,041] Trial 216 finished with value: 9169.09472669623 and parameters: {'num_leaves': 95, 'max_depth': 47, 'learning_rate': 0.07617881604442828, 'n_estimators': 484, 'min_child_samples': 13, 'feature_fraction': 0.9634009946781543, 'bagging_fraction': 0.6529025978471137, 'bagging_freq': 1, 'price_upper_bound': 59000, 'price_lower_bound': 2500, 'smoothing': 0.030998294845964624, 'min_samples_leaf': 6, 'noise_level': 0.1749602933207423}. Best is trial 201 with value: 8881.808604513526.\n"
     ]
    },
    {
     "name": "stdout",
     "output_type": "stream",
     "text": [
      "Validation RMSE: 9169.09472669623\n"
     ]
    },
    {
     "name": "stderr",
     "output_type": "stream",
     "text": [
      "[I 2025-07-23 16:47:30,573] Trial 217 finished with value: 8973.832778988914 and parameters: {'num_leaves': 97, 'max_depth': 49, 'learning_rate': 0.033123284491692814, 'n_estimators': 468, 'min_child_samples': 5, 'feature_fraction': 0.9345986494926194, 'bagging_fraction': 0.9256098154747225, 'bagging_freq': 1, 'price_upper_bound': 56500, 'price_lower_bound': 2600, 'smoothing': 0.014893885836761992, 'min_samples_leaf': 5, 'noise_level': 0.3279138971427688}. Best is trial 201 with value: 8881.808604513526.\n"
     ]
    },
    {
     "name": "stdout",
     "output_type": "stream",
     "text": [
      "Validation RMSE: 8973.832778988914\n"
     ]
    },
    {
     "name": "stderr",
     "output_type": "stream",
     "text": [
      "[I 2025-07-23 16:47:34,812] Trial 218 finished with value: 9131.503447763733 and parameters: {'num_leaves': 98, 'max_depth': 48, 'learning_rate': 0.06500826428288704, 'n_estimators': 455, 'min_child_samples': 10, 'feature_fraction': 0.9906373302559903, 'bagging_fraction': 0.9805647088789731, 'bagging_freq': 8, 'price_upper_bound': 58500, 'price_lower_bound': 2400, 'smoothing': 0.017961807858874985, 'min_samples_leaf': 7, 'noise_level': 0.1025378138830694}. Best is trial 201 with value: 8881.808604513526.\n"
     ]
    },
    {
     "name": "stdout",
     "output_type": "stream",
     "text": [
      "Validation RMSE: 9131.503447763733\n"
     ]
    },
    {
     "name": "stderr",
     "output_type": "stream",
     "text": [
      "[I 2025-07-23 16:47:38,823] Trial 219 finished with value: 9100.132313483571 and parameters: {'num_leaves': 92, 'max_depth': 47, 'learning_rate': 0.05747665636952087, 'n_estimators': 435, 'min_child_samples': 8, 'feature_fraction': 0.9562049334096093, 'bagging_fraction': 0.9568451613645783, 'bagging_freq': 8, 'price_upper_bound': 60000, 'price_lower_bound': 2700, 'smoothing': 0.026106805171098237, 'min_samples_leaf': 5, 'noise_level': 0.22185943110065523}. Best is trial 201 with value: 8881.808604513526.\n"
     ]
    },
    {
     "name": "stdout",
     "output_type": "stream",
     "text": [
      "Validation RMSE: 9100.132313483571\n"
     ]
    },
    {
     "name": "stderr",
     "output_type": "stream",
     "text": [
      "[I 2025-07-23 16:47:41,826] Trial 220 finished with value: 9123.913375496237 and parameters: {'num_leaves': 95, 'max_depth': 46, 'learning_rate': 0.045048152105083214, 'n_estimators': 464, 'min_child_samples': 61, 'feature_fraction': 0.9996186639679344, 'bagging_fraction': 0.7072860897793668, 'bagging_freq': 10, 'price_upper_bound': 58000, 'price_lower_bound': 2400, 'smoothing': 0.034026929530974345, 'min_samples_leaf': 6, 'noise_level': 0.25349336666140504}. Best is trial 201 with value: 8881.808604513526.\n"
     ]
    },
    {
     "name": "stdout",
     "output_type": "stream",
     "text": [
      "Validation RMSE: 9123.913375496237\n"
     ]
    },
    {
     "name": "stderr",
     "output_type": "stream",
     "text": [
      "[I 2025-07-23 16:47:46,467] Trial 221 finished with value: 8966.552370901052 and parameters: {'num_leaves': 97, 'max_depth': 49, 'learning_rate': 0.031670931970425635, 'n_estimators': 473, 'min_child_samples': 5, 'feature_fraction': 0.9358462857759114, 'bagging_fraction': 0.927494171959866, 'bagging_freq': 1, 'price_upper_bound': 57000, 'price_lower_bound': 2600, 'smoothing': 0.014520853673014776, 'min_samples_leaf': 5, 'noise_level': 0.34300243419119386}. Best is trial 201 with value: 8881.808604513526.\n"
     ]
    },
    {
     "name": "stdout",
     "output_type": "stream",
     "text": [
      "Validation RMSE: 8966.552370901052\n"
     ]
    },
    {
     "name": "stderr",
     "output_type": "stream",
     "text": [
      "[I 2025-07-23 16:47:51,266] Trial 222 finished with value: 8984.558522700381 and parameters: {'num_leaves': 99, 'max_depth': 50, 'learning_rate': 0.03476777522221953, 'n_estimators': 475, 'min_child_samples': 7, 'feature_fraction': 0.9459970454297447, 'bagging_fraction': 0.9177758259623305, 'bagging_freq': 1, 'price_upper_bound': 59000, 'price_lower_bound': 2500, 'smoothing': 0.010832904374133749, 'min_samples_leaf': 5, 'noise_level': 0.3904341850486426}. Best is trial 201 with value: 8881.808604513526.\n"
     ]
    },
    {
     "name": "stdout",
     "output_type": "stream",
     "text": [
      "Validation RMSE: 8984.558522700381\n"
     ]
    },
    {
     "name": "stderr",
     "output_type": "stream",
     "text": [
      "[I 2025-07-23 16:47:55,995] Trial 223 finished with value: 9005.49976387324 and parameters: {'num_leaves': 94, 'max_depth': 48, 'learning_rate': 0.03549321138156721, 'n_estimators': 491, 'min_child_samples': 5, 'feature_fraction': 0.9182725197635974, 'bagging_fraction': 0.940377769383759, 'bagging_freq': 4, 'price_upper_bound': 56500, 'price_lower_bound': 2700, 'smoothing': 0.014304897255610101, 'min_samples_leaf': 5, 'noise_level': 0.30008200466615764}. Best is trial 201 with value: 8881.808604513526.\n"
     ]
    },
    {
     "name": "stdout",
     "output_type": "stream",
     "text": [
      "Validation RMSE: 9005.49976387324\n"
     ]
    },
    {
     "name": "stderr",
     "output_type": "stream",
     "text": [
      "[I 2025-07-23 16:48:00,376] Trial 224 finished with value: 9065.820280356633 and parameters: {'num_leaves': 97, 'max_depth': 49, 'learning_rate': 0.04013027099417348, 'n_estimators': 456, 'min_child_samples': 7, 'feature_fraction': 0.9738212828151585, 'bagging_fraction': 0.9446372471548957, 'bagging_freq': 8, 'price_upper_bound': 57500, 'price_lower_bound': 2100, 'smoothing': 0.012611445611693901, 'min_samples_leaf': 5, 'noise_level': 0.22500579072581978}. Best is trial 201 with value: 8881.808604513526.\n"
     ]
    },
    {
     "name": "stdout",
     "output_type": "stream",
     "text": [
      "Validation RMSE: 9065.820280356633\n"
     ]
    },
    {
     "name": "stderr",
     "output_type": "stream",
     "text": [
      "[I 2025-07-23 16:48:04,711] Trial 225 finished with value: 9051.352585034836 and parameters: {'num_leaves': 92, 'max_depth': 50, 'learning_rate': 0.0332076677206016, 'n_estimators': 469, 'min_child_samples': 9, 'feature_fraction': 0.9294153858018279, 'bagging_fraction': 0.9048946414327608, 'bagging_freq': 1, 'price_upper_bound': 59000, 'price_lower_bound': 2600, 'smoothing': 0.01392852524449368, 'min_samples_leaf': 5, 'noise_level': 0.35618878977893326}. Best is trial 201 with value: 8881.808604513526.\n"
     ]
    },
    {
     "name": "stdout",
     "output_type": "stream",
     "text": [
      "Validation RMSE: 9051.352585034836\n"
     ]
    },
    {
     "name": "stderr",
     "output_type": "stream",
     "text": [
      "[I 2025-07-23 16:48:08,179] Trial 226 finished with value: 9008.281696775704 and parameters: {'num_leaves': 82, 'max_depth': 46, 'learning_rate': 0.13360330219055408, 'n_estimators': 427, 'min_child_samples': 5, 'feature_fraction': 0.9406523421667397, 'bagging_fraction': 0.9267163841360907, 'bagging_freq': 1, 'price_upper_bound': 60000, 'price_lower_bound': 2500, 'smoothing': 0.016559232614163952, 'min_samples_leaf': 5, 'noise_level': 0.2760636457341826}. Best is trial 201 with value: 8881.808604513526.\n"
     ]
    },
    {
     "name": "stdout",
     "output_type": "stream",
     "text": [
      "Validation RMSE: 9008.281696775704\n"
     ]
    },
    {
     "name": "stderr",
     "output_type": "stream",
     "text": [
      "[I 2025-07-23 16:48:11,933] Trial 227 finished with value: 9103.275792978071 and parameters: {'num_leaves': 95, 'max_depth': 48, 'learning_rate': 0.06706085930297563, 'n_estimators': 483, 'min_child_samples': 68, 'feature_fraction': 0.95674421217058, 'bagging_fraction': 0.9709700527999325, 'bagging_freq': 1, 'price_upper_bound': 58000, 'price_lower_bound': 2800, 'smoothing': 0.020837823863999898, 'min_samples_leaf': 5, 'noise_level': 0.09113314775683828}. Best is trial 201 with value: 8881.808604513526.\n"
     ]
    },
    {
     "name": "stdout",
     "output_type": "stream",
     "text": [
      "Validation RMSE: 9103.275792978071\n"
     ]
    },
    {
     "name": "stderr",
     "output_type": "stream",
     "text": [
      "[I 2025-07-23 16:48:16,205] Trial 228 finished with value: 8958.66554471397 and parameters: {'num_leaves': 93, 'max_depth': 47, 'learning_rate': 0.060654652473048735, 'n_estimators': 447, 'min_child_samples': 11, 'feature_fraction': 0.9701680715988844, 'bagging_fraction': 0.9496821208564695, 'bagging_freq': 10, 'price_upper_bound': 57000, 'price_lower_bound': 2200, 'smoothing': 0.03005627271615703, 'min_samples_leaf': 6, 'noise_level': 0.31750900331818355}. Best is trial 201 with value: 8881.808604513526.\n"
     ]
    },
    {
     "name": "stdout",
     "output_type": "stream",
     "text": [
      "Validation RMSE: 8958.66554471397\n"
     ]
    },
    {
     "name": "stderr",
     "output_type": "stream",
     "text": [
      "[I 2025-07-23 16:48:16,870] Trial 229 finished with value: 9085.168560494412 and parameters: {'num_leaves': 10, 'max_depth': 45, 'learning_rate': 0.05095180792620191, 'n_estimators': 440, 'min_child_samples': 12, 'feature_fraction': 0.9732045599176203, 'bagging_fraction': 0.9548594529082743, 'bagging_freq': 8, 'price_upper_bound': 56500, 'price_lower_bound': 2200, 'smoothing': 0.030525157498376063, 'min_samples_leaf': 6, 'noise_level': 0.3125389154656224}. Best is trial 201 with value: 8881.808604513526.\n"
     ]
    },
    {
     "name": "stdout",
     "output_type": "stream",
     "text": [
      "Validation RMSE: 9085.168560494412\n"
     ]
    },
    {
     "name": "stderr",
     "output_type": "stream",
     "text": [
      "[I 2025-07-23 16:48:20,950] Trial 230 finished with value: 8925.697605768039 and parameters: {'num_leaves': 96, 'max_depth': 47, 'learning_rate': 0.037942588768210016, 'n_estimators': 449, 'min_child_samples': 15, 'feature_fraction': 0.9885273057152881, 'bagging_fraction': 0.9619161179754859, 'bagging_freq': 9, 'price_upper_bound': 57500, 'price_lower_bound': 1800, 'smoothing': 0.038177592794366416, 'min_samples_leaf': 6, 'noise_level': 0.3321986354781633}. Best is trial 201 with value: 8881.808604513526.\n"
     ]
    },
    {
     "name": "stdout",
     "output_type": "stream",
     "text": [
      "Validation RMSE: 8925.697605768039\n"
     ]
    },
    {
     "name": "stderr",
     "output_type": "stream",
     "text": [
      "[I 2025-07-23 16:48:25,431] Trial 231 finished with value: 8994.86466767403 and parameters: {'num_leaves': 96, 'max_depth': 47, 'learning_rate': 0.03792329468780438, 'n_estimators': 449, 'min_child_samples': 16, 'feature_fraction': 0.9853381082307193, 'bagging_fraction': 0.9639116594727437, 'bagging_freq': 9, 'price_upper_bound': 57000, 'price_lower_bound': 1800, 'smoothing': 0.03613951044205209, 'min_samples_leaf': 6, 'noise_level': 0.3338450205093181}. Best is trial 201 with value: 8881.808604513526.\n"
     ]
    },
    {
     "name": "stdout",
     "output_type": "stream",
     "text": [
      "Validation RMSE: 8994.86466767403\n"
     ]
    },
    {
     "name": "stderr",
     "output_type": "stream",
     "text": [
      "[I 2025-07-23 16:48:26,452] Trial 232 finished with value: 9134.748909753256 and parameters: {'num_leaves': 98, 'max_depth': 5, 'learning_rate': 0.03193078333369897, 'n_estimators': 449, 'min_child_samples': 14, 'feature_fraction': 0.9679270400362466, 'bagging_fraction': 0.9429012492638913, 'bagging_freq': 9, 'price_upper_bound': 58500, 'price_lower_bound': 1600, 'smoothing': 0.03234518051903462, 'min_samples_leaf': 6, 'noise_level': 0.36588496111348595}. Best is trial 201 with value: 8881.808604513526.\n"
     ]
    },
    {
     "name": "stdout",
     "output_type": "stream",
     "text": [
      "Validation RMSE: 9134.748909753256\n"
     ]
    },
    {
     "name": "stderr",
     "output_type": "stream",
     "text": [
      "[I 2025-07-23 16:48:30,451] Trial 233 finished with value: 9037.292729898063 and parameters: {'num_leaves': 94, 'max_depth': 46, 'learning_rate': 0.04309879887466727, 'n_estimators': 439, 'min_child_samples': 11, 'feature_fraction': 0.986466704820479, 'bagging_fraction': 0.9525832636335109, 'bagging_freq': 9, 'price_upper_bound': 56000, 'price_lower_bound': 1800, 'smoothing': 0.03964048322749698, 'min_samples_leaf': 6, 'noise_level': 0.31627929540890737}. Best is trial 201 with value: 8881.808604513526.\n"
     ]
    },
    {
     "name": "stdout",
     "output_type": "stream",
     "text": [
      "Validation RMSE: 9037.292729898063\n"
     ]
    },
    {
     "name": "stderr",
     "output_type": "stream",
     "text": [
      "[I 2025-07-23 16:48:33,829] Trial 234 finished with value: 9169.578826272258 and parameters: {'num_leaves': 79, 'max_depth': 49, 'learning_rate': 0.03648238060949479, 'n_estimators': 431, 'min_child_samples': 10, 'feature_fraction': 0.9768973408454433, 'bagging_fraction': 0.9827344882938803, 'bagging_freq': 10, 'price_upper_bound': 46000, 'price_lower_bound': 2000, 'smoothing': 0.043586508486221295, 'min_samples_leaf': 6, 'noise_level': 0.27725065545504063}. Best is trial 201 with value: 8881.808604513526.\n"
     ]
    },
    {
     "name": "stdout",
     "output_type": "stream",
     "text": [
      "Validation RMSE: 9169.578826272258\n"
     ]
    },
    {
     "name": "stderr",
     "output_type": "stream",
     "text": [
      "[I 2025-07-23 16:48:38,287] Trial 235 finished with value: 9070.278103298899 and parameters: {'num_leaves': 96, 'max_depth': 47, 'learning_rate': 0.058405729937921654, 'n_estimators': 453, 'min_child_samples': 7, 'feature_fraction': 0.9994491314491387, 'bagging_fraction': 0.9347248170031586, 'bagging_freq': 9, 'price_upper_bound': 57500, 'price_lower_bound': 2100, 'smoothing': 0.03528109460017744, 'min_samples_leaf': 6, 'noise_level': 0.19233709188075274}. Best is trial 201 with value: 8881.808604513526.\n"
     ]
    },
    {
     "name": "stdout",
     "output_type": "stream",
     "text": [
      "Validation RMSE: 9070.278103298899\n"
     ]
    },
    {
     "name": "stderr",
     "output_type": "stream",
     "text": [
      "[I 2025-07-23 16:48:42,245] Trial 236 finished with value: 8980.604375799961 and parameters: {'num_leaves': 93, 'max_depth': 45, 'learning_rate': 0.030456542732055107, 'n_estimators': 414, 'min_child_samples': 9, 'feature_fraction': 0.9619600929376858, 'bagging_fraction': 0.9697966547387035, 'bagging_freq': 8, 'price_upper_bound': 59000, 'price_lower_bound': 2200, 'smoothing': 0.012077517795370554, 'min_samples_leaf': 7, 'noise_level': 0.24108966711799207}. Best is trial 201 with value: 8881.808604513526.\n"
     ]
    },
    {
     "name": "stdout",
     "output_type": "stream",
     "text": [
      "Validation RMSE: 8980.604375799961\n"
     ]
    },
    {
     "name": "stderr",
     "output_type": "stream",
     "text": [
      "[I 2025-07-23 16:48:46,777] Trial 237 finished with value: 9004.61590909197 and parameters: {'num_leaves': 100, 'max_depth': 49, 'learning_rate': 0.03961797204956826, 'n_estimators': 461, 'min_child_samples': 5, 'feature_fraction': 0.9510727574828733, 'bagging_fraction': 0.9606429885730737, 'bagging_freq': 10, 'price_upper_bound': 58000, 'price_lower_bound': 2000, 'smoothing': 0.016339108506983675, 'min_samples_leaf': 6, 'noise_level': 0.4093945461404809}. Best is trial 201 with value: 8881.808604513526.\n"
     ]
    },
    {
     "name": "stdout",
     "output_type": "stream",
     "text": [
      "Validation RMSE: 9004.61590909197\n"
     ]
    },
    {
     "name": "stderr",
     "output_type": "stream",
     "text": [
      "[I 2025-07-23 16:48:50,694] Trial 238 finished with value: 9215.66149666651 and parameters: {'num_leaves': 90, 'max_depth': 47, 'learning_rate': 0.04768435317406727, 'n_estimators': 441, 'min_child_samples': 12, 'feature_fraction': 0.9868420484992422, 'bagging_fraction': 0.9492236714133632, 'bagging_freq': 9, 'price_upper_bound': 57000, 'price_lower_bound': 3000, 'smoothing': 0.02816492257567235, 'min_samples_leaf': 7, 'noise_level': 0.29080172671821186}. Best is trial 201 with value: 8881.808604513526.\n"
     ]
    },
    {
     "name": "stdout",
     "output_type": "stream",
     "text": [
      "Validation RMSE: 9215.66149666651\n"
     ]
    },
    {
     "name": "stderr",
     "output_type": "stream",
     "text": [
      "[I 2025-07-23 16:48:55,044] Trial 239 finished with value: 9117.563234148294 and parameters: {'num_leaves': 97, 'max_depth': 50, 'learning_rate': 0.054547210006305635, 'n_estimators': 472, 'min_child_samples': 7, 'feature_fraction': 0.9723172409007713, 'bagging_fraction': 0.9916830329470456, 'bagging_freq': 8, 'price_upper_bound': 59000, 'price_lower_bound': 1500, 'smoothing': 0.038332791765230356, 'min_samples_leaf': 6, 'noise_level': 0.26017914927543356}. Best is trial 201 with value: 8881.808604513526.\n"
     ]
    },
    {
     "name": "stdout",
     "output_type": "stream",
     "text": [
      "Validation RMSE: 9117.563234148294\n"
     ]
    },
    {
     "name": "stderr",
     "output_type": "stream",
     "text": [
      "[I 2025-07-23 16:48:59,093] Trial 240 finished with value: 9030.838578845744 and parameters: {'num_leaves': 94, 'max_depth': 48, 'learning_rate': 0.06028132494878383, 'n_estimators': 448, 'min_child_samples': 9, 'feature_fraction': 0.8329430441137008, 'bagging_fraction': 0.931867404220759, 'bagging_freq': 10, 'price_upper_bound': 55500, 'price_lower_bound': 2800, 'smoothing': 0.01867601342275608, 'min_samples_leaf': 5, 'noise_level': 0.35052282778633015}. Best is trial 201 with value: 8881.808604513526.\n"
     ]
    },
    {
     "name": "stdout",
     "output_type": "stream",
     "text": [
      "Validation RMSE: 9030.838578845744\n"
     ]
    },
    {
     "name": "stderr",
     "output_type": "stream",
     "text": [
      "[I 2025-07-23 16:49:03,724] Trial 241 finished with value: 9077.542244350809 and parameters: {'num_leaves': 92, 'max_depth': 48, 'learning_rate': 0.06262650546702869, 'n_estimators': 462, 'min_child_samples': 7, 'feature_fraction': 0.9221093372202167, 'bagging_fraction': 0.9184126426512379, 'bagging_freq': 10, 'price_upper_bound': 60000, 'price_lower_bound': 2600, 'smoothing': 0.029742081617041075, 'min_samples_leaf': 5, 'noise_level': 0.11196940201262312}. Best is trial 201 with value: 8881.808604513526.\n"
     ]
    },
    {
     "name": "stdout",
     "output_type": "stream",
     "text": [
      "Validation RMSE: 9077.542244350809\n"
     ]
    },
    {
     "name": "stderr",
     "output_type": "stream",
     "text": [
      "[I 2025-07-23 16:49:08,256] Trial 242 finished with value: 8977.659318750128 and parameters: {'num_leaves': 91, 'max_depth': 47, 'learning_rate': 0.06644051169195159, 'n_estimators': 478, 'min_child_samples': 5, 'feature_fraction': 0.9608021298492879, 'bagging_fraction': 0.9443982232816693, 'bagging_freq': 10, 'price_upper_bound': 59500, 'price_lower_bound': 2300, 'smoothing': 0.033787460814725584, 'min_samples_leaf': 5, 'noise_level': 0.21169063476903696}. Best is trial 201 with value: 8881.808604513526.\n"
     ]
    },
    {
     "name": "stdout",
     "output_type": "stream",
     "text": [
      "Validation RMSE: 8977.659318750128\n"
     ]
    },
    {
     "name": "stderr",
     "output_type": "stream",
     "text": [
      "[I 2025-07-23 16:49:09,545] Trial 243 finished with value: 9088.898755796146 and parameters: {'num_leaves': 24, 'max_depth': 46, 'learning_rate': 0.06175610919551634, 'n_estimators': 460, 'min_child_samples': 7, 'feature_fraction': 0.9425100352672171, 'bagging_fraction': 0.9212125590189769, 'bagging_freq': 10, 'price_upper_bound': 58500, 'price_lower_bound': 2700, 'smoothing': 0.024152858954408336, 'min_samples_leaf': 5, 'noise_level': 0.3185055182805769}. Best is trial 201 with value: 8881.808604513526.\n"
     ]
    },
    {
     "name": "stdout",
     "output_type": "stream",
     "text": [
      "Validation RMSE: 9088.898755796146\n"
     ]
    },
    {
     "name": "stderr",
     "output_type": "stream",
     "text": [
      "[I 2025-07-23 16:49:13,963] Trial 244 finished with value: 9016.428205115319 and parameters: {'num_leaves': 93, 'max_depth': 49, 'learning_rate': 0.041605254506275384, 'n_estimators': 466, 'min_child_samples': 9, 'feature_fraction': 0.9075351543984288, 'bagging_fraction': 0.9060214448728994, 'bagging_freq': 10, 'price_upper_bound': 60000, 'price_lower_bound': 2500, 'smoothing': 0.03237594954751258, 'min_samples_leaf': 5, 'noise_level': 0.15074751520426427}. Best is trial 201 with value: 8881.808604513526.\n"
     ]
    },
    {
     "name": "stdout",
     "output_type": "stream",
     "text": [
      "Validation RMSE: 9016.428205115319\n"
     ]
    },
    {
     "name": "stderr",
     "output_type": "stream",
     "text": [
      "[I 2025-07-23 16:49:18,656] Trial 245 finished with value: 9023.756258135469 and parameters: {'num_leaves': 95, 'max_depth': 48, 'learning_rate': 0.055473386196915386, 'n_estimators': 500, 'min_child_samples': 5, 'feature_fraction': 0.9775508597500107, 'bagging_fraction': 0.9608115858517993, 'bagging_freq': 10, 'price_upper_bound': 58000, 'price_lower_bound': 1900, 'smoothing': 0.6272603777921699, 'min_samples_leaf': 6, 'noise_level': 0.09746486896392031}. Best is trial 201 with value: 8881.808604513526.\n"
     ]
    },
    {
     "name": "stdout",
     "output_type": "stream",
     "text": [
      "Validation RMSE: 9023.756258135469\n"
     ]
    },
    {
     "name": "stderr",
     "output_type": "stream",
     "text": [
      "[I 2025-07-23 16:49:22,506] Trial 246 finished with value: 9002.020158846515 and parameters: {'num_leaves': 90, 'max_depth': 46, 'learning_rate': 0.06993176167780743, 'n_estimators': 434, 'min_child_samples': 11, 'feature_fraction': 0.9329634990049198, 'bagging_fraction': 0.9329368917440342, 'bagging_freq': 8, 'price_upper_bound': 59000, 'price_lower_bound': 2200, 'smoothing': 0.015010787480072573, 'min_samples_leaf': 5, 'noise_level': 0.25477767604586443}. Best is trial 201 with value: 8881.808604513526.\n"
     ]
    },
    {
     "name": "stdout",
     "output_type": "stream",
     "text": [
      "Validation RMSE: 9002.020158846515\n"
     ]
    },
    {
     "name": "stderr",
     "output_type": "stream",
     "text": [
      "[I 2025-07-23 16:49:26,129] Trial 247 finished with value: 8999.663963287605 and parameters: {'num_leaves': 81, 'max_depth': 23, 'learning_rate': 0.06487633097445822, 'n_estimators': 452, 'min_child_samples': 7, 'feature_fraction': 0.9536959921321497, 'bagging_fraction': 0.9750588408399323, 'bagging_freq': 1, 'price_upper_bound': 57500, 'price_lower_bound': 2400, 'smoothing': 0.1457122745738869, 'min_samples_leaf': 5, 'noise_level': 0.17269526369151578}. Best is trial 201 with value: 8881.808604513526.\n"
     ]
    },
    {
     "name": "stdout",
     "output_type": "stream",
     "text": [
      "Validation RMSE: 8999.663963287605\n"
     ]
    },
    {
     "name": "stderr",
     "output_type": "stream",
     "text": [
      "[I 2025-07-23 16:49:30,102] Trial 248 finished with value: 9023.862959847651 and parameters: {'num_leaves': 84, 'max_depth': 45, 'learning_rate': 0.06067404453611174, 'n_estimators': 487, 'min_child_samples': 15, 'feature_fraction': 0.9651834753942173, 'bagging_fraction': 0.9471142479804986, 'bagging_freq': 10, 'price_upper_bound': 60000, 'price_lower_bound': 2100, 'smoothing': 0.027197027949549812, 'min_samples_leaf': 4, 'noise_level': 0.0873414181625573}. Best is trial 201 with value: 8881.808604513526.\n"
     ]
    },
    {
     "name": "stdout",
     "output_type": "stream",
     "text": [
      "Validation RMSE: 9023.862959847651\n"
     ]
    },
    {
     "name": "stderr",
     "output_type": "stream",
     "text": [
      "[I 2025-07-23 16:49:34,169] Trial 249 finished with value: 9140.59087465985 and parameters: {'num_leaves': 93, 'max_depth': 50, 'learning_rate': 0.1644840910606964, 'n_estimators': 444, 'min_child_samples': 8, 'feature_fraction': 0.9874533846655306, 'bagging_fraction': 0.9266452172907225, 'bagging_freq': 9, 'price_upper_bound': 58500, 'price_lower_bound': 3200, 'smoothing': 0.021264584191040804, 'min_samples_leaf': 6, 'noise_level': 0.2843727891647108}. Best is trial 201 with value: 8881.808604513526.\n"
     ]
    },
    {
     "name": "stdout",
     "output_type": "stream",
     "text": [
      "Validation RMSE: 9140.59087465985\n"
     ]
    },
    {
     "name": "stderr",
     "output_type": "stream",
     "text": [
      "[I 2025-07-23 16:49:39,700] Trial 250 finished with value: 9050.4406665385 and parameters: {'num_leaves': 96, 'max_depth': 48, 'learning_rate': 0.03748856602647501, 'n_estimators': 476, 'min_child_samples': 10, 'feature_fraction': 0.465061769417058, 'bagging_fraction': 0.9573453503791908, 'bagging_freq': 8, 'price_upper_bound': 57000, 'price_lower_bound': 2600, 'smoothing': 0.017752716168248497, 'min_samples_leaf': 6, 'noise_level': 0.12224719639408103}. Best is trial 201 with value: 8881.808604513526.\n"
     ]
    },
    {
     "name": "stdout",
     "output_type": "stream",
     "text": [
      "Validation RMSE: 9050.4406665385\n"
     ]
    },
    {
     "name": "stderr",
     "output_type": "stream",
     "text": [
      "[I 2025-07-23 16:49:43,185] Trial 251 finished with value: 9323.715351683379 and parameters: {'num_leaves': 78, 'max_depth': 49, 'learning_rate': 0.23208739887750746, 'n_estimators': 457, 'min_child_samples': 13, 'feature_fraction': 0.9993743464514786, 'bagging_fraction': 0.7303942034400646, 'bagging_freq': 10, 'price_upper_bound': 59000, 'price_lower_bound': 2800, 'smoothing': 0.013721240293824523, 'min_samples_leaf': 5, 'noise_level': 0.19828986175880062}. Best is trial 201 with value: 8881.808604513526.\n"
     ]
    },
    {
     "name": "stdout",
     "output_type": "stream",
     "text": [
      "Validation RMSE: 9323.715351683379\n"
     ]
    },
    {
     "name": "stderr",
     "output_type": "stream",
     "text": [
      "[I 2025-07-23 16:49:45,668] Trial 252 finished with value: 9092.903580878194 and parameters: {'num_leaves': 98, 'max_depth': 47, 'learning_rate': 0.04992887982032138, 'n_estimators': 425, 'min_child_samples': 96, 'feature_fraction': 0.9394103227808622, 'bagging_fraction': 0.9380317198835356, 'bagging_freq': 8, 'price_upper_bound': 60000, 'price_lower_bound': 1300, 'smoothing': 0.02910730400360127, 'min_samples_leaf': 5, 'noise_level': 0.13200335874463273}. Best is trial 201 with value: 8881.808604513526.\n"
     ]
    },
    {
     "name": "stdout",
     "output_type": "stream",
     "text": [
      "Validation RMSE: 9092.903580878194\n"
     ]
    },
    {
     "name": "stderr",
     "output_type": "stream",
     "text": [
      "[I 2025-07-23 16:49:50,168] Trial 253 finished with value: 9017.4661757495 and parameters: {'num_leaves': 92, 'max_depth': 50, 'learning_rate': 0.04451860467603175, 'n_estimators': 471, 'min_child_samples': 5, 'feature_fraction': 0.8776112595307587, 'bagging_fraction': 0.9113278918329805, 'bagging_freq': 10, 'price_upper_bound': 58000, 'price_lower_bound': 2300, 'smoothing': 0.01936606307165695, 'min_samples_leaf': 6, 'noise_level': 0.07615405032054487}. Best is trial 201 with value: 8881.808604513526.\n"
     ]
    },
    {
     "name": "stdout",
     "output_type": "stream",
     "text": [
      "Validation RMSE: 9017.4661757495\n"
     ]
    },
    {
     "name": "stderr",
     "output_type": "stream",
     "text": [
      "[I 2025-07-23 16:49:53,874] Trial 254 finished with value: 8958.846000857387 and parameters: {'num_leaves': 95, 'max_depth': 48, 'learning_rate': 0.07465393536145704, 'n_estimators': 407, 'min_child_samples': 7, 'feature_fraction': 0.9199002632677984, 'bagging_fraction': 0.9747078213728233, 'bagging_freq': 9, 'price_upper_bound': 56000, 'price_lower_bound': 2500, 'smoothing': 0.25360679007968007, 'min_samples_leaf': 5, 'noise_level': 0.23178997964683037}. Best is trial 201 with value: 8881.808604513526.\n"
     ]
    },
    {
     "name": "stdout",
     "output_type": "stream",
     "text": [
      "Validation RMSE: 8958.846000857387\n"
     ]
    },
    {
     "name": "stderr",
     "output_type": "stream",
     "text": [
      "[I 2025-07-23 16:49:57,562] Trial 255 finished with value: 9039.855748570706 and parameters: {'num_leaves': 96, 'max_depth': 47, 'learning_rate': 0.07467497646595675, 'n_estimators': 405, 'min_child_samples': 9, 'feature_fraction': 0.971439887261506, 'bagging_fraction': 0.9997396963637895, 'bagging_freq': 9, 'price_upper_bound': 55500, 'price_lower_bound': 2700, 'smoothing': 0.27270010241477327, 'min_samples_leaf': 5, 'noise_level': 0.22959154755278227}. Best is trial 201 with value: 8881.808604513526.\n"
     ]
    },
    {
     "name": "stdout",
     "output_type": "stream",
     "text": [
      "Validation RMSE: 9039.855748570706\n"
     ]
    },
    {
     "name": "stderr",
     "output_type": "stream",
     "text": [
      "[I 2025-07-23 16:50:01,240] Trial 256 finished with value: 8940.625513906105 and parameters: {'num_leaves': 94, 'max_depth': 49, 'learning_rate': 0.07036439095205888, 'n_estimators': 399, 'min_child_samples': 6, 'feature_fraction': 0.9527563083997451, 'bagging_fraction': 0.984521728789086, 'bagging_freq': 9, 'price_upper_bound': 56500, 'price_lower_bound': 1800, 'smoothing': 0.015669178180129674, 'min_samples_leaf': 5, 'noise_level': 0.23648785412561912}. Best is trial 201 with value: 8881.808604513526.\n"
     ]
    },
    {
     "name": "stdout",
     "output_type": "stream",
     "text": [
      "Validation RMSE: 8940.625513906105\n"
     ]
    },
    {
     "name": "stderr",
     "output_type": "stream",
     "text": [
      "[I 2025-07-23 16:50:05,070] Trial 257 finished with value: 9031.493076307603 and parameters: {'num_leaves': 95, 'max_depth': 45, 'learning_rate': 0.07222091268356157, 'n_estimators': 393, 'min_child_samples': 5, 'feature_fraction': 0.9547549796433283, 'bagging_fraction': 0.9872108858241492, 'bagging_freq': 9, 'price_upper_bound': 56000, 'price_lower_bound': 1800, 'smoothing': 0.014951830854259565, 'min_samples_leaf': 6, 'noise_level': 0.241063824210816}. Best is trial 201 with value: 8881.808604513526.\n"
     ]
    },
    {
     "name": "stdout",
     "output_type": "stream",
     "text": [
      "Validation RMSE: 9031.493076307603\n"
     ]
    },
    {
     "name": "stderr",
     "output_type": "stream",
     "text": [
      "[I 2025-07-23 16:50:08,792] Trial 258 finished with value: 9078.057447816234 and parameters: {'num_leaves': 94, 'max_depth': 46, 'learning_rate': 0.07848819535150675, 'n_estimators': 403, 'min_child_samples': 7, 'feature_fraction': 0.9814880923140559, 'bagging_fraction': 0.9763938322394728, 'bagging_freq': 9, 'price_upper_bound': 56500, 'price_lower_bound': 2100, 'smoothing': 0.23529927845953136, 'min_samples_leaf': 5, 'noise_level': 0.26035772213134983}. Best is trial 201 with value: 8881.808604513526.\n"
     ]
    },
    {
     "name": "stdout",
     "output_type": "stream",
     "text": [
      "Validation RMSE: 9078.057447816234\n"
     ]
    },
    {
     "name": "stderr",
     "output_type": "stream",
     "text": [
      "[I 2025-07-23 16:50:12,710] Trial 259 finished with value: 8974.428914749005 and parameters: {'num_leaves': 98, 'max_depth': 44, 'learning_rate': 0.06990959914622875, 'n_estimators': 396, 'min_child_samples': 6, 'feature_fraction': 0.9606869179080886, 'bagging_fraction': 0.9771974932500186, 'bagging_freq': 9, 'price_upper_bound': 54000, 'price_lower_bound': 1900, 'smoothing': 0.5469259236421378, 'min_samples_leaf': 5, 'noise_level': 0.2286949809821594}. Best is trial 201 with value: 8881.808604513526.\n"
     ]
    },
    {
     "name": "stdout",
     "output_type": "stream",
     "text": [
      "Validation RMSE: 8974.428914749005\n"
     ]
    },
    {
     "name": "stderr",
     "output_type": "stream",
     "text": [
      "[I 2025-07-23 16:50:16,352] Trial 260 finished with value: 9598.485493194295 and parameters: {'num_leaves': 88, 'max_depth': 48, 'learning_rate': 0.06618109845686397, 'n_estimators': 426, 'min_child_samples': 11, 'feature_fraction': 0.988917008861094, 'bagging_fraction': 0.9659473084963016, 'bagging_freq': 9, 'price_upper_bound': 34500, 'price_lower_bound': 1800, 'smoothing': 0.011561235160485302, 'min_samples_leaf': 7, 'noise_level': 0.2167263513285708}. Best is trial 201 with value: 8881.808604513526.\n"
     ]
    },
    {
     "name": "stdout",
     "output_type": "stream",
     "text": [
      "Validation RMSE: 9598.485493194295\n"
     ]
    },
    {
     "name": "stderr",
     "output_type": "stream",
     "text": [
      "[I 2025-07-23 16:50:20,397] Trial 261 finished with value: 9061.301866371474 and parameters: {'num_leaves': 99, 'max_depth': 47, 'learning_rate': 0.05826614783793546, 'n_estimators': 418, 'min_child_samples': 38, 'feature_fraction': 0.9689362313272291, 'bagging_fraction': 0.985696989379037, 'bagging_freq': 9, 'price_upper_bound': 57000, 'price_lower_bound': 1600, 'smoothing': 0.016033043153878296, 'min_samples_leaf': 6, 'noise_level': 0.33714683828624076}. Best is trial 201 with value: 8881.808604513526.\n"
     ]
    },
    {
     "name": "stdout",
     "output_type": "stream",
     "text": [
      "Validation RMSE: 9061.301866371474\n"
     ]
    },
    {
     "name": "stderr",
     "output_type": "stream",
     "text": [
      "[I 2025-07-23 16:50:24,285] Trial 262 finished with value: 8959.232691307532 and parameters: {'num_leaves': 94, 'max_depth': 49, 'learning_rate': 0.0692332207884944, 'n_estimators': 418, 'min_child_samples': 9, 'feature_fraction': 0.9125192425533831, 'bagging_fraction': 0.9712097847933651, 'bagging_freq': 9, 'price_upper_bound': 58500, 'price_lower_bound': 1700, 'smoothing': 0.1595225349815015, 'min_samples_leaf': 5, 'noise_level': 0.28823485987907604}. Best is trial 201 with value: 8881.808604513526.\n"
     ]
    },
    {
     "name": "stdout",
     "output_type": "stream",
     "text": [
      "Validation RMSE: 8959.232691307532\n"
     ]
    },
    {
     "name": "stderr",
     "output_type": "stream",
     "text": [
      "[I 2025-07-23 16:50:24,567] Trial 263 finished with value: 9650.252522528212 and parameters: {'num_leaves': 91, 'max_depth': 1, 'learning_rate': 0.06824356849931484, 'n_estimators': 408, 'min_child_samples': 5, 'feature_fraction': 0.9017990799711061, 'bagging_fraction': 0.9718819116263159, 'bagging_freq': 9, 'price_upper_bound': 58500, 'price_lower_bound': 1700, 'smoothing': 0.2072612497643273, 'min_samples_leaf': 5, 'noise_level': 0.2624398642319395}. Best is trial 201 with value: 8881.808604513526.\n"
     ]
    },
    {
     "name": "stdout",
     "output_type": "stream",
     "text": [
      "Validation RMSE: 9650.252522528212\n"
     ]
    },
    {
     "name": "stderr",
     "output_type": "stream",
     "text": [
      "[I 2025-07-23 16:50:28,455] Trial 264 finished with value: 9063.387563767075 and parameters: {'num_leaves': 94, 'max_depth': 49, 'learning_rate': 0.07415791329462329, 'n_estimators': 409, 'min_child_samples': 8, 'feature_fraction': 0.9180911033952617, 'bagging_fraction': 0.9923799215528327, 'bagging_freq': 1, 'price_upper_bound': 59000, 'price_lower_bound': 1500, 'smoothing': 0.15971072114829493, 'min_samples_leaf': 5, 'noise_level': 0.2962978840649637}. Best is trial 201 with value: 8881.808604513526.\n"
     ]
    },
    {
     "name": "stdout",
     "output_type": "stream",
     "text": [
      "Validation RMSE: 9063.387563767075\n"
     ]
    },
    {
     "name": "stderr",
     "output_type": "stream",
     "text": [
      "[I 2025-07-23 16:50:32,650] Trial 265 finished with value: 9003.022739837152 and parameters: {'num_leaves': 96, 'max_depth': 49, 'learning_rate': 0.03428327250564599, 'n_estimators': 415, 'min_child_samples': 7, 'feature_fraction': 0.891541623777381, 'bagging_fraction': 0.9505900442620311, 'bagging_freq': 9, 'price_upper_bound': 58000, 'price_lower_bound': 1600, 'smoothing': 0.012672357045177175, 'min_samples_leaf': 7, 'noise_level': 0.278160087184268}. Best is trial 201 with value: 8881.808604513526.\n"
     ]
    },
    {
     "name": "stdout",
     "output_type": "stream",
     "text": [
      "Validation RMSE: 9003.022739837152\n"
     ]
    },
    {
     "name": "stderr",
     "output_type": "stream",
     "text": [
      "[I 2025-07-23 16:50:36,679] Trial 266 finished with value: 9042.147137144679 and parameters: {'num_leaves': 93, 'max_depth': 48, 'learning_rate': 0.06419482444803404, 'n_estimators': 418, 'min_child_samples': 9, 'feature_fraction': 0.9303162471661613, 'bagging_fraction': 0.9399393412453616, 'bagging_freq': 9, 'price_upper_bound': 54500, 'price_lower_bound': 1800, 'smoothing': 0.12941086781282002, 'min_samples_leaf': 6, 'noise_level': 0.3069450151921391}. Best is trial 201 with value: 8881.808604513526.\n"
     ]
    },
    {
     "name": "stdout",
     "output_type": "stream",
     "text": [
      "Validation RMSE: 9042.147137144679\n"
     ]
    },
    {
     "name": "stderr",
     "output_type": "stream",
     "text": [
      "[I 2025-07-23 16:50:40,539] Trial 267 finished with value: 8945.544864679814 and parameters: {'num_leaves': 90, 'max_depth': 43, 'learning_rate': 0.028561610314290265, 'n_estimators': 383, 'min_child_samples': 5, 'feature_fraction': 0.908067139806696, 'bagging_fraction': 0.9624136272737179, 'bagging_freq': 5, 'price_upper_bound': 59000, 'price_lower_bound': 1700, 'smoothing': 0.014246845426116025, 'min_samples_leaf': 4, 'noise_level': 0.3912349518064143}. Best is trial 201 with value: 8881.808604513526.\n"
     ]
    },
    {
     "name": "stdout",
     "output_type": "stream",
     "text": [
      "Validation RMSE: 8945.544864679814\n"
     ]
    },
    {
     "name": "stderr",
     "output_type": "stream",
     "text": [
      "[I 2025-07-23 16:50:44,231] Trial 268 finished with value: 9076.93504239729 and parameters: {'num_leaves': 89, 'max_depth': 42, 'learning_rate': 0.05294312134567165, 'n_estimators': 392, 'min_child_samples': 5, 'feature_fraction': 0.9092782060295205, 'bagging_fraction': 0.9800192729584254, 'bagging_freq': 4, 'price_upper_bound': 56000, 'price_lower_bound': 1400, 'smoothing': 0.16499915831417433, 'min_samples_leaf': 4, 'noise_level': 0.3758062798393429}. Best is trial 201 with value: 8881.808604513526.\n"
     ]
    },
    {
     "name": "stdout",
     "output_type": "stream",
     "text": [
      "Validation RMSE: 9076.93504239729\n"
     ]
    },
    {
     "name": "stderr",
     "output_type": "stream",
     "text": [
      "[I 2025-07-23 16:50:47,719] Trial 269 finished with value: 8969.992292205734 and parameters: {'num_leaves': 90, 'max_depth': 44, 'learning_rate': 0.027980615216316927, 'n_estimators': 372, 'min_child_samples': 5, 'feature_fraction': 0.90854551656731, 'bagging_fraction': 0.965489924039981, 'bagging_freq': 5, 'price_upper_bound': 57500, 'price_lower_bound': 2000, 'smoothing': 0.014063883158200102, 'min_samples_leaf': 4, 'noise_level': 0.44145430298360405}. Best is trial 201 with value: 8881.808604513526.\n"
     ]
    },
    {
     "name": "stdout",
     "output_type": "stream",
     "text": [
      "Validation RMSE: 8969.992292205734\n"
     ]
    },
    {
     "name": "stderr",
     "output_type": "stream",
     "text": [
      "[I 2025-07-23 16:50:51,560] Trial 270 finished with value: 9072.78583074676 and parameters: {'num_leaves': 97, 'max_depth': 21, 'learning_rate': 0.027027231746811282, 'n_estimators': 387, 'min_child_samples': 9, 'feature_fraction': 0.9280137331867365, 'bagging_fraction': 0.47659578822453863, 'bagging_freq': 5, 'price_upper_bound': 59500, 'price_lower_bound': 2100, 'smoothing': 0.1068541755855646, 'min_samples_leaf': 4, 'noise_level': 0.37806110324357495}. Best is trial 201 with value: 8881.808604513526.\n"
     ]
    },
    {
     "name": "stdout",
     "output_type": "stream",
     "text": [
      "Validation RMSE: 9072.78583074676\n"
     ]
    },
    {
     "name": "stderr",
     "output_type": "stream",
     "text": [
      "[I 2025-07-23 16:50:52,476] Trial 271 finished with value: 8960.008258976512 and parameters: {'num_leaves': 15, 'max_depth': 45, 'learning_rate': 0.07934195308612838, 'n_estimators': 431, 'min_child_samples': 7, 'feature_fraction': 0.8695336120908516, 'bagging_fraction': 0.9611819333395144, 'bagging_freq': 8, 'price_upper_bound': 58000, 'price_lower_bound': 1700, 'smoothing': 0.016372173840368837, 'min_samples_leaf': 4, 'noise_level': 0.3253453486079655}. Best is trial 201 with value: 8881.808604513526.\n"
     ]
    },
    {
     "name": "stdout",
     "output_type": "stream",
     "text": [
      "Validation RMSE: 8960.008258976512\n"
     ]
    },
    {
     "name": "stderr",
     "output_type": "stream",
     "text": [
      "[I 2025-07-23 16:50:53,566] Trial 272 finished with value: 9114.267964420502 and parameters: {'num_leaves': 21, 'max_depth': 42, 'learning_rate': 0.08245355077386261, 'n_estimators': 402, 'min_child_samples': 13, 'feature_fraction': 0.8214407497083186, 'bagging_fraction': 0.9989372729868806, 'bagging_freq': 8, 'price_upper_bound': 55000, 'price_lower_bound': 1800, 'smoothing': 0.015864135955606772, 'min_samples_leaf': 4, 'noise_level': 0.3273310193537115}. Best is trial 201 with value: 8881.808604513526.\n"
     ]
    },
    {
     "name": "stdout",
     "output_type": "stream",
     "text": [
      "Validation RMSE: 9114.267964420502\n"
     ]
    },
    {
     "name": "stderr",
     "output_type": "stream",
     "text": [
      "[I 2025-07-23 16:50:55,139] Trial 273 finished with value: 11516.133861886065 and parameters: {'num_leaves': 32, 'max_depth': 34, 'learning_rate': 0.02467190592046933, 'n_estimators': 432, 'min_child_samples': 10, 'feature_fraction': 0.8875173839133836, 'bagging_fraction': 0.9809497639609264, 'bagging_freq': 7, 'price_upper_bound': 22000, 'price_lower_bound': 1700, 'smoothing': 0.01657132168414906, 'min_samples_leaf': 4, 'noise_level': 0.3488017370071845}. Best is trial 201 with value: 8881.808604513526.\n"
     ]
    },
    {
     "name": "stdout",
     "output_type": "stream",
     "text": [
      "Validation RMSE: 11516.133861886065\n"
     ]
    },
    {
     "name": "stderr",
     "output_type": "stream",
     "text": [
      "[I 2025-07-23 16:50:59,047] Trial 274 finished with value: 9257.737569563731 and parameters: {'num_leaves': 88, 'max_depth': 43, 'learning_rate': 0.030367838084731515, 'n_estimators': 379, 'min_child_samples': 7, 'feature_fraction': 0.8547073530766464, 'bagging_fraction': 0.9648654281460922, 'bagging_freq': 8, 'price_upper_bound': 42500, 'price_lower_bound': 1700, 'smoothing': 0.014828602648688047, 'min_samples_leaf': 4, 'noise_level': 0.4116589549378984}. Best is trial 201 with value: 8881.808604513526.\n"
     ]
    },
    {
     "name": "stdout",
     "output_type": "stream",
     "text": [
      "Validation RMSE: 9257.737569563731\n"
     ]
    },
    {
     "name": "stderr",
     "output_type": "stream",
     "text": [
      "[I 2025-07-23 16:51:02,705] Trial 275 finished with value: 9087.964275359816 and parameters: {'num_leaves': 85, 'max_depth': 43, 'learning_rate': 0.07509383877776182, 'n_estimators': 424, 'min_child_samples': 11, 'feature_fraction': 0.8608962891614311, 'bagging_fraction': 0.9574895935407055, 'bagging_freq': 8, 'price_upper_bound': 56500, 'price_lower_bound': 1500, 'smoothing': 0.014259497039410542, 'min_samples_leaf': 4, 'noise_level': 0.297079535073017}. Best is trial 201 with value: 8881.808604513526.\n"
     ]
    },
    {
     "name": "stdout",
     "output_type": "stream",
     "text": [
      "Validation RMSE: 9087.964275359816\n"
     ]
    },
    {
     "name": "stderr",
     "output_type": "stream",
     "text": [
      "[I 2025-07-23 16:51:06,577] Trial 276 finished with value: 8956.391880784024 and parameters: {'num_leaves': 100, 'max_depth': 45, 'learning_rate': 0.07045035838049066, 'n_estimators': 400, 'min_child_samples': 8, 'feature_fraction': 0.8789424949575058, 'bagging_fraction': 0.9736003719858193, 'bagging_freq': 8, 'price_upper_bound': 58000, 'price_lower_bound': 1600, 'smoothing': 0.01725985151478536, 'min_samples_leaf': 3, 'noise_level': 0.3370742461577081}. Best is trial 201 with value: 8881.808604513526.\n"
     ]
    },
    {
     "name": "stdout",
     "output_type": "stream",
     "text": [
      "Validation RMSE: 8956.391880784024\n"
     ]
    },
    {
     "name": "stderr",
     "output_type": "stream",
     "text": [
      "[I 2025-07-23 16:51:08,198] Trial 277 finished with value: 9147.083922609085 and parameters: {'num_leaves': 38, 'max_depth': 43, 'learning_rate': 0.07149730477633665, 'n_estimators': 400, 'min_child_samples': 15, 'feature_fraction': 0.8804041740472291, 'bagging_fraction': 0.973511633095979, 'bagging_freq': 8, 'price_upper_bound': 58000, 'price_lower_bound': 1600, 'smoothing': 0.041589901555431026, 'min_samples_leaf': 4, 'noise_level': 0.2728678122176081}. Best is trial 201 with value: 8881.808604513526.\n"
     ]
    },
    {
     "name": "stdout",
     "output_type": "stream",
     "text": [
      "Validation RMSE: 9147.083922609085\n"
     ]
    },
    {
     "name": "stderr",
     "output_type": "stream",
     "text": [
      "[I 2025-07-23 16:51:11,835] Trial 278 finished with value: 9092.889055948537 and parameters: {'num_leaves': 99, 'max_depth': 45, 'learning_rate': 0.06807492520841124, 'n_estimators': 387, 'min_child_samples': 9, 'feature_fraction': 0.8644406451664084, 'bagging_fraction': 0.9842760352613829, 'bagging_freq': 8, 'price_upper_bound': 58500, 'price_lower_bound': 1700, 'smoothing': 0.017475298813881816, 'min_samples_leaf': 3, 'noise_level': 0.3211830389343399}. Best is trial 201 with value: 8881.808604513526.\n"
     ]
    },
    {
     "name": "stdout",
     "output_type": "stream",
     "text": [
      "Validation RMSE: 9092.889055948537\n"
     ]
    },
    {
     "name": "stderr",
     "output_type": "stream",
     "text": [
      "[I 2025-07-23 16:51:15,761] Trial 279 finished with value: 8983.160174928242 and parameters: {'num_leaves': 100, 'max_depth': 45, 'learning_rate': 0.07894122369158757, 'n_estimators': 412, 'min_child_samples': 12, 'feature_fraction': 0.8727155397007653, 'bagging_fraction': 0.9691454059386865, 'bagging_freq': 8, 'price_upper_bound': 58000, 'price_lower_bound': 1300, 'smoothing': 0.24572458960219895, 'min_samples_leaf': 2, 'noise_level': 0.38576352821475407}. Best is trial 201 with value: 8881.808604513526.\n"
     ]
    },
    {
     "name": "stdout",
     "output_type": "stream",
     "text": [
      "Validation RMSE: 8983.160174928242\n"
     ]
    },
    {
     "name": "stderr",
     "output_type": "stream",
     "text": [
      "[I 2025-07-23 16:51:18,816] Trial 280 finished with value: 9011.892905995532 and parameters: {'num_leaves': 87, 'max_depth': 10, 'learning_rate': 0.07162371981202262, 'n_estimators': 396, 'min_child_samples': 8, 'feature_fraction': 0.8959239300322467, 'bagging_fraction': 0.9904055843293775, 'bagging_freq': 3, 'price_upper_bound': 59000, 'price_lower_bound': 1900, 'smoothing': 0.034528628607123, 'min_samples_leaf': 3, 'noise_level': 0.2112322178888351}. Best is trial 201 with value: 8881.808604513526.\n"
     ]
    },
    {
     "name": "stdout",
     "output_type": "stream",
     "text": [
      "Validation RMSE: 9011.892905995532\n"
     ]
    },
    {
     "name": "stderr",
     "output_type": "stream",
     "text": [
      "[I 2025-07-23 16:51:22,609] Trial 281 finished with value: 9087.097034142787 and parameters: {'num_leaves': 91, 'max_depth': 24, 'learning_rate': 0.0770226237570454, 'n_estimators': 434, 'min_child_samples': 7, 'feature_fraction': 0.8464090173280134, 'bagging_fraction': 0.9609831851788331, 'bagging_freq': 7, 'price_upper_bound': 57500, 'price_lower_bound': 1600, 'smoothing': 0.7101165638586515, 'min_samples_leaf': 2, 'noise_level': 0.24687799065422267}. Best is trial 201 with value: 8881.808604513526.\n"
     ]
    },
    {
     "name": "stdout",
     "output_type": "stream",
     "text": [
      "Validation RMSE: 9087.097034142787\n"
     ]
    },
    {
     "name": "stderr",
     "output_type": "stream",
     "text": [
      "[I 2025-07-23 16:51:23,390] Trial 282 finished with value: 9107.39328636848 and parameters: {'num_leaves': 13, 'max_depth': 44, 'learning_rate': 0.058097735884596775, 'n_estimators': 421, 'min_child_samples': 32, 'feature_fraction': 0.8718823740010851, 'bagging_fraction': 0.955291139730302, 'bagging_freq': 8, 'price_upper_bound': 59000, 'price_lower_bound': 1900, 'smoothing': 0.037244485471662224, 'min_samples_leaf': 2, 'noise_level': 0.1884481882465677}. Best is trial 201 with value: 8881.808604513526.\n"
     ]
    },
    {
     "name": "stdout",
     "output_type": "stream",
     "text": [
      "Validation RMSE: 9107.39328636848\n"
     ]
    },
    {
     "name": "stderr",
     "output_type": "stream",
     "text": [
      "[I 2025-07-23 16:51:26,896] Trial 283 finished with value: 9037.6862005138 and parameters: {'num_leaves': 83, 'max_depth': 46, 'learning_rate': 0.02079723602787929, 'n_estimators': 409, 'min_child_samples': 10, 'feature_fraction': 0.885064824847941, 'bagging_fraction': 0.9753858727774347, 'bagging_freq': 8, 'price_upper_bound': 56000, 'price_lower_bound': 1400, 'smoothing': 0.015627380045756263, 'min_samples_leaf': 3, 'noise_level': 0.29504235775355797}. Best is trial 201 with value: 8881.808604513526.\n"
     ]
    },
    {
     "name": "stdout",
     "output_type": "stream",
     "text": [
      "Validation RMSE: 9037.6862005138\n"
     ]
    },
    {
     "name": "stderr",
     "output_type": "stream",
     "text": [
      "[I 2025-07-23 16:51:27,775] Trial 284 finished with value: 9089.280092061475 and parameters: {'num_leaves': 43, 'max_depth': 45, 'learning_rate': 0.06297125016315602, 'n_estimators': 178, 'min_child_samples': 17, 'feature_fraction': 0.8957530296372302, 'bagging_fraction': 0.9461378177710563, 'bagging_freq': 9, 'price_upper_bound': 50000, 'price_lower_bound': 1800, 'smoothing': 0.05002693116934997, 'min_samples_leaf': 4, 'noise_level': 0.2665429721874791}. Best is trial 201 with value: 8881.808604513526.\n"
     ]
    },
    {
     "name": "stdout",
     "output_type": "stream",
     "text": [
      "Validation RMSE: 9089.280092061475\n"
     ]
    },
    {
     "name": "stderr",
     "output_type": "stream",
     "text": [
      "[I 2025-07-23 16:51:31,068] Trial 285 finished with value: 8947.843990291167 and parameters: {'num_leaves': 80, 'max_depth': 41, 'learning_rate': 0.06764415383623902, 'n_estimators': 438, 'min_child_samples': 7, 'feature_fraction': 0.8834387078231856, 'bagging_fraction': 0.9862268504922265, 'bagging_freq': 8, 'price_upper_bound': 60000, 'price_lower_bound': 1600, 'smoothing': 0.12037290127306187, 'min_samples_leaf': 5, 'noise_level': 0.35144940455364276}. Best is trial 201 with value: 8881.808604513526.\n"
     ]
    },
    {
     "name": "stdout",
     "output_type": "stream",
     "text": [
      "Validation RMSE: 8947.843990291167\n"
     ]
    },
    {
     "name": "stderr",
     "output_type": "stream",
     "text": [
      "[I 2025-07-23 16:51:34,842] Trial 286 finished with value: 10423.99878380936 and parameters: {'num_leaves': 95, 'max_depth': 43, 'learning_rate': 0.06767382550489277, 'n_estimators': 438, 'min_child_samples': 13, 'feature_fraction': 0.8800355480894508, 'bagging_fraction': 0.9905678277798821, 'bagging_freq': 8, 'price_upper_bound': 28000, 'price_lower_bound': 1600, 'smoothing': 0.01791818461495968, 'min_samples_leaf': 3, 'noise_level': 0.3623074277356742}. Best is trial 201 with value: 8881.808604513526.\n"
     ]
    },
    {
     "name": "stdout",
     "output_type": "stream",
     "text": [
      "Validation RMSE: 10423.99878380936\n"
     ]
    },
    {
     "name": "stderr",
     "output_type": "stream",
     "text": [
      "[I 2025-07-23 16:51:38,253] Trial 287 finished with value: 9111.644952934595 and parameters: {'num_leaves': 80, 'max_depth': 41, 'learning_rate': 0.07227758989828985, 'n_estimators': 381, 'min_child_samples': 9, 'feature_fraction': 0.8473874307328776, 'bagging_fraction': 0.9994836278306488, 'bagging_freq': 8, 'price_upper_bound': 58000, 'price_lower_bound': 1700, 'smoothing': 0.12070554645351053, 'min_samples_leaf': 5, 'noise_level': 0.40362067946218716}. Best is trial 201 with value: 8881.808604513526.\n"
     ]
    },
    {
     "name": "stdout",
     "output_type": "stream",
     "text": [
      "Validation RMSE: 9111.644952934595\n"
     ]
    },
    {
     "name": "stderr",
     "output_type": "stream",
     "text": [
      "[I 2025-07-23 16:51:42,925] Trial 288 finished with value: 9310.667413627443 and parameters: {'num_leaves': 91, 'max_depth': 44, 'learning_rate': 0.06591023227693087, 'n_estimators': 426, 'min_child_samples': 7, 'feature_fraction': 0.7131791154995325, 'bagging_fraction': 0.9755466996365019, 'bagging_freq': 9, 'price_upper_bound': 39500, 'price_lower_bound': 1500, 'smoothing': 0.012967412448459642, 'min_samples_leaf': 5, 'noise_level': 0.3143824725541042}. Best is trial 201 with value: 8881.808604513526.\n"
     ]
    },
    {
     "name": "stdout",
     "output_type": "stream",
     "text": [
      "Validation RMSE: 9310.667413627443\n"
     ]
    },
    {
     "name": "stderr",
     "output_type": "stream",
     "text": [
      "[I 2025-07-23 16:51:46,513] Trial 289 finished with value: 9074.030762881172 and parameters: {'num_leaves': 94, 'max_depth': 41, 'learning_rate': 0.05721960641543154, 'n_estimators': 402, 'min_child_samples': 11, 'feature_fraction': 0.9497141980431634, 'bagging_fraction': 0.9820711439569466, 'bagging_freq': 8, 'price_upper_bound': 60000, 'price_lower_bound': 2000, 'smoothing': 0.11133678805950649, 'min_samples_leaf': 5, 'noise_level': 0.34404855592010886}. Best is trial 201 with value: 8881.808604513526.\n"
     ]
    },
    {
     "name": "stdout",
     "output_type": "stream",
     "text": [
      "Validation RMSE: 9074.030762881172\n"
     ]
    },
    {
     "name": "stderr",
     "output_type": "stream",
     "text": [
      "[I 2025-07-23 16:51:49,015] Trial 290 finished with value: 8946.447233348881 and parameters: {'num_leaves': 55, 'max_depth': 46, 'learning_rate': 0.023175908322316106, 'n_estimators': 430, 'min_child_samples': 7, 'feature_fraction': 0.8712247190846982, 'bagging_fraction': 0.9676246484991908, 'bagging_freq': 9, 'price_upper_bound': 57000, 'price_lower_bound': 1700, 'smoothing': 0.19475187475595176, 'min_samples_leaf': 5, 'noise_level': 0.05918647136797713}. Best is trial 201 with value: 8881.808604513526.\n"
     ]
    },
    {
     "name": "stdout",
     "output_type": "stream",
     "text": [
      "Validation RMSE: 8946.447233348881\n"
     ]
    },
    {
     "name": "stderr",
     "output_type": "stream",
     "text": [
      "[I 2025-07-23 16:51:51,617] Trial 291 finished with value: 9029.490963628885 and parameters: {'num_leaves': 60, 'max_depth': 45, 'learning_rate': 0.0217077135975814, 'n_estimators': 418, 'min_child_samples': 6, 'feature_fraction': 0.8665172477019731, 'bagging_fraction': 0.965111567585419, 'bagging_freq': 9, 'price_upper_bound': 55500, 'price_lower_bound': 1700, 'smoothing': 0.1798046563661037, 'min_samples_leaf': 5, 'noise_level': 0.054698575090186684}. Best is trial 201 with value: 8881.808604513526.\n"
     ]
    },
    {
     "name": "stdout",
     "output_type": "stream",
     "text": [
      "Validation RMSE: 9029.490963628885\n"
     ]
    },
    {
     "name": "stderr",
     "output_type": "stream",
     "text": [
      "[I 2025-07-23 16:51:53,771] Trial 292 finished with value: 9130.935408675306 and parameters: {'num_leaves': 49, 'max_depth': 44, 'learning_rate': 0.023326182152048874, 'n_estimators': 429, 'min_child_samples': 56, 'feature_fraction': 0.8733811918408239, 'bagging_fraction': 0.9873492569200726, 'bagging_freq': 7, 'price_upper_bound': 57000, 'price_lower_bound': 1500, 'smoothing': 0.09727723400649677, 'min_samples_leaf': 4, 'noise_level': 0.04487231500596801}. Best is trial 201 with value: 8881.808604513526.\n"
     ]
    },
    {
     "name": "stdout",
     "output_type": "stream",
     "text": [
      "Validation RMSE: 9130.935408675306\n"
     ]
    },
    {
     "name": "stderr",
     "output_type": "stream",
     "text": [
      "[I 2025-07-23 16:51:55,023] Trial 293 finished with value: 15243.854885159182 and parameters: {'num_leaves': 45, 'max_depth': 43, 'learning_rate': 0.02587111135113624, 'n_estimators': 412, 'min_child_samples': 85, 'feature_fraction': 0.8820898112376007, 'bagging_fraction': 0.96832750949907, 'bagging_freq': 8, 'price_upper_bound': 11500, 'price_lower_bound': 1600, 'smoothing': 0.08061745635957875, 'min_samples_leaf': 5, 'noise_level': 0.46663285130329324}. Best is trial 201 with value: 8881.808604513526.\n"
     ]
    },
    {
     "name": "stdout",
     "output_type": "stream",
     "text": [
      "Validation RMSE: 15243.854885159182\n"
     ]
    },
    {
     "name": "stderr",
     "output_type": "stream",
     "text": [
      "[I 2025-07-23 16:51:56,487] Trial 294 finished with value: 9069.817187890227 and parameters: {'num_leaves': 29, 'max_depth': 46, 'learning_rate': 0.06043682855660545, 'n_estimators': 436, 'min_child_samples': 7, 'feature_fraction': 0.9049659436451889, 'bagging_fraction': 0.9539400201888247, 'bagging_freq': 9, 'price_upper_bound': 53000, 'price_lower_bound': 1800, 'smoothing': 0.16316698562050366, 'min_samples_leaf': 5, 'noise_level': 0.37366599059991007}. Best is trial 201 with value: 8881.808604513526.\n"
     ]
    },
    {
     "name": "stdout",
     "output_type": "stream",
     "text": [
      "Validation RMSE: 9069.817187890227\n"
     ]
    },
    {
     "name": "stderr",
     "output_type": "stream",
     "text": [
      "[I 2025-07-23 16:51:58,820] Trial 295 finished with value: 9052.267314996838 and parameters: {'num_leaves': 56, 'max_depth': 46, 'learning_rate': 0.02296684571618706, 'n_estimators': 396, 'min_child_samples': 5, 'feature_fraction': 0.8629527927691372, 'bagging_fraction': 0.9770021278113977, 'bagging_freq': 8, 'price_upper_bound': 56500, 'price_lower_bound': 1700, 'smoothing': 0.09349683227636225, 'min_samples_leaf': 5, 'noise_level': 0.06062031538145564}. Best is trial 201 with value: 8881.808604513526.\n"
     ]
    },
    {
     "name": "stdout",
     "output_type": "stream",
     "text": [
      "Validation RMSE: 9052.267314996838\n"
     ]
    },
    {
     "name": "stderr",
     "output_type": "stream",
     "text": [
      "[I 2025-07-23 16:52:01,039] Trial 296 finished with value: 9022.764248429155 and parameters: {'num_leaves': 58, 'max_depth': 45, 'learning_rate': 0.05372828978039418, 'n_estimators': 384, 'min_child_samples': 8, 'feature_fraction': 0.8900777976022972, 'bagging_fraction': 0.9627700133407716, 'bagging_freq': 9, 'price_upper_bound': 57500, 'price_lower_bound': 1600, 'smoothing': 0.12500354532578864, 'min_samples_leaf': 3, 'noise_level': 0.05880909656190422}. Best is trial 201 with value: 8881.808604513526.\n"
     ]
    },
    {
     "name": "stdout",
     "output_type": "stream",
     "text": [
      "Validation RMSE: 9022.764248429155\n"
     ]
    },
    {
     "name": "stderr",
     "output_type": "stream",
     "text": [
      "[I 2025-07-23 16:52:02,664] Trial 297 finished with value: 9098.827152966138 and parameters: {'num_leaves': 35, 'max_depth': 46, 'learning_rate': 0.0247141129115443, 'n_estimators': 421, 'min_child_samples': 10, 'feature_fraction': 0.8537392197042177, 'bagging_fraction': 0.9854235767265048, 'bagging_freq': 8, 'price_upper_bound': 55000, 'price_lower_bound': 1400, 'smoothing': 0.19797606764068892, 'min_samples_leaf': 7, 'noise_level': 0.05189831220985738}. Best is trial 201 with value: 8881.808604513526.\n"
     ]
    },
    {
     "name": "stdout",
     "output_type": "stream",
     "text": [
      "Validation RMSE: 9098.827152966138\n"
     ]
    },
    {
     "name": "stderr",
     "output_type": "stream",
     "text": [
      "[I 2025-07-23 16:52:05,928] Trial 298 finished with value: 9056.91231996786 and parameters: {'num_leaves': 75, 'max_depth': 42, 'learning_rate': 0.019805368304204058, 'n_estimators': 432, 'min_child_samples': 5, 'feature_fraction': 0.9915765689403857, 'bagging_fraction': 0.9570523482804261, 'bagging_freq': 9, 'price_upper_bound': 58500, 'price_lower_bound': 3500, 'smoothing': 0.1366360687216261, 'min_samples_leaf': 1, 'noise_level': 0.34132633433951587}. Best is trial 201 with value: 8881.808604513526.\n"
     ]
    },
    {
     "name": "stdout",
     "output_type": "stream",
     "text": [
      "Validation RMSE: 9056.91231996786\n"
     ]
    },
    {
     "name": "stderr",
     "output_type": "stream",
     "text": [
      "[I 2025-07-23 16:52:09,074] Trial 299 finished with value: 9096.86893399327 and parameters: {'num_leaves': 82, 'max_depth': 44, 'learning_rate': 0.08363255205547299, 'n_estimators': 406, 'min_child_samples': 7, 'feature_fraction': 0.9825158074925212, 'bagging_fraction': 0.9736022626890855, 'bagging_freq': 7, 'price_upper_bound': 57500, 'price_lower_bound': 1800, 'smoothing': 0.15232890347818442, 'min_samples_leaf': 5, 'noise_level': 0.2924579362623018}. Best is trial 201 with value: 8881.808604513526.\n"
     ]
    },
    {
     "name": "stdout",
     "output_type": "stream",
     "text": [
      "Validation RMSE: 9096.86893399327\n"
     ]
    },
    {
     "name": "stderr",
     "output_type": "stream",
     "text": [
      "[I 2025-07-23 16:52:13,722] Trial 300 finished with value: 9259.604969965507 and parameters: {'num_leaves': 100, 'max_depth': 20, 'learning_rate': 0.047970702918301876, 'n_estimators': 442, 'min_child_samples': 9, 'feature_fraction': 0.9758458063635018, 'bagging_fraction': 0.49249246454328355, 'bagging_freq': 8, 'price_upper_bound': 56000, 'price_lower_bound': 1900, 'smoothing': 0.10405274729655116, 'min_samples_leaf': 5, 'noise_level': 0.06382438371544527}. Best is trial 201 with value: 8881.808604513526.\n"
     ]
    },
    {
     "name": "stdout",
     "output_type": "stream",
     "text": [
      "Validation RMSE: 9259.604969965507\n"
     ]
    },
    {
     "name": "stderr",
     "output_type": "stream",
     "text": [
      "[I 2025-07-23 16:52:17,257] Trial 301 finished with value: 9165.871284510953 and parameters: {'num_leaves': 86, 'max_depth': 46, 'learning_rate': 0.06471936678215565, 'n_estimators': 428, 'min_child_samples': 12, 'feature_fraction': 0.9148718979458091, 'bagging_fraction': 0.9503964811191943, 'bagging_freq': 8, 'price_upper_bound': 59000, 'price_lower_bound': 400, 'smoothing': 0.01180008165625197, 'min_samples_leaf': 4, 'noise_level': 0.22241906826523444}. Best is trial 201 with value: 8881.808604513526.\n"
     ]
    },
    {
     "name": "stdout",
     "output_type": "stream",
     "text": [
      "Validation RMSE: 9165.871284510953\n"
     ]
    },
    {
     "name": "stderr",
     "output_type": "stream",
     "text": [
      "[I 2025-07-23 16:52:21,136] Trial 302 finished with value: 9041.455288898977 and parameters: {'num_leaves': 97, 'max_depth': 23, 'learning_rate': 0.05658755451352111, 'n_estimators': 415, 'min_child_samples': 7, 'feature_fraction': 0.9456875103641776, 'bagging_fraction': 0.7474095524797709, 'bagging_freq': 10, 'price_upper_bound': 57000, 'price_lower_bound': 1700, 'smoothing': 0.2176881309822239, 'min_samples_leaf': 5, 'noise_level': 0.4111463876255732}. Best is trial 201 with value: 8881.808604513526.\n"
     ]
    },
    {
     "name": "stdout",
     "output_type": "stream",
     "text": [
      "Validation RMSE: 9041.455288898977\n"
     ]
    },
    {
     "name": "stderr",
     "output_type": "stream",
     "text": [
      "[I 2025-07-23 16:52:23,630] Trial 303 finished with value: 9182.295461082087 and parameters: {'num_leaves': 62, 'max_depth': 42, 'learning_rate': 0.06075263333747876, 'n_estimators': 390, 'min_child_samples': 5, 'feature_fraction': 0.8361732859288964, 'bagging_fraction': 0.7701037221142697, 'bagging_freq': 9, 'price_upper_bound': 58500, 'price_lower_bound': 1600, 'smoothing': 0.13314885350167163, 'min_samples_leaf': 5, 'noise_level': 0.1997558925724361}. Best is trial 201 with value: 8881.808604513526.\n"
     ]
    },
    {
     "name": "stdout",
     "output_type": "stream",
     "text": [
      "Validation RMSE: 9182.295461082087\n"
     ]
    },
    {
     "name": "stderr",
     "output_type": "stream",
     "text": [
      "[I 2025-07-23 16:52:26,669] Trial 304 finished with value: 9193.59322057262 and parameters: {'num_leaves': 89, 'max_depth': 45, 'learning_rate': 0.20058163512423613, 'n_estimators': 369, 'min_child_samples': 14, 'feature_fraction': 0.8079292611576571, 'bagging_fraction': 0.9700933621033315, 'bagging_freq': 10, 'price_upper_bound': 52000, 'price_lower_bound': 1900, 'smoothing': 0.6583086336689825, 'min_samples_leaf': 5, 'noise_level': 0.048882624073197475}. Best is trial 201 with value: 8881.808604513526.\n"
     ]
    },
    {
     "name": "stdout",
     "output_type": "stream",
     "text": [
      "Validation RMSE: 9193.59322057262\n"
     ]
    },
    {
     "name": "stderr",
     "output_type": "stream",
     "text": [
      "[I 2025-07-23 16:52:30,886] Trial 305 finished with value: 8956.51820271204 and parameters: {'num_leaves': 95, 'max_depth': 47, 'learning_rate': 0.018029457302717728, 'n_estimators': 438, 'min_child_samples': 8, 'feature_fraction': 0.8866441030333223, 'bagging_fraction': 0.9999640843435568, 'bagging_freq': 8, 'price_upper_bound': 59000, 'price_lower_bound': 2200, 'smoothing': 0.19122079150682267, 'min_samples_leaf': 5, 'noise_level': 0.3163326872269005}. Best is trial 201 with value: 8881.808604513526.\n"
     ]
    },
    {
     "name": "stdout",
     "output_type": "stream",
     "text": [
      "Validation RMSE: 8956.51820271204\n"
     ]
    },
    {
     "name": "stderr",
     "output_type": "stream",
     "text": [
      "[I 2025-07-23 16:52:33,805] Trial 306 finished with value: 9008.074991765647 and parameters: {'num_leaves': 52, 'max_depth': 47, 'learning_rate': 0.01662010547867218, 'n_estimators': 443, 'min_child_samples': 10, 'feature_fraction': 0.9051305866891712, 'bagging_fraction': 0.9928989897859921, 'bagging_freq': 9, 'price_upper_bound': 59500, 'price_lower_bound': 1000, 'smoothing': 0.19011636180420652, 'min_samples_leaf': 5, 'noise_level': 0.2521532436130364}. Best is trial 201 with value: 8881.808604513526.\n"
     ]
    },
    {
     "name": "stdout",
     "output_type": "stream",
     "text": [
      "Validation RMSE: 9008.074991765647\n"
     ]
    },
    {
     "name": "stderr",
     "output_type": "stream",
     "text": [
      "[I 2025-07-23 16:52:38,381] Trial 307 finished with value: 9029.444768251584 and parameters: {'num_leaves': 95, 'max_depth': 48, 'learning_rate': 0.01915003231729858, 'n_estimators': 441, 'min_child_samples': 8, 'feature_fraction': 0.9986193941377889, 'bagging_fraction': 0.996382426412723, 'bagging_freq': 7, 'price_upper_bound': 59000, 'price_lower_bound': 2200, 'smoothing': 0.22350485566471476, 'min_samples_leaf': 5, 'noise_level': 0.2744382148902593}. Best is trial 201 with value: 8881.808604513526.\n"
     ]
    },
    {
     "name": "stdout",
     "output_type": "stream",
     "text": [
      "Validation RMSE: 9029.444768251584\n"
     ]
    },
    {
     "name": "stderr",
     "output_type": "stream",
     "text": [
      "[I 2025-07-23 16:52:40,979] Trial 308 finished with value: 8988.470069784122 and parameters: {'num_leaves': 98, 'max_depth': 36, 'learning_rate': 0.05154338539236072, 'n_estimators': 245, 'min_child_samples': 11, 'feature_fraction': 0.8899865412264764, 'bagging_fraction': 0.9846738301011506, 'bagging_freq': 10, 'price_upper_bound': 60000, 'price_lower_bound': 2000, 'smoothing': 0.1139976969776916, 'min_samples_leaf': 5, 'noise_level': 0.29293176115995617}. Best is trial 201 with value: 8881.808604513526.\n"
     ]
    },
    {
     "name": "stdout",
     "output_type": "stream",
     "text": [
      "Validation RMSE: 8988.470069784122\n"
     ]
    },
    {
     "name": "stderr",
     "output_type": "stream",
     "text": [
      "[I 2025-07-23 16:52:43,723] Trial 309 finished with value: 9062.295098187587 and parameters: {'num_leaves': 54, 'max_depth': 47, 'learning_rate': 0.0173440428968471, 'n_estimators': 399, 'min_child_samples': 5, 'feature_fraction': 0.9745790061570913, 'bagging_fraction': 0.996707107135863, 'bagging_freq': 8, 'price_upper_bound': 56500, 'price_lower_bound': 2300, 'smoothing': 0.010246254575901639, 'min_samples_leaf': 5, 'noise_level': 0.3114467158643345}. Best is trial 201 with value: 8881.808604513526.\n"
     ]
    },
    {
     "name": "stdout",
     "output_type": "stream",
     "text": [
      "Validation RMSE: 9062.295098187587\n"
     ]
    },
    {
     "name": "stderr",
     "output_type": "stream",
     "text": [
      "[I 2025-07-23 16:52:45,123] Trial 310 finished with value: 9189.133581755452 and parameters: {'num_leaves': 92, 'max_depth': 46, 'learning_rate': 0.022367852115300322, 'n_estimators': 109, 'min_child_samples': 9, 'feature_fraction': 0.7663371470108163, 'bagging_fraction': 0.999572707119833, 'bagging_freq': 8, 'price_upper_bound': 58000, 'price_lower_bound': 2200, 'smoothing': 0.17641521225856782, 'min_samples_leaf': 6, 'noise_level': 0.040082599871161965}. Best is trial 201 with value: 8881.808604513526.\n"
     ]
    },
    {
     "name": "stdout",
     "output_type": "stream",
     "text": [
      "Validation RMSE: 9189.133581755452\n"
     ]
    },
    {
     "name": "stderr",
     "output_type": "stream",
     "text": [
      "[I 2025-07-23 16:52:49,535] Trial 311 finished with value: 9014.604090657354 and parameters: {'num_leaves': 96, 'max_depth': 47, 'learning_rate': 0.021906772101379025, 'n_estimators': 449, 'min_child_samples': 7, 'feature_fraction': 0.9605445076977643, 'bagging_fraction': 0.9794351558090758, 'bagging_freq': 9, 'price_upper_bound': 59000, 'price_lower_bound': 2000, 'smoothing': 0.1481031497260358, 'min_samples_leaf': 5, 'noise_level': 0.23354664598587455}. Best is trial 201 with value: 8881.808604513526.\n"
     ]
    },
    {
     "name": "stdout",
     "output_type": "stream",
     "text": [
      "Validation RMSE: 9014.604090657354\n"
     ]
    },
    {
     "name": "stderr",
     "output_type": "stream",
     "text": [
      "[I 2025-07-23 16:52:53,785] Trial 312 finished with value: 8981.893175628134 and parameters: {'num_leaves': 95, 'max_depth': 44, 'learning_rate': 0.017537851256146268, 'n_estimators': 421, 'min_child_samples': 12, 'feature_fraction': 0.92043965698557, 'bagging_fraction': 0.9477615140250455, 'bagging_freq': 9, 'price_upper_bound': 57000, 'price_lower_bound': 2300, 'smoothing': 0.2071202163704743, 'min_samples_leaf': 7, 'noise_level': 0.18035419376749823}. Best is trial 201 with value: 8881.808604513526.\n"
     ]
    },
    {
     "name": "stdout",
     "output_type": "stream",
     "text": [
      "Validation RMSE: 8981.893175628134\n"
     ]
    },
    {
     "name": "stderr",
     "output_type": "stream",
     "text": [
      "[I 2025-07-23 16:52:57,952] Trial 313 finished with value: 8959.396763311053 and parameters: {'num_leaves': 92, 'max_depth': 48, 'learning_rate': 0.05330666462662475, 'n_estimators': 438, 'min_child_samples': 5, 'feature_fraction': 0.8974278836845331, 'bagging_fraction': 0.9745653662080199, 'bagging_freq': 10, 'price_upper_bound': 54000, 'price_lower_bound': 2100, 'smoothing': 0.1918177574190374, 'min_samples_leaf': 5, 'noise_level': 0.3805995081411737}. Best is trial 201 with value: 8881.808604513526.\n"
     ]
    },
    {
     "name": "stdout",
     "output_type": "stream",
     "text": [
      "Validation RMSE: 8959.396763311053\n"
     ]
    },
    {
     "name": "stderr",
     "output_type": "stream",
     "text": [
      "[I 2025-07-23 16:53:01,902] Trial 314 finished with value: 8995.4399836762 and parameters: {'num_leaves': 91, 'max_depth': 47, 'learning_rate': 0.05448549397430768, 'n_estimators': 436, 'min_child_samples': 5, 'feature_fraction': 0.7493813390238568, 'bagging_fraction': 0.9828819619054289, 'bagging_freq': 10, 'price_upper_bound': 54000, 'price_lower_bound': 2100, 'smoothing': 0.19202330406883017, 'min_samples_leaf': 5, 'noise_level': 0.38134160430778546}. Best is trial 201 with value: 8881.808604513526.\n"
     ]
    },
    {
     "name": "stdout",
     "output_type": "stream",
     "text": [
      "Validation RMSE: 8995.4399836762\n"
     ]
    },
    {
     "name": "stderr",
     "output_type": "stream",
     "text": [
      "[I 2025-07-23 16:53:06,217] Trial 315 finished with value: 9049.154477199818 and parameters: {'num_leaves': 93, 'max_depth': 48, 'learning_rate': 0.01993851080204673, 'n_estimators': 426, 'min_child_samples': 5, 'feature_fraction': 0.8965228552720237, 'bagging_fraction': 0.9683220121602898, 'bagging_freq': 10, 'price_upper_bound': 52500, 'price_lower_bound': 2100, 'smoothing': 0.15979119079200757, 'min_samples_leaf': 6, 'noise_level': 0.4424659542868122}. Best is trial 201 with value: 8881.808604513526.\n"
     ]
    },
    {
     "name": "stdout",
     "output_type": "stream",
     "text": [
      "Validation RMSE: 9049.154477199818\n"
     ]
    },
    {
     "name": "stderr",
     "output_type": "stream",
     "text": [
      "[I 2025-07-23 16:53:10,026] Trial 316 finished with value: 9095.062247013824 and parameters: {'num_leaves': 92, 'max_depth': 46, 'learning_rate': 0.015077163168707523, 'n_estimators': 408, 'min_child_samples': 9, 'feature_fraction': 0.8848426241269256, 'bagging_fraction': 0.9859233546214481, 'bagging_freq': 10, 'price_upper_bound': 54500, 'price_lower_bound': 2200, 'smoothing': 0.24860049361218295, 'min_samples_leaf': 5, 'noise_level': 0.34352272054766475}. Best is trial 201 with value: 8881.808604513526.\n"
     ]
    },
    {
     "name": "stdout",
     "output_type": "stream",
     "text": [
      "Validation RMSE: 9095.062247013824\n"
     ]
    },
    {
     "name": "stderr",
     "output_type": "stream",
     "text": [
      "[I 2025-07-23 16:53:13,920] Trial 317 finished with value: 9064.685415046575 and parameters: {'num_leaves': 90, 'max_depth': 47, 'learning_rate': 0.06394102338672837, 'n_estimators': 437, 'min_child_samples': 16, 'feature_fraction': 0.9046541842132833, 'bagging_fraction': 0.9731557058517386, 'bagging_freq': 10, 'price_upper_bound': 55000, 'price_lower_bound': 2400, 'smoothing': 0.23041539114820364, 'min_samples_leaf': 6, 'noise_level': 0.3689791085034509}. Best is trial 201 with value: 8881.808604513526.\n"
     ]
    },
    {
     "name": "stdout",
     "output_type": "stream",
     "text": [
      "Validation RMSE: 9064.685415046575\n"
     ]
    },
    {
     "name": "stderr",
     "output_type": "stream",
     "text": [
      "[I 2025-07-23 16:53:18,683] Trial 318 finished with value: 9023.090555143903 and parameters: {'num_leaves': 97, 'max_depth': 19, 'learning_rate': 0.018521715905289143, 'n_estimators': 447, 'min_child_samples': 7, 'feature_fraction': 0.9096121739318427, 'bagging_fraction': 0.961745951464877, 'bagging_freq': 3, 'price_upper_bound': 55500, 'price_lower_bound': 2000, 'smoothing': 0.7924936936386778, 'min_samples_leaf': 5, 'noise_level': 0.49450074947883815}. Best is trial 201 with value: 8881.808604513526.\n"
     ]
    },
    {
     "name": "stdout",
     "output_type": "stream",
     "text": [
      "Validation RMSE: 9023.090555143903\n"
     ]
    },
    {
     "name": "stderr",
     "output_type": "stream",
     "text": [
      "[I 2025-07-23 16:53:22,647] Trial 319 finished with value: 9079.903090858812 and parameters: {'num_leaves': 94, 'max_depth': 43, 'learning_rate': 0.05873160085851889, 'n_estimators': 381, 'min_child_samples': 9, 'feature_fraction': 0.4776998868619162, 'bagging_fraction': 0.9756971250369134, 'bagging_freq': 10, 'price_upper_bound': 53500, 'price_lower_bound': 1900, 'smoothing': 0.17448836981027355, 'min_samples_leaf': 5, 'noise_level': 0.32010360237964347}. Best is trial 201 with value: 8881.808604513526.\n"
     ]
    },
    {
     "name": "stdout",
     "output_type": "stream",
     "text": [
      "Validation RMSE: 9079.903090858812\n"
     ]
    },
    {
     "name": "stderr",
     "output_type": "stream",
     "text": [
      "[I 2025-07-23 16:53:26,694] Trial 320 finished with value: 9062.80038792157 and parameters: {'num_leaves': 98, 'max_depth': 38, 'learning_rate': 0.06198058986297844, 'n_estimators': 417, 'min_child_samples': 6, 'feature_fraction': 0.8776702322661883, 'bagging_fraction': 0.9417639160718695, 'bagging_freq': 10, 'price_upper_bound': 60000, 'price_lower_bound': 2300, 'smoothing': 0.18560748337216298, 'min_samples_leaf': 6, 'noise_level': 0.4043595416485144}. Best is trial 201 with value: 8881.808604513526.\n"
     ]
    },
    {
     "name": "stdout",
     "output_type": "stream",
     "text": [
      "Validation RMSE: 9062.80038792157\n"
     ]
    },
    {
     "name": "stderr",
     "output_type": "stream",
     "text": [
      "[I 2025-07-23 16:53:30,256] Trial 321 finished with value: 9021.76845400093 and parameters: {'num_leaves': 89, 'max_depth': 46, 'learning_rate': 0.06841976648151758, 'n_estimators': 429, 'min_child_samples': 13, 'feature_fraction': 0.8969869203665195, 'bagging_fraction': 0.9993626611745645, 'bagging_freq': 10, 'price_upper_bound': 56000, 'price_lower_bound': 2200, 'smoothing': 0.8929430894800485, 'min_samples_leaf': 5, 'noise_level': 0.26205887502957104}. Best is trial 201 with value: 8881.808604513526.\n"
     ]
    },
    {
     "name": "stdout",
     "output_type": "stream",
     "text": [
      "Validation RMSE: 9021.76845400093\n"
     ]
    },
    {
     "name": "stderr",
     "output_type": "stream",
     "text": [
      "[I 2025-07-23 16:53:33,864] Trial 322 finished with value: 9313.772070552932 and parameters: {'num_leaves': 95, 'max_depth': 48, 'learning_rate': 0.056958454984019254, 'n_estimators': 393, 'min_child_samples': 11, 'feature_fraction': 0.9913016473771527, 'bagging_fraction': 0.9843365703022421, 'bagging_freq': 10, 'price_upper_bound': 44500, 'price_lower_bound': 1900, 'smoothing': 0.2587365692079793, 'min_samples_leaf': 5, 'noise_level': 0.2870329499071789}. Best is trial 201 with value: 8881.808604513526.\n"
     ]
    },
    {
     "name": "stdout",
     "output_type": "stream",
     "text": [
      "Validation RMSE: 9313.772070552932\n"
     ]
    },
    {
     "name": "stderr",
     "output_type": "stream",
     "text": [
      "[I 2025-07-23 16:53:37,925] Trial 323 finished with value: 9109.898540381297 and parameters: {'num_leaves': 92, 'max_depth': 28, 'learning_rate': 0.051460500235949065, 'n_estimators': 439, 'min_child_samples': 8, 'feature_fraction': 0.9222067022568186, 'bagging_fraction': 0.9646663905907747, 'bagging_freq': 9, 'price_upper_bound': 58000, 'price_lower_bound': 3700, 'smoothing': 0.3094243021136406, 'min_samples_leaf': 6, 'noise_level': 0.3212071867555851}. Best is trial 201 with value: 8881.808604513526.\n"
     ]
    },
    {
     "name": "stdout",
     "output_type": "stream",
     "text": [
      "Validation RMSE: 9109.898540381297\n"
     ]
    },
    {
     "name": "stderr",
     "output_type": "stream",
     "text": [
      "[I 2025-07-23 16:53:42,256] Trial 324 finished with value: 9112.745734205864 and parameters: {'num_leaves': 94, 'max_depth': 45, 'learning_rate': 0.06891779299855848, 'n_estimators': 449, 'min_child_samples': 5, 'feature_fraction': 0.8896715357585745, 'bagging_fraction': 0.9416705828513683, 'bagging_freq': 10, 'price_upper_bound': 59000, 'price_lower_bound': 1800, 'smoothing': 0.5969117549633824, 'min_samples_leaf': 7, 'noise_level': 0.35599236484091307}. Best is trial 201 with value: 8881.808604513526.\n"
     ]
    },
    {
     "name": "stdout",
     "output_type": "stream",
     "text": [
      "Validation RMSE: 9112.745734205864\n"
     ]
    },
    {
     "name": "stderr",
     "output_type": "stream",
     "text": [
      "[I 2025-07-23 16:53:46,106] Trial 325 finished with value: 9164.020571010344 and parameters: {'num_leaves': 100, 'max_depth': 48, 'learning_rate': 0.17745114775514664, 'n_estimators': 404, 'min_child_samples': 19, 'feature_fraction': 0.9360597909181859, 'bagging_fraction': 0.9550799862587451, 'bagging_freq': 9, 'price_upper_bound': 57000, 'price_lower_bound': 2000, 'smoothing': 0.013532482090865201, 'min_samples_leaf': 5, 'noise_level': 0.24126299837669424}. Best is trial 201 with value: 8881.808604513526.\n"
     ]
    },
    {
     "name": "stdout",
     "output_type": "stream",
     "text": [
      "Validation RMSE: 9164.020571010344\n"
     ]
    },
    {
     "name": "stderr",
     "output_type": "stream",
     "text": [
      "[I 2025-07-23 16:53:50,672] Trial 326 finished with value: 9149.683069284496 and parameters: {'num_leaves': 96, 'max_depth': 44, 'learning_rate': 0.1515046178039863, 'n_estimators': 417, 'min_child_samples': 7, 'feature_fraction': 0.9513453789893423, 'bagging_fraction': 0.9732277218291269, 'bagging_freq': 4, 'price_upper_bound': 60000, 'price_lower_bound': 1500, 'smoothing': 0.14233266777140346, 'min_samples_leaf': 5, 'noise_level': 0.43254902609728657}. Best is trial 201 with value: 8881.808604513526.\n"
     ]
    },
    {
     "name": "stdout",
     "output_type": "stream",
     "text": [
      "Validation RMSE: 9149.683069284496\n"
     ]
    },
    {
     "name": "stderr",
     "output_type": "stream",
     "text": [
      "[I 2025-07-23 16:53:54,597] Trial 327 finished with value: 9081.095201916143 and parameters: {'num_leaves': 87, 'max_depth': 47, 'learning_rate': 0.020643112345387536, 'n_estimators': 432, 'min_child_samples': 10, 'feature_fraction': 0.9801944646043002, 'bagging_fraction': 0.9872974471690376, 'bagging_freq': 7, 'price_upper_bound': 58000, 'price_lower_bound': 2100, 'smoothing': 0.20060559876725445, 'min_samples_leaf': 5, 'noise_level': 0.2854425229853069}. Best is trial 201 with value: 8881.808604513526.\n"
     ]
    },
    {
     "name": "stdout",
     "output_type": "stream",
     "text": [
      "Validation RMSE: 9081.095201916143\n"
     ]
    },
    {
     "name": "stderr",
     "output_type": "stream",
     "text": [
      "[I 2025-07-23 16:53:56,707] Trial 328 finished with value: 13809.941430974468 and parameters: {'num_leaves': 90, 'max_depth': 40, 'learning_rate': 0.06606099728789734, 'n_estimators': 442, 'min_child_samples': 69, 'feature_fraction': 0.78056720097512, 'bagging_fraction': 0.9522356244436793, 'bagging_freq': 10, 'price_upper_bound': 15000, 'price_lower_bound': 1200, 'smoothing': 0.21911596032598069, 'min_samples_leaf': 6, 'noise_level': 0.2173318454440807}. Best is trial 201 with value: 8881.808604513526.\n"
     ]
    },
    {
     "name": "stdout",
     "output_type": "stream",
     "text": [
      "Validation RMSE: 13809.941430974468\n"
     ]
    },
    {
     "name": "stderr",
     "output_type": "stream",
     "text": [
      "[I 2025-07-23 16:54:00,279] Trial 329 finished with value: 9024.343425735282 and parameters: {'num_leaves': 93, 'max_depth': 21, 'learning_rate': 0.02410825727564201, 'n_estimators': 356, 'min_child_samples': 5, 'feature_fraction': 0.8767188842250874, 'bagging_fraction': 0.9384426767049006, 'bagging_freq': 5, 'price_upper_bound': 54500, 'price_lower_bound': 1600, 'smoothing': 0.5272278126598899, 'min_samples_leaf': 8, 'noise_level': 0.3441183861155944}. Best is trial 201 with value: 8881.808604513526.\n"
     ]
    },
    {
     "name": "stdout",
     "output_type": "stream",
     "text": [
      "Validation RMSE: 9024.343425735282\n"
     ]
    },
    {
     "name": "stderr",
     "output_type": "stream",
     "text": [
      "[I 2025-07-23 16:54:04,857] Trial 330 finished with value: 9059.800069172783 and parameters: {'num_leaves': 97, 'max_depth': 45, 'learning_rate': 0.059864895741843845, 'n_estimators': 451, 'min_child_samples': 8, 'feature_fraction': 0.9167161326057559, 'bagging_fraction': 0.9651189664459515, 'bagging_freq': 9, 'price_upper_bound': 56000, 'price_lower_bound': 2400, 'smoothing': 0.35191364566823424, 'min_samples_leaf': 3, 'noise_level': 0.3879613506971088}. Best is trial 201 with value: 8881.808604513526.\n"
     ]
    },
    {
     "name": "stdout",
     "output_type": "stream",
     "text": [
      "Validation RMSE: 9059.800069172783\n"
     ]
    },
    {
     "name": "stderr",
     "output_type": "stream",
     "text": [
      "[I 2025-07-23 16:54:08,724] Trial 331 finished with value: 9098.229121274897 and parameters: {'num_leaves': 91, 'max_depth': 42, 'learning_rate': 0.05459331272174599, 'n_estimators': 426, 'min_child_samples': 50, 'feature_fraction': 0.9720848059568447, 'bagging_fraction': 0.9755172140354137, 'bagging_freq': 10, 'price_upper_bound': 59000, 'price_lower_bound': 1400, 'smoothing': 0.010885978641254917, 'min_samples_leaf': 5, 'noise_level': 0.26074831559899525}. Best is trial 201 with value: 8881.808604513526.\n"
     ]
    },
    {
     "name": "stdout",
     "output_type": "stream",
     "text": [
      "Validation RMSE: 9098.229121274897\n"
     ]
    },
    {
     "name": "stderr",
     "output_type": "stream",
     "text": [
      "[I 2025-07-23 16:54:11,334] Trial 332 finished with value: 9073.372005580184 and parameters: {'num_leaves': 67, 'max_depth': 47, 'learning_rate': 0.0494103691712747, 'n_estimators': 378, 'min_child_samples': 15, 'feature_fraction': 0.998737085786681, 'bagging_fraction': 0.9550677992492899, 'bagging_freq': 6, 'price_upper_bound': 57500, 'price_lower_bound': 2300, 'smoothing': 0.01355369076564201, 'min_samples_leaf': 5, 'noise_level': 0.3088938515159045}. Best is trial 201 with value: 8881.808604513526.\n"
     ]
    },
    {
     "name": "stdout",
     "output_type": "stream",
     "text": [
      "Validation RMSE: 9073.372005580184\n"
     ]
    },
    {
     "name": "stderr",
     "output_type": "stream",
     "text": [
      "[I 2025-07-23 16:54:15,984] Trial 333 finished with value: 9031.859270172055 and parameters: {'num_leaves': 95, 'max_depth': 23, 'learning_rate': 0.06300991793973187, 'n_estimators': 409, 'min_child_samples': 7, 'feature_fraction': 0.8653501281695974, 'bagging_fraction': 0.9380964855342911, 'bagging_freq': 8, 'price_upper_bound': 59000, 'price_lower_bound': 1700, 'smoothing': 0.16249201577898964, 'min_samples_leaf': 5, 'noise_level': 0.07147486888540405}. Best is trial 201 with value: 8881.808604513526.\n"
     ]
    },
    {
     "name": "stdout",
     "output_type": "stream",
     "text": [
      "Validation RMSE: 9031.859270172055\n"
     ]
    },
    {
     "name": "stderr",
     "output_type": "stream",
     "text": [
      "[I 2025-07-23 16:54:20,721] Trial 334 finished with value: 8902.83454409941 and parameters: {'num_leaves': 93, 'max_depth': 46, 'learning_rate': 0.07405233255162912, 'n_estimators': 492, 'min_child_samples': 11, 'feature_fraction': 0.945973343677502, 'bagging_fraction': 0.9851477455598135, 'bagging_freq': 9, 'price_upper_bound': 56500, 'price_lower_bound': 2200, 'smoothing': 0.09063974488124212, 'min_samples_leaf': 6, 'noise_level': 0.2755288712513629}. Best is trial 201 with value: 8881.808604513526.\n"
     ]
    },
    {
     "name": "stdout",
     "output_type": "stream",
     "text": [
      "Validation RMSE: 8902.83454409941\n"
     ]
    },
    {
     "name": "stderr",
     "output_type": "stream",
     "text": [
      "[I 2025-07-23 16:54:25,333] Trial 335 finished with value: 9052.188035890991 and parameters: {'num_leaves': 94, 'max_depth': 43, 'learning_rate': 0.06920989471772494, 'n_estimators': 496, 'min_child_samples': 12, 'feature_fraction': 0.9507431048480791, 'bagging_fraction': 0.9890336577201778, 'bagging_freq': 9, 'price_upper_bound': 57000, 'price_lower_bound': 2200, 'smoothing': 0.1145264247833724, 'min_samples_leaf': 6, 'noise_level': 0.24475095776213257}. Best is trial 201 with value: 8881.808604513526.\n"
     ]
    },
    {
     "name": "stdout",
     "output_type": "stream",
     "text": [
      "Validation RMSE: 9052.188035890991\n"
     ]
    },
    {
     "name": "stderr",
     "output_type": "stream",
     "text": [
      "[I 2025-07-23 16:54:30,082] Trial 336 finished with value: 8950.599209407948 and parameters: {'num_leaves': 98, 'max_depth': 45, 'learning_rate': 0.07544820476307218, 'n_estimators': 491, 'min_child_samples': 14, 'feature_fraction': 0.9293538640508027, 'bagging_fraction': 0.9995673090222872, 'bagging_freq': 9, 'price_upper_bound': 58000, 'price_lower_bound': 3500, 'smoothing': 0.03885689517388708, 'min_samples_leaf': 6, 'noise_level': 0.2798228655868483}. Best is trial 201 with value: 8881.808604513526.\n"
     ]
    },
    {
     "name": "stdout",
     "output_type": "stream",
     "text": [
      "Validation RMSE: 8950.599209407948\n"
     ]
    },
    {
     "name": "stderr",
     "output_type": "stream",
     "text": [
      "[I 2025-07-23 16:54:35,137] Trial 337 finished with value: 9120.169548711992 and parameters: {'num_leaves': 99, 'max_depth': 45, 'learning_rate': 0.07358683257082028, 'n_estimators': 492, 'min_child_samples': 17, 'feature_fraction': 0.939166908407141, 'bagging_fraction': 0.9980276753374335, 'bagging_freq': 9, 'price_upper_bound': 56500, 'price_lower_bound': 3600, 'smoothing': 0.03637423401586253, 'min_samples_leaf': 6, 'noise_level': 0.27544956908122836}. Best is trial 201 with value: 8881.808604513526.\n"
     ]
    },
    {
     "name": "stdout",
     "output_type": "stream",
     "text": [
      "Validation RMSE: 9120.169548711992\n"
     ]
    },
    {
     "name": "stderr",
     "output_type": "stream",
     "text": [
      "[I 2025-07-23 16:54:39,681] Trial 338 finished with value: 9004.560267945317 and parameters: {'num_leaves': 98, 'max_depth': 44, 'learning_rate': 0.08520638026215765, 'n_estimators': 488, 'min_child_samples': 12, 'feature_fraction': 0.9607143404880643, 'bagging_fraction': 0.9903054681796858, 'bagging_freq': 9, 'price_upper_bound': 58000, 'price_lower_bound': 3400, 'smoothing': 0.04381362458062835, 'min_samples_leaf': 6, 'noise_level': 0.22523162465281782}. Best is trial 201 with value: 8881.808604513526.\n"
     ]
    },
    {
     "name": "stdout",
     "output_type": "stream",
     "text": [
      "Validation RMSE: 9004.560267945317\n"
     ]
    },
    {
     "name": "stderr",
     "output_type": "stream",
     "text": [
      "[I 2025-07-23 16:54:44,348] Trial 339 finished with value: 9108.050137540307 and parameters: {'num_leaves': 100, 'max_depth': 46, 'learning_rate': 0.07979266025247016, 'n_estimators': 499, 'min_child_samples': 16, 'feature_fraction': 0.9279995878154483, 'bagging_fraction': 0.9851519866966032, 'bagging_freq': 9, 'price_upper_bound': 60000, 'price_lower_bound': 3400, 'smoothing': 0.0861051066584478, 'min_samples_leaf': 6, 'noise_level': 0.25084739223175334}. Best is trial 201 with value: 8881.808604513526.\n"
     ]
    },
    {
     "name": "stdout",
     "output_type": "stream",
     "text": [
      "Validation RMSE: 9108.050137540307\n"
     ]
    },
    {
     "name": "stderr",
     "output_type": "stream",
     "text": [
      "[I 2025-07-23 16:54:48,883] Trial 340 finished with value: 9302.309679689479 and parameters: {'num_leaves': 97, 'max_depth': 44, 'learning_rate': 0.26460284728918015, 'n_estimators': 488, 'min_child_samples': 14, 'feature_fraction': 0.9488573960644562, 'bagging_fraction': 0.9878976882466597, 'bagging_freq': 9, 'price_upper_bound': 57000, 'price_lower_bound': 2900, 'smoothing': 0.04668692464746778, 'min_samples_leaf': 6, 'noise_level': 0.30542269156966045}. Best is trial 201 with value: 8881.808604513526.\n"
     ]
    },
    {
     "name": "stdout",
     "output_type": "stream",
     "text": [
      "Validation RMSE: 9302.309679689479\n"
     ]
    },
    {
     "name": "stderr",
     "output_type": "stream",
     "text": [
      "[I 2025-07-23 16:54:53,662] Trial 341 finished with value: 9385.374641988828 and parameters: {'num_leaves': 96, 'max_depth': 26, 'learning_rate': 0.07405084618537502, 'n_estimators': 481, 'min_child_samples': 14, 'feature_fraction': 0.9794790005313789, 'bagging_fraction': 0.4579073539254152, 'bagging_freq': 8, 'price_upper_bound': 55500, 'price_lower_bound': 3500, 'smoothing': 0.03896624765232941, 'min_samples_leaf': 6, 'noise_level': 0.2679566880489401}. Best is trial 201 with value: 8881.808604513526.\n"
     ]
    },
    {
     "name": "stdout",
     "output_type": "stream",
     "text": [
      "Validation RMSE: 9385.374641988828\n"
     ]
    },
    {
     "name": "stderr",
     "output_type": "stream",
     "text": [
      "[I 2025-07-23 16:54:58,109] Trial 342 finished with value: 9156.615607107293 and parameters: {'num_leaves': 98, 'max_depth': 46, 'learning_rate': 0.0772139001018232, 'n_estimators': 496, 'min_child_samples': 11, 'feature_fraction': 0.9647923549576178, 'bagging_fraction': 0.9977873211674277, 'bagging_freq': 7, 'price_upper_bound': 59000, 'price_lower_bound': 3800, 'smoothing': 0.040732061816074576, 'min_samples_leaf': 6, 'noise_level': 0.01554321472206787}. Best is trial 201 with value: 8881.808604513526.\n"
     ]
    },
    {
     "name": "stdout",
     "output_type": "stream",
     "text": [
      "Validation RMSE: 9156.615607107293\n"
     ]
    },
    {
     "name": "stderr",
     "output_type": "stream",
     "text": [
      "[I 2025-07-23 16:55:01,703] Trial 343 finished with value: 9040.080388110971 and parameters: {'num_leaves': 70, 'max_depth': 45, 'learning_rate': 0.027533443613040668, 'n_estimators': 500, 'min_child_samples': 10, 'feature_fraction': 0.93886068520583, 'bagging_fraction': 0.9991786580333766, 'bagging_freq': 8, 'price_upper_bound': 58000, 'price_lower_bound': 3700, 'smoothing': 0.570021390346688, 'min_samples_leaf': 7, 'noise_level': 0.2297068943374979}. Best is trial 201 with value: 8881.808604513526.\n"
     ]
    },
    {
     "name": "stdout",
     "output_type": "stream",
     "text": [
      "Validation RMSE: 9040.080388110971\n"
     ]
    },
    {
     "name": "stderr",
     "output_type": "stream",
     "text": [
      "[I 2025-07-23 16:55:06,546] Trial 344 finished with value: 9061.658902796327 and parameters: {'num_leaves': 84, 'max_depth': 41, 'learning_rate': 0.06653519473363825, 'n_estimators': 487, 'min_child_samples': 9, 'feature_fraction': 0.9885803002259853, 'bagging_fraction': 0.925871839974851, 'bagging_freq': 9, 'price_upper_bound': 60000, 'price_lower_bound': 2300, 'smoothing': 0.032119884891751244, 'min_samples_leaf': 6, 'noise_level': 0.20429571650124131}. Best is trial 201 with value: 8881.808604513526.\n"
     ]
    },
    {
     "name": "stdout",
     "output_type": "stream",
     "text": [
      "Validation RMSE: 9061.658902796327\n"
     ]
    },
    {
     "name": "stderr",
     "output_type": "stream",
     "text": [
      "[I 2025-07-23 16:55:11,002] Trial 345 finished with value: 9077.880655898369 and parameters: {'num_leaves': 96, 'max_depth': 46, 'learning_rate': 0.05921100447297203, 'n_estimators': 485, 'min_child_samples': 13, 'feature_fraction': 0.9533085522194428, 'bagging_fraction': 0.9605077446370813, 'bagging_freq': 8, 'price_upper_bound': 56500, 'price_lower_bound': 2800, 'smoothing': 0.05658085647838939, 'min_samples_leaf': 6, 'noise_level': 0.06517102920777582}. Best is trial 201 with value: 8881.808604513526.\n"
     ]
    },
    {
     "name": "stdout",
     "output_type": "stream",
     "text": [
      "Validation RMSE: 9077.880655898369\n"
     ]
    },
    {
     "name": "stderr",
     "output_type": "stream",
     "text": [
      "[I 2025-07-23 16:55:14,392] Trial 346 finished with value: 9135.766032144353 and parameters: {'num_leaves': 76, 'max_depth': 43, 'learning_rate': 0.015984019327659076, 'n_estimators': 455, 'min_child_samples': 18, 'feature_fraction': 0.9724358859112956, 'bagging_fraction': 0.5687280034132182, 'bagging_freq': 9, 'price_upper_bound': 57500, 'price_lower_bound': 3600, 'smoothing': 0.01591829409943093, 'min_samples_leaf': 6, 'noise_level': 0.10776072393247921}. Best is trial 201 with value: 8881.808604513526.\n"
     ]
    },
    {
     "name": "stdout",
     "output_type": "stream",
     "text": [
      "Validation RMSE: 9135.766032144353\n"
     ]
    },
    {
     "name": "stderr",
     "output_type": "stream",
     "text": [
      "[I 2025-07-23 16:55:17,202] Trial 347 finished with value: 8974.93969866691 and parameters: {'num_leaves': 100, 'max_depth': 44, 'learning_rate': 0.07451572803736796, 'n_estimators': 274, 'min_child_samples': 7, 'feature_fraction': 0.9309679465902317, 'bagging_fraction': 0.9493701752238715, 'bagging_freq': 9, 'price_upper_bound': 59000, 'price_lower_bound': 3100, 'smoothing': 0.07604464399716972, 'min_samples_leaf': 6, 'noise_level': 0.056705818061500234}. Best is trial 201 with value: 8881.808604513526.\n"
     ]
    },
    {
     "name": "stdout",
     "output_type": "stream",
     "text": [
      "Validation RMSE: 8974.93969866691\n"
     ]
    },
    {
     "name": "stderr",
     "output_type": "stream",
     "text": [
      "[I 2025-07-23 16:55:21,096] Trial 348 finished with value: 9096.751711176226 and parameters: {'num_leaves': 98, 'max_depth': 46, 'learning_rate': 0.06317714463190835, 'n_estimators': 369, 'min_child_samples': 15, 'feature_fraction': 0.9603883572046525, 'bagging_fraction': 0.9762914370187995, 'bagging_freq': 8, 'price_upper_bound': 58500, 'price_lower_bound': 3300, 'smoothing': 0.09591337719356455, 'min_samples_leaf': 7, 'noise_level': 0.32493813435627883}. Best is trial 201 with value: 8881.808604513526.\n"
     ]
    },
    {
     "name": "stdout",
     "output_type": "stream",
     "text": [
      "Validation RMSE: 9096.751711176226\n"
     ]
    },
    {
     "name": "stderr",
     "output_type": "stream",
     "text": [
      "[I 2025-07-23 16:55:24,798] Trial 349 finished with value: 9171.906569036544 and parameters: {'num_leaves': 94, 'max_depth': 47, 'learning_rate': 0.07013514944187878, 'n_estimators': 389, 'min_child_samples': 11, 'feature_fraction': 0.9864449475129436, 'bagging_fraction': 0.6369311033684152, 'bagging_freq': 2, 'price_upper_bound': 57500, 'price_lower_bound': 3500, 'smoothing': 0.012588300015414066, 'min_samples_leaf': 7, 'noise_level': 0.2911774743484422}. Best is trial 201 with value: 8881.808604513526.\n"
     ]
    },
    {
     "name": "stdout",
     "output_type": "stream",
     "text": [
      "Validation RMSE: 9171.906569036544\n"
     ]
    },
    {
     "name": "stderr",
     "output_type": "stream",
     "text": [
      "[I 2025-07-23 16:55:29,394] Trial 350 finished with value: 11238.680497635058 and parameters: {'num_leaves': 87, 'max_depth': 45, 'learning_rate': 0.02258054142690659, 'n_estimators': 460, 'min_child_samples': 8, 'feature_fraction': 0.4937846129910037, 'bagging_fraction': 0.9365396878882222, 'bagging_freq': 9, 'price_upper_bound': 24000, 'price_lower_bound': 2400, 'smoothing': 0.03284389793368184, 'min_samples_leaf': 6, 'noise_level': 0.25126819604752004}. Best is trial 201 with value: 8881.808604513526.\n"
     ]
    },
    {
     "name": "stdout",
     "output_type": "stream",
     "text": [
      "Validation RMSE: 11238.680497635058\n"
     ]
    },
    {
     "name": "stderr",
     "output_type": "stream",
     "text": [
      "[I 2025-07-23 16:55:33,751] Trial 351 finished with value: 8958.86871469044 and parameters: {'num_leaves': 96, 'max_depth': 43, 'learning_rate': 0.025547925809884495, 'n_estimators': 447, 'min_child_samples': 6, 'feature_fraction': 0.8535343023622819, 'bagging_fraction': 0.9657422507002285, 'bagging_freq': 8, 'price_upper_bound': 56000, 'price_lower_bound': 2200, 'smoothing': 0.029914478783450812, 'min_samples_leaf': 6, 'noise_level': 0.2016222499276156}. Best is trial 201 with value: 8881.808604513526.\n"
     ]
    },
    {
     "name": "stdout",
     "output_type": "stream",
     "text": [
      "Validation RMSE: 8958.86871469044\n"
     ]
    },
    {
     "name": "stderr",
     "output_type": "stream",
     "text": [
      "[I 2025-07-23 16:55:37,229] Trial 352 finished with value: 9094.521979714153 and parameters: {'num_leaves': 72, 'max_depth': 24, 'learning_rate': 0.0810454809885278, 'n_estimators': 477, 'min_child_samples': 10, 'feature_fraction': 0.9442762826983713, 'bagging_fraction': 0.9828426108934626, 'bagging_freq': 7, 'price_upper_bound': 60000, 'price_lower_bound': 2100, 'smoothing': 0.28453841071110514, 'min_samples_leaf': 6, 'noise_level': 0.012802338570705854}. Best is trial 201 with value: 8881.808604513526.\n"
     ]
    },
    {
     "name": "stdout",
     "output_type": "stream",
     "text": [
      "Validation RMSE: 9094.521979714153\n"
     ]
    },
    {
     "name": "stderr",
     "output_type": "stream",
     "text": [
      "[I 2025-07-23 16:55:41,137] Trial 353 finished with value: 9432.962230038913 and parameters: {'num_leaves': 91, 'max_depth': 45, 'learning_rate': 0.02112657749728573, 'n_estimators': 397, 'min_child_samples': 7, 'feature_fraction': 0.9693279796652805, 'bagging_fraction': 0.9483061189104433, 'bagging_freq': 8, 'price_upper_bound': 38000, 'price_lower_bound': 3000, 'smoothing': 0.014835842680723717, 'min_samples_leaf': 6, 'noise_level': 0.2729057251068423}. Best is trial 201 with value: 8881.808604513526.\n"
     ]
    },
    {
     "name": "stdout",
     "output_type": "stream",
     "text": [
      "Validation RMSE: 9432.962230038913\n"
     ]
    },
    {
     "name": "stderr",
     "output_type": "stream",
     "text": [
      "[I 2025-07-23 16:55:44,945] Trial 354 finished with value: 9056.755110354296 and parameters: {'num_leaves': 92, 'max_depth': 22, 'learning_rate': 0.0663982506488157, 'n_estimators': 380, 'min_child_samples': 13, 'feature_fraction': 0.9790098820287435, 'bagging_fraction': 0.9224522771875381, 'bagging_freq': 8, 'price_upper_bound': 59000, 'price_lower_bound': 1900, 'smoothing': 0.03808116102392142, 'min_samples_leaf': 8, 'noise_level': 0.314529387003157}. Best is trial 201 with value: 8881.808604513526.\n"
     ]
    },
    {
     "name": "stdout",
     "output_type": "stream",
     "text": [
      "Validation RMSE: 9056.755110354296\n"
     ]
    },
    {
     "name": "stderr",
     "output_type": "stream",
     "text": [
      "[I 2025-07-23 16:55:49,301] Trial 355 finished with value: 8994.514855725367 and parameters: {'num_leaves': 89, 'max_depth': 46, 'learning_rate': 0.058010344467528015, 'n_estimators': 493, 'min_child_samples': 5, 'feature_fraction': 0.926948787364966, 'bagging_fraction': 0.9629548645985165, 'bagging_freq': 6, 'price_upper_bound': 58000, 'price_lower_bound': 2700, 'smoothing': 0.6326418367914391, 'min_samples_leaf': 6, 'noise_level': 0.34820931935411226}. Best is trial 201 with value: 8881.808604513526.\n"
     ]
    },
    {
     "name": "stdout",
     "output_type": "stream",
     "text": [
      "Validation RMSE: 8994.514855725367\n"
     ]
    },
    {
     "name": "stderr",
     "output_type": "stream",
     "text": [
      "[I 2025-07-23 16:55:51,863] Trial 356 finished with value: 9052.950806942119 and parameters: {'num_leaves': 79, 'max_depth': 47, 'learning_rate': 0.018216419343061334, 'n_estimators': 302, 'min_child_samples': 9, 'feature_fraction': 0.9504991144933629, 'bagging_fraction': 0.9766133140889002, 'bagging_freq': 9, 'price_upper_bound': 57000, 'price_lower_bound': 2400, 'smoothing': 0.017751239002736566, 'min_samples_leaf': 6, 'noise_level': 0.2386575993343416}. Best is trial 201 with value: 8881.808604513526.\n"
     ]
    },
    {
     "name": "stdout",
     "output_type": "stream",
     "text": [
      "Validation RMSE: 9052.950806942119\n"
     ]
    },
    {
     "name": "stderr",
     "output_type": "stream",
     "text": [
      "[I 2025-07-23 16:55:54,689] Trial 357 finished with value: 9068.650152463735 and parameters: {'num_leaves': 54, 'max_depth': 44, 'learning_rate': 0.041585226562988443, 'n_estimators': 480, 'min_child_samples': 11, 'feature_fraction': 0.990841103400475, 'bagging_fraction': 0.7928684846401329, 'bagging_freq': 9, 'price_upper_bound': 59000, 'price_lower_bound': 2000, 'smoothing': 0.027205460579845502, 'min_samples_leaf': 2, 'noise_level': 0.2783980678799188}. Best is trial 201 with value: 8881.808604513526.\n"
     ]
    },
    {
     "name": "stdout",
     "output_type": "stream",
     "text": [
      "Validation RMSE: 9068.650152463735\n"
     ]
    },
    {
     "name": "stderr",
     "output_type": "stream",
     "text": [
      "[I 2025-07-23 16:55:57,140] Trial 358 finished with value: 9086.281053686114 and parameters: {'num_leaves': 48, 'max_depth': 46, 'learning_rate': 0.06062005534717296, 'n_estimators': 453, 'min_child_samples': 8, 'feature_fraction': 0.9995909762850435, 'bagging_fraction': 0.940248156538159, 'bagging_freq': 8, 'price_upper_bound': 60000, 'price_lower_bound': 1800, 'smoothing': 0.011377514775898052, 'min_samples_leaf': 7, 'noise_level': 0.21784575362581649}. Best is trial 201 with value: 8881.808604513526.\n"
     ]
    },
    {
     "name": "stdout",
     "output_type": "stream",
     "text": [
      "Validation RMSE: 9086.281053686114\n"
     ]
    },
    {
     "name": "stderr",
     "output_type": "stream",
     "text": [
      "[I 2025-07-23 16:56:01,395] Trial 359 finished with value: 9062.215669447896 and parameters: {'num_leaves': 93, 'max_depth': 48, 'learning_rate': 0.07236281986289532, 'n_estimators': 442, 'min_child_samples': 5, 'feature_fraction': 0.8418245320231778, 'bagging_fraction': 0.9889061407999697, 'bagging_freq': 10, 'price_upper_bound': 55500, 'price_lower_bound': 2200, 'smoothing': 0.10219936113782979, 'min_samples_leaf': 3, 'noise_level': 0.3091255554061275}. Best is trial 201 with value: 8881.808604513526.\n"
     ]
    },
    {
     "name": "stdout",
     "output_type": "stream",
     "text": [
      "Validation RMSE: 9062.215669447896\n"
     ]
    },
    {
     "name": "stderr",
     "output_type": "stream",
     "text": [
      "[I 2025-07-23 16:56:05,581] Trial 360 finished with value: 9009.153046278021 and parameters: {'num_leaves': 95, 'max_depth': 41, 'learning_rate': 0.1299283854213472, 'n_estimators': 387, 'min_child_samples': 7, 'feature_fraction': 0.9648216575561923, 'bagging_fraction': 0.9598215631211994, 'bagging_freq': 9, 'price_upper_bound': 58000, 'price_lower_bound': 2500, 'smoothing': 0.042647997096952044, 'min_samples_leaf': 5, 'noise_level': 0.24685669179052439}. Best is trial 201 with value: 8881.808604513526.\n"
     ]
    },
    {
     "name": "stdout",
     "output_type": "stream",
     "text": [
      "Validation RMSE: 9009.153046278021\n"
     ]
    },
    {
     "name": "stderr",
     "output_type": "stream",
     "text": [
      "[I 2025-07-23 16:56:10,451] Trial 361 finished with value: 8972.922627542199 and parameters: {'num_leaves': 98, 'max_depth': 42, 'learning_rate': 0.029376386419491904, 'n_estimators': 470, 'min_child_samples': 10, 'feature_fraction': 0.9385635323901623, 'bagging_fraction': 0.9313717004864999, 'bagging_freq': 8, 'price_upper_bound': 56500, 'price_lower_bound': 2900, 'smoothing': 0.01481922906241915, 'min_samples_leaf': 4, 'noise_level': 0.10269932925214728}. Best is trial 201 with value: 8881.808604513526.\n"
     ]
    },
    {
     "name": "stdout",
     "output_type": "stream",
     "text": [
      "Validation RMSE: 8972.922627542199\n"
     ]
    },
    {
     "name": "stderr",
     "output_type": "stream",
     "text": [
      "[I 2025-07-23 16:56:13,460] Trial 362 finished with value: 9214.069619992006 and parameters: {'num_leaves': 64, 'max_depth': 47, 'learning_rate': 0.06378981860079967, 'n_estimators': 461, 'min_child_samples': 13, 'feature_fraction': 0.9783750687140749, 'bagging_fraction': 0.9805947079162216, 'bagging_freq': 7, 'price_upper_bound': 48500, 'price_lower_bound': 2100, 'smoothing': 0.013262904710184147, 'min_samples_leaf': 5, 'noise_level': 0.34963177508989784}. Best is trial 201 with value: 8881.808604513526.\n"
     ]
    },
    {
     "name": "stdout",
     "output_type": "stream",
     "text": [
      "Validation RMSE: 9214.069619992006\n"
     ]
    },
    {
     "name": "stderr",
     "output_type": "stream",
     "text": [
      "[I 2025-07-23 16:56:17,461] Trial 363 finished with value: 8972.35781547301 and parameters: {'num_leaves': 82, 'max_depth': 45, 'learning_rate': 0.05592956970816003, 'n_estimators': 437, 'min_child_samples': 7, 'feature_fraction': 0.9576460886817714, 'bagging_fraction': 0.9555437571165503, 'bagging_freq': 10, 'price_upper_bound': 51000, 'price_lower_bound': 2300, 'smoothing': 0.03227153509215033, 'min_samples_leaf': 6, 'noise_level': 0.2935627185889736}. Best is trial 201 with value: 8881.808604513526.\n"
     ]
    },
    {
     "name": "stdout",
     "output_type": "stream",
     "text": [
      "Validation RMSE: 8972.35781547301\n"
     ]
    },
    {
     "name": "stderr",
     "output_type": "stream",
     "text": [
      "[I 2025-07-23 16:56:21,938] Trial 364 finished with value: 8989.259503234176 and parameters: {'num_leaves': 96, 'max_depth': 48, 'learning_rate': 0.047178728114063664, 'n_estimators': 450, 'min_child_samples': 5, 'feature_fraction': 0.9154293489578481, 'bagging_fraction': 0.9696751155312322, 'bagging_freq': 9, 'price_upper_bound': 59000, 'price_lower_bound': 2700, 'smoothing': 0.01932288663517295, 'min_samples_leaf': 5, 'noise_level': 0.2204020858450982}. Best is trial 201 with value: 8881.808604513526.\n"
     ]
    },
    {
     "name": "stdout",
     "output_type": "stream",
     "text": [
      "Validation RMSE: 8989.259503234176\n"
     ]
    },
    {
     "name": "stderr",
     "output_type": "stream",
     "text": [
      "[I 2025-07-23 16:56:25,655] Trial 365 finished with value: 9068.639546464388 and parameters: {'num_leaves': 93, 'max_depth': 39, 'learning_rate': 0.0775240829532763, 'n_estimators': 398, 'min_child_samples': 8, 'feature_fraction': 0.882911134642974, 'bagging_fraction': 0.9461820335260892, 'bagging_freq': 8, 'price_upper_bound': 57500, 'price_lower_bound': 1800, 'smoothing': 0.016559849291187114, 'min_samples_leaf': 5, 'noise_level': 0.1161190721150703}. Best is trial 201 with value: 8881.808604513526.\n"
     ]
    },
    {
     "name": "stdout",
     "output_type": "stream",
     "text": [
      "Validation RMSE: 9068.639546464388\n"
     ]
    },
    {
     "name": "stderr",
     "output_type": "stream",
     "text": [
      "[I 2025-07-23 16:56:29,799] Trial 366 finished with value: 9056.033590409676 and parameters: {'num_leaves': 90, 'max_depth': 44, 'learning_rate': 0.023770237076286945, 'n_estimators': 431, 'min_child_samples': 10, 'feature_fraction': 0.860147168260495, 'bagging_fraction': 0.9166793591562421, 'bagging_freq': 9, 'price_upper_bound': 60000, 'price_lower_bound': 2000, 'smoothing': 0.3302129962361465, 'min_samples_leaf': 6, 'noise_level': 0.2690069746553188}. Best is trial 201 with value: 8881.808604513526.\n"
     ]
    },
    {
     "name": "stdout",
     "output_type": "stream",
     "text": [
      "Validation RMSE: 9056.033590409676\n"
     ]
    },
    {
     "name": "stderr",
     "output_type": "stream",
     "text": [
      "[I 2025-07-23 16:56:34,521] Trial 367 finished with value: 9064.481657825789 and parameters: {'num_leaves': 95, 'max_depth': 47, 'learning_rate': 0.08802397293211102, 'n_estimators': 485, 'min_child_samples': 12, 'feature_fraction': 0.9675593264821032, 'bagging_fraction': 0.9895305784618336, 'bagging_freq': 2, 'price_upper_bound': 58500, 'price_lower_bound': 1500, 'smoothing': 0.036209549860708914, 'min_samples_leaf': 4, 'noise_level': 0.18744058925620596}. Best is trial 201 with value: 8881.808604513526.\n"
     ]
    },
    {
     "name": "stdout",
     "output_type": "stream",
     "text": [
      "Validation RMSE: 9064.481657825789\n"
     ]
    },
    {
     "name": "stderr",
     "output_type": "stream",
     "text": [
      "[I 2025-07-23 16:56:39,827] Trial 368 finished with value: 9173.512906881871 and parameters: {'num_leaves': 99, 'max_depth': 49, 'learning_rate': 0.019782196960216387, 'n_estimators': 500, 'min_child_samples': 15, 'feature_fraction': 0.9449715085793752, 'bagging_fraction': 0.9982237603095456, 'bagging_freq': 10, 'price_upper_bound': 55000, 'price_lower_bound': 2200, 'smoothing': 0.5015843723301805, 'min_samples_leaf': 5, 'noise_level': 0.071310001028178}. Best is trial 201 with value: 8881.808604513526.\n"
     ]
    },
    {
     "name": "stdout",
     "output_type": "stream",
     "text": [
      "Validation RMSE: 9173.512906881871\n"
     ]
    },
    {
     "name": "stderr",
     "output_type": "stream",
     "text": [
      "[I 2025-07-23 16:56:43,779] Trial 369 finished with value: 9219.496480532232 and parameters: {'num_leaves': 77, 'max_depth': 46, 'learning_rate': 0.06811057680898697, 'n_estimators': 463, 'min_child_samples': 44, 'feature_fraction': 0.43117640770902627, 'bagging_fraction': 0.969753870458965, 'bagging_freq': 9, 'price_upper_bound': 56500, 'price_lower_bound': 3900, 'smoothing': 0.06826469404192369, 'min_samples_leaf': 6, 'noise_level': 0.30712300375072693}. Best is trial 201 with value: 8881.808604513526.\n"
     ]
    },
    {
     "name": "stdout",
     "output_type": "stream",
     "text": [
      "Validation RMSE: 9219.496480532232\n"
     ]
    },
    {
     "name": "stderr",
     "output_type": "stream",
     "text": [
      "[I 2025-07-23 16:56:47,870] Trial 370 finished with value: 9889.138475450756 and parameters: {'num_leaves': 88, 'max_depth': 43, 'learning_rate': 0.06223689032831697, 'n_estimators': 445, 'min_child_samples': 5, 'feature_fraction': 0.9275663071544336, 'bagging_fraction': 0.9529174891990968, 'bagging_freq': 3, 'price_upper_bound': 32000, 'price_lower_bound': 2800, 'smoothing': 0.7344842171406538, 'min_samples_leaf': 7, 'noise_level': 0.33499301407507576}. Best is trial 201 with value: 8881.808604513526.\n"
     ]
    },
    {
     "name": "stdout",
     "output_type": "stream",
     "text": [
      "Validation RMSE: 9889.138475450756\n"
     ]
    },
    {
     "name": "stderr",
     "output_type": "stream",
     "text": [
      "[I 2025-07-23 16:56:50,943] Trial 371 finished with value: 9035.506776574197 and parameters: {'num_leaves': 85, 'max_depth': 45, 'learning_rate': 0.0564410147299438, 'n_estimators': 363, 'min_child_samples': 9, 'feature_fraction': 0.6886369264502374, 'bagging_fraction': 0.9813370425347323, 'bagging_freq': 8, 'price_upper_bound': 58000, 'price_lower_bound': 1600, 'smoothing': 0.013765631019316257, 'min_samples_leaf': 5, 'noise_level': 0.25312871846043156}. Best is trial 201 with value: 8881.808604513526.\n"
     ]
    },
    {
     "name": "stdout",
     "output_type": "stream",
     "text": [
      "Validation RMSE: 9035.506776574197\n"
     ]
    },
    {
     "name": "stderr",
     "output_type": "stream",
     "text": [
      "[I 2025-07-23 16:56:54,829] Trial 372 finished with value: 8993.104332777053 and parameters: {'num_leaves': 93, 'max_depth': 49, 'learning_rate': 0.04426852406929096, 'n_estimators': 406, 'min_child_samples': 7, 'feature_fraction': 0.9878936678329229, 'bagging_fraction': 0.9321828987252189, 'bagging_freq': 10, 'price_upper_bound': 59000, 'price_lower_bound': 2300, 'smoothing': 0.012008345978835495, 'min_samples_leaf': 5, 'noise_level': 0.4090262500683133}. Best is trial 201 with value: 8881.808604513526.\n"
     ]
    },
    {
     "name": "stdout",
     "output_type": "stream",
     "text": [
      "Validation RMSE: 8993.104332777053\n"
     ]
    },
    {
     "name": "stderr",
     "output_type": "stream",
     "text": [
      "[I 2025-07-23 16:56:59,052] Trial 373 finished with value: 9073.262873290494 and parameters: {'num_leaves': 97, 'max_depth': 47, 'learning_rate': 0.0654901236138266, 'n_estimators': 427, 'min_child_samples': 9, 'feature_fraction': 0.7959916867461393, 'bagging_fraction': 0.963840593229844, 'bagging_freq': 5, 'price_upper_bound': 60000, 'price_lower_bound': 3300, 'smoothing': 0.408124441213893, 'min_samples_leaf': 6, 'noise_level': 0.36659437776985393}. Best is trial 201 with value: 8881.808604513526.\n"
     ]
    },
    {
     "name": "stdout",
     "output_type": "stream",
     "text": [
      "Validation RMSE: 9073.262873290494\n"
     ]
    },
    {
     "name": "stderr",
     "output_type": "stream",
     "text": [
      "[I 2025-07-23 16:57:03,313] Trial 374 finished with value: 8984.340016628035 and parameters: {'num_leaves': 91, 'max_depth': 48, 'learning_rate': 0.03979737844361547, 'n_estimators': 457, 'min_child_samples': 6, 'feature_fraction': 0.871202074287342, 'bagging_fraction': 0.9420050206925726, 'bagging_freq': 7, 'price_upper_bound': 57000, 'price_lower_bound': 2600, 'smoothing': 0.02965521961892234, 'min_samples_leaf': 5, 'noise_level': 0.22821954082871193}. Best is trial 201 with value: 8881.808604513526.\n"
     ]
    },
    {
     "name": "stdout",
     "output_type": "stream",
     "text": [
      "Validation RMSE: 8984.340016628035\n"
     ]
    },
    {
     "name": "stderr",
     "output_type": "stream",
     "text": [
      "[I 2025-07-23 16:57:06,117] Trial 375 finished with value: 9028.61933824658 and parameters: {'num_leaves': 74, 'max_depth': 30, 'learning_rate': 0.07202748836157595, 'n_estimators': 374, 'min_child_samples': 11, 'feature_fraction': 0.9759933525428179, 'bagging_fraction': 0.8939891713786574, 'bagging_freq': 6, 'price_upper_bound': 58500, 'price_lower_bound': 1900, 'smoothing': 0.048915333311373495, 'min_samples_leaf': 5, 'noise_level': 0.1433728610338204}. Best is trial 201 with value: 8881.808604513526.\n"
     ]
    },
    {
     "name": "stdout",
     "output_type": "stream",
     "text": [
      "Validation RMSE: 9028.61933824658\n"
     ]
    },
    {
     "name": "stderr",
     "output_type": "stream",
     "text": [
      "[I 2025-07-23 16:57:09,114] Trial 376 finished with value: 9036.436657556005 and parameters: {'num_leaves': 60, 'max_depth': 46, 'learning_rate': 0.0614636866585471, 'n_estimators': 478, 'min_child_samples': 7, 'feature_fraction': 0.9552490760377504, 'bagging_fraction': 0.9995935609387746, 'bagging_freq': 10, 'price_upper_bound': 55500, 'price_lower_bound': 3000, 'smoothing': 0.03527524227479608, 'min_samples_leaf': 8, 'noise_level': 0.27067641911511753}. Best is trial 201 with value: 8881.808604513526.\n"
     ]
    },
    {
     "name": "stdout",
     "output_type": "stream",
     "text": [
      "Validation RMSE: 9036.436657556005\n"
     ]
    },
    {
     "name": "stderr",
     "output_type": "stream",
     "text": [
      "[I 2025-07-23 16:57:12,501] Trial 377 finished with value: 8935.403497172465 and parameters: {'num_leaves': 57, 'max_depth': 45, 'learning_rate': 0.05397840308431981, 'n_estimators': 436, 'min_child_samples': 5, 'feature_fraction': 0.9018547805369678, 'bagging_fraction': 0.6880927922612892, 'bagging_freq': 4, 'price_upper_bound': 57500, 'price_lower_bound': 3600, 'smoothing': 0.01841918574643981, 'min_samples_leaf': 6, 'noise_level': 0.08145102398816262}. Best is trial 201 with value: 8881.808604513526.\n"
     ]
    },
    {
     "name": "stdout",
     "output_type": "stream",
     "text": [
      "Validation RMSE: 8935.403497172465\n"
     ]
    },
    {
     "name": "stderr",
     "output_type": "stream",
     "text": [
      "[I 2025-07-23 16:57:15,378] Trial 378 finished with value: 9096.509195963965 and parameters: {'num_leaves': 54, 'max_depth': 44, 'learning_rate': 0.051116953437389256, 'n_estimators': 437, 'min_child_samples': 5, 'feature_fraction': 0.8869964570921004, 'bagging_fraction': 0.7028160947408899, 'bagging_freq': 4, 'price_upper_bound': 59000, 'price_lower_bound': 3400, 'smoothing': 0.01795289604815205, 'min_samples_leaf': 6, 'noise_level': 0.08958338291855532}. Best is trial 201 with value: 8881.808604513526.\n"
     ]
    },
    {
     "name": "stdout",
     "output_type": "stream",
     "text": [
      "Validation RMSE: 9096.509195963965\n"
     ]
    },
    {
     "name": "stderr",
     "output_type": "stream",
     "text": [
      "[I 2025-07-23 16:57:18,807] Trial 379 finished with value: 9041.53416712324 and parameters: {'num_leaves': 57, 'max_depth': 37, 'learning_rate': 0.04780551738072138, 'n_estimators': 445, 'min_child_samples': 8, 'feature_fraction': 0.7248959913626191, 'bagging_fraction': 0.6814575359007744, 'bagging_freq': 5, 'price_upper_bound': 57500, 'price_lower_bound': 3600, 'smoothing': 0.015548093550183103, 'min_samples_leaf': 6, 'noise_level': 0.0759652225577052}. Best is trial 201 with value: 8881.808604513526.\n"
     ]
    },
    {
     "name": "stdout",
     "output_type": "stream",
     "text": [
      "Validation RMSE: 9041.53416712324\n"
     ]
    },
    {
     "name": "stderr",
     "output_type": "stream",
     "text": [
      "[I 2025-07-23 16:57:23,331] Trial 380 finished with value: 9129.000174431638 and parameters: {'num_leaves': 100, 'max_depth': 45, 'learning_rate': 0.05281294031094831, 'n_estimators': 453, 'min_child_samples': 14, 'feature_fraction': 0.9027537233908078, 'bagging_fraction': 0.6593947483255209, 'bagging_freq': 4, 'price_upper_bound': 60000, 'price_lower_bound': 3900, 'smoothing': 0.020318995120408988, 'min_samples_leaf': 6, 'noise_level': 0.07773142140202968}. Best is trial 201 with value: 8881.808604513526.\n"
     ]
    },
    {
     "name": "stdout",
     "output_type": "stream",
     "text": [
      "Validation RMSE: 9129.000174431638\n"
     ]
    },
    {
     "name": "stderr",
     "output_type": "stream",
     "text": [
      "[I 2025-07-23 16:57:27,860] Trial 381 finished with value: 9177.449285543453 and parameters: {'num_leaves': 89, 'max_depth': 43, 'learning_rate': 0.04186442949919473, 'n_estimators': 434, 'min_child_samples': 5, 'feature_fraction': 0.8780085369839123, 'bagging_fraction': 0.9218835269496425, 'bagging_freq': 5, 'price_upper_bound': 58000, 'price_lower_bound': 5000, 'smoothing': 0.01875594538653887, 'min_samples_leaf': 6, 'noise_level': 0.08773319852106812}. Best is trial 201 with value: 8881.808604513526.\n"
     ]
    },
    {
     "name": "stdout",
     "output_type": "stream",
     "text": [
      "Validation RMSE: 9177.449285543453\n"
     ]
    },
    {
     "name": "stderr",
     "output_type": "stream",
     "text": [
      "[I 2025-07-23 16:57:30,542] Trial 382 finished with value: 9090.814439551543 and parameters: {'num_leaves': 56, 'max_depth': 45, 'learning_rate': 0.057205206573615615, 'n_estimators': 469, 'min_child_samples': 9, 'feature_fraction': 0.8957187160743104, 'bagging_fraction': 0.9460658429046696, 'bagging_freq': 8, 'price_upper_bound': 59000, 'price_lower_bound': 3700, 'smoothing': 0.026379468964361694, 'min_samples_leaf': 7, 'noise_level': 0.07331501036397785}. Best is trial 201 with value: 8881.808604513526.\n"
     ]
    },
    {
     "name": "stdout",
     "output_type": "stream",
     "text": [
      "Validation RMSE: 9090.814439551543\n"
     ]
    },
    {
     "name": "stderr",
     "output_type": "stream",
     "text": [
      "[I 2025-07-23 16:57:33,559] Trial 383 finished with value: 9137.448790113229 and parameters: {'num_leaves': 58, 'max_depth': 43, 'learning_rate': 0.2208795664422328, 'n_estimators': 490, 'min_child_samples': 5, 'feature_fraction': 0.9985374040291224, 'bagging_fraction': 0.7072550322135732, 'bagging_freq': 8, 'price_upper_bound': 57500, 'price_lower_bound': 3800, 'smoothing': 0.013926285570279097, 'min_samples_leaf': 6, 'noise_level': 0.08262817515694482}. Best is trial 201 with value: 8881.808604513526.\n"
     ]
    },
    {
     "name": "stdout",
     "output_type": "stream",
     "text": [
      "Validation RMSE: 9137.448790113229\n"
     ]
    },
    {
     "name": "stderr",
     "output_type": "stream",
     "text": [
      "[I 2025-07-23 16:57:36,031] Trial 384 finished with value: 9131.840600083871 and parameters: {'num_leaves': 52, 'max_depth': 44, 'learning_rate': 0.04610645480532927, 'n_estimators': 446, 'min_child_samples': 18, 'feature_fraction': 0.9690520476361941, 'bagging_fraction': 0.6913151188707015, 'bagging_freq': 6, 'price_upper_bound': 59500, 'price_lower_bound': 3600, 'smoothing': 0.021686460132643883, 'min_samples_leaf': 6, 'noise_level': 0.06549684077946309}. Best is trial 201 with value: 8881.808604513526.\n"
     ]
    },
    {
     "name": "stdout",
     "output_type": "stream",
     "text": [
      "Validation RMSE: 9131.840600083871\n"
     ]
    },
    {
     "name": "stderr",
     "output_type": "stream",
     "text": [
      "[I 2025-07-23 16:57:38,633] Trial 385 finished with value: 9170.774675579607 and parameters: {'num_leaves': 55, 'max_depth': 33, 'learning_rate': 0.026188399585352684, 'n_estimators': 423, 'min_child_samples': 12, 'feature_fraction': 0.9818472987927088, 'bagging_fraction': 0.9341993555996596, 'bagging_freq': 8, 'price_upper_bound': 58500, 'price_lower_bound': 3600, 'smoothing': 0.09028901290134149, 'min_samples_leaf': 6, 'noise_level': 0.3370072885276749}. Best is trial 201 with value: 8881.808604513526.\n"
     ]
    },
    {
     "name": "stdout",
     "output_type": "stream",
     "text": [
      "Validation RMSE: 9170.774675579607\n"
     ]
    },
    {
     "name": "stderr",
     "output_type": "stream",
     "text": [
      "[I 2025-07-23 16:57:42,915] Trial 386 finished with value: 9189.832078841066 and parameters: {'num_leaves': 92, 'max_depth': 46, 'learning_rate': 0.05334678655554119, 'n_estimators': 457, 'min_child_samples': 41, 'feature_fraction': 0.5249067717399897, 'bagging_fraction': 0.6810555616751472, 'bagging_freq': 10, 'price_upper_bound': 57000, 'price_lower_bound': 3500, 'smoothing': 0.0164541285701674, 'min_samples_leaf': 6, 'noise_level': 0.09644699112218923}. Best is trial 201 with value: 8881.808604513526.\n"
     ]
    },
    {
     "name": "stdout",
     "output_type": "stream",
     "text": [
      "Validation RMSE: 9189.832078841066\n"
     ]
    },
    {
     "name": "stderr",
     "output_type": "stream",
     "text": [
      "[I 2025-07-23 16:57:45,491] Trial 387 finished with value: 9248.236540046853 and parameters: {'num_leaves': 50, 'max_depth': 45, 'learning_rate': 0.059712501621856436, 'n_estimators': 438, 'min_child_samples': 72, 'feature_fraction': 0.9044575116046599, 'bagging_fraction': 0.6761432301108065, 'bagging_freq': 8, 'price_upper_bound': 60000, 'price_lower_bound': 1700, 'smoothing': 0.017504962775080325, 'min_samples_leaf': 3, 'noise_level': 0.059090412972647166}. Best is trial 201 with value: 8881.808604513526.\n"
     ]
    },
    {
     "name": "stdout",
     "output_type": "stream",
     "text": [
      "Validation RMSE: 9248.236540046853\n"
     ]
    },
    {
     "name": "stderr",
     "output_type": "stream",
     "text": [
      "[I 2025-07-23 16:57:48,479] Trial 388 finished with value: 9151.00759822729 and parameters: {'num_leaves': 59, 'max_depth': 46, 'learning_rate': 0.06420117638000843, 'n_estimators': 465, 'min_child_samples': 7, 'feature_fraction': 0.958979101648287, 'bagging_fraction': 0.6933416296968535, 'bagging_freq': 7, 'price_upper_bound': 58000, 'price_lower_bound': 1800, 'smoothing': 0.015144226782444578, 'min_samples_leaf': 6, 'noise_level': 0.08256993663675653}. Best is trial 201 with value: 8881.808604513526.\n"
     ]
    },
    {
     "name": "stdout",
     "output_type": "stream",
     "text": [
      "Validation RMSE: 9151.00759822729\n"
     ]
    },
    {
     "name": "stderr",
     "output_type": "stream",
     "text": [
      "[I 2025-07-23 16:57:52,326] Trial 389 finished with value: 9007.429449895819 and parameters: {'num_leaves': 81, 'max_depth': 42, 'learning_rate': 0.055528963766983554, 'n_estimators': 480, 'min_child_samples': 10, 'feature_fraction': 0.9447322228390691, 'bagging_fraction': 0.7161184025526657, 'bagging_freq': 10, 'price_upper_bound': 59000, 'price_lower_bound': 3500, 'smoothing': 0.04025274852766986, 'min_samples_leaf': 4, 'noise_level': 0.30318786455050123}. Best is trial 201 with value: 8881.808604513526.\n"
     ]
    },
    {
     "name": "stdout",
     "output_type": "stream",
     "text": [
      "Validation RMSE: 9007.429449895819\n"
     ]
    },
    {
     "name": "stderr",
     "output_type": "stream",
     "text": [
      "[I 2025-07-23 16:57:53,797] Trial 390 finished with value: 9156.164117376427 and parameters: {'num_leaves': 94, 'max_depth': 25, 'learning_rate': 0.14113799531517005, 'n_estimators': 147, 'min_child_samples': 5, 'feature_fraction': 0.8247442648186123, 'bagging_fraction': 0.9543034936881697, 'bagging_freq': 10, 'price_upper_bound': 56500, 'price_lower_bound': 2000, 'smoothing': 0.019167112418100922, 'min_samples_leaf': 6, 'noise_level': 0.35958920856760307}. Best is trial 201 with value: 8881.808604513526.\n"
     ]
    },
    {
     "name": "stdout",
     "output_type": "stream",
     "text": [
      "Validation RMSE: 9156.164117376427\n"
     ]
    },
    {
     "name": "stderr",
     "output_type": "stream",
     "text": [
      "[I 2025-07-23 16:57:57,126] Trial 391 finished with value: 9172.114736384226 and parameters: {'num_leaves': 78, 'max_depth': 16, 'learning_rate': 0.04934778115079603, 'n_estimators': 429, 'min_child_samples': 7, 'feature_fraction': 0.8599288284413807, 'bagging_fraction': 0.816690268024356, 'bagging_freq': 8, 'price_upper_bound': 58000, 'price_lower_bound': 2100, 'smoothing': 0.012273268254455997, 'min_samples_leaf': 7, 'noise_level': 0.2912511872783423}. Best is trial 201 with value: 8881.808604513526.\n"
     ]
    },
    {
     "name": "stdout",
     "output_type": "stream",
     "text": [
      "Validation RMSE: 9172.114736384226\n"
     ]
    },
    {
     "name": "stderr",
     "output_type": "stream",
     "text": [
      "[I 2025-07-23 16:58:01,635] Trial 392 finished with value: 8954.879945914376 and parameters: {'num_leaves': 97, 'max_depth': 22, 'learning_rate': 0.018268153168506666, 'n_estimators': 446, 'min_child_samples': 9, 'feature_fraction': 0.9885294558937006, 'bagging_fraction': 0.9142758136525724, 'bagging_freq': 8, 'price_upper_bound': 60000, 'price_lower_bound': 1600, 'smoothing': 0.03385176624326551, 'min_samples_leaf': 2, 'noise_level': 0.09967916990254658}. Best is trial 201 with value: 8881.808604513526.\n"
     ]
    },
    {
     "name": "stdout",
     "output_type": "stream",
     "text": [
      "Validation RMSE: 8954.879945914376\n"
     ]
    },
    {
     "name": "stderr",
     "output_type": "stream",
     "text": [
      "[I 2025-07-23 16:58:05,950] Trial 393 finished with value: 8844.467973934494 and parameters: {'num_leaves': 97, 'max_depth': 44, 'learning_rate': 0.016886303885956345, 'n_estimators': 440, 'min_child_samples': 8, 'feature_fraction': 0.9900104189234162, 'bagging_fraction': 0.9116264082505702, 'bagging_freq': 8, 'price_upper_bound': 60000, 'price_lower_bound': 0, 'smoothing': 0.03369957387437242, 'min_samples_leaf': 1, 'noise_level': 0.09613162043384194}. Best is trial 393 with value: 8844.467973934494.\n"
     ]
    },
    {
     "name": "stdout",
     "output_type": "stream",
     "text": [
      "Validation RMSE: 8844.467973934494\n"
     ]
    },
    {
     "name": "stderr",
     "output_type": "stream",
     "text": [
      "[I 2025-07-23 16:58:10,308] Trial 394 finished with value: 9062.25630522373 and parameters: {'num_leaves': 98, 'max_depth': 21, 'learning_rate': 0.017081480052962058, 'n_estimators': 437, 'min_child_samples': 9, 'feature_fraction': 0.9998159906450053, 'bagging_fraction': 0.917535099877606, 'bagging_freq': 8, 'price_upper_bound': 60000, 'price_lower_bound': 800, 'smoothing': 0.03509068724519649, 'min_samples_leaf': 1, 'noise_level': 0.10319186627105162}. Best is trial 393 with value: 8844.467973934494.\n"
     ]
    },
    {
     "name": "stdout",
     "output_type": "stream",
     "text": [
      "Validation RMSE: 9062.25630522373\n"
     ]
    },
    {
     "name": "stderr",
     "output_type": "stream",
     "text": [
      "[I 2025-07-23 16:58:14,763] Trial 395 finished with value: 8983.701168925469 and parameters: {'num_leaves': 100, 'max_depth': 21, 'learning_rate': 0.015078259713808325, 'n_estimators': 424, 'min_child_samples': 7, 'feature_fraction': 0.9896444903463568, 'bagging_fraction': 0.8990541527370124, 'bagging_freq': 8, 'price_upper_bound': 60000, 'price_lower_bound': 1200, 'smoothing': 0.04557262105178945, 'min_samples_leaf': 1, 'noise_level': 0.09740777029647386}. Best is trial 393 with value: 8844.467973934494.\n"
     ]
    },
    {
     "name": "stdout",
     "output_type": "stream",
     "text": [
      "Validation RMSE: 8983.701168925469\n"
     ]
    },
    {
     "name": "stderr",
     "output_type": "stream",
     "text": [
      "[I 2025-07-23 16:58:19,519] Trial 396 finished with value: 9121.452983124138 and parameters: {'num_leaves': 98, 'max_depth': 23, 'learning_rate': 0.018141006841870973, 'n_estimators': 452, 'min_child_samples': 20, 'feature_fraction': 0.9864278383877911, 'bagging_fraction': 0.9048299426220443, 'bagging_freq': 8, 'price_upper_bound': 59000, 'price_lower_bound': 1500, 'smoothing': 0.05397130798654838, 'min_samples_leaf': 1, 'noise_level': 0.10748481049906514}. Best is trial 393 with value: 8844.467973934494.\n"
     ]
    },
    {
     "name": "stdout",
     "output_type": "stream",
     "text": [
      "Validation RMSE: 9121.452983124138\n"
     ]
    },
    {
     "name": "stderr",
     "output_type": "stream",
     "text": [
      "[I 2025-07-23 16:58:23,848] Trial 397 finished with value: 8767.214502206329 and parameters: {'num_leaves': 96, 'max_depth': 22, 'learning_rate': 0.018815538892825175, 'n_estimators': 441, 'min_child_samples': 5, 'feature_fraction': 0.9848600606685456, 'bagging_fraction': 0.8762520066845816, 'bagging_freq': 8, 'price_upper_bound': 60000, 'price_lower_bound': 0, 'smoothing': 0.037147052165963486, 'min_samples_leaf': 2, 'noise_level': 0.11580119754766588}. Best is trial 397 with value: 8767.214502206329.\n"
     ]
    },
    {
     "name": "stdout",
     "output_type": "stream",
     "text": [
      "Validation RMSE: 8767.214502206329\n"
     ]
    },
    {
     "name": "stderr",
     "output_type": "stream",
     "text": [
      "[I 2025-07-23 16:58:28,303] Trial 398 finished with value: 8857.39440264543 and parameters: {'num_leaves': 97, 'max_depth': 24, 'learning_rate': 0.016426743987710157, 'n_estimators': 445, 'min_child_samples': 5, 'feature_fraction': 0.9830895068260631, 'bagging_fraction': 0.8489933487736914, 'bagging_freq': 7, 'price_upper_bound': 60000, 'price_lower_bound': 0, 'smoothing': 0.03722551073328396, 'min_samples_leaf': 1, 'noise_level': 0.10908605581369911}. Best is trial 397 with value: 8767.214502206329.\n"
     ]
    },
    {
     "name": "stdout",
     "output_type": "stream",
     "text": [
      "Validation RMSE: 8857.39440264543\n"
     ]
    },
    {
     "name": "stderr",
     "output_type": "stream",
     "text": [
      "[I 2025-07-23 16:58:32,876] Trial 399 finished with value: 8914.89512969047 and parameters: {'num_leaves': 97, 'max_depth': 22, 'learning_rate': 0.01658087737327469, 'n_estimators': 448, 'min_child_samples': 5, 'feature_fraction': 0.9866990902995669, 'bagging_fraction': 0.8766969880186164, 'bagging_freq': 7, 'price_upper_bound': 60000, 'price_lower_bound': 0, 'smoothing': 0.03911402899548013, 'min_samples_leaf': 1, 'noise_level': 0.10804661611307566}. Best is trial 397 with value: 8767.214502206329.\n"
     ]
    },
    {
     "name": "stdout",
     "output_type": "stream",
     "text": [
      "Validation RMSE: 8914.89512969047\n"
     ]
    },
    {
     "name": "stderr",
     "output_type": "stream",
     "text": [
      "[I 2025-07-23 16:58:35,670] Trial 400 finished with value: 8862.096206919985 and parameters: {'num_leaves': 57, 'max_depth': 24, 'learning_rate': 0.017357811257405927, 'n_estimators': 451, 'min_child_samples': 5, 'feature_fraction': 0.9796857982340366, 'bagging_fraction': 0.8603051019392616, 'bagging_freq': 7, 'price_upper_bound': 60000, 'price_lower_bound': 0, 'smoothing': 0.041422995677050226, 'min_samples_leaf': 1, 'noise_level': 0.10489837082805327}. Best is trial 397 with value: 8767.214502206329.\n"
     ]
    },
    {
     "name": "stdout",
     "output_type": "stream",
     "text": [
      "Validation RMSE: 8862.096206919985\n"
     ]
    },
    {
     "name": "stderr",
     "output_type": "stream",
     "text": [
      "[I 2025-07-23 16:58:38,520] Trial 401 finished with value: 8875.918276065198 and parameters: {'num_leaves': 54, 'max_depth': 24, 'learning_rate': 0.014914038920759293, 'n_estimators': 455, 'min_child_samples': 5, 'feature_fraction': 0.9764197784403396, 'bagging_fraction': 0.8510250445677349, 'bagging_freq': 7, 'price_upper_bound': 60000, 'price_lower_bound': 0, 'smoothing': 0.03903256351119576, 'min_samples_leaf': 2, 'noise_level': 0.11635271384935747}. Best is trial 397 with value: 8767.214502206329.\n"
     ]
    },
    {
     "name": "stdout",
     "output_type": "stream",
     "text": [
      "Validation RMSE: 8875.918276065198\n"
     ]
    },
    {
     "name": "stderr",
     "output_type": "stream",
     "text": [
      "[I 2025-07-23 16:58:41,263] Trial 402 finished with value: 8902.724999832975 and parameters: {'num_leaves': 52, 'max_depth': 24, 'learning_rate': 0.013223645698056388, 'n_estimators': 467, 'min_child_samples': 5, 'feature_fraction': 0.9779833021501362, 'bagging_fraction': 0.8503291040033423, 'bagging_freq': 7, 'price_upper_bound': 60000, 'price_lower_bound': 0, 'smoothing': 0.04192017299731737, 'min_samples_leaf': 1, 'noise_level': 0.11814038487040308}. Best is trial 397 with value: 8767.214502206329.\n"
     ]
    },
    {
     "name": "stdout",
     "output_type": "stream",
     "text": [
      "Validation RMSE: 8902.724999832975\n"
     ]
    },
    {
     "name": "stderr",
     "output_type": "stream",
     "text": [
      "[I 2025-07-23 16:58:43,774] Trial 403 finished with value: 9173.3190818627 and parameters: {'num_leaves': 54, 'max_depth': 24, 'learning_rate': 0.013617256993416295, 'n_estimators': 462, 'min_child_samples': 79, 'feature_fraction': 0.9750523149926534, 'bagging_fraction': 0.8530316932972993, 'bagging_freq': 7, 'price_upper_bound': 60000, 'price_lower_bound': 100, 'smoothing': 0.04306555483126958, 'min_samples_leaf': 1, 'noise_level': 0.117444422839663}. Best is trial 397 with value: 8767.214502206329.\n"
     ]
    },
    {
     "name": "stdout",
     "output_type": "stream",
     "text": [
      "Validation RMSE: 9173.3190818627\n"
     ]
    },
    {
     "name": "stderr",
     "output_type": "stream",
     "text": [
      "[I 2025-07-23 16:58:46,435] Trial 404 finished with value: 8843.381084769628 and parameters: {'num_leaves': 52, 'max_depth': 24, 'learning_rate': 0.014099833211030168, 'n_estimators': 458, 'min_child_samples': 5, 'feature_fraction': 0.9796478401296128, 'bagging_fraction': 0.856385239213824, 'bagging_freq': 7, 'price_upper_bound': 60000, 'price_lower_bound': 0, 'smoothing': 0.03866029799566193, 'min_samples_leaf': 1, 'noise_level': 0.12229096979659465}. Best is trial 397 with value: 8767.214502206329.\n"
     ]
    },
    {
     "name": "stdout",
     "output_type": "stream",
     "text": [
      "Validation RMSE: 8843.381084769628\n"
     ]
    },
    {
     "name": "stderr",
     "output_type": "stream",
     "text": [
      "[I 2025-07-23 16:58:49,357] Trial 405 finished with value: 8925.211478632807 and parameters: {'num_leaves': 51, 'max_depth': 25, 'learning_rate': 0.012777999818265526, 'n_estimators': 459, 'min_child_samples': 5, 'feature_fraction': 0.98107152696879, 'bagging_fraction': 0.8829192176662379, 'bagging_freq': 7, 'price_upper_bound': 60000, 'price_lower_bound': 0, 'smoothing': 0.04163950602138683, 'min_samples_leaf': 1, 'noise_level': 0.1283440650304181}. Best is trial 397 with value: 8767.214502206329.\n"
     ]
    },
    {
     "name": "stdout",
     "output_type": "stream",
     "text": [
      "Validation RMSE: 8925.211478632807\n"
     ]
    },
    {
     "name": "stderr",
     "output_type": "stream",
     "text": [
      "[I 2025-07-23 16:58:51,899] Trial 406 finished with value: 8854.742481444931 and parameters: {'num_leaves': 48, 'max_depth': 25, 'learning_rate': 0.01422018328754878, 'n_estimators': 459, 'min_child_samples': 5, 'feature_fraction': 0.9831214762227387, 'bagging_fraction': 0.8670732587396516, 'bagging_freq': 7, 'price_upper_bound': 60000, 'price_lower_bound': 0, 'smoothing': 0.046834474736775086, 'min_samples_leaf': 2, 'noise_level': 0.11627021907616508}. Best is trial 397 with value: 8767.214502206329.\n"
     ]
    },
    {
     "name": "stdout",
     "output_type": "stream",
     "text": [
      "Validation RMSE: 8854.742481444931\n"
     ]
    },
    {
     "name": "stderr",
     "output_type": "stream",
     "text": [
      "[I 2025-07-23 16:58:54,449] Trial 407 finished with value: 8937.554769010801 and parameters: {'num_leaves': 49, 'max_depth': 26, 'learning_rate': 0.012476635452657654, 'n_estimators': 468, 'min_child_samples': 5, 'feature_fraction': 0.982007095674784, 'bagging_fraction': 0.859960532325213, 'bagging_freq': 7, 'price_upper_bound': 60000, 'price_lower_bound': 0, 'smoothing': 0.04859508561868266, 'min_samples_leaf': 1, 'noise_level': 0.12814126059702133}. Best is trial 397 with value: 8767.214502206329.\n"
     ]
    },
    {
     "name": "stdout",
     "output_type": "stream",
     "text": [
      "Validation RMSE: 8937.554769010801\n"
     ]
    },
    {
     "name": "stderr",
     "output_type": "stream",
     "text": [
      "[I 2025-07-23 16:58:57,050] Trial 408 finished with value: 8862.554388549055 and parameters: {'num_leaves': 47, 'max_depth': 26, 'learning_rate': 0.014071557739183971, 'n_estimators': 470, 'min_child_samples': 5, 'feature_fraction': 0.9840852390610507, 'bagging_fraction': 0.8681440679963768, 'bagging_freq': 7, 'price_upper_bound': 60000, 'price_lower_bound': 0, 'smoothing': 0.04961518808845934, 'min_samples_leaf': 1, 'noise_level': 0.1309991865037316}. Best is trial 397 with value: 8767.214502206329.\n"
     ]
    },
    {
     "name": "stdout",
     "output_type": "stream",
     "text": [
      "Validation RMSE: 8862.554388549055\n"
     ]
    },
    {
     "name": "stderr",
     "output_type": "stream",
     "text": [
      "[I 2025-07-23 16:58:59,553] Trial 409 finished with value: 8976.710234702054 and parameters: {'num_leaves': 48, 'max_depth': 26, 'learning_rate': 0.011575208842592376, 'n_estimators': 466, 'min_child_samples': 5, 'feature_fraction': 0.9994529282886228, 'bagging_fraction': 0.8571621697312161, 'bagging_freq': 7, 'price_upper_bound': 60000, 'price_lower_bound': 0, 'smoothing': 0.0505200770886252, 'min_samples_leaf': 1, 'noise_level': 0.1304067462726006}. Best is trial 397 with value: 8767.214502206329.\n"
     ]
    },
    {
     "name": "stdout",
     "output_type": "stream",
     "text": [
      "Validation RMSE: 8976.710234702054\n"
     ]
    },
    {
     "name": "stderr",
     "output_type": "stream",
     "text": [
      "[I 2025-07-23 16:59:02,006] Trial 410 finished with value: 9061.62515697229 and parameters: {'num_leaves': 46, 'max_depth': 27, 'learning_rate': 0.013096520631764003, 'n_estimators': 472, 'min_child_samples': 5, 'feature_fraction': 0.9820603707894059, 'bagging_fraction': 0.8414812066905503, 'bagging_freq': 7, 'price_upper_bound': 60000, 'price_lower_bound': 200, 'smoothing': 0.046036141031778194, 'min_samples_leaf': 1, 'noise_level': 0.1229994866822996}. Best is trial 397 with value: 8767.214502206329.\n"
     ]
    },
    {
     "name": "stdout",
     "output_type": "stream",
     "text": [
      "Validation RMSE: 9061.62515697229\n"
     ]
    },
    {
     "name": "stderr",
     "output_type": "stream",
     "text": [
      "[I 2025-07-23 16:59:04,629] Trial 411 finished with value: 8798.973946886887 and parameters: {'num_leaves': 51, 'max_depth': 25, 'learning_rate': 0.014130749057201915, 'n_estimators': 463, 'min_child_samples': 5, 'feature_fraction': 0.9868348182891662, 'bagging_fraction': 0.8749741670121765, 'bagging_freq': 7, 'price_upper_bound': 60000, 'price_lower_bound': 0, 'smoothing': 0.04130243204234408, 'min_samples_leaf': 1, 'noise_level': 0.13282212654427358}. Best is trial 397 with value: 8767.214502206329.\n"
     ]
    },
    {
     "name": "stdout",
     "output_type": "stream",
     "text": [
      "Validation RMSE: 8798.973946886887\n"
     ]
    },
    {
     "name": "stderr",
     "output_type": "stream",
     "text": [
      "[I 2025-07-23 16:59:07,243] Trial 412 finished with value: 9063.079049784243 and parameters: {'num_leaves': 49, 'max_depth': 24, 'learning_rate': 0.013569963130221735, 'n_estimators': 463, 'min_child_samples': 5, 'feature_fraction': 0.978681133083982, 'bagging_fraction': 0.8644365230233039, 'bagging_freq': 7, 'price_upper_bound': 60000, 'price_lower_bound': 100, 'smoothing': 0.04238713892319821, 'min_samples_leaf': 1, 'noise_level': 0.13442545369332984}. Best is trial 397 with value: 8767.214502206329.\n"
     ]
    },
    {
     "name": "stdout",
     "output_type": "stream",
     "text": [
      "Validation RMSE: 9063.079049784243\n"
     ]
    },
    {
     "name": "stderr",
     "output_type": "stream",
     "text": [
      "[I 2025-07-23 16:59:09,856] Trial 413 finished with value: 8920.649550203168 and parameters: {'num_leaves': 50, 'max_depth': 26, 'learning_rate': 0.012493167650637701, 'n_estimators': 458, 'min_child_samples': 5, 'feature_fraction': 0.9881692707105146, 'bagging_fraction': 0.8707349421562649, 'bagging_freq': 7, 'price_upper_bound': 60000, 'price_lower_bound': 0, 'smoothing': 0.04584223664590389, 'min_samples_leaf': 1, 'noise_level': 0.11696100897544891}. Best is trial 397 with value: 8767.214502206329.\n"
     ]
    },
    {
     "name": "stdout",
     "output_type": "stream",
     "text": [
      "Validation RMSE: 8920.649550203168\n"
     ]
    },
    {
     "name": "stderr",
     "output_type": "stream",
     "text": [
      "[I 2025-07-23 16:59:12,486] Trial 414 finished with value: 9028.506096642272 and parameters: {'num_leaves': 50, 'max_depth': 26, 'learning_rate': 0.012086985990618427, 'n_estimators': 471, 'min_child_samples': 5, 'feature_fraction': 0.9883401268261806, 'bagging_fraction': 0.8780380582781039, 'bagging_freq': 7, 'price_upper_bound': 59500, 'price_lower_bound': 0, 'smoothing': 0.04870466459754984, 'min_samples_leaf': 1, 'noise_level': 0.11603585803067917}. Best is trial 397 with value: 8767.214502206329.\n"
     ]
    },
    {
     "name": "stdout",
     "output_type": "stream",
     "text": [
      "Validation RMSE: 9028.506096642272\n"
     ]
    },
    {
     "name": "stderr",
     "output_type": "stream",
     "text": [
      "[I 2025-07-23 16:59:15,253] Trial 415 finished with value: 9109.21813979951 and parameters: {'num_leaves': 52, 'max_depth': 25, 'learning_rate': 0.014477343880646365, 'n_estimators': 459, 'min_child_samples': 5, 'feature_fraction': 0.9801069496244591, 'bagging_fraction': 0.8720231186745264, 'bagging_freq': 7, 'price_upper_bound': 60000, 'price_lower_bound': 200, 'smoothing': 0.05299582164147285, 'min_samples_leaf': 1, 'noise_level': 0.12512947064297097}. Best is trial 397 with value: 8767.214502206329.\n"
     ]
    },
    {
     "name": "stdout",
     "output_type": "stream",
     "text": [
      "Validation RMSE: 9109.21813979951\n"
     ]
    },
    {
     "name": "stderr",
     "output_type": "stream",
     "text": [
      "[I 2025-07-23 16:59:17,907] Trial 416 finished with value: 9134.123268061148 and parameters: {'num_leaves': 51, 'max_depth': 27, 'learning_rate': 0.012450111684785319, 'n_estimators': 459, 'min_child_samples': 5, 'feature_fraction': 0.9915619227407362, 'bagging_fraction': 0.8470644524229352, 'bagging_freq': 7, 'price_upper_bound': 60000, 'price_lower_bound': 100, 'smoothing': 0.04444730463645408, 'min_samples_leaf': 1, 'noise_level': 0.14232796336576756}. Best is trial 397 with value: 8767.214502206329.\n"
     ]
    },
    {
     "name": "stdout",
     "output_type": "stream",
     "text": [
      "Validation RMSE: 9134.123268061148\n"
     ]
    },
    {
     "name": "stderr",
     "output_type": "stream",
     "text": [
      "[I 2025-07-23 16:59:20,328] Trial 417 finished with value: 8941.931268219842 and parameters: {'num_leaves': 45, 'max_depth': 25, 'learning_rate': 0.011137630396905107, 'n_estimators': 471, 'min_child_samples': 5, 'feature_fraction': 0.9735460848454105, 'bagging_fraction': 0.8634652981418657, 'bagging_freq': 7, 'price_upper_bound': 60000, 'price_lower_bound': 0, 'smoothing': 0.040523730204177454, 'min_samples_leaf': 1, 'noise_level': 0.1111498485326519}. Best is trial 397 with value: 8767.214502206329.\n"
     ]
    },
    {
     "name": "stdout",
     "output_type": "stream",
     "text": [
      "Validation RMSE: 8941.931268219842\n"
     ]
    },
    {
     "name": "stderr",
     "output_type": "stream",
     "text": [
      "[I 2025-07-23 16:59:22,810] Trial 418 finished with value: 8834.804040980258 and parameters: {'num_leaves': 48, 'max_depth': 28, 'learning_rate': 0.014212651894327612, 'n_estimators': 465, 'min_child_samples': 5, 'feature_fraction': 0.9900548428161386, 'bagging_fraction': 0.8272185508054776, 'bagging_freq': 7, 'price_upper_bound': 60000, 'price_lower_bound': 0, 'smoothing': 0.048218932245807554, 'min_samples_leaf': 1, 'noise_level': 0.12237926863927875}. Best is trial 397 with value: 8767.214502206329.\n"
     ]
    },
    {
     "name": "stdout",
     "output_type": "stream",
     "text": [
      "Validation RMSE: 8834.804040980258\n"
     ]
    },
    {
     "name": "stderr",
     "output_type": "stream",
     "text": [
      "[I 2025-07-23 16:59:25,202] Trial 419 finished with value: 9125.861448493735 and parameters: {'num_leaves': 47, 'max_depth': 24, 'learning_rate': 0.014682452119539226, 'n_estimators': 455, 'min_child_samples': 5, 'feature_fraction': 0.9991153938476467, 'bagging_fraction': 0.8283364396513772, 'bagging_freq': 7, 'price_upper_bound': 59000, 'price_lower_bound': 200, 'smoothing': 0.06035009852815073, 'min_samples_leaf': 1, 'noise_level': 0.11392426352143026}. Best is trial 397 with value: 8767.214502206329.\n"
     ]
    },
    {
     "name": "stdout",
     "output_type": "stream",
     "text": [
      "Validation RMSE: 9125.861448493735\n"
     ]
    },
    {
     "name": "stderr",
     "output_type": "stream",
     "text": [
      "[I 2025-07-23 16:59:27,820] Trial 420 finished with value: 9148.869547527289 and parameters: {'num_leaves': 51, 'max_depth': 25, 'learning_rate': 0.010038017330323917, 'n_estimators': 459, 'min_child_samples': 7, 'feature_fraction': 0.9890646452885737, 'bagging_fraction': 0.8745321672016096, 'bagging_freq': 7, 'price_upper_bound': 60000, 'price_lower_bound': 300, 'smoothing': 0.039586343992592934, 'min_samples_leaf': 1, 'noise_level': 0.14956628896512741}. Best is trial 397 with value: 8767.214502206329.\n"
     ]
    },
    {
     "name": "stdout",
     "output_type": "stream",
     "text": [
      "Validation RMSE: 9148.869547527289\n"
     ]
    },
    {
     "name": "stderr",
     "output_type": "stream",
     "text": [
      "[I 2025-07-23 16:59:30,161] Trial 421 finished with value: 9125.210444949804 and parameters: {'num_leaves': 42, 'max_depth': 23, 'learning_rate': 0.015346626845098072, 'n_estimators': 465, 'min_child_samples': 5, 'feature_fraction': 0.9712320274358698, 'bagging_fraction': 0.8834796371266523, 'bagging_freq': 7, 'price_upper_bound': 59000, 'price_lower_bound': 100, 'smoothing': 0.044850229635782654, 'min_samples_leaf': 1, 'noise_level': 0.12225496556860145}. Best is trial 397 with value: 8767.214502206329.\n"
     ]
    },
    {
     "name": "stdout",
     "output_type": "stream",
     "text": [
      "Validation RMSE: 9125.210444949804\n"
     ]
    },
    {
     "name": "stderr",
     "output_type": "stream",
     "text": [
      "[I 2025-07-23 16:59:32,534] Trial 422 finished with value: 8855.083754710598 and parameters: {'num_leaves': 47, 'max_depth': 28, 'learning_rate': 0.014207990430631002, 'n_estimators': 453, 'min_child_samples': 7, 'feature_fraction': 0.9900961804943604, 'bagging_fraction': 0.8482274967019411, 'bagging_freq': 7, 'price_upper_bound': 59000, 'price_lower_bound': 0, 'smoothing': 0.03741035422489234, 'min_samples_leaf': 2, 'noise_level': 0.1370083126526781}. Best is trial 397 with value: 8767.214502206329.\n"
     ]
    },
    {
     "name": "stdout",
     "output_type": "stream",
     "text": [
      "Validation RMSE: 8855.083754710598\n"
     ]
    },
    {
     "name": "stderr",
     "output_type": "stream",
     "text": [
      "[I 2025-07-23 16:59:34,897] Trial 423 finished with value: 8903.903120592346 and parameters: {'num_leaves': 47, 'max_depth': 28, 'learning_rate': 0.015978195001254532, 'n_estimators': 454, 'min_child_samples': 7, 'feature_fraction': 0.9865662810897694, 'bagging_fraction': 0.8432263776957406, 'bagging_freq': 7, 'price_upper_bound': 59000, 'price_lower_bound': 0, 'smoothing': 0.038168518939049115, 'min_samples_leaf': 2, 'noise_level': 0.13706801995249196}. Best is trial 397 with value: 8767.214502206329.\n"
     ]
    },
    {
     "name": "stdout",
     "output_type": "stream",
     "text": [
      "Validation RMSE: 8903.903120592346\n"
     ]
    },
    {
     "name": "stderr",
     "output_type": "stream",
     "text": [
      "[I 2025-07-23 16:59:37,270] Trial 424 finished with value: 8958.094050002706 and parameters: {'num_leaves': 47, 'max_depth': 29, 'learning_rate': 0.01618010709552056, 'n_estimators': 456, 'min_child_samples': 7, 'feature_fraction': 0.9989559367060826, 'bagging_fraction': 0.8389826483255755, 'bagging_freq': 7, 'price_upper_bound': 60000, 'price_lower_bound': 0, 'smoothing': 0.03838062013186947, 'min_samples_leaf': 2, 'noise_level': 0.14355155884821977}. Best is trial 397 with value: 8767.214502206329.\n"
     ]
    },
    {
     "name": "stdout",
     "output_type": "stream",
     "text": [
      "Validation RMSE: 8958.094050002706\n"
     ]
    },
    {
     "name": "stderr",
     "output_type": "stream",
     "text": [
      "[I 2025-07-23 16:59:39,782] Trial 425 finished with value: 9126.32013380748 and parameters: {'num_leaves': 44, 'max_depth': 27, 'learning_rate': 0.013935748608548862, 'n_estimators': 476, 'min_child_samples': 7, 'feature_fraction': 0.9878281255897022, 'bagging_fraction': 0.852055699300249, 'bagging_freq': 7, 'price_upper_bound': 59000, 'price_lower_bound': 100, 'smoothing': 0.04344131045638955, 'min_samples_leaf': 2, 'noise_level': 0.13178023011718343}. Best is trial 397 with value: 8767.214502206329.\n"
     ]
    },
    {
     "name": "stdout",
     "output_type": "stream",
     "text": [
      "Validation RMSE: 9126.32013380748\n"
     ]
    },
    {
     "name": "stderr",
     "output_type": "stream",
     "text": [
      "[I 2025-07-23 16:59:42,327] Trial 426 finished with value: 9044.039549973566 and parameters: {'num_leaves': 48, 'max_depth': 29, 'learning_rate': 0.012962122220964017, 'n_estimators': 467, 'min_child_samples': 7, 'feature_fraction': 0.9998524935108465, 'bagging_fraction': 0.8325413336586934, 'bagging_freq': 7, 'price_upper_bound': 60000, 'price_lower_bound': 400, 'smoothing': 0.03710553369441864, 'min_samples_leaf': 2, 'noise_level': 0.15915344971110276}. Best is trial 397 with value: 8767.214502206329.\n"
     ]
    },
    {
     "name": "stdout",
     "output_type": "stream",
     "text": [
      "Validation RMSE: 9044.039549973566\n"
     ]
    },
    {
     "name": "stderr",
     "output_type": "stream",
     "text": [
      "[I 2025-07-23 16:59:44,459] Trial 427 finished with value: 8844.986961861148 and parameters: {'num_leaves': 41, 'max_depth': 27, 'learning_rate': 0.013764561885271746, 'n_estimators': 457, 'min_child_samples': 7, 'feature_fraction': 0.9806309629581337, 'bagging_fraction': 0.8522323414437606, 'bagging_freq': 7, 'price_upper_bound': 59000, 'price_lower_bound': 0, 'smoothing': 0.0403455424033757, 'min_samples_leaf': 2, 'noise_level': 0.11120180087137357}. Best is trial 397 with value: 8767.214502206329.\n"
     ]
    },
    {
     "name": "stdout",
     "output_type": "stream",
     "text": [
      "Validation RMSE: 8844.986961861148\n"
     ]
    },
    {
     "name": "stderr",
     "output_type": "stream",
     "text": [
      "[I 2025-07-23 16:59:46,968] Trial 428 finished with value: 8960.673943186232 and parameters: {'num_leaves': 42, 'max_depth': 28, 'learning_rate': 0.014264717164172094, 'n_estimators': 453, 'min_child_samples': 7, 'feature_fraction': 0.9778205026938105, 'bagging_fraction': 0.8500291764713607, 'bagging_freq': 7, 'price_upper_bound': 59000, 'price_lower_bound': 0, 'smoothing': 0.0408102073494758, 'min_samples_leaf': 2, 'noise_level': 0.11560699108132401}. Best is trial 397 with value: 8767.214502206329.\n"
     ]
    },
    {
     "name": "stdout",
     "output_type": "stream",
     "text": [
      "Validation RMSE: 8960.673943186232\n"
     ]
    },
    {
     "name": "stderr",
     "output_type": "stream",
     "text": [
      "[I 2025-07-23 16:59:49,052] Trial 429 finished with value: 9033.276614800316 and parameters: {'num_leaves': 40, 'max_depth': 28, 'learning_rate': 0.016046038653553123, 'n_estimators': 453, 'min_child_samples': 7, 'feature_fraction': 0.9867910512544023, 'bagging_fraction': 0.8694993028523884, 'bagging_freq': 7, 'price_upper_bound': 59000, 'price_lower_bound': 300, 'smoothing': 0.04769079857111099, 'min_samples_leaf': 1, 'noise_level': 0.13208440930958035}. Best is trial 397 with value: 8767.214502206329.\n"
     ]
    },
    {
     "name": "stdout",
     "output_type": "stream",
     "text": [
      "Validation RMSE: 9033.276614800316\n"
     ]
    },
    {
     "name": "stderr",
     "output_type": "stream",
     "text": [
      "[I 2025-07-23 16:59:51,791] Trial 430 finished with value: 9137.52187782756 and parameters: {'num_leaves': 50, 'max_depth': 26, 'learning_rate': 0.014103393287511607, 'n_estimators': 476, 'min_child_samples': 5, 'feature_fraction': 0.9705857860559529, 'bagging_fraction': 0.8852901309223775, 'bagging_freq': 7, 'price_upper_bound': 60000, 'price_lower_bound': 100, 'smoothing': 0.038658647196277734, 'min_samples_leaf': 2, 'noise_level': 0.10708927770159675}. Best is trial 397 with value: 8767.214502206329.\n"
     ]
    },
    {
     "name": "stdout",
     "output_type": "stream",
     "text": [
      "Validation RMSE: 9137.52187782756\n"
     ]
    },
    {
     "name": "stderr",
     "output_type": "stream",
     "text": [
      "[I 2025-07-23 16:59:53,048] Trial 431 finished with value: 8983.217169071337 and parameters: {'num_leaves': 46, 'max_depth': 26, 'learning_rate': 0.015341953183219067, 'n_estimators': 230, 'min_child_samples': 7, 'feature_fraction': 0.9796135550465394, 'bagging_fraction': 0.8198690427410803, 'bagging_freq': 7, 'price_upper_bound': 59000, 'price_lower_bound': 0, 'smoothing': 0.055370106343259645, 'min_samples_leaf': 1, 'noise_level': 0.1202572385652813}. Best is trial 397 with value: 8767.214502206329.\n"
     ]
    },
    {
     "name": "stdout",
     "output_type": "stream",
     "text": [
      "Validation RMSE: 8983.217169071337\n"
     ]
    },
    {
     "name": "stderr",
     "output_type": "stream",
     "text": [
      "[I 2025-07-23 16:59:55,597] Trial 432 finished with value: 9133.243544409486 and parameters: {'num_leaves': 52, 'max_depth': 25, 'learning_rate': 0.01335950117720026, 'n_estimators': 460, 'min_child_samples': 28, 'feature_fraction': 0.9886758171819935, 'bagging_fraction': 0.8439921295416346, 'bagging_freq': 7, 'price_upper_bound': 60000, 'price_lower_bound': 200, 'smoothing': 0.04370874287709107, 'min_samples_leaf': 1, 'noise_level': 0.10770816770921365}. Best is trial 397 with value: 8767.214502206329.\n"
     ]
    },
    {
     "name": "stdout",
     "output_type": "stream",
     "text": [
      "Validation RMSE: 9133.243544409486\n"
     ]
    },
    {
     "name": "stderr",
     "output_type": "stream",
     "text": [
      "[I 2025-07-23 16:59:58,298] Trial 433 finished with value: 8912.046645539705 and parameters: {'num_leaves': 51, 'max_depth': 28, 'learning_rate': 0.016099552400536694, 'n_estimators': 468, 'min_child_samples': 7, 'feature_fraction': 0.9703253789223105, 'bagging_fraction': 0.8579687112339616, 'bagging_freq': 7, 'price_upper_bound': 59000, 'price_lower_bound': 0, 'smoothing': 0.03582874243341214, 'min_samples_leaf': 2, 'noise_level': 0.13664832107889804}. Best is trial 397 with value: 8767.214502206329.\n"
     ]
    },
    {
     "name": "stdout",
     "output_type": "stream",
     "text": [
      "Validation RMSE: 8912.046645539705\n"
     ]
    },
    {
     "name": "stderr",
     "output_type": "stream",
     "text": [
      "[I 2025-07-23 17:00:00,983] Trial 434 finished with value: 8826.616637964467 and parameters: {'num_leaves': 53, 'max_depth': 28, 'learning_rate': 0.016036767476783467, 'n_estimators': 470, 'min_child_samples': 7, 'feature_fraction': 0.9691323768410446, 'bagging_fraction': 0.859239564114647, 'bagging_freq': 7, 'price_upper_bound': 59000, 'price_lower_bound': 0, 'smoothing': 0.03649883986609248, 'min_samples_leaf': 2, 'noise_level': 0.1348673991169029}. Best is trial 397 with value: 8767.214502206329.\n"
     ]
    },
    {
     "name": "stdout",
     "output_type": "stream",
     "text": [
      "Validation RMSE: 8826.616637964467\n"
     ]
    },
    {
     "name": "stderr",
     "output_type": "stream",
     "text": [
      "[I 2025-07-23 17:00:03,673] Trial 435 finished with value: 9159.981121306535 and parameters: {'num_leaves': 47, 'max_depth': 29, 'learning_rate': 0.016541751534180693, 'n_estimators': 477, 'min_child_samples': 7, 'feature_fraction': 0.9677419948415359, 'bagging_fraction': 0.8652286936642507, 'bagging_freq': 7, 'price_upper_bound': 59000, 'price_lower_bound': 100, 'smoothing': 0.0355548730961883, 'min_samples_leaf': 2, 'noise_level': 0.13992217694049028}. Best is trial 397 with value: 8767.214502206329.\n"
     ]
    },
    {
     "name": "stdout",
     "output_type": "stream",
     "text": [
      "Validation RMSE: 9159.981121306535\n"
     ]
    },
    {
     "name": "stderr",
     "output_type": "stream",
     "text": [
      "[I 2025-07-23 17:00:06,327] Trial 436 finished with value: 9217.65294174605 and parameters: {'num_leaves': 53, 'max_depth': 30, 'learning_rate': 0.015330341665344676, 'n_estimators': 469, 'min_child_samples': 89, 'feature_fraction': 0.967982157465561, 'bagging_fraction': 0.8535901639630858, 'bagging_freq': 7, 'price_upper_bound': 59000, 'price_lower_bound': 300, 'smoothing': 0.03570487705577994, 'min_samples_leaf': 2, 'noise_level': 0.15244048040645233}. Best is trial 397 with value: 8767.214502206329.\n"
     ]
    },
    {
     "name": "stdout",
     "output_type": "stream",
     "text": [
      "Validation RMSE: 9217.65294174605\n"
     ]
    },
    {
     "name": "stderr",
     "output_type": "stream",
     "text": [
      "[I 2025-07-23 17:00:08,857] Trial 437 finished with value: 8886.027622739946 and parameters: {'num_leaves': 49, 'max_depth': 27, 'learning_rate': 0.01615663866889332, 'n_estimators': 474, 'min_child_samples': 7, 'feature_fraction': 0.9753101689603998, 'bagging_fraction': 0.8313921080930928, 'bagging_freq': 7, 'price_upper_bound': 59000, 'price_lower_bound': 0, 'smoothing': 0.03833284645174701, 'min_samples_leaf': 2, 'noise_level': 0.12065906207799207}. Best is trial 397 with value: 8767.214502206329.\n"
     ]
    },
    {
     "name": "stdout",
     "output_type": "stream",
     "text": [
      "Validation RMSE: 8886.027622739946\n"
     ]
    },
    {
     "name": "stderr",
     "output_type": "stream",
     "text": [
      "[I 2025-07-23 17:00:10,882] Trial 438 finished with value: 9111.7778084296 and parameters: {'num_leaves': 37, 'max_depth': 28, 'learning_rate': 0.016441179141708534, 'n_estimators': 480, 'min_child_samples': 8, 'feature_fraction': 0.9682614629260027, 'bagging_fraction': 0.8364897094607995, 'bagging_freq': 7, 'price_upper_bound': 58500, 'price_lower_bound': 200, 'smoothing': 0.03806452370861332, 'min_samples_leaf': 2, 'noise_level': 0.1326182514901893}. Best is trial 397 with value: 8767.214502206329.\n"
     ]
    },
    {
     "name": "stdout",
     "output_type": "stream",
     "text": [
      "Validation RMSE: 9111.7778084296\n"
     ]
    },
    {
     "name": "stderr",
     "output_type": "stream",
     "text": [
      "[I 2025-07-23 17:00:13,499] Trial 439 finished with value: 9104.339933435238 and parameters: {'num_leaves': 48, 'max_depth': 28, 'learning_rate': 0.015052976880285635, 'n_estimators': 471, 'min_child_samples': 8, 'feature_fraction': 0.975022246406655, 'bagging_fraction': 0.8091017047028846, 'bagging_freq': 7, 'price_upper_bound': 59000, 'price_lower_bound': 100, 'smoothing': 0.03440442377371186, 'min_samples_leaf': 2, 'noise_level': 0.10467735730908577}. Best is trial 397 with value: 8767.214502206329.\n"
     ]
    },
    {
     "name": "stdout",
     "output_type": "stream",
     "text": [
      "Validation RMSE: 9104.339933435238\n"
     ]
    },
    {
     "name": "stderr",
     "output_type": "stream",
     "text": [
      "[I 2025-07-23 17:00:15,843] Trial 440 finished with value: 8941.512282934284 and parameters: {'num_leaves': 45, 'max_depth': 28, 'learning_rate': 0.014345381051969591, 'n_estimators': 467, 'min_child_samples': 7, 'feature_fraction': 0.9690546052944241, 'bagging_fraction': 0.8218181832330618, 'bagging_freq': 7, 'price_upper_bound': 59000, 'price_lower_bound': 0, 'smoothing': 0.04099171829246153, 'min_samples_leaf': 2, 'noise_level': 0.12591112588236186}. Best is trial 397 with value: 8767.214502206329.\n"
     ]
    },
    {
     "name": "stdout",
     "output_type": "stream",
     "text": [
      "Validation RMSE: 8941.512282934284\n"
     ]
    },
    {
     "name": "stderr",
     "output_type": "stream",
     "text": [
      "[I 2025-07-23 17:00:18,609] Trial 441 finished with value: 9170.95164513107 and parameters: {'num_leaves': 53, 'max_depth': 31, 'learning_rate': 0.016022048568273845, 'n_estimators': 482, 'min_child_samples': 9, 'feature_fraction': 0.9789957703933047, 'bagging_fraction': 0.8562464264422421, 'bagging_freq': 7, 'price_upper_bound': 58500, 'price_lower_bound': 200, 'smoothing': 0.03251570884096182, 'min_samples_leaf': 2, 'noise_level': 0.16026531679747222}. Best is trial 397 with value: 8767.214502206329.\n"
     ]
    },
    {
     "name": "stdout",
     "output_type": "stream",
     "text": [
      "Validation RMSE: 9170.95164513107\n"
     ]
    },
    {
     "name": "stderr",
     "output_type": "stream",
     "text": [
      "[I 2025-07-23 17:00:21,180] Trial 442 finished with value: 9082.08909070529 and parameters: {'num_leaves': 49, 'max_depth': 27, 'learning_rate': 0.014062630654149843, 'n_estimators': 473, 'min_child_samples': 7, 'feature_fraction': 0.9994096024532513, 'bagging_fraction': 0.8329899206797144, 'bagging_freq': 7, 'price_upper_bound': 59000, 'price_lower_bound': 100, 'smoothing': 0.0372852962202792, 'min_samples_leaf': 2, 'noise_level': 0.11446223009925387}. Best is trial 397 with value: 8767.214502206329.\n"
     ]
    },
    {
     "name": "stdout",
     "output_type": "stream",
     "text": [
      "Validation RMSE: 9082.08909070529\n"
     ]
    },
    {
     "name": "stderr",
     "output_type": "stream",
     "text": [
      "[I 2025-07-23 17:00:21,602] Trial 443 finished with value: 10193.298951734134 and parameters: {'num_leaves': 44, 'max_depth': 24, 'learning_rate': 0.01723226636163068, 'n_estimators': 59, 'min_child_samples': 7, 'feature_fraction': 0.9632505031607718, 'bagging_fraction': 0.84874470632536, 'bagging_freq': 7, 'price_upper_bound': 60000, 'price_lower_bound': 0, 'smoothing': 0.04141717231334911, 'min_samples_leaf': 2, 'noise_level': 0.13990531736041883}. Best is trial 397 with value: 8767.214502206329.\n"
     ]
    },
    {
     "name": "stdout",
     "output_type": "stream",
     "text": [
      "Validation RMSE: 10193.298951734134\n"
     ]
    },
    {
     "name": "stderr",
     "output_type": "stream",
     "text": [
      "[I 2025-07-23 17:00:24,066] Trial 444 finished with value: 8977.674659838784 and parameters: {'num_leaves': 47, 'max_depth': 23, 'learning_rate': 0.015557186513921763, 'n_estimators': 464, 'min_child_samples': 5, 'feature_fraction': 0.9794033432428507, 'bagging_fraction': 0.860959228837606, 'bagging_freq': 7, 'price_upper_bound': 58500, 'price_lower_bound': 300, 'smoothing': 0.050773775921483834, 'min_samples_leaf': 2, 'noise_level': 0.1204469390683788}. Best is trial 397 with value: 8767.214502206329.\n"
     ]
    },
    {
     "name": "stdout",
     "output_type": "stream",
     "text": [
      "Validation RMSE: 8977.674659838784\n"
     ]
    },
    {
     "name": "stderr",
     "output_type": "stream",
     "text": [
      "[I 2025-07-23 17:00:26,763] Trial 445 finished with value: 9062.083490035893 and parameters: {'num_leaves': 51, 'max_depth': 27, 'learning_rate': 0.014767028249409246, 'n_estimators': 482, 'min_child_samples': 9, 'feature_fraction': 0.9897389109449124, 'bagging_fraction': 0.8421140419374288, 'bagging_freq': 7, 'price_upper_bound': 60000, 'price_lower_bound': 100, 'smoothing': 0.033161913190046334, 'min_samples_leaf': 2, 'noise_level': 0.10134863737780148}. Best is trial 397 with value: 8767.214502206329.\n"
     ]
    },
    {
     "name": "stdout",
     "output_type": "stream",
     "text": [
      "Validation RMSE: 9062.083490035893\n"
     ]
    },
    {
     "name": "stderr",
     "output_type": "stream",
     "text": [
      "[I 2025-07-23 17:00:29,413] Trial 446 finished with value: 8899.402825981886 and parameters: {'num_leaves': 52, 'max_depth': 29, 'learning_rate': 0.016841415491509533, 'n_estimators': 452, 'min_child_samples': 7, 'feature_fraction': 0.9631963785197505, 'bagging_fraction': 0.8272594740386537, 'bagging_freq': 7, 'price_upper_bound': 58500, 'price_lower_bound': 0, 'smoothing': 0.03664164741052371, 'min_samples_leaf': 1, 'noise_level': 0.11040666395869081}. Best is trial 397 with value: 8767.214502206329.\n"
     ]
    },
    {
     "name": "stdout",
     "output_type": "stream",
     "text": [
      "Validation RMSE: 8899.402825981886\n"
     ]
    },
    {
     "name": "stderr",
     "output_type": "stream",
     "text": [
      "[I 2025-07-23 17:00:32,085] Trial 447 finished with value: 8899.685505305653 and parameters: {'num_leaves': 53, 'max_depth': 27, 'learning_rate': 0.01630076546230348, 'n_estimators': 467, 'min_child_samples': 9, 'feature_fraction': 0.9617478340045489, 'bagging_fraction': 0.8263037974095746, 'bagging_freq': 7, 'price_upper_bound': 58500, 'price_lower_bound': 0, 'smoothing': 0.03764999016431977, 'min_samples_leaf': 1, 'noise_level': 0.14649732284554356}. Best is trial 397 with value: 8767.214502206329.\n"
     ]
    },
    {
     "name": "stdout",
     "output_type": "stream",
     "text": [
      "Validation RMSE: 8899.685505305653\n"
     ]
    },
    {
     "name": "stderr",
     "output_type": "stream",
     "text": [
      "[I 2025-07-23 17:00:35,107] Trial 448 finished with value: 9116.395430346918 and parameters: {'num_leaves': 53, 'max_depth': 29, 'learning_rate': 0.013526323093442665, 'n_estimators': 477, 'min_child_samples': 9, 'feature_fraction': 0.961443978837042, 'bagging_fraction': 0.8249360655690715, 'bagging_freq': 7, 'price_upper_bound': 58500, 'price_lower_bound': 200, 'smoothing': 0.03617540219139214, 'min_samples_leaf': 1, 'noise_level': 0.14765334375693676}. Best is trial 397 with value: 8767.214502206329.\n"
     ]
    },
    {
     "name": "stdout",
     "output_type": "stream",
     "text": [
      "Validation RMSE: 9116.395430346918\n"
     ]
    },
    {
     "name": "stderr",
     "output_type": "stream",
     "text": [
      "[I 2025-07-23 17:00:38,115] Trial 449 finished with value: 9070.646346494095 and parameters: {'num_leaves': 53, 'max_depth': 27, 'learning_rate': 0.01710858671652222, 'n_estimators': 467, 'min_child_samples': 9, 'feature_fraction': 0.960998682777961, 'bagging_fraction': 0.8104331353383426, 'bagging_freq': 7, 'price_upper_bound': 58000, 'price_lower_bound': 100, 'smoothing': 0.03244843732853633, 'min_samples_leaf': 1, 'noise_level': 0.137834214833336}. Best is trial 397 with value: 8767.214502206329.\n"
     ]
    },
    {
     "name": "stdout",
     "output_type": "stream",
     "text": [
      "Validation RMSE: 9070.646346494095\n"
     ]
    },
    {
     "name": "stderr",
     "output_type": "stream",
     "text": [
      "[I 2025-07-23 17:00:40,760] Trial 450 finished with value: 9182.75526788611 and parameters: {'num_leaves': 50, 'max_depth': 28, 'learning_rate': 0.015417502608584857, 'n_estimators': 465, 'min_child_samples': 9, 'feature_fraction': 0.9739073775615144, 'bagging_fraction': 0.8350830463805804, 'bagging_freq': 7, 'price_upper_bound': 41000, 'price_lower_bound': 0, 'smoothing': 0.045195910184136046, 'min_samples_leaf': 2, 'noise_level': 0.1567135503082411}. Best is trial 397 with value: 8767.214502206329.\n"
     ]
    },
    {
     "name": "stdout",
     "output_type": "stream",
     "text": [
      "Validation RMSE: 9182.75526788611\n"
     ]
    },
    {
     "name": "stderr",
     "output_type": "stream",
     "text": [
      "[I 2025-07-23 17:00:43,526] Trial 451 finished with value: 9060.40382677165 and parameters: {'num_leaves': 52, 'max_depth': 30, 'learning_rate': 0.01447156036476029, 'n_estimators': 474, 'min_child_samples': 7, 'feature_fraction': 0.9612094167335092, 'bagging_fraction': 0.847747082673356, 'bagging_freq': 7, 'price_upper_bound': 58500, 'price_lower_bound': 400, 'smoothing': 0.036364257310575264, 'min_samples_leaf': 1, 'noise_level': 0.12468470983202917}. Best is trial 397 with value: 8767.214502206329.\n"
     ]
    },
    {
     "name": "stdout",
     "output_type": "stream",
     "text": [
      "Validation RMSE: 9060.40382677165\n"
     ]
    },
    {
     "name": "stderr",
     "output_type": "stream",
     "text": [
      "[I 2025-07-23 17:00:45,940] Trial 452 finished with value: 9614.180037672208 and parameters: {'num_leaves': 48, 'max_depth': 26, 'learning_rate': 0.016135711516009937, 'n_estimators': 454, 'min_child_samples': 7, 'feature_fraction': 0.9745441647776825, 'bagging_fraction': 0.8239940467730327, 'bagging_freq': 7, 'price_upper_bound': 35500, 'price_lower_bound': 0, 'smoothing': 0.04127443563116179, 'min_samples_leaf': 1, 'noise_level': 0.13710461057236623}. Best is trial 397 with value: 8767.214502206329.\n"
     ]
    },
    {
     "name": "stdout",
     "output_type": "stream",
     "text": [
      "Validation RMSE: 9614.180037672208\n"
     ]
    },
    {
     "name": "stderr",
     "output_type": "stream",
     "text": [
      "[I 2025-07-23 17:00:48,896] Trial 453 finished with value: 9841.300318827576 and parameters: {'num_leaves': 55, 'max_depth': 27, 'learning_rate': 0.011622996760512145, 'n_estimators': 483, 'min_child_samples': 9, 'feature_fraction': 0.9911440259548023, 'bagging_fraction': 0.8592428695329547, 'bagging_freq': 7, 'price_upper_bound': 34000, 'price_lower_bound': 200, 'smoothing': 0.03454579451885717, 'min_samples_leaf': 1, 'noise_level': 0.11678007657372354}. Best is trial 397 with value: 8767.214502206329.\n"
     ]
    },
    {
     "name": "stdout",
     "output_type": "stream",
     "text": [
      "Validation RMSE: 9841.300318827576\n"
     ]
    },
    {
     "name": "stderr",
     "output_type": "stream",
     "text": [
      "[I 2025-07-23 17:00:51,172] Trial 454 finished with value: 9144.542402379173 and parameters: {'num_leaves': 40, 'max_depth': 24, 'learning_rate': 0.013248775529178055, 'n_estimators': 462, 'min_child_samples': 7, 'feature_fraction': 0.9653123546243761, 'bagging_fraction': 0.8026354282461199, 'bagging_freq': 6, 'price_upper_bound': 58500, 'price_lower_bound': 100, 'smoothing': 0.039509394337182216, 'min_samples_leaf': 2, 'noise_level': 0.1267344931501142}. Best is trial 397 with value: 8767.214502206329.\n"
     ]
    },
    {
     "name": "stdout",
     "output_type": "stream",
     "text": [
      "Validation RMSE: 9144.542402379173\n"
     ]
    },
    {
     "name": "stderr",
     "output_type": "stream",
     "text": [
      "[I 2025-07-23 17:00:53,843] Trial 455 finished with value: 8906.999217498053 and parameters: {'num_leaves': 50, 'max_depth': 25, 'learning_rate': 0.0149138203088706, 'n_estimators': 473, 'min_child_samples': 10, 'feature_fraction': 0.9997248125080036, 'bagging_fraction': 0.8391878573822609, 'bagging_freq': 7, 'price_upper_bound': 59000, 'price_lower_bound': 0, 'smoothing': 0.047172131293754256, 'min_samples_leaf': 1, 'noise_level': 0.14960100374760266}. Best is trial 397 with value: 8767.214502206329.\n"
     ]
    },
    {
     "name": "stdout",
     "output_type": "stream",
     "text": [
      "Validation RMSE: 8906.999217498053\n"
     ]
    },
    {
     "name": "stderr",
     "output_type": "stream",
     "text": [
      "[I 2025-07-23 17:00:56,333] Trial 456 finished with value: 9234.743836889345 and parameters: {'num_leaves': 46, 'max_depth': 25, 'learning_rate': 0.014394814451026942, 'n_estimators': 474, 'min_child_samples': 57, 'feature_fraction': 0.9996239621225007, 'bagging_fraction': 0.8399999197881535, 'bagging_freq': 7, 'price_upper_bound': 58000, 'price_lower_bound': 200, 'smoothing': 0.06035437487056162, 'min_samples_leaf': 1, 'noise_level': 0.16075942471608543}. Best is trial 397 with value: 8767.214502206329.\n"
     ]
    },
    {
     "name": "stdout",
     "output_type": "stream",
     "text": [
      "Validation RMSE: 9234.743836889345\n"
     ]
    },
    {
     "name": "stderr",
     "output_type": "stream",
     "text": [
      "[I 2025-07-23 17:00:58,540] Trial 457 finished with value: 8917.053823486367 and parameters: {'num_leaves': 43, 'max_depth': 24, 'learning_rate': 0.013546784930452518, 'n_estimators': 452, 'min_child_samples': 10, 'feature_fraction': 0.9896132043837849, 'bagging_fraction': 0.8239587810903213, 'bagging_freq': 7, 'price_upper_bound': 59000, 'price_lower_bound': 0, 'smoothing': 0.05052784790054455, 'min_samples_leaf': 1, 'noise_level': 0.1704402233919877}. Best is trial 397 with value: 8767.214502206329.\n"
     ]
    },
    {
     "name": "stdout",
     "output_type": "stream",
     "text": [
      "Validation RMSE: 8917.053823486367\n"
     ]
    },
    {
     "name": "stderr",
     "output_type": "stream",
     "text": [
      "[I 2025-07-23 17:01:01,498] Trial 458 finished with value: 10360.03616345005 and parameters: {'num_leaves': 54, 'max_depth': 26, 'learning_rate': 0.015379488743358065, 'n_estimators': 486, 'min_child_samples': 10, 'feature_fraction': 0.981847213495653, 'bagging_fraction': 0.8315113205647401, 'bagging_freq': 7, 'price_upper_bound': 29500, 'price_lower_bound': 100, 'smoothing': 0.04492113137618195, 'min_samples_leaf': 1, 'noise_level': 0.14907401533742526}. Best is trial 397 with value: 8767.214502206329.\n"
     ]
    },
    {
     "name": "stdout",
     "output_type": "stream",
     "text": [
      "Validation RMSE: 10360.03616345005\n"
     ]
    },
    {
     "name": "stderr",
     "output_type": "stream",
     "text": [
      "[I 2025-07-23 17:01:03,973] Trial 459 finished with value: 9147.938145801283 and parameters: {'num_leaves': 49, 'max_depth': 25, 'learning_rate': 0.017453182758198373, 'n_estimators': 455, 'min_child_samples': 9, 'feature_fraction': 0.9999435500982136, 'bagging_fraction': 0.7928814573032281, 'bagging_freq': 7, 'price_upper_bound': 58000, 'price_lower_bound': 300, 'smoothing': 0.04785841436229921, 'min_samples_leaf': 1, 'noise_level': 0.11175394442432472}. Best is trial 397 with value: 8767.214502206329.\n"
     ]
    },
    {
     "name": "stdout",
     "output_type": "stream",
     "text": [
      "Validation RMSE: 9147.938145801283\n"
     ]
    },
    {
     "name": "stderr",
     "output_type": "stream",
     "text": [
      "[I 2025-07-23 17:01:06,570] Trial 460 finished with value: 8899.96136539564 and parameters: {'num_leaves': 50, 'max_depth': 23, 'learning_rate': 0.014691657078260367, 'n_estimators': 462, 'min_child_samples': 6, 'feature_fraction': 0.9807206561556012, 'bagging_fraction': 0.845631032721583, 'bagging_freq': 6, 'price_upper_bound': 59000, 'price_lower_bound': 0, 'smoothing': 0.04314468586330473, 'min_samples_leaf': 1, 'noise_level': 0.12080757057353386}. Best is trial 397 with value: 8767.214502206329.\n"
     ]
    },
    {
     "name": "stdout",
     "output_type": "stream",
     "text": [
      "Validation RMSE: 8899.96136539564\n"
     ]
    },
    {
     "name": "stderr",
     "output_type": "stream",
     "text": [
      "[I 2025-07-23 17:01:09,077] Trial 461 finished with value: 10888.829801933123 and parameters: {'num_leaves': 50, 'max_depth': 23, 'learning_rate': 0.014247850363831404, 'n_estimators': 476, 'min_child_samples': 35, 'feature_fraction': 0.9809658599193016, 'bagging_fraction': 0.8460232059781164, 'bagging_freq': 6, 'price_upper_bound': 26500, 'price_lower_bound': 0, 'smoothing': 0.052298467069665705, 'min_samples_leaf': 1, 'noise_level': 0.12243126463754014}. Best is trial 397 with value: 8767.214502206329.\n"
     ]
    },
    {
     "name": "stdout",
     "output_type": "stream",
     "text": [
      "Validation RMSE: 10888.829801933123\n"
     ]
    },
    {
     "name": "stderr",
     "output_type": "stream",
     "text": [
      "[I 2025-07-23 17:01:11,874] Trial 462 finished with value: 9066.7581971919 and parameters: {'num_leaves': 52, 'max_depth': 23, 'learning_rate': 0.014910108146944826, 'n_estimators': 463, 'min_child_samples': 8, 'feature_fraction': 0.9817925404569564, 'bagging_fraction': 0.8694451107004202, 'bagging_freq': 6, 'price_upper_bound': 58000, 'price_lower_bound': 100, 'smoothing': 0.04308514279464932, 'min_samples_leaf': 1, 'noise_level': 0.10658464992805645}. Best is trial 397 with value: 8767.214502206329.\n"
     ]
    },
    {
     "name": "stdout",
     "output_type": "stream",
     "text": [
      "Validation RMSE: 9066.7581971919\n"
     ]
    },
    {
     "name": "stderr",
     "output_type": "stream",
     "text": [
      "[I 2025-07-23 17:01:12,992] Trial 463 finished with value: 9077.720968892523 and parameters: {'num_leaves': 48, 'max_depth': 25, 'learning_rate': 0.01324056930650644, 'n_estimators': 186, 'min_child_samples': 6, 'feature_fraction': 0.9915808071101259, 'bagging_fraction': 0.8862974940840608, 'bagging_freq': 7, 'price_upper_bound': 59000, 'price_lower_bound': 0, 'smoothing': 0.055113389378302596, 'min_samples_leaf': 1, 'noise_level': 0.13069306581384704}. Best is trial 397 with value: 8767.214502206329.\n"
     ]
    },
    {
     "name": "stdout",
     "output_type": "stream",
     "text": [
      "Validation RMSE: 9077.720968892523\n"
     ]
    },
    {
     "name": "stderr",
     "output_type": "stream",
     "text": [
      "[I 2025-07-23 17:01:16,204] Trial 464 finished with value: 9107.248669741852 and parameters: {'num_leaves': 46, 'max_depth': 27, 'learning_rate': 0.016632670935061347, 'n_estimators': 482, 'min_child_samples': 25, 'feature_fraction': 0.9909298508394992, 'bagging_fraction': 0.8489518188755127, 'bagging_freq': 7, 'price_upper_bound': 59000, 'price_lower_bound': 100, 'smoothing': 0.04628760020639054, 'min_samples_leaf': 1, 'noise_level': 0.14495499987099308}. Best is trial 397 with value: 8767.214502206329.\n"
     ]
    },
    {
     "name": "stdout",
     "output_type": "stream",
     "text": [
      "Validation RMSE: 9107.248669741852\n"
     ]
    },
    {
     "name": "stderr",
     "output_type": "stream",
     "text": [
      "[I 2025-07-23 17:01:19,028] Trial 465 finished with value: 9165.42873836565 and parameters: {'num_leaves': 55, 'max_depth': 29, 'learning_rate': 0.01210286602841192, 'n_estimators': 470, 'min_child_samples': 11, 'feature_fraction': 0.9995387847468894, 'bagging_fraction': 0.8143037441990414, 'bagging_freq': 7, 'price_upper_bound': 58000, 'price_lower_bound': 200, 'smoothing': 0.04088885871351612, 'min_samples_leaf': 1, 'noise_level': 0.1180111812990032}. Best is trial 397 with value: 8767.214502206329.\n"
     ]
    },
    {
     "name": "stdout",
     "output_type": "stream",
     "text": [
      "Validation RMSE: 9165.42873836565\n"
     ]
    },
    {
     "name": "stderr",
     "output_type": "stream",
     "text": [
      "[I 2025-07-23 17:01:21,558] Trial 466 finished with value: 8872.146494325812 and parameters: {'num_leaves': 50, 'max_depth': 24, 'learning_rate': 0.015679612067088917, 'n_estimators': 461, 'min_child_samples': 7, 'feature_fraction': 0.9748546774981806, 'bagging_fraction': 0.8325670651527569, 'bagging_freq': 7, 'price_upper_bound': 60000, 'price_lower_bound': 0, 'smoothing': 0.037996106309955, 'min_samples_leaf': 2, 'noise_level': 0.09736562056837765}. Best is trial 397 with value: 8767.214502206329.\n"
     ]
    },
    {
     "name": "stdout",
     "output_type": "stream",
     "text": [
      "Validation RMSE: 8872.146494325812\n"
     ]
    },
    {
     "name": "stderr",
     "output_type": "stream",
     "text": [
      "[I 2025-07-23 17:01:24,148] Trial 467 finished with value: 8876.066633190892 and parameters: {'num_leaves': 51, 'max_depth': 24, 'learning_rate': 0.015562593672536974, 'n_estimators': 458, 'min_child_samples': 5, 'feature_fraction': 0.9738090234013628, 'bagging_fraction': 0.8299432343800789, 'bagging_freq': 7, 'price_upper_bound': 60000, 'price_lower_bound': 0, 'smoothing': 0.043347110328890284, 'min_samples_leaf': 2, 'noise_level': 0.09755159704797058}. Best is trial 397 with value: 8767.214502206329.\n"
     ]
    },
    {
     "name": "stdout",
     "output_type": "stream",
     "text": [
      "Validation RMSE: 8876.066633190892\n"
     ]
    },
    {
     "name": "stderr",
     "output_type": "stream",
     "text": [
      "[I 2025-07-23 17:01:26,896] Trial 468 finished with value: 9121.967141305897 and parameters: {'num_leaves': 53, 'max_depth': 24, 'learning_rate': 0.015916559684751273, 'n_estimators': 450, 'min_child_samples': 5, 'feature_fraction': 0.973655571170505, 'bagging_fraction': 0.8313028633048031, 'bagging_freq': 7, 'price_upper_bound': 60000, 'price_lower_bound': 100, 'smoothing': 0.03871548830163303, 'min_samples_leaf': 2, 'noise_level': 0.09861038708547894}. Best is trial 397 with value: 8767.214502206329.\n"
     ]
    },
    {
     "name": "stdout",
     "output_type": "stream",
     "text": [
      "Validation RMSE: 9121.967141305897\n"
     ]
    },
    {
     "name": "stderr",
     "output_type": "stream",
     "text": [
      "[I 2025-07-23 17:01:29,488] Trial 469 finished with value: 9331.340660923883 and parameters: {'num_leaves': 51, 'max_depth': 22, 'learning_rate': 0.017431214007383563, 'n_estimators': 459, 'min_child_samples': 5, 'feature_fraction': 0.9574392953148714, 'bagging_fraction': 0.8649889634986079, 'bagging_freq': 6, 'price_upper_bound': 44500, 'price_lower_bound': 200, 'smoothing': 0.04218664619899879, 'min_samples_leaf': 2, 'noise_level': 0.09427678700724233}. Best is trial 397 with value: 8767.214502206329.\n"
     ]
    },
    {
     "name": "stdout",
     "output_type": "stream",
     "text": [
      "Validation RMSE: 9331.340660923883\n"
     ]
    },
    {
     "name": "stderr",
     "output_type": "stream",
     "text": [
      "[I 2025-07-23 17:01:32,186] Trial 470 finished with value: 8750.516607635713 and parameters: {'num_leaves': 56, 'max_depth': 24, 'learning_rate': 0.01873850883762116, 'n_estimators': 448, 'min_child_samples': 7, 'feature_fraction': 0.9757830530829983, 'bagging_fraction': 0.817477181736378, 'bagging_freq': 7, 'price_upper_bound': 60000, 'price_lower_bound': 0, 'smoothing': 0.037699689079676454, 'min_samples_leaf': 2, 'noise_level': 0.1058799309100469}. Best is trial 470 with value: 8750.516607635713.\n"
     ]
    },
    {
     "name": "stdout",
     "output_type": "stream",
     "text": [
      "Validation RMSE: 8750.516607635713\n"
     ]
    },
    {
     "name": "stderr",
     "output_type": "stream",
     "text": [
      "[I 2025-07-23 17:01:34,931] Trial 471 finished with value: 8819.549648864608 and parameters: {'num_leaves': 56, 'max_depth': 23, 'learning_rate': 0.01721575689567871, 'n_estimators': 452, 'min_child_samples': 7, 'feature_fraction': 0.9708612531559849, 'bagging_fraction': 0.8153952926318666, 'bagging_freq': 7, 'price_upper_bound': 60000, 'price_lower_bound': 0, 'smoothing': 0.03880044845508672, 'min_samples_leaf': 2, 'noise_level': 0.10075004208392101}. Best is trial 470 with value: 8750.516607635713.\n"
     ]
    },
    {
     "name": "stdout",
     "output_type": "stream",
     "text": [
      "Validation RMSE: 8819.549648864608\n"
     ]
    },
    {
     "name": "stderr",
     "output_type": "stream",
     "text": [
      "[I 2025-07-23 17:01:37,890] Trial 472 finished with value: 8993.594564581115 and parameters: {'num_leaves': 57, 'max_depth': 23, 'learning_rate': 0.018321156540795393, 'n_estimators': 459, 'min_child_samples': 8, 'feature_fraction': 0.9598981855755847, 'bagging_fraction': 0.8054591574679908, 'bagging_freq': 7, 'price_upper_bound': 60000, 'price_lower_bound': 300, 'smoothing': 0.043383930438122165, 'min_samples_leaf': 2, 'noise_level': 0.09886973554316889}. Best is trial 470 with value: 8750.516607635713.\n"
     ]
    },
    {
     "name": "stdout",
     "output_type": "stream",
     "text": [
      "Validation RMSE: 8993.594564581115\n"
     ]
    },
    {
     "name": "stderr",
     "output_type": "stream",
     "text": [
      "[I 2025-07-23 17:01:40,685] Trial 473 finished with value: 8835.069821693683 and parameters: {'num_leaves': 56, 'max_depth': 20, 'learning_rate': 0.018621936801230143, 'n_estimators': 450, 'min_child_samples': 7, 'feature_fraction': 0.9739556539567152, 'bagging_fraction': 0.7837501941528552, 'bagging_freq': 7, 'price_upper_bound': 60000, 'price_lower_bound': 0, 'smoothing': 0.03154627935449571, 'min_samples_leaf': 2, 'noise_level': 0.10884418426161806}. Best is trial 470 with value: 8750.516607635713.\n"
     ]
    },
    {
     "name": "stdout",
     "output_type": "stream",
     "text": [
      "Validation RMSE: 8835.069821693683\n"
     ]
    },
    {
     "name": "stderr",
     "output_type": "stream",
     "text": [
      "[I 2025-07-23 17:01:43,406] Trial 474 finished with value: 8975.05022885417 and parameters: {'num_leaves': 56, 'max_depth': 20, 'learning_rate': 0.019265622808895173, 'n_estimators': 446, 'min_child_samples': 7, 'feature_fraction': 0.9718287365889201, 'bagging_fraction': 0.7864670592120868, 'bagging_freq': 7, 'price_upper_bound': 60000, 'price_lower_bound': 0, 'smoothing': 0.031621509270745474, 'min_samples_leaf': 2, 'noise_level': 0.10597140785857416}. Best is trial 470 with value: 8750.516607635713.\n"
     ]
    },
    {
     "name": "stdout",
     "output_type": "stream",
     "text": [
      "Validation RMSE: 8975.05022885417\n"
     ]
    },
    {
     "name": "stderr",
     "output_type": "stream",
     "text": [
      "[I 2025-07-23 17:01:46,394] Trial 475 finished with value: 9145.456980624378 and parameters: {'num_leaves': 55, 'max_depth': 19, 'learning_rate': 0.01853746221711029, 'n_estimators': 449, 'min_child_samples': 6, 'feature_fraction': 0.9769041324419243, 'bagging_fraction': 0.8201044863344812, 'bagging_freq': 7, 'price_upper_bound': 60000, 'price_lower_bound': 100, 'smoothing': 0.031796693828065, 'min_samples_leaf': 2, 'noise_level': 0.09386557437788148}. Best is trial 470 with value: 8750.516607635713.\n"
     ]
    },
    {
     "name": "stdout",
     "output_type": "stream",
     "text": [
      "Validation RMSE: 9145.456980624378\n"
     ]
    },
    {
     "name": "stderr",
     "output_type": "stream",
     "text": [
      "[I 2025-07-23 17:01:49,239] Trial 476 finished with value: 9111.620622810768 and parameters: {'num_leaves': 56, 'max_depth': 22, 'learning_rate': 0.01731154854131466, 'n_estimators': 461, 'min_child_samples': 32, 'feature_fraction': 0.9647137241299656, 'bagging_fraction': 0.7974539034699698, 'bagging_freq': 7, 'price_upper_bound': 60000, 'price_lower_bound': 500, 'smoothing': 0.0376236479768235, 'min_samples_leaf': 2, 'noise_level': 0.1091975088109069}. Best is trial 470 with value: 8750.516607635713.\n"
     ]
    },
    {
     "name": "stdout",
     "output_type": "stream",
     "text": [
      "Validation RMSE: 9111.620622810768\n"
     ]
    },
    {
     "name": "stderr",
     "output_type": "stream",
     "text": [
      "[I 2025-07-23 17:01:51,927] Trial 477 finished with value: 8999.1504614498 and parameters: {'num_leaves': 53, 'max_depth': 24, 'learning_rate': 0.016975095539693702, 'n_estimators': 449, 'min_child_samples': 5, 'feature_fraction': 0.9769433200505608, 'bagging_fraction': 0.8100748845030744, 'bagging_freq': 6, 'price_upper_bound': 59000, 'price_lower_bound': 200, 'smoothing': 0.02942309388134844, 'min_samples_leaf': 2, 'noise_level': 0.10448266241586178}. Best is trial 470 with value: 8750.516607635713.\n"
     ]
    },
    {
     "name": "stdout",
     "output_type": "stream",
     "text": [
      "Validation RMSE: 8999.1504614498\n"
     ]
    },
    {
     "name": "stderr",
     "output_type": "stream",
     "text": [
      "[I 2025-07-23 17:01:54,914] Trial 478 finished with value: 9182.668919098584 and parameters: {'num_leaves': 58, 'max_depth': 21, 'learning_rate': 0.013627249376502077, 'n_estimators': 463, 'min_child_samples': 8, 'feature_fraction': 0.9810091746762402, 'bagging_fraction': 0.8275999179915843, 'bagging_freq': 7, 'price_upper_bound': 60000, 'price_lower_bound': 100, 'smoothing': 0.04076886928557136, 'min_samples_leaf': 2, 'noise_level': 0.09572551210484513}. Best is trial 470 with value: 8750.516607635713.\n"
     ]
    },
    {
     "name": "stdout",
     "output_type": "stream",
     "text": [
      "Validation RMSE: 9182.668919098584\n"
     ]
    },
    {
     "name": "stderr",
     "output_type": "stream",
     "text": [
      "[I 2025-07-23 17:01:57,715] Trial 479 finished with value: 8860.207786851992 and parameters: {'num_leaves': 54, 'max_depth': 23, 'learning_rate': 0.015118896150752353, 'n_estimators': 454, 'min_child_samples': 7, 'feature_fraction': 0.9585674507631595, 'bagging_fraction': 0.7791891909241693, 'bagging_freq': 7, 'price_upper_bound': 59000, 'price_lower_bound': 0, 'smoothing': 0.03395710740822753, 'min_samples_leaf': 2, 'noise_level': 0.11302355136178258}. Best is trial 470 with value: 8750.516607635713.\n"
     ]
    },
    {
     "name": "stdout",
     "output_type": "stream",
     "text": [
      "Validation RMSE: 8860.207786851992\n"
     ]
    },
    {
     "name": "stderr",
     "output_type": "stream",
     "text": [
      "[I 2025-07-23 17:02:00,353] Trial 480 finished with value: 8838.851018747358 and parameters: {'num_leaves': 54, 'max_depth': 23, 'learning_rate': 0.019103623794654044, 'n_estimators': 452, 'min_child_samples': 9, 'feature_fraction': 0.9548386726088438, 'bagging_fraction': 0.7727714502162832, 'bagging_freq': 7, 'price_upper_bound': 59000, 'price_lower_bound': 0, 'smoothing': 0.0337835578434322, 'min_samples_leaf': 2, 'noise_level': 0.11283445321870514}. Best is trial 470 with value: 8750.516607635713.\n"
     ]
    },
    {
     "name": "stdout",
     "output_type": "stream",
     "text": [
      "Validation RMSE: 8838.851018747358\n"
     ]
    },
    {
     "name": "stderr",
     "output_type": "stream",
     "text": [
      "[I 2025-07-23 17:02:03,443] Trial 481 finished with value: 9152.440718459899 and parameters: {'num_leaves': 55, 'max_depth': 20, 'learning_rate': 0.01940760319991814, 'n_estimators': 445, 'min_child_samples': 9, 'feature_fraction': 0.9538727343356906, 'bagging_fraction': 0.7773677691406354, 'bagging_freq': 7, 'price_upper_bound': 59000, 'price_lower_bound': 200, 'smoothing': 0.0327547311216626, 'min_samples_leaf': 2, 'noise_level': 0.09247352999029143}. Best is trial 470 with value: 8750.516607635713.\n"
     ]
    },
    {
     "name": "stdout",
     "output_type": "stream",
     "text": [
      "Validation RMSE: 9152.440718459899\n"
     ]
    },
    {
     "name": "stderr",
     "output_type": "stream",
     "text": [
      "[I 2025-07-23 17:02:06,308] Trial 482 finished with value: 9101.251900627898 and parameters: {'num_leaves': 59, 'max_depth': 18, 'learning_rate': 0.016819852169961107, 'n_estimators': 452, 'min_child_samples': 9, 'feature_fraction': 0.9556938342603605, 'bagging_fraction': 0.7576387632618135, 'bagging_freq': 7, 'price_upper_bound': 58000, 'price_lower_bound': 100, 'smoothing': 0.02998057133951782, 'min_samples_leaf': 2, 'noise_level': 0.10876419693606541}. Best is trial 470 with value: 8750.516607635713.\n"
     ]
    },
    {
     "name": "stdout",
     "output_type": "stream",
     "text": [
      "Validation RMSE: 9101.251900627898\n"
     ]
    },
    {
     "name": "stderr",
     "output_type": "stream",
     "text": [
      "[I 2025-07-23 17:02:08,989] Trial 483 finished with value: 8984.407903549063 and parameters: {'num_leaves': 56, 'max_depth': 22, 'learning_rate': 0.017889185636148445, 'n_estimators': 444, 'min_child_samples': 11, 'feature_fraction': 0.9648194267148668, 'bagging_fraction': 0.8154466948739081, 'bagging_freq': 7, 'price_upper_bound': 59000, 'price_lower_bound': 0, 'smoothing': 0.033855302182277544, 'min_samples_leaf': 2, 'noise_level': 0.09882912539809123}. Best is trial 470 with value: 8750.516607635713.\n"
     ]
    },
    {
     "name": "stdout",
     "output_type": "stream",
     "text": [
      "Validation RMSE: 8984.407903549063\n"
     ]
    },
    {
     "name": "stderr",
     "output_type": "stream",
     "text": [
      "[I 2025-07-23 17:02:11,715] Trial 484 finished with value: 9098.999250687357 and parameters: {'num_leaves': 55, 'max_depth': 26, 'learning_rate': 0.01928553351983558, 'n_estimators': 454, 'min_child_samples': 8, 'feature_fraction': 0.9529137523182623, 'bagging_fraction': 0.7751882768044601, 'bagging_freq': 7, 'price_upper_bound': 60000, 'price_lower_bound': 100, 'smoothing': 0.036098638703261694, 'min_samples_leaf': 2, 'noise_level': 0.10435396741704295}. Best is trial 470 with value: 8750.516607635713.\n"
     ]
    },
    {
     "name": "stdout",
     "output_type": "stream",
     "text": [
      "Validation RMSE: 9098.999250687357\n"
     ]
    },
    {
     "name": "stderr",
     "output_type": "stream",
     "text": [
      "[I 2025-07-23 17:02:12,537] Trial 485 finished with value: 9461.83596687613 and parameters: {'num_leaves': 54, 'max_depth': 23, 'learning_rate': 0.015474591979044335, 'n_estimators': 117, 'min_child_samples': 9, 'feature_fraction': 0.9692832990092481, 'bagging_fraction': 0.7652385576110714, 'bagging_freq': 7, 'price_upper_bound': 58000, 'price_lower_bound': 300, 'smoothing': 0.028363329826081158, 'min_samples_leaf': 2, 'noise_level': 0.10816486162793035}. Best is trial 470 with value: 8750.516607635713.\n"
     ]
    },
    {
     "name": "stdout",
     "output_type": "stream",
     "text": [
      "Validation RMSE: 9461.83596687613\n"
     ]
    },
    {
     "name": "stderr",
     "output_type": "stream",
     "text": [
      "[I 2025-07-23 17:02:15,385] Trial 486 finished with value: 8905.990160712223 and parameters: {'num_leaves': 57, 'max_depth': 24, 'learning_rate': 0.01862183306883323, 'n_estimators': 447, 'min_child_samples': 7, 'feature_fraction': 0.9640347011734154, 'bagging_fraction': 0.7926621051050636, 'bagging_freq': 7, 'price_upper_bound': 59000, 'price_lower_bound': 0, 'smoothing': 0.034186321674546306, 'min_samples_leaf': 2, 'noise_level': 0.08958754441466411}. Best is trial 470 with value: 8750.516607635713.\n"
     ]
    },
    {
     "name": "stdout",
     "output_type": "stream",
     "text": [
      "Validation RMSE: 8905.990160712223\n"
     ]
    },
    {
     "name": "stderr",
     "output_type": "stream",
     "text": [
      "[I 2025-07-23 17:02:18,280] Trial 487 finished with value: 9149.214679640261 and parameters: {'num_leaves': 53, 'max_depth': 25, 'learning_rate': 0.016178118940854493, 'n_estimators': 455, 'min_child_samples': 10, 'feature_fraction': 0.9886399958045854, 'bagging_fraction': 0.8134895758486635, 'bagging_freq': 7, 'price_upper_bound': 60000, 'price_lower_bound': 200, 'smoothing': 0.03736258197879341, 'min_samples_leaf': 2, 'noise_level': 0.11547146314424873}. Best is trial 470 with value: 8750.516607635713.\n"
     ]
    },
    {
     "name": "stdout",
     "output_type": "stream",
     "text": [
      "Validation RMSE: 9149.214679640261\n"
     ]
    },
    {
     "name": "stderr",
     "output_type": "stream",
     "text": [
      "[I 2025-07-23 17:02:20,787] Trial 488 finished with value: 9161.385025653632 and parameters: {'num_leaves': 52, 'max_depth': 23, 'learning_rate': 0.017296647621521263, 'n_estimators': 444, 'min_child_samples': 51, 'feature_fraction': 0.9523088591250121, 'bagging_fraction': 0.781772372566746, 'bagging_freq': 7, 'price_upper_bound': 58000, 'price_lower_bound': 4600, 'smoothing': 0.03170305761845411, 'min_samples_leaf': 2, 'noise_level': 0.11376311379131668}. Best is trial 470 with value: 8750.516607635713.\n"
     ]
    },
    {
     "name": "stdout",
     "output_type": "stream",
     "text": [
      "Validation RMSE: 9161.385025653632\n"
     ]
    },
    {
     "name": "stderr",
     "output_type": "stream",
     "text": [
      "[I 2025-07-23 17:02:23,790] Trial 489 finished with value: 8876.64008868512 and parameters: {'num_leaves': 54, 'max_depth': 26, 'learning_rate': 0.015317422095293895, 'n_estimators': 458, 'min_child_samples': 7, 'feature_fraction': 0.9684465390798435, 'bagging_fraction': 0.7440098063742793, 'bagging_freq': 7, 'price_upper_bound': 59000, 'price_lower_bound': 0, 'smoothing': 0.0378887860648955, 'min_samples_leaf': 2, 'noise_level': 0.09884170513532534}. Best is trial 470 with value: 8750.516607635713.\n"
     ]
    },
    {
     "name": "stdout",
     "output_type": "stream",
     "text": [
      "Validation RMSE: 8876.64008868512\n"
     ]
    },
    {
     "name": "stderr",
     "output_type": "stream",
     "text": [
      "[I 2025-07-23 17:02:29,156] Trial 490 finished with value: 12765.17096005317 and parameters: {'num_leaves': 57, 'max_depth': 21, 'learning_rate': 0.014306215232819193, 'n_estimators': 454, 'min_child_samples': 38, 'feature_fraction': 0.9722474113299517, 'bagging_fraction': 0.784078031975747, 'bagging_freq': 7, 'price_upper_bound': 19500, 'price_lower_bound': 100, 'smoothing': 0.03461457970873292, 'min_samples_leaf': 2, 'noise_level': 0.09673961562036025}. Best is trial 470 with value: 8750.516607635713.\n"
     ]
    },
    {
     "name": "stdout",
     "output_type": "stream",
     "text": [
      "Validation RMSE: 12765.17096005317\n"
     ]
    },
    {
     "name": "stderr",
     "output_type": "stream",
     "text": [
      "[I 2025-07-23 17:02:35,147] Trial 491 finished with value: 8819.13410004344 and parameters: {'num_leaves': 59, 'max_depth': 22, 'learning_rate': 0.015255665240429858, 'n_estimators': 458, 'min_child_samples': 7, 'feature_fraction': 0.9872960603227867, 'bagging_fraction': 0.8012165974617306, 'bagging_freq': 7, 'price_upper_bound': 60000, 'price_lower_bound': 0, 'smoothing': 0.03896207611153883, 'min_samples_leaf': 2, 'noise_level': 0.08534606680628644}. Best is trial 470 with value: 8750.516607635713.\n"
     ]
    },
    {
     "name": "stdout",
     "output_type": "stream",
     "text": [
      "Validation RMSE: 8819.13410004344\n"
     ]
    },
    {
     "name": "stderr",
     "output_type": "stream",
     "text": [
      "[I 2025-07-23 17:02:39,439] Trial 492 finished with value: 9042.67058494438 and parameters: {'num_leaves': 60, 'max_depth': 22, 'learning_rate': 0.015594804517765166, 'n_estimators': 459, 'min_child_samples': 5, 'feature_fraction': 0.9871208909110529, 'bagging_fraction': 0.7571176036234365, 'bagging_freq': 7, 'price_upper_bound': 60000, 'price_lower_bound': 200, 'smoothing': 0.04883312599536456, 'min_samples_leaf': 2, 'noise_level': 0.08983434043118073}. Best is trial 470 with value: 8750.516607635713.\n"
     ]
    },
    {
     "name": "stdout",
     "output_type": "stream",
     "text": [
      "Validation RMSE: 9042.67058494438\n"
     ]
    },
    {
     "name": "stderr",
     "output_type": "stream",
     "text": [
      "[I 2025-07-23 17:02:43,632] Trial 493 finished with value: 9177.044748026221 and parameters: {'num_leaves': 61, 'max_depth': 24, 'learning_rate': 0.01417737104245352, 'n_estimators': 445, 'min_child_samples': 7, 'feature_fraction': 0.9894348468170787, 'bagging_fraction': 0.7370842650162219, 'bagging_freq': 7, 'price_upper_bound': 60000, 'price_lower_bound': 100, 'smoothing': 0.040429205272474324, 'min_samples_leaf': 2, 'noise_level': 0.10152065548407523}. Best is trial 470 with value: 8750.516607635713.\n"
     ]
    },
    {
     "name": "stdout",
     "output_type": "stream",
     "text": [
      "Validation RMSE: 9177.044748026221\n"
     ]
    },
    {
     "name": "stderr",
     "output_type": "stream",
     "text": [
      "[I 2025-07-23 17:02:47,543] Trial 494 finished with value: 8876.66790314155 and parameters: {'num_leaves': 58, 'max_depth': 22, 'learning_rate': 0.014942919681995926, 'n_estimators': 467, 'min_child_samples': 7, 'feature_fraction': 0.9788866729797395, 'bagging_fraction': 0.7650890679397516, 'bagging_freq': 7, 'price_upper_bound': 59000, 'price_lower_bound': 0, 'smoothing': 0.03152469149741077, 'min_samples_leaf': 2, 'noise_level': 0.08443629590780699}. Best is trial 470 with value: 8750.516607635713.\n"
     ]
    },
    {
     "name": "stdout",
     "output_type": "stream",
     "text": [
      "Validation RMSE: 8876.66790314155\n"
     ]
    },
    {
     "name": "stderr",
     "output_type": "stream",
     "text": [
      "[I 2025-07-23 17:02:51,819] Trial 495 finished with value: 8808.677810542102 and parameters: {'num_leaves': 58, 'max_depth': 21, 'learning_rate': 0.015189757236226308, 'n_estimators': 461, 'min_child_samples': 7, 'feature_fraction': 0.9811966908256795, 'bagging_fraction': 0.7632834020684467, 'bagging_freq': 7, 'price_upper_bound': 59000, 'price_lower_bound': 0, 'smoothing': 0.03960053452117398, 'min_samples_leaf': 2, 'noise_level': 0.08564066288110297}. Best is trial 470 with value: 8750.516607635713.\n"
     ]
    },
    {
     "name": "stdout",
     "output_type": "stream",
     "text": [
      "Validation RMSE: 8808.677810542102\n"
     ]
    },
    {
     "name": "stderr",
     "output_type": "stream",
     "text": [
      "[I 2025-07-23 17:02:55,414] Trial 496 finished with value: 9054.149270888605 and parameters: {'num_leaves': 57, 'max_depth': 20, 'learning_rate': 0.014989372204265623, 'n_estimators': 458, 'min_child_samples': 5, 'feature_fraction': 0.9874690183108815, 'bagging_fraction': 0.772573959603, 'bagging_freq': 7, 'price_upper_bound': 60000, 'price_lower_bound': 300, 'smoothing': 0.04395794798194239, 'min_samples_leaf': 2, 'noise_level': 0.0849656760467905}. Best is trial 470 with value: 8750.516607635713.\n"
     ]
    },
    {
     "name": "stdout",
     "output_type": "stream",
     "text": [
      "Validation RMSE: 9054.149270888605\n"
     ]
    },
    {
     "name": "stderr",
     "output_type": "stream",
     "text": [
      "[I 2025-07-23 17:02:59,154] Trial 497 finished with value: 8906.527537139244 and parameters: {'num_leaves': 59, 'max_depth': 21, 'learning_rate': 0.012787755858940403, 'n_estimators': 446, 'min_child_samples': 8, 'feature_fraction': 0.9985861098960097, 'bagging_fraction': 0.7427317220605673, 'bagging_freq': 7, 'price_upper_bound': 59000, 'price_lower_bound': 0, 'smoothing': 0.03080912908810604, 'min_samples_leaf': 2, 'noise_level': 0.08590399521683728}. Best is trial 470 with value: 8750.516607635713.\n"
     ]
    },
    {
     "name": "stdout",
     "output_type": "stream",
     "text": [
      "Validation RMSE: 8906.527537139244\n"
     ]
    },
    {
     "name": "stderr",
     "output_type": "stream",
     "text": [
      "[I 2025-07-23 17:03:02,989] Trial 498 finished with value: 9099.659002945682 and parameters: {'num_leaves': 58, 'max_depth': 22, 'learning_rate': 0.01392239112350198, 'n_estimators': 442, 'min_child_samples': 11, 'feature_fraction': 0.980895042864427, 'bagging_fraction': 0.7624422780987131, 'bagging_freq': 7, 'price_upper_bound': 60000, 'price_lower_bound': 200, 'smoothing': 0.04672553784675922, 'min_samples_leaf': 2, 'noise_level': 0.08634588294897526}. Best is trial 470 with value: 8750.516607635713.\n"
     ]
    },
    {
     "name": "stdout",
     "output_type": "stream",
     "text": [
      "Validation RMSE: 9099.659002945682\n"
     ]
    },
    {
     "name": "stderr",
     "output_type": "stream",
     "text": [
      "[I 2025-07-23 17:03:06,859] Trial 499 finished with value: 9137.13275392966 and parameters: {'num_leaves': 61, 'max_depth': 18, 'learning_rate': 0.015031460305488055, 'n_estimators': 460, 'min_child_samples': 48, 'feature_fraction': 0.991259994017173, 'bagging_fraction': 0.7473729478282805, 'bagging_freq': 7, 'price_upper_bound': 59000, 'price_lower_bound': 100, 'smoothing': 0.034304111441550295, 'min_samples_leaf': 2, 'noise_level': 0.0909854656850294}. Best is trial 470 with value: 8750.516607635713.\n"
     ]
    },
    {
     "name": "stdout",
     "output_type": "stream",
     "text": [
      "Validation RMSE: 9137.13275392966\n"
     ]
    }
   ],
   "source": [
    "import optuna\n",
    "import lightgbm as lgb\n",
    "from src.metrics import rmse\n",
    "from src.features.preprocess import Preprocessor\n",
    "from src.suggest_params.preprocess import suggest_preprocessor_config\n",
    "from src.suggest_params.regression import suggest_lgb_params\n",
    "\n",
    "\n",
    "def objective(trial: optuna.Trial) -> float:\n",
    "    # Optunaのトライアルからパラメータを取得\n",
    "    lgb_params = suggest_lgb_params(trial)\n",
    "    preprocessor_config = suggest_preprocessor_config(trial, task=\"regression\")\n",
    "\n",
    "    # 前処理\n",
    "    preprocessor = Preprocessor(**preprocessor_config.to_dict())\n",
    "    train_df_preprocessed, val_df_preprocessed, test_df_preprocessed = preprocessor.run(\n",
    "        train_df, val_df, test_df\n",
    "    )\n",
    "\n",
    "    # LightGBMモデルの学習と評価\n",
    "    train_set = lgb.Dataset(\n",
    "        train_df_preprocessed.drop(\"price\").to_pandas(),\n",
    "        train_df_preprocessed[\"price\"].to_pandas(),\n",
    "    )\n",
    "    val_set = lgb.Dataset(\n",
    "        val_df_preprocessed.drop(\"price\").to_pandas(),\n",
    "        val_df_preprocessed[\"price\"].to_pandas(),\n",
    "        reference=train_set,\n",
    "    )\n",
    "    model = lgb.train(\n",
    "        lgb_params,\n",
    "        train_set,\n",
    "        num_boost_round=1000,\n",
    "        valid_sets=[val_set],\n",
    "    )\n",
    "\n",
    "    # バリデーションセットでの予測と評価\n",
    "    val_pred = model.predict(val_df_preprocessed.drop(\"price\").to_pandas())\n",
    "    val_rmse = rmse(val_df_preprocessed[\"price\"].to_numpy(), val_pred)\n",
    "\n",
    "    return val_rmse\n",
    "\n",
    "\n",
    "study = optuna.create_study(direction=\"minimize\")\n",
    "study.optimize(objective, n_trials=500)\n"
   ]
  },
  {
   "cell_type": "code",
   "execution_count": 16,
   "id": "ca90bfa0",
   "metadata": {},
   "outputs": [
    {
     "name": "stdout",
     "output_type": "stream",
     "text": [
      "Best parameters saved to ../params\n"
     ]
    }
   ],
   "source": [
    "# save best preprocessor config as yaml\n",
    "from src.config.preprocess import TargetEncoderConfig, PreprocessorConfig\n",
    "from src.suggest_params.preprocess import (\n",
    "    create_condition_config,\n",
    "    create_cylinder_config,\n",
    "    create_fuel_config,\n",
    "    create_transmission_config,\n",
    "    create_drive_config,\n",
    "    create_manufacturer_config,\n",
    "    create_paint_color_config,\n",
    "    create_state_config,\n",
    "    create_type_config,\n",
    ")\n",
    "\n",
    "\n",
    "def save_preprocessor_config(params: dict, output_path: Path) -> None:\n",
    "    output_path.mkdir(parents=True, exist_ok=True)\n",
    "\n",
    "    best_target_encoder_config = TargetEncoderConfig(\n",
    "        smoothing=params[\"smoothing\"],\n",
    "        min_samples_leaf=params[\"min_samples_leaf\"],\n",
    "        noise_level=params[\"noise_level\"],\n",
    "    )\n",
    "\n",
    "    # 各種エンコーダーの設定を作成\n",
    "    condition_encoder_config = create_condition_config(best_target_encoder_config)\n",
    "    cylinder_encoder_config = create_cylinder_config(best_target_encoder_config)\n",
    "    fuel_encoder_config = create_fuel_config(best_target_encoder_config)\n",
    "    transmission_encoder_config = create_transmission_config(best_target_encoder_config)\n",
    "    drive_encoder_config = create_drive_config(best_target_encoder_config)\n",
    "    manufacturer_encoder_config = create_manufacturer_config(best_target_encoder_config)\n",
    "    paint_color_encoder_config = create_paint_color_config(best_target_encoder_config)\n",
    "    state_encoder_config = create_state_config(best_target_encoder_config)\n",
    "    type_encoder_config = create_type_config(best_target_encoder_config)\n",
    "\n",
    "    # 最適な前処理設定を作成\n",
    "    best_preprocessor_config = PreprocessorConfig(\n",
    "        condition_encoder_config=condition_encoder_config,\n",
    "        cylinder_encoder_config=cylinder_encoder_config,\n",
    "        fuel_encoder_config=fuel_encoder_config,\n",
    "        transmission_encoder_config=transmission_encoder_config,\n",
    "        drive_encoder_config=drive_encoder_config,\n",
    "        manufacturer_encoder_config=manufacturer_encoder_config,\n",
    "        paint_color_encoder_config=paint_color_encoder_config,\n",
    "        state_encoder_config=state_encoder_config,\n",
    "        type_encoder_config=type_encoder_config,\n",
    "        price_lower_bound=params[\"price_lower_bound\"],\n",
    "        price_upper_bound=params[\"price_upper_bound\"],\n",
    "    )\n",
    "\n",
    "    # 保存\n",
    "    best_preprocessor_config.to_yaml(output_path / \"best_preprocessor_config_reg.yaml\")\n",
    "\n",
    "\n",
    "def save_lgb_params(params: dict, output_path: Path) -> None:\n",
    "    output_path.mkdir(parents=True, exist_ok=True)\n",
    "    best_lgb_params = {\n",
    "        \"objective\": \"regression\",\n",
    "        \"metric\": \"rmse\",\n",
    "        \"verbosity\": -1,\n",
    "        \"boosting_type\": \"gbdt\",\n",
    "        \"num_leaves\": params[\"num_leaves\"],\n",
    "        \"max_depth\": params[\"max_depth\"],\n",
    "        \"learning_rate\": params[\"learning_rate\"],\n",
    "        \"n_estimators\": params[\"n_estimators\"],\n",
    "        \"min_child_samples\": params[\"min_child_samples\"],\n",
    "        \"feature_fraction\": params[\"feature_fraction\"],\n",
    "        \"bagging_fraction\": params[\"bagging_fraction\"],\n",
    "        \"bagging_freq\": params[\"bagging_freq\"],\n",
    "    }\n",
    "\n",
    "    with open(output_path / \"best_lgb_params_reg.yaml\", \"w\") as f:\n",
    "        for key, value in best_lgb_params.items():\n",
    "            f.write(f\"{key}: {value}\\n\")\n",
    "    print(f\"Best parameters saved to {output_path}\")\n",
    "\n",
    "\n",
    "save_preprocessor_config(study.best_params, Path(\"../params/\"))\n",
    "save_lgb_params(study.best_params, Path(\"../params/\"))"
   ]
  },
  {
   "cell_type": "code",
   "execution_count": null,
   "id": "1f820988",
   "metadata": {},
   "outputs": [],
   "source": []
  }
 ],
 "metadata": {
  "kernelspec": {
   "display_name": "topica",
   "language": "python",
   "name": "python3"
  },
  "language_info": {
   "codemirror_mode": {
    "name": "ipython",
    "version": 3
   },
   "file_extension": ".py",
   "mimetype": "text/x-python",
   "name": "python",
   "nbconvert_exporter": "python",
   "pygments_lexer": "ipython3",
   "version": "3.12.7"
  }
 },
 "nbformat": 4,
 "nbformat_minor": 5
}
